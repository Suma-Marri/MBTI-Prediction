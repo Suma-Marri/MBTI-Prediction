{
 "cells": [
  {
   "cell_type": "markdown",
   "metadata": {
    "id": "88sDKoLBlgIH"
   },
   "source": [
    "The Myers Briggs Type Indicator (or MBTI) is a personality type system that divides everyone into 16 distinct personality types across 4 axis:\n",
    "\n",
    "Introversion (I) – Extroversion (E)\n",
    "\n",
    "Intuition (N) – Sensing (S)\n",
    "\n",
    "Thinking (T) – Feeling (F)\n",
    "\n",
    "Judging (J) – Perceiving (P)\n",
    "\n",
    "\n",
    "So for example, someone who prefers introversion, intuition, thinking and perceiving would be labelled an INTP in the MBTI system, and there are lots of personality based components that would model or describe this person’s preferences or behaviour based on the label.\n",
    "\n",
    "From scientific or psychological perspective it is based on the work done on cognitive functions by Carl Jung i.e. Jungian Typology. This was a model of 8 distinct functions, thought processes or ways of thinking that were suggested to be present in the mind. Later this work was transformed into several different personality systems to make it more accessible, the most popular of which is of course the MBTI."
   ]
  },
  {
   "cell_type": "markdown",
   "metadata": {
    "id": "wJe3lkMoxG_A"
   },
   "source": [
    "This dataset contains over 8600 rows of data, on each row is a person’s:\n",
    "\n",
    "- Type (This persons 4 letter MBTI code/type)\n",
    "- A section of each of the last 50 things they have posted (Each entry separated by \"|||\" (3 pipe characters))"
   ]
  },
  {
   "cell_type": "markdown",
   "metadata": {
    "id": "AZeLDsremv_z"
   },
   "source": [
    "## Importing all the necessary libraries"
   ]
  },
  {
   "cell_type": "code",
   "execution_count": 28,
   "metadata": {},
   "outputs": [
    {
     "name": "stdout",
     "output_type": "stream",
     "text": [
      "Collecting google.colab\n",
      "  Downloading google-colab-1.0.0.tar.gz (72 kB)\n",
      "Collecting google-auth~=1.4.0\n",
      "  Downloading google_auth-1.4.2-py2.py3-none-any.whl (64 kB)\n",
      "Collecting ipykernel~=4.6.0\n",
      "  Downloading ipykernel-4.6.1-py3-none-any.whl (104 kB)\n",
      "Collecting ipython~=5.5.0\n",
      "  Downloading ipython-5.5.0-py3-none-any.whl (758 kB)\n",
      "Collecting notebook~=5.2.0\n",
      "  Downloading notebook-5.2.2-py2.py3-none-any.whl (8.0 MB)\n",
      "Collecting six~=1.12.0\n",
      "  Downloading six-1.12.0-py2.py3-none-any.whl (10 kB)\n",
      "Collecting pandas~=0.24.0\n",
      "  Downloading pandas-0.24.2.tar.gz (11.8 MB)\n",
      "Collecting portpicker~=1.2.0\n",
      "  Downloading portpicker-1.2.0.tar.gz (17 kB)\n",
      "Collecting requests~=2.21.0\n",
      "  Downloading requests-2.21.0-py2.py3-none-any.whl (57 kB)\n",
      "Collecting tornado~=4.5.0\n",
      "  Downloading tornado-4.5.3.tar.gz (484 kB)\n",
      "Requirement already satisfied: cachetools>=2.0.0 in c:\\users\\suma marri\\anaconda3\\lib\\site-packages (from google-auth~=1.4.0->google.colab) (5.0.0)\n",
      "Requirement already satisfied: rsa>=3.1.4 in c:\\users\\suma marri\\anaconda3\\lib\\site-packages (from google-auth~=1.4.0->google.colab) (4.8)\n",
      "Requirement already satisfied: pyasn1-modules>=0.2.1 in c:\\users\\suma marri\\anaconda3\\lib\\site-packages (from google-auth~=1.4.0->google.colab) (0.2.8)\n",
      "Requirement already satisfied: traitlets>=4.1.0 in c:\\users\\suma marri\\anaconda3\\lib\\site-packages (from ipykernel~=4.6.0->google.colab) (5.1.0)\n",
      "Requirement already satisfied: jupyter-client in c:\\users\\suma marri\\anaconda3\\lib\\site-packages (from ipykernel~=4.6.0->google.colab) (6.1.12)\n",
      "Requirement already satisfied: setuptools>=18.5 in c:\\users\\suma marri\\anaconda3\\lib\\site-packages (from ipython~=5.5.0->google.colab) (58.0.4)\n",
      "Requirement already satisfied: pygments in c:\\users\\suma marri\\anaconda3\\lib\\site-packages (from ipython~=5.5.0->google.colab) (2.10.0)\n",
      "Requirement already satisfied: simplegeneric>0.8 in c:\\users\\suma marri\\anaconda3\\lib\\site-packages (from ipython~=5.5.0->google.colab) (0.8.1)\n",
      "Requirement already satisfied: pickleshare in c:\\users\\suma marri\\anaconda3\\lib\\site-packages (from ipython~=5.5.0->google.colab) (0.7.5)\n",
      "Requirement already satisfied: decorator in c:\\users\\suma marri\\anaconda3\\lib\\site-packages (from ipython~=5.5.0->google.colab) (5.1.0)\n",
      "Requirement already satisfied: colorama in c:\\users\\suma marri\\anaconda3\\lib\\site-packages (from ipython~=5.5.0->google.colab) (0.4.4)\n",
      "Collecting prompt-toolkit<2.0.0,>=1.0.4\n",
      "  Downloading prompt_toolkit-1.0.18-py3-none-any.whl (245 kB)\n",
      "Requirement already satisfied: ipython-genutils in c:\\users\\suma marri\\anaconda3\\lib\\site-packages (from notebook~=5.2.0->google.colab) (0.2.0)\n",
      "Requirement already satisfied: nbconvert in c:\\users\\suma marri\\anaconda3\\lib\\site-packages (from notebook~=5.2.0->google.colab) (6.1.0)\n",
      "Requirement already satisfied: nbformat in c:\\users\\suma marri\\anaconda3\\lib\\site-packages (from notebook~=5.2.0->google.colab) (5.1.3)\n",
      "Requirement already satisfied: jupyter-core in c:\\users\\suma marri\\anaconda3\\lib\\site-packages (from notebook~=5.2.0->google.colab) (4.8.1)\n",
      "Requirement already satisfied: jinja2 in c:\\users\\suma marri\\anaconda3\\lib\\site-packages (from notebook~=5.2.0->google.colab) (2.11.3)\n",
      "Requirement already satisfied: python-dateutil>=2.5.0 in c:\\users\\suma marri\\anaconda3\\lib\\site-packages (from pandas~=0.24.0->google.colab) (2.8.2)\n",
      "Requirement already satisfied: pytz>=2011k in c:\\users\\suma marri\\anaconda3\\lib\\site-packages (from pandas~=0.24.0->google.colab) (2021.3)\n",
      "Requirement already satisfied: numpy>=1.12.0 in c:\\users\\suma marri\\anaconda3\\lib\\site-packages (from pandas~=0.24.0->google.colab) (1.20.3)\n",
      "Requirement already satisfied: wcwidth in c:\\users\\suma marri\\anaconda3\\lib\\site-packages (from prompt-toolkit<2.0.0,>=1.0.4->ipython~=5.5.0->google.colab) (0.2.5)\n",
      "Requirement already satisfied: pyasn1<0.5.0,>=0.4.6 in c:\\users\\suma marri\\anaconda3\\lib\\site-packages (from pyasn1-modules>=0.2.1->google-auth~=1.4.0->google.colab) (0.4.8)\n",
      "Collecting chardet<3.1.0,>=3.0.2\n",
      "  Downloading chardet-3.0.4-py2.py3-none-any.whl (133 kB)\n",
      "Collecting urllib3<1.25,>=1.21.1\n",
      "  Downloading urllib3-1.24.3-py2.py3-none-any.whl (118 kB)\n",
      "Collecting idna<2.9,>=2.5\n",
      "  Downloading idna-2.8-py2.py3-none-any.whl (58 kB)\n",
      "Requirement already satisfied: certifi>=2017.4.17 in c:\\users\\suma marri\\anaconda3\\lib\\site-packages (from requests~=2.21.0->google.colab) (2021.10.8)\n",
      "Requirement already satisfied: MarkupSafe>=0.23 in c:\\users\\suma marri\\anaconda3\\lib\\site-packages (from jinja2->notebook~=5.2.0->google.colab) (1.1.1)\n",
      "Requirement already satisfied: pyzmq>=13 in c:\\users\\suma marri\\anaconda3\\lib\\site-packages (from jupyter-client->ipykernel~=4.6.0->google.colab) (22.2.1)\n",
      "Requirement already satisfied: pywin32>=1.0 in c:\\users\\suma marri\\anaconda3\\lib\\site-packages (from jupyter-core->notebook~=5.2.0->google.colab) (228)\n",
      "Requirement already satisfied: entrypoints>=0.2.2 in c:\\users\\suma marri\\anaconda3\\lib\\site-packages (from nbconvert->notebook~=5.2.0->google.colab) (0.3)\n",
      "Requirement already satisfied: testpath in c:\\users\\suma marri\\anaconda3\\lib\\site-packages (from nbconvert->notebook~=5.2.0->google.colab) (0.5.0)\n",
      "Requirement already satisfied: jupyterlab-pygments in c:\\users\\suma marri\\anaconda3\\lib\\site-packages (from nbconvert->notebook~=5.2.0->google.colab) (0.1.2)\n",
      "Requirement already satisfied: defusedxml in c:\\users\\suma marri\\anaconda3\\lib\\site-packages (from nbconvert->notebook~=5.2.0->google.colab) (0.7.1)\n",
      "Requirement already satisfied: bleach in c:\\users\\suma marri\\anaconda3\\lib\\site-packages (from nbconvert->notebook~=5.2.0->google.colab) (4.0.0)\n",
      "Requirement already satisfied: pandocfilters>=1.4.1 in c:\\users\\suma marri\\anaconda3\\lib\\site-packages (from nbconvert->notebook~=5.2.0->google.colab) (1.4.3)\n",
      "Requirement already satisfied: nbclient<0.6.0,>=0.5.0 in c:\\users\\suma marri\\anaconda3\\lib\\site-packages (from nbconvert->notebook~=5.2.0->google.colab) (0.5.3)\n",
      "Requirement already satisfied: mistune<2,>=0.8.1 in c:\\users\\suma marri\\anaconda3\\lib\\site-packages (from nbconvert->notebook~=5.2.0->google.colab) (0.8.4)\n",
      "Requirement already satisfied: nest-asyncio in c:\\users\\suma marri\\anaconda3\\lib\\site-packages (from nbclient<0.6.0,>=0.5.0->nbconvert->notebook~=5.2.0->google.colab) (1.5.1)\n",
      "Requirement already satisfied: async-generator in c:\\users\\suma marri\\anaconda3\\lib\\site-packages (from nbclient<0.6.0,>=0.5.0->nbconvert->notebook~=5.2.0->google.colab) (1.10)\n",
      "Requirement already satisfied: jsonschema!=2.5.0,>=2.4 in c:\\users\\suma marri\\anaconda3\\lib\\site-packages (from nbformat->notebook~=5.2.0->google.colab) (3.2.0)\n",
      "Requirement already satisfied: attrs>=17.4.0 in c:\\users\\suma marri\\anaconda3\\lib\\site-packages (from jsonschema!=2.5.0,>=2.4->nbformat->notebook~=5.2.0->google.colab) (21.2.0)\n",
      "Requirement already satisfied: pyrsistent>=0.14.0 in c:\\users\\suma marri\\anaconda3\\lib\\site-packages (from jsonschema!=2.5.0,>=2.4->nbformat->notebook~=5.2.0->google.colab) (0.18.0)\n",
      "Requirement already satisfied: packaging in c:\\users\\suma marri\\anaconda3\\lib\\site-packages (from bleach->nbconvert->notebook~=5.2.0->google.colab) (21.0)\n",
      "Requirement already satisfied: webencodings in c:\\users\\suma marri\\anaconda3\\lib\\site-packages (from bleach->nbconvert->notebook~=5.2.0->google.colab) (0.5.1)\n",
      "Requirement already satisfied: pyparsing>=2.0.2 in c:\\users\\suma marri\\anaconda3\\lib\\site-packages (from packaging->bleach->nbconvert->notebook~=5.2.0->google.colab) (3.0.4)\n",
      "Building wheels for collected packages: google.colab, pandas, portpicker, tornado\n",
      "  Building wheel for google.colab (setup.py): started\n",
      "  Building wheel for google.colab (setup.py): finished with status 'done'\n",
      "  Created wheel for google.colab: filename=google_colab-1.0.0-py2.py3-none-any.whl size=102293 sha256=1c81a104da1f81a909ca0bb5fcb98536c16342be363b220468c7573a86133929\n",
      "  Stored in directory: c:\\users\\suma marri\\appdata\\local\\pip\\cache\\wheels\\a8\\c1\\f9\\565bc1832dda03cc21db8c8751487357f616112b6113bbf9bb\n",
      "  Building wheel for pandas (setup.py): started\n",
      "  Building wheel for pandas (setup.py): finished with status 'error'\n",
      "  Running setup.py clean for pandas\n",
      "  Building wheel for portpicker (setup.py): started\n",
      "  Building wheel for portpicker (setup.py): finished with status 'done'\n",
      "  Created wheel for portpicker: filename=portpicker-1.2.0-py3-none-any.whl size=13385 sha256=1376388a99011edd214b536f5191082b262c28ef6dc279afbbf16764e19d3a57\n",
      "  Stored in directory: c:\\users\\suma marri\\appdata\\local\\pip\\cache\\wheels\\79\\f4\\2b\\306dbe0f6b429a1ccb56aef907984a2f21bd6cb7f702b65d05\n",
      "  Building wheel for tornado (setup.py): started\n",
      "  Building wheel for tornado (setup.py): finished with status 'done'\n",
      "  Created wheel for tornado: filename=tornado-4.5.3-cp39-cp39-win_amd64.whl size=420782 sha256=701a4c6413e9bb1ee1c07ad043af844cd82c36fa857db0e24dc979c02d943d60\n",
      "  Stored in directory: c:\\users\\suma marri\\appdata\\local\\pip\\cache\\wheels\\83\\38\\94\\6e1e08dd9ed83e2fc92914d24bf950c39e622dfbb12bf753d8\n",
      "Successfully built google.colab portpicker tornado\n",
      "Failed to build pandas\n",
      "Installing collected packages: six, tornado, prompt-toolkit, ipython, urllib3, ipykernel, idna, chardet, requests, portpicker, pandas, notebook, google-auth, google.colab\n",
      "  Attempting uninstall: six\n",
      "    Found existing installation: six 1.16.0\n",
      "    Uninstalling six-1.16.0:\n",
      "      Successfully uninstalled six-1.16.0\n",
      "  Attempting uninstall: tornado\n",
      "    Found existing installation: tornado 6.1\n",
      "    Uninstalling tornado-6.1:\n",
      "      Successfully uninstalled tornado-6.1\n",
      "  Attempting uninstall: prompt-toolkit\n",
      "    Found existing installation: prompt-toolkit 3.0.20\n",
      "    Uninstalling prompt-toolkit-3.0.20:\n",
      "      Successfully uninstalled prompt-toolkit-3.0.20\n",
      "  Attempting uninstall: ipython\n",
      "    Found existing installation: ipython 7.29.0\n",
      "    Uninstalling ipython-7.29.0:\n",
      "      Successfully uninstalled ipython-7.29.0\n",
      "  Attempting uninstall: urllib3\n",
      "    Found existing installation: urllib3 1.26.7\n",
      "    Uninstalling urllib3-1.26.7:\n",
      "      Successfully uninstalled urllib3-1.26.7\n",
      "  Attempting uninstall: ipykernel\n",
      "    Found existing installation: ipykernel 6.4.1\n",
      "    Uninstalling ipykernel-6.4.1:\n",
      "      Successfully uninstalled ipykernel-6.4.1\n",
      "  Attempting uninstall: idna\n",
      "    Found existing installation: idna 3.2\n",
      "    Uninstalling idna-3.2:\n",
      "      Successfully uninstalled idna-3.2\n",
      "  Attempting uninstall: chardet\n",
      "    Found existing installation: chardet 4.0.0\n",
      "    Uninstalling chardet-4.0.0:\n",
      "      Successfully uninstalled chardet-4.0.0\n",
      "  Attempting uninstall: requests\n",
      "    Found existing installation: requests 2.28.1\n",
      "    Uninstalling requests-2.28.1:\n",
      "      Successfully uninstalled requests-2.28.1\n",
      "  Attempting uninstall: pandas\n",
      "    Found existing installation: pandas 1.4.2\n",
      "    Uninstalling pandas-1.4.2:\n",
      "      Successfully uninstalled pandas-1.4.2\n",
      "    Running setup.py install for pandas: started\n",
      "    Running setup.py install for pandas: still running...\n",
      "    Running setup.py install for pandas: finished with status 'error'\n",
      "  Rolling back uninstall of pandas\n",
      "  Moving to c:\\users\\suma marri\\anaconda3\\lib\\site-packages\\pandas-1.4.2.dist-info\\\n",
      "   from C:\\Users\\Suma Marri\\anaconda3\\Lib\\site-packages\\~andas-1.4.2.dist-info\n",
      "  Moving to c:\\users\\suma marri\\anaconda3\\lib\\site-packages\\pandas\\\n",
      "   from C:\\Users\\Suma Marri\\anaconda3\\Lib\\site-packages\\~andas\n"
     ]
    },
    {
     "name": "stderr",
     "output_type": "stream",
     "text": [
      "  ERROR: Command errored out with exit status 1:\n",
      "   command: 'C:\\Users\\Suma Marri\\anaconda3\\python.exe' -u -c 'import io, os, sys, setuptools, tokenize; sys.argv[0] = '\"'\"'C:\\\\Users\\\\Suma Marri\\\\AppData\\\\Local\\\\Temp\\\\pip-install-n65yhm8s\\\\pandas_7886b122b2b1407ea6708a88927d53b6\\\\setup.py'\"'\"'; __file__='\"'\"'C:\\\\Users\\\\Suma Marri\\\\AppData\\\\Local\\\\Temp\\\\pip-install-n65yhm8s\\\\pandas_7886b122b2b1407ea6708a88927d53b6\\\\setup.py'\"'\"';f = getattr(tokenize, '\"'\"'open'\"'\"', open)(__file__) if os.path.exists(__file__) else io.StringIO('\"'\"'from setuptools import setup; setup()'\"'\"');code = f.read().replace('\"'\"'\\r\\n'\"'\"', '\"'\"'\\n'\"'\"');f.close();exec(compile(code, __file__, '\"'\"'exec'\"'\"'))' bdist_wheel -d 'C:\\Users\\Suma Marri\\AppData\\Local\\Temp\\pip-wheel-r2_9gvcp'\n",
      "       cwd: C:\\Users\\Suma Marri\\AppData\\Local\\Temp\\pip-install-n65yhm8s\\pandas_7886b122b2b1407ea6708a88927d53b6\\\n",
      "  Complete output (841 lines):\n",
      "  running bdist_wheel\n",
      "  running build\n",
      "  running build_py\n",
      "  creating build\n",
      "  creating build\\lib.win-amd64-3.9\n",
      "  creating build\\lib.win-amd64-3.9\\pandas\n",
      "  copying pandas\\conftest.py -> build\\lib.win-amd64-3.9\\pandas\n",
      "  copying pandas\\testing.py -> build\\lib.win-amd64-3.9\\pandas\n",
      "  copying pandas\\_version.py -> build\\lib.win-amd64-3.9\\pandas\n",
      "  copying pandas\\__init__.py -> build\\lib.win-amd64-3.9\\pandas\n",
      "  creating build\\lib.win-amd64-3.9\\pandas\\api\n",
      "  copying pandas\\api\\__init__.py -> build\\lib.win-amd64-3.9\\pandas\\api\n",
      "  creating build\\lib.win-amd64-3.9\\pandas\\arrays\n",
      "  copying pandas\\arrays\\__init__.py -> build\\lib.win-amd64-3.9\\pandas\\arrays\n",
      "  creating build\\lib.win-amd64-3.9\\pandas\\compat\n",
      "  copying pandas\\compat\\chainmap.py -> build\\lib.win-amd64-3.9\\pandas\\compat\n",
      "  copying pandas\\compat\\chainmap_impl.py -> build\\lib.win-amd64-3.9\\pandas\\compat\n",
      "  copying pandas\\compat\\pickle_compat.py -> build\\lib.win-amd64-3.9\\pandas\\compat\n",
      "  copying pandas\\compat\\__init__.py -> build\\lib.win-amd64-3.9\\pandas\\compat\n",
      "  creating build\\lib.win-amd64-3.9\\pandas\\core\n",
      "  copying pandas\\core\\accessor.py -> build\\lib.win-amd64-3.9\\pandas\\core\n",
      "  copying pandas\\core\\algorithms.py -> build\\lib.win-amd64-3.9\\pandas\\core\n",
      "  copying pandas\\core\\api.py -> build\\lib.win-amd64-3.9\\pandas\\core\n",
      "  copying pandas\\core\\apply.py -> build\\lib.win-amd64-3.9\\pandas\\core\n",
      "  copying pandas\\core\\base.py -> build\\lib.win-amd64-3.9\\pandas\\core\n",
      "  copying pandas\\core\\categorical.py -> build\\lib.win-amd64-3.9\\pandas\\core\n",
      "  copying pandas\\core\\common.py -> build\\lib.win-amd64-3.9\\pandas\\core\n",
      "  copying pandas\\core\\config.py -> build\\lib.win-amd64-3.9\\pandas\\core\n",
      "  copying pandas\\core\\config_init.py -> build\\lib.win-amd64-3.9\\pandas\\core\n",
      "  copying pandas\\core\\frame.py -> build\\lib.win-amd64-3.9\\pandas\\core\n",
      "  copying pandas\\core\\generic.py -> build\\lib.win-amd64-3.9\\pandas\\core\n",
      "  copying pandas\\core\\index.py -> build\\lib.win-amd64-3.9\\pandas\\core\n",
      "  copying pandas\\core\\indexing.py -> build\\lib.win-amd64-3.9\\pandas\\core\n",
      "  copying pandas\\core\\missing.py -> build\\lib.win-amd64-3.9\\pandas\\core\n",
      "  copying pandas\\core\\nanops.py -> build\\lib.win-amd64-3.9\\pandas\\core\n",
      "  copying pandas\\core\\ops.py -> build\\lib.win-amd64-3.9\\pandas\\core\n",
      "  copying pandas\\core\\panel.py -> build\\lib.win-amd64-3.9\\pandas\\core\n",
      "  copying pandas\\core\\resample.py -> build\\lib.win-amd64-3.9\\pandas\\core\n",
      "  copying pandas\\core\\series.py -> build\\lib.win-amd64-3.9\\pandas\\core\n",
      "  copying pandas\\core\\sorting.py -> build\\lib.win-amd64-3.9\\pandas\\core\n",
      "  copying pandas\\core\\strings.py -> build\\lib.win-amd64-3.9\\pandas\\core\n",
      "  copying pandas\\core\\window.py -> build\\lib.win-amd64-3.9\\pandas\\core\n",
      "  copying pandas\\core\\__init__.py -> build\\lib.win-amd64-3.9\\pandas\\core\n",
      "  creating build\\lib.win-amd64-3.9\\pandas\\errors\n",
      "  copying pandas\\errors\\__init__.py -> build\\lib.win-amd64-3.9\\pandas\\errors\n",
      "  creating build\\lib.win-amd64-3.9\\pandas\\io\n",
      "  copying pandas\\io\\api.py -> build\\lib.win-amd64-3.9\\pandas\\io\n",
      "  copying pandas\\io\\clipboards.py -> build\\lib.win-amd64-3.9\\pandas\\io\n",
      "  copying pandas\\io\\common.py -> build\\lib.win-amd64-3.9\\pandas\\io\n",
      "  copying pandas\\io\\date_converters.py -> build\\lib.win-amd64-3.9\\pandas\\io\n",
      "  copying pandas\\io\\excel.py -> build\\lib.win-amd64-3.9\\pandas\\io\n",
      "  copying pandas\\io\\feather_format.py -> build\\lib.win-amd64-3.9\\pandas\\io\n",
      "  copying pandas\\io\\gbq.py -> build\\lib.win-amd64-3.9\\pandas\\io\n",
      "  copying pandas\\io\\gcs.py -> build\\lib.win-amd64-3.9\\pandas\\io\n",
      "  copying pandas\\io\\html.py -> build\\lib.win-amd64-3.9\\pandas\\io\n",
      "  copying pandas\\io\\packers.py -> build\\lib.win-amd64-3.9\\pandas\\io\n",
      "  copying pandas\\io\\parquet.py -> build\\lib.win-amd64-3.9\\pandas\\io\n",
      "  copying pandas\\io\\parsers.py -> build\\lib.win-amd64-3.9\\pandas\\io\n",
      "  copying pandas\\io\\pickle.py -> build\\lib.win-amd64-3.9\\pandas\\io\n",
      "  copying pandas\\io\\pytables.py -> build\\lib.win-amd64-3.9\\pandas\\io\n",
      "  copying pandas\\io\\s3.py -> build\\lib.win-amd64-3.9\\pandas\\io\n",
      "  copying pandas\\io\\sql.py -> build\\lib.win-amd64-3.9\\pandas\\io\n",
      "  copying pandas\\io\\stata.py -> build\\lib.win-amd64-3.9\\pandas\\io\n",
      "  copying pandas\\io\\__init__.py -> build\\lib.win-amd64-3.9\\pandas\\io\n",
      "  creating build\\lib.win-amd64-3.9\\pandas\\plotting\n",
      "  copying pandas\\plotting\\_compat.py -> build\\lib.win-amd64-3.9\\pandas\\plotting\n",
      "  copying pandas\\plotting\\_converter.py -> build\\lib.win-amd64-3.9\\pandas\\plotting\n",
      "  copying pandas\\plotting\\_core.py -> build\\lib.win-amd64-3.9\\pandas\\plotting\n",
      "  copying pandas\\plotting\\_misc.py -> build\\lib.win-amd64-3.9\\pandas\\plotting\n",
      "  copying pandas\\plotting\\_style.py -> build\\lib.win-amd64-3.9\\pandas\\plotting\n",
      "  copying pandas\\plotting\\_timeseries.py -> build\\lib.win-amd64-3.9\\pandas\\plotting\n",
      "  copying pandas\\plotting\\_tools.py -> build\\lib.win-amd64-3.9\\pandas\\plotting\n",
      "  copying pandas\\plotting\\__init__.py -> build\\lib.win-amd64-3.9\\pandas\\plotting\n",
      "  creating build\\lib.win-amd64-3.9\\pandas\\tests\n",
      "  copying pandas\\tests\\test_algos.py -> build\\lib.win-amd64-3.9\\pandas\\tests\n",
      "  copying pandas\\tests\\test_base.py -> build\\lib.win-amd64-3.9\\pandas\\tests\n",
      "  copying pandas\\tests\\test_common.py -> build\\lib.win-amd64-3.9\\pandas\\tests\n",
      "  copying pandas\\tests\\test_compat.py -> build\\lib.win-amd64-3.9\\pandas\\tests\n",
      "  copying pandas\\tests\\test_config.py -> build\\lib.win-amd64-3.9\\pandas\\tests\n",
      "  copying pandas\\tests\\test_downstream.py -> build\\lib.win-amd64-3.9\\pandas\\tests\n",
      "  copying pandas\\tests\\test_errors.py -> build\\lib.win-amd64-3.9\\pandas\\tests\n",
      "  copying pandas\\tests\\test_expressions.py -> build\\lib.win-amd64-3.9\\pandas\\tests\n",
      "  copying pandas\\tests\\test_join.py -> build\\lib.win-amd64-3.9\\pandas\\tests\n",
      "  copying pandas\\tests\\test_lib.py -> build\\lib.win-amd64-3.9\\pandas\\tests\n",
      "  copying pandas\\tests\\test_multilevel.py -> build\\lib.win-amd64-3.9\\pandas\\tests\n",
      "  copying pandas\\tests\\test_nanops.py -> build\\lib.win-amd64-3.9\\pandas\\tests\n",
      "  copying pandas\\tests\\test_panel.py -> build\\lib.win-amd64-3.9\\pandas\\tests\n",
      "  copying pandas\\tests\\test_register_accessor.py -> build\\lib.win-amd64-3.9\\pandas\\tests\n",
      "  copying pandas\\tests\\test_sorting.py -> build\\lib.win-amd64-3.9\\pandas\\tests\n",
      "  copying pandas\\tests\\test_strings.py -> build\\lib.win-amd64-3.9\\pandas\\tests\n",
      "  copying pandas\\tests\\test_take.py -> build\\lib.win-amd64-3.9\\pandas\\tests\n",
      "  copying pandas\\tests\\test_window.py -> build\\lib.win-amd64-3.9\\pandas\\tests\n",
      "  copying pandas\\tests\\__init__.py -> build\\lib.win-amd64-3.9\\pandas\\tests\n",
      "  creating build\\lib.win-amd64-3.9\\pandas\\tseries\n",
      "  copying pandas\\tseries\\api.py -> build\\lib.win-amd64-3.9\\pandas\\tseries\n",
      "  copying pandas\\tseries\\converter.py -> build\\lib.win-amd64-3.9\\pandas\\tseries\n",
      "  copying pandas\\tseries\\frequencies.py -> build\\lib.win-amd64-3.9\\pandas\\tseries\n",
      "  copying pandas\\tseries\\holiday.py -> build\\lib.win-amd64-3.9\\pandas\\tseries\n",
      "  copying pandas\\tseries\\offsets.py -> build\\lib.win-amd64-3.9\\pandas\\tseries\n",
      "  copying pandas\\tseries\\plotting.py -> build\\lib.win-amd64-3.9\\pandas\\tseries\n",
      "  copying pandas\\tseries\\__init__.py -> build\\lib.win-amd64-3.9\\pandas\\tseries\n",
      "  creating build\\lib.win-amd64-3.9\\pandas\\util\n",
      "  copying pandas\\util\\testing.py -> build\\lib.win-amd64-3.9\\pandas\\util\n",
      "  copying pandas\\util\\_decorators.py -> build\\lib.win-amd64-3.9\\pandas\\util\n",
      "  copying pandas\\util\\_depr_module.py -> build\\lib.win-amd64-3.9\\pandas\\util\n",
      "  copying pandas\\util\\_doctools.py -> build\\lib.win-amd64-3.9\\pandas\\util\n",
      "  copying pandas\\util\\_exceptions.py -> build\\lib.win-amd64-3.9\\pandas\\util\n",
      "  copying pandas\\util\\_print_versions.py -> build\\lib.win-amd64-3.9\\pandas\\util\n",
      "  copying pandas\\util\\_tester.py -> build\\lib.win-amd64-3.9\\pandas\\util\n",
      "  copying pandas\\util\\_test_decorators.py -> build\\lib.win-amd64-3.9\\pandas\\util\n",
      "  copying pandas\\util\\_validators.py -> build\\lib.win-amd64-3.9\\pandas\\util\n",
      "  copying pandas\\util\\__init__.py -> build\\lib.win-amd64-3.9\\pandas\\util\n",
      "  creating build\\lib.win-amd64-3.9\\pandas\\_libs\n",
      "  copying pandas\\_libs\\__init__.py -> build\\lib.win-amd64-3.9\\pandas\\_libs\n",
      "  creating build\\lib.win-amd64-3.9\\pandas\\api\\extensions\n",
      "  copying pandas\\api\\extensions\\__init__.py -> build\\lib.win-amd64-3.9\\pandas\\api\\extensions\n",
      "  creating build\\lib.win-amd64-3.9\\pandas\\api\\types\n",
      "  copying pandas\\api\\types\\__init__.py -> build\\lib.win-amd64-3.9\\pandas\\api\\types\n",
      "  creating build\\lib.win-amd64-3.9\\pandas\\compat\\numpy\n",
      "  copying pandas\\compat\\numpy\\function.py -> build\\lib.win-amd64-3.9\\pandas\\compat\\numpy\n",
      "  copying pandas\\compat\\numpy\\__init__.py -> build\\lib.win-amd64-3.9\\pandas\\compat\\numpy\n",
      "  creating build\\lib.win-amd64-3.9\\pandas\\core\\arrays\n",
      "  copying pandas\\core\\arrays\\array_.py -> build\\lib.win-amd64-3.9\\pandas\\core\\arrays\n",
      "  copying pandas\\core\\arrays\\base.py -> build\\lib.win-amd64-3.9\\pandas\\core\\arrays\n",
      "  copying pandas\\core\\arrays\\categorical.py -> build\\lib.win-amd64-3.9\\pandas\\core\\arrays\n",
      "  copying pandas\\core\\arrays\\datetimelike.py -> build\\lib.win-amd64-3.9\\pandas\\core\\arrays\n",
      "  copying pandas\\core\\arrays\\datetimes.py -> build\\lib.win-amd64-3.9\\pandas\\core\\arrays\n",
      "  copying pandas\\core\\arrays\\integer.py -> build\\lib.win-amd64-3.9\\pandas\\core\\arrays\n",
      "  copying pandas\\core\\arrays\\interval.py -> build\\lib.win-amd64-3.9\\pandas\\core\\arrays\n",
      "  copying pandas\\core\\arrays\\numpy_.py -> build\\lib.win-amd64-3.9\\pandas\\core\\arrays\n",
      "  copying pandas\\core\\arrays\\period.py -> build\\lib.win-amd64-3.9\\pandas\\core\\arrays\n",
      "  copying pandas\\core\\arrays\\sparse.py -> build\\lib.win-amd64-3.9\\pandas\\core\\arrays\n",
      "  copying pandas\\core\\arrays\\timedeltas.py -> build\\lib.win-amd64-3.9\\pandas\\core\\arrays\n",
      "  copying pandas\\core\\arrays\\_ranges.py -> build\\lib.win-amd64-3.9\\pandas\\core\\arrays\n",
      "  copying pandas\\core\\arrays\\__init__.py -> build\\lib.win-amd64-3.9\\pandas\\core\\arrays\n",
      "  creating build\\lib.win-amd64-3.9\\pandas\\core\\computation\n",
      "  copying pandas\\core\\computation\\align.py -> build\\lib.win-amd64-3.9\\pandas\\core\\computation\n",
      "  copying pandas\\core\\computation\\api.py -> build\\lib.win-amd64-3.9\\pandas\\core\\computation\n",
      "  copying pandas\\core\\computation\\check.py -> build\\lib.win-amd64-3.9\\pandas\\core\\computation\n",
      "  copying pandas\\core\\computation\\common.py -> build\\lib.win-amd64-3.9\\pandas\\core\\computation\n",
      "  copying pandas\\core\\computation\\engines.py -> build\\lib.win-amd64-3.9\\pandas\\core\\computation\n",
      "  copying pandas\\core\\computation\\eval.py -> build\\lib.win-amd64-3.9\\pandas\\core\\computation\n",
      "  copying pandas\\core\\computation\\expr.py -> build\\lib.win-amd64-3.9\\pandas\\core\\computation\n",
      "  copying pandas\\core\\computation\\expressions.py -> build\\lib.win-amd64-3.9\\pandas\\core\\computation\n",
      "  copying pandas\\core\\computation\\ops.py -> build\\lib.win-amd64-3.9\\pandas\\core\\computation\n",
      "  copying pandas\\core\\computation\\pytables.py -> build\\lib.win-amd64-3.9\\pandas\\core\\computation\n",
      "  copying pandas\\core\\computation\\scope.py -> build\\lib.win-amd64-3.9\\pandas\\core\\computation\n",
      "  copying pandas\\core\\computation\\__init__.py -> build\\lib.win-amd64-3.9\\pandas\\core\\computation\n",
      "  creating build\\lib.win-amd64-3.9\\pandas\\core\\dtypes\n",
      "  copying pandas\\core\\dtypes\\api.py -> build\\lib.win-amd64-3.9\\pandas\\core\\dtypes\n",
      "  copying pandas\\core\\dtypes\\base.py -> build\\lib.win-amd64-3.9\\pandas\\core\\dtypes\n",
      "  copying pandas\\core\\dtypes\\cast.py -> build\\lib.win-amd64-3.9\\pandas\\core\\dtypes\n",
      "  copying pandas\\core\\dtypes\\common.py -> build\\lib.win-amd64-3.9\\pandas\\core\\dtypes\n",
      "  copying pandas\\core\\dtypes\\concat.py -> build\\lib.win-amd64-3.9\\pandas\\core\\dtypes\n",
      "  copying pandas\\core\\dtypes\\dtypes.py -> build\\lib.win-amd64-3.9\\pandas\\core\\dtypes\n",
      "  copying pandas\\core\\dtypes\\generic.py -> build\\lib.win-amd64-3.9\\pandas\\core\\dtypes\n",
      "  copying pandas\\core\\dtypes\\inference.py -> build\\lib.win-amd64-3.9\\pandas\\core\\dtypes\n",
      "  copying pandas\\core\\dtypes\\missing.py -> build\\lib.win-amd64-3.9\\pandas\\core\\dtypes\n",
      "  copying pandas\\core\\dtypes\\__init__.py -> build\\lib.win-amd64-3.9\\pandas\\core\\dtypes\n",
      "  creating build\\lib.win-amd64-3.9\\pandas\\core\\groupby\n",
      "  copying pandas\\core\\groupby\\base.py -> build\\lib.win-amd64-3.9\\pandas\\core\\groupby\n",
      "  copying pandas\\core\\groupby\\categorical.py -> build\\lib.win-amd64-3.9\\pandas\\core\\groupby\n",
      "  copying pandas\\core\\groupby\\generic.py -> build\\lib.win-amd64-3.9\\pandas\\core\\groupby\n",
      "  copying pandas\\core\\groupby\\groupby.py -> build\\lib.win-amd64-3.9\\pandas\\core\\groupby\n",
      "  copying pandas\\core\\groupby\\grouper.py -> build\\lib.win-amd64-3.9\\pandas\\core\\groupby\n",
      "  copying pandas\\core\\groupby\\ops.py -> build\\lib.win-amd64-3.9\\pandas\\core\\groupby\n",
      "  copying pandas\\core\\groupby\\__init__.py -> build\\lib.win-amd64-3.9\\pandas\\core\\groupby\n",
      "  creating build\\lib.win-amd64-3.9\\pandas\\core\\indexes\n",
      "  copying pandas\\core\\indexes\\accessors.py -> build\\lib.win-amd64-3.9\\pandas\\core\\indexes\n",
      "  copying pandas\\core\\indexes\\api.py -> build\\lib.win-amd64-3.9\\pandas\\core\\indexes\n",
      "  copying pandas\\core\\indexes\\base.py -> build\\lib.win-amd64-3.9\\pandas\\core\\indexes\n",
      "  copying pandas\\core\\indexes\\category.py -> build\\lib.win-amd64-3.9\\pandas\\core\\indexes\n",
      "  copying pandas\\core\\indexes\\datetimelike.py -> build\\lib.win-amd64-3.9\\pandas\\core\\indexes\n",
      "  copying pandas\\core\\indexes\\datetimes.py -> build\\lib.win-amd64-3.9\\pandas\\core\\indexes\n",
      "  copying pandas\\core\\indexes\\frozen.py -> build\\lib.win-amd64-3.9\\pandas\\core\\indexes\n",
      "  copying pandas\\core\\indexes\\interval.py -> build\\lib.win-amd64-3.9\\pandas\\core\\indexes\n",
      "  copying pandas\\core\\indexes\\multi.py -> build\\lib.win-amd64-3.9\\pandas\\core\\indexes\n",
      "  copying pandas\\core\\indexes\\numeric.py -> build\\lib.win-amd64-3.9\\pandas\\core\\indexes\n",
      "  copying pandas\\core\\indexes\\period.py -> build\\lib.win-amd64-3.9\\pandas\\core\\indexes\n",
      "  copying pandas\\core\\indexes\\range.py -> build\\lib.win-amd64-3.9\\pandas\\core\\indexes\n",
      "  copying pandas\\core\\indexes\\timedeltas.py -> build\\lib.win-amd64-3.9\\pandas\\core\\indexes\n",
      "  copying pandas\\core\\indexes\\__init__.py -> build\\lib.win-amd64-3.9\\pandas\\core\\indexes\n",
      "  creating build\\lib.win-amd64-3.9\\pandas\\core\\internals\n",
      "  copying pandas\\core\\internals\\arrays.py -> build\\lib.win-amd64-3.9\\pandas\\core\\internals\n",
      "  copying pandas\\core\\internals\\blocks.py -> build\\lib.win-amd64-3.9\\pandas\\core\\internals\n",
      "  copying pandas\\core\\internals\\concat.py -> build\\lib.win-amd64-3.9\\pandas\\core\\internals\n",
      "  copying pandas\\core\\internals\\construction.py -> build\\lib.win-amd64-3.9\\pandas\\core\\internals\n",
      "  copying pandas\\core\\internals\\managers.py -> build\\lib.win-amd64-3.9\\pandas\\core\\internals\n",
      "  copying pandas\\core\\internals\\__init__.py -> build\\lib.win-amd64-3.9\\pandas\\core\\internals\n",
      "  creating build\\lib.win-amd64-3.9\\pandas\\core\\reshape\n",
      "  copying pandas\\core\\reshape\\api.py -> build\\lib.win-amd64-3.9\\pandas\\core\\reshape\n",
      "  copying pandas\\core\\reshape\\concat.py -> build\\lib.win-amd64-3.9\\pandas\\core\\reshape\n",
      "  copying pandas\\core\\reshape\\melt.py -> build\\lib.win-amd64-3.9\\pandas\\core\\reshape\n",
      "  copying pandas\\core\\reshape\\merge.py -> build\\lib.win-amd64-3.9\\pandas\\core\\reshape\n",
      "  copying pandas\\core\\reshape\\pivot.py -> build\\lib.win-amd64-3.9\\pandas\\core\\reshape\n",
      "  copying pandas\\core\\reshape\\reshape.py -> build\\lib.win-amd64-3.9\\pandas\\core\\reshape\n",
      "  copying pandas\\core\\reshape\\tile.py -> build\\lib.win-amd64-3.9\\pandas\\core\\reshape\n",
      "  copying pandas\\core\\reshape\\util.py -> build\\lib.win-amd64-3.9\\pandas\\core\\reshape\n",
      "  copying pandas\\core\\reshape\\__init__.py -> build\\lib.win-amd64-3.9\\pandas\\core\\reshape\n",
      "  creating build\\lib.win-amd64-3.9\\pandas\\core\\sparse\n",
      "  copying pandas\\core\\sparse\\api.py -> build\\lib.win-amd64-3.9\\pandas\\core\\sparse\n",
      "  copying pandas\\core\\sparse\\frame.py -> build\\lib.win-amd64-3.9\\pandas\\core\\sparse\n",
      "  copying pandas\\core\\sparse\\scipy_sparse.py -> build\\lib.win-amd64-3.9\\pandas\\core\\sparse\n",
      "  copying pandas\\core\\sparse\\series.py -> build\\lib.win-amd64-3.9\\pandas\\core\\sparse\n",
      "  copying pandas\\core\\sparse\\__init__.py -> build\\lib.win-amd64-3.9\\pandas\\core\\sparse\n",
      "  creating build\\lib.win-amd64-3.9\\pandas\\core\\tools\n",
      "  copying pandas\\core\\tools\\datetimes.py -> build\\lib.win-amd64-3.9\\pandas\\core\\tools\n",
      "  copying pandas\\core\\tools\\numeric.py -> build\\lib.win-amd64-3.9\\pandas\\core\\tools\n",
      "  copying pandas\\core\\tools\\timedeltas.py -> build\\lib.win-amd64-3.9\\pandas\\core\\tools\n",
      "  copying pandas\\core\\tools\\__init__.py -> build\\lib.win-amd64-3.9\\pandas\\core\\tools\n",
      "  creating build\\lib.win-amd64-3.9\\pandas\\core\\util\n",
      "  copying pandas\\core\\util\\hashing.py -> build\\lib.win-amd64-3.9\\pandas\\core\\util\n",
      "  copying pandas\\core\\util\\__init__.py -> build\\lib.win-amd64-3.9\\pandas\\core\\util\n",
      "  creating build\\lib.win-amd64-3.9\\pandas\\io\\clipboard\n",
      "  copying pandas\\io\\clipboard\\clipboards.py -> build\\lib.win-amd64-3.9\\pandas\\io\\clipboard\n",
      "  copying pandas\\io\\clipboard\\exceptions.py -> build\\lib.win-amd64-3.9\\pandas\\io\\clipboard\n",
      "  copying pandas\\io\\clipboard\\windows.py -> build\\lib.win-amd64-3.9\\pandas\\io\\clipboard\n",
      "  copying pandas\\io\\clipboard\\__init__.py -> build\\lib.win-amd64-3.9\\pandas\\io\\clipboard\n",
      "  creating build\\lib.win-amd64-3.9\\pandas\\io\\formats\n",
      "  copying pandas\\io\\formats\\console.py -> build\\lib.win-amd64-3.9\\pandas\\io\\formats\n",
      "  copying pandas\\io\\formats\\css.py -> build\\lib.win-amd64-3.9\\pandas\\io\\formats\n",
      "  copying pandas\\io\\formats\\csvs.py -> build\\lib.win-amd64-3.9\\pandas\\io\\formats\n",
      "  copying pandas\\io\\formats\\excel.py -> build\\lib.win-amd64-3.9\\pandas\\io\\formats\n",
      "  copying pandas\\io\\formats\\format.py -> build\\lib.win-amd64-3.9\\pandas\\io\\formats\n",
      "  copying pandas\\io\\formats\\html.py -> build\\lib.win-amd64-3.9\\pandas\\io\\formats\n",
      "  copying pandas\\io\\formats\\latex.py -> build\\lib.win-amd64-3.9\\pandas\\io\\formats\n",
      "  copying pandas\\io\\formats\\printing.py -> build\\lib.win-amd64-3.9\\pandas\\io\\formats\n",
      "  copying pandas\\io\\formats\\style.py -> build\\lib.win-amd64-3.9\\pandas\\io\\formats\n",
      "  copying pandas\\io\\formats\\terminal.py -> build\\lib.win-amd64-3.9\\pandas\\io\\formats\n",
      "  copying pandas\\io\\formats\\__init__.py -> build\\lib.win-amd64-3.9\\pandas\\io\\formats\n",
      "  creating build\\lib.win-amd64-3.9\\pandas\\io\\json\n",
      "  copying pandas\\io\\json\\json.py -> build\\lib.win-amd64-3.9\\pandas\\io\\json\n",
      "  copying pandas\\io\\json\\normalize.py -> build\\lib.win-amd64-3.9\\pandas\\io\\json\n",
      "  copying pandas\\io\\json\\table_schema.py -> build\\lib.win-amd64-3.9\\pandas\\io\\json\n",
      "  copying pandas\\io\\json\\__init__.py -> build\\lib.win-amd64-3.9\\pandas\\io\\json\n",
      "  creating build\\lib.win-amd64-3.9\\pandas\\io\\msgpack\n",
      "  copying pandas\\io\\msgpack\\exceptions.py -> build\\lib.win-amd64-3.9\\pandas\\io\\msgpack\n",
      "  copying pandas\\io\\msgpack\\_version.py -> build\\lib.win-amd64-3.9\\pandas\\io\\msgpack\n",
      "  copying pandas\\io\\msgpack\\__init__.py -> build\\lib.win-amd64-3.9\\pandas\\io\\msgpack\n",
      "  creating build\\lib.win-amd64-3.9\\pandas\\io\\sas\n",
      "  copying pandas\\io\\sas\\sas7bdat.py -> build\\lib.win-amd64-3.9\\pandas\\io\\sas\n",
      "  copying pandas\\io\\sas\\sasreader.py -> build\\lib.win-amd64-3.9\\pandas\\io\\sas\n",
      "  copying pandas\\io\\sas\\sas_constants.py -> build\\lib.win-amd64-3.9\\pandas\\io\\sas\n",
      "  copying pandas\\io\\sas\\sas_xport.py -> build\\lib.win-amd64-3.9\\pandas\\io\\sas\n",
      "  copying pandas\\io\\sas\\__init__.py -> build\\lib.win-amd64-3.9\\pandas\\io\\sas\n",
      "  creating build\\lib.win-amd64-3.9\\pandas\\tests\\api\n",
      "  copying pandas\\tests\\api\\test_api.py -> build\\lib.win-amd64-3.9\\pandas\\tests\\api\n",
      "  copying pandas\\tests\\api\\test_types.py -> build\\lib.win-amd64-3.9\\pandas\\tests\\api\n",
      "  copying pandas\\tests\\api\\__init__.py -> build\\lib.win-amd64-3.9\\pandas\\tests\\api\n",
      "  creating build\\lib.win-amd64-3.9\\pandas\\tests\\arithmetic\n",
      "  copying pandas\\tests\\arithmetic\\conftest.py -> build\\lib.win-amd64-3.9\\pandas\\tests\\arithmetic\n",
      "  copying pandas\\tests\\arithmetic\\test_datetime64.py -> build\\lib.win-amd64-3.9\\pandas\\tests\\arithmetic\n",
      "  copying pandas\\tests\\arithmetic\\test_numeric.py -> build\\lib.win-amd64-3.9\\pandas\\tests\\arithmetic\n",
      "  copying pandas\\tests\\arithmetic\\test_object.py -> build\\lib.win-amd64-3.9\\pandas\\tests\\arithmetic\n",
      "  copying pandas\\tests\\arithmetic\\test_period.py -> build\\lib.win-amd64-3.9\\pandas\\tests\\arithmetic\n",
      "  copying pandas\\tests\\arithmetic\\test_timedelta64.py -> build\\lib.win-amd64-3.9\\pandas\\tests\\arithmetic\n",
      "  copying pandas\\tests\\arithmetic\\__init__.py -> build\\lib.win-amd64-3.9\\pandas\\tests\\arithmetic\n",
      "  creating build\\lib.win-amd64-3.9\\pandas\\tests\\arrays\n",
      "  copying pandas\\tests\\arrays\\test_array.py -> build\\lib.win-amd64-3.9\\pandas\\tests\\arrays\n",
      "  copying pandas\\tests\\arrays\\test_datetimelike.py -> build\\lib.win-amd64-3.9\\pandas\\tests\\arrays\n",
      "  copying pandas\\tests\\arrays\\test_datetimes.py -> build\\lib.win-amd64-3.9\\pandas\\tests\\arrays\n",
      "  copying pandas\\tests\\arrays\\test_integer.py -> build\\lib.win-amd64-3.9\\pandas\\tests\\arrays\n",
      "  copying pandas\\tests\\arrays\\test_numpy.py -> build\\lib.win-amd64-3.9\\pandas\\tests\\arrays\n",
      "  copying pandas\\tests\\arrays\\test_period.py -> build\\lib.win-amd64-3.9\\pandas\\tests\\arrays\n",
      "  copying pandas\\tests\\arrays\\test_timedeltas.py -> build\\lib.win-amd64-3.9\\pandas\\tests\\arrays\n",
      "  copying pandas\\tests\\arrays\\__init__.py -> build\\lib.win-amd64-3.9\\pandas\\tests\\arrays\n",
      "  creating build\\lib.win-amd64-3.9\\pandas\\tests\\computation\n",
      "  copying pandas\\tests\\computation\\test_compat.py -> build\\lib.win-amd64-3.9\\pandas\\tests\\computation\n",
      "  copying pandas\\tests\\computation\\test_eval.py -> build\\lib.win-amd64-3.9\\pandas\\tests\\computation\n",
      "  copying pandas\\tests\\computation\\__init__.py -> build\\lib.win-amd64-3.9\\pandas\\tests\\computation\n",
      "  creating build\\lib.win-amd64-3.9\\pandas\\tests\\dtypes\n",
      "  copying pandas\\tests\\dtypes\\test_common.py -> build\\lib.win-amd64-3.9\\pandas\\tests\\dtypes\n",
      "  copying pandas\\tests\\dtypes\\test_concat.py -> build\\lib.win-amd64-3.9\\pandas\\tests\\dtypes\n",
      "  copying pandas\\tests\\dtypes\\test_dtypes.py -> build\\lib.win-amd64-3.9\\pandas\\tests\\dtypes\n",
      "  copying pandas\\tests\\dtypes\\test_generic.py -> build\\lib.win-amd64-3.9\\pandas\\tests\\dtypes\n",
      "  copying pandas\\tests\\dtypes\\test_inference.py -> build\\lib.win-amd64-3.9\\pandas\\tests\\dtypes\n",
      "  copying pandas\\tests\\dtypes\\test_missing.py -> build\\lib.win-amd64-3.9\\pandas\\tests\\dtypes\n",
      "  copying pandas\\tests\\dtypes\\__init__.py -> build\\lib.win-amd64-3.9\\pandas\\tests\\dtypes\n",
      "  creating build\\lib.win-amd64-3.9\\pandas\\tests\\extension\n",
      "  copying pandas\\tests\\extension\\conftest.py -> build\\lib.win-amd64-3.9\\pandas\\tests\\extension\n",
      "  copying pandas\\tests\\extension\\test_categorical.py -> build\\lib.win-amd64-3.9\\pandas\\tests\\extension\n",
      "  copying pandas\\tests\\extension\\test_common.py -> build\\lib.win-amd64-3.9\\pandas\\tests\\extension\n",
      "  copying pandas\\tests\\extension\\test_datetime.py -> build\\lib.win-amd64-3.9\\pandas\\tests\\extension\n",
      "  copying pandas\\tests\\extension\\test_external_block.py -> build\\lib.win-amd64-3.9\\pandas\\tests\\extension\n",
      "  copying pandas\\tests\\extension\\test_integer.py -> build\\lib.win-amd64-3.9\\pandas\\tests\\extension\n",
      "  copying pandas\\tests\\extension\\test_interval.py -> build\\lib.win-amd64-3.9\\pandas\\tests\\extension\n",
      "  copying pandas\\tests\\extension\\test_period.py -> build\\lib.win-amd64-3.9\\pandas\\tests\\extension\n",
      "  copying pandas\\tests\\extension\\test_sparse.py -> build\\lib.win-amd64-3.9\\pandas\\tests\\extension\n",
      "  copying pandas\\tests\\extension\\__init__.py -> build\\lib.win-amd64-3.9\\pandas\\tests\\extension\n",
      "  creating build\\lib.win-amd64-3.9\\pandas\\tests\\frame\n",
      "  copying pandas\\tests\\frame\\common.py -> build\\lib.win-amd64-3.9\\pandas\\tests\\frame\n",
      "  copying pandas\\tests\\frame\\conftest.py -> build\\lib.win-amd64-3.9\\pandas\\tests\\frame\n",
      "  copying pandas\\tests\\frame\\test_alter_axes.py -> build\\lib.win-amd64-3.9\\pandas\\tests\\frame\n",
      "  copying pandas\\tests\\frame\\test_analytics.py -> build\\lib.win-amd64-3.9\\pandas\\tests\\frame\n",
      "  copying pandas\\tests\\frame\\test_api.py -> build\\lib.win-amd64-3.9\\pandas\\tests\\frame\n",
      "  copying pandas\\tests\\frame\\test_apply.py -> build\\lib.win-amd64-3.9\\pandas\\tests\\frame\n",
      "  copying pandas\\tests\\frame\\test_arithmetic.py -> build\\lib.win-amd64-3.9\\pandas\\tests\\frame\n",
      "  copying pandas\\tests\\frame\\test_asof.py -> build\\lib.win-amd64-3.9\\pandas\\tests\\frame\n",
      "  copying pandas\\tests\\frame\\test_axis_select_reindex.py -> build\\lib.win-amd64-3.9\\pandas\\tests\\frame\n",
      "  copying pandas\\tests\\frame\\test_block_internals.py -> build\\lib.win-amd64-3.9\\pandas\\tests\\frame\n",
      "  copying pandas\\tests\\frame\\test_combine_concat.py -> build\\lib.win-amd64-3.9\\pandas\\tests\\frame\n",
      "  copying pandas\\tests\\frame\\test_constructors.py -> build\\lib.win-amd64-3.9\\pandas\\tests\\frame\n",
      "  copying pandas\\tests\\frame\\test_convert_to.py -> build\\lib.win-amd64-3.9\\pandas\\tests\\frame\n",
      "  copying pandas\\tests\\frame\\test_dtypes.py -> build\\lib.win-amd64-3.9\\pandas\\tests\\frame\n",
      "  copying pandas\\tests\\frame\\test_duplicates.py -> build\\lib.win-amd64-3.9\\pandas\\tests\\frame\n",
      "  copying pandas\\tests\\frame\\test_indexing.py -> build\\lib.win-amd64-3.9\\pandas\\tests\\frame\n",
      "  copying pandas\\tests\\frame\\test_join.py -> build\\lib.win-amd64-3.9\\pandas\\tests\\frame\n",
      "  copying pandas\\tests\\frame\\test_missing.py -> build\\lib.win-amd64-3.9\\pandas\\tests\\frame\n",
      "  copying pandas\\tests\\frame\\test_mutate_columns.py -> build\\lib.win-amd64-3.9\\pandas\\tests\\frame\n",
      "  copying pandas\\tests\\frame\\test_nonunique_indexes.py -> build\\lib.win-amd64-3.9\\pandas\\tests\\frame\n",
      "  copying pandas\\tests\\frame\\test_operators.py -> build\\lib.win-amd64-3.9\\pandas\\tests\\frame\n",
      "  copying pandas\\tests\\frame\\test_period.py -> build\\lib.win-amd64-3.9\\pandas\\tests\\frame\n",
      "  copying pandas\\tests\\frame\\test_quantile.py -> build\\lib.win-amd64-3.9\\pandas\\tests\\frame\n",
      "  copying pandas\\tests\\frame\\test_query_eval.py -> build\\lib.win-amd64-3.9\\pandas\\tests\\frame\n",
      "  copying pandas\\tests\\frame\\test_rank.py -> build\\lib.win-amd64-3.9\\pandas\\tests\\frame\n",
      "  copying pandas\\tests\\frame\\test_replace.py -> build\\lib.win-amd64-3.9\\pandas\\tests\\frame\n",
      "  copying pandas\\tests\\frame\\test_repr_info.py -> build\\lib.win-amd64-3.9\\pandas\\tests\\frame\n",
      "  copying pandas\\tests\\frame\\test_reshape.py -> build\\lib.win-amd64-3.9\\pandas\\tests\\frame\n",
      "  copying pandas\\tests\\frame\\test_sorting.py -> build\\lib.win-amd64-3.9\\pandas\\tests\\frame\n",
      "  copying pandas\\tests\\frame\\test_sort_values_level_as_str.py -> build\\lib.win-amd64-3.9\\pandas\\tests\\frame\n",
      "  copying pandas\\tests\\frame\\test_subclass.py -> build\\lib.win-amd64-3.9\\pandas\\tests\\frame\n",
      "  copying pandas\\tests\\frame\\test_timeseries.py -> build\\lib.win-amd64-3.9\\pandas\\tests\\frame\n",
      "  copying pandas\\tests\\frame\\test_timezones.py -> build\\lib.win-amd64-3.9\\pandas\\tests\\frame\n",
      "  copying pandas\\tests\\frame\\test_to_csv.py -> build\\lib.win-amd64-3.9\\pandas\\tests\\frame\n",
      "  copying pandas\\tests\\frame\\test_validate.py -> build\\lib.win-amd64-3.9\\pandas\\tests\\frame\n",
      "  copying pandas\\tests\\frame\\__init__.py -> build\\lib.win-amd64-3.9\\pandas\\tests\\frame\n",
      "  creating build\\lib.win-amd64-3.9\\pandas\\tests\\generic\n",
      "  copying pandas\\tests\\generic\\test_frame.py -> build\\lib.win-amd64-3.9\\pandas\\tests\\generic\n",
      "  copying pandas\\tests\\generic\\test_generic.py -> build\\lib.win-amd64-3.9\\pandas\\tests\\generic\n",
      "  copying pandas\\tests\\generic\\test_label_or_level_utils.py -> build\\lib.win-amd64-3.9\\pandas\\tests\\generic\n",
      "  copying pandas\\tests\\generic\\test_panel.py -> build\\lib.win-amd64-3.9\\pandas\\tests\\generic\n",
      "  copying pandas\\tests\\generic\\test_series.py -> build\\lib.win-amd64-3.9\\pandas\\tests\\generic\n",
      "  copying pandas\\tests\\generic\\__init__.py -> build\\lib.win-amd64-3.9\\pandas\\tests\\generic\n",
      "  creating build\\lib.win-amd64-3.9\\pandas\\tests\\groupby\n",
      "  copying pandas\\tests\\groupby\\conftest.py -> build\\lib.win-amd64-3.9\\pandas\\tests\\groupby\n",
      "  copying pandas\\tests\\groupby\\test_apply.py -> build\\lib.win-amd64-3.9\\pandas\\tests\\groupby\n",
      "  copying pandas\\tests\\groupby\\test_bin_groupby.py -> build\\lib.win-amd64-3.9\\pandas\\tests\\groupby\n",
      "  copying pandas\\tests\\groupby\\test_categorical.py -> build\\lib.win-amd64-3.9\\pandas\\tests\\groupby\n",
      "  copying pandas\\tests\\groupby\\test_counting.py -> build\\lib.win-amd64-3.9\\pandas\\tests\\groupby\n",
      "  copying pandas\\tests\\groupby\\test_filters.py -> build\\lib.win-amd64-3.9\\pandas\\tests\\groupby\n",
      "  copying pandas\\tests\\groupby\\test_function.py -> build\\lib.win-amd64-3.9\\pandas\\tests\\groupby\n",
      "  copying pandas\\tests\\groupby\\test_groupby.py -> build\\lib.win-amd64-3.9\\pandas\\tests\\groupby\n",
      "  copying pandas\\tests\\groupby\\test_grouping.py -> build\\lib.win-amd64-3.9\\pandas\\tests\\groupby\n",
      "  copying pandas\\tests\\groupby\\test_index_as_string.py -> build\\lib.win-amd64-3.9\\pandas\\tests\\groupby\n",
      "  copying pandas\\tests\\groupby\\test_nth.py -> build\\lib.win-amd64-3.9\\pandas\\tests\\groupby\n",
      "  copying pandas\\tests\\groupby\\test_rank.py -> build\\lib.win-amd64-3.9\\pandas\\tests\\groupby\n",
      "  copying pandas\\tests\\groupby\\test_timegrouper.py -> build\\lib.win-amd64-3.9\\pandas\\tests\\groupby\n",
      "  copying pandas\\tests\\groupby\\test_transform.py -> build\\lib.win-amd64-3.9\\pandas\\tests\\groupby\n",
      "  copying pandas\\tests\\groupby\\test_value_counts.py -> build\\lib.win-amd64-3.9\\pandas\\tests\\groupby\n",
      "  copying pandas\\tests\\groupby\\test_whitelist.py -> build\\lib.win-amd64-3.9\\pandas\\tests\\groupby\n",
      "  copying pandas\\tests\\groupby\\__init__.py -> build\\lib.win-amd64-3.9\\pandas\\tests\\groupby\n",
      "  creating build\\lib.win-amd64-3.9\\pandas\\tests\\indexes\n",
      "  copying pandas\\tests\\indexes\\common.py -> build\\lib.win-amd64-3.9\\pandas\\tests\\indexes\n",
      "  copying pandas\\tests\\indexes\\conftest.py -> build\\lib.win-amd64-3.9\\pandas\\tests\\indexes\n",
      "  copying pandas\\tests\\indexes\\datetimelike.py -> build\\lib.win-amd64-3.9\\pandas\\tests\\indexes\n",
      "  copying pandas\\tests\\indexes\\test_base.py -> build\\lib.win-amd64-3.9\\pandas\\tests\\indexes\n",
      "  copying pandas\\tests\\indexes\\test_category.py -> build\\lib.win-amd64-3.9\\pandas\\tests\\indexes\n",
      "  copying pandas\\tests\\indexes\\test_common.py -> build\\lib.win-amd64-3.9\\pandas\\tests\\indexes\n",
      "  copying pandas\\tests\\indexes\\test_frozen.py -> build\\lib.win-amd64-3.9\\pandas\\tests\\indexes\n",
      "  copying pandas\\tests\\indexes\\test_numeric.py -> build\\lib.win-amd64-3.9\\pandas\\tests\\indexes\n",
      "  copying pandas\\tests\\indexes\\test_range.py -> build\\lib.win-amd64-3.9\\pandas\\tests\\indexes\n"
     ]
    },
    {
     "name": "stderr",
     "output_type": "stream",
     "text": [
      "  copying pandas\\tests\\indexes\\__init__.py -> build\\lib.win-amd64-3.9\\pandas\\tests\\indexes\n",
      "  creating build\\lib.win-amd64-3.9\\pandas\\tests\\indexing\n",
      "  copying pandas\\tests\\indexing\\common.py -> build\\lib.win-amd64-3.9\\pandas\\tests\\indexing\n",
      "  copying pandas\\tests\\indexing\\conftest.py -> build\\lib.win-amd64-3.9\\pandas\\tests\\indexing\n",
      "  copying pandas\\tests\\indexing\\test_callable.py -> build\\lib.win-amd64-3.9\\pandas\\tests\\indexing\n",
      "  copying pandas\\tests\\indexing\\test_categorical.py -> build\\lib.win-amd64-3.9\\pandas\\tests\\indexing\n",
      "  copying pandas\\tests\\indexing\\test_chaining_and_caching.py -> build\\lib.win-amd64-3.9\\pandas\\tests\\indexing\n",
      "  copying pandas\\tests\\indexing\\test_coercion.py -> build\\lib.win-amd64-3.9\\pandas\\tests\\indexing\n",
      "  copying pandas\\tests\\indexing\\test_datetime.py -> build\\lib.win-amd64-3.9\\pandas\\tests\\indexing\n",
      "  copying pandas\\tests\\indexing\\test_floats.py -> build\\lib.win-amd64-3.9\\pandas\\tests\\indexing\n",
      "  copying pandas\\tests\\indexing\\test_iloc.py -> build\\lib.win-amd64-3.9\\pandas\\tests\\indexing\n",
      "  copying pandas\\tests\\indexing\\test_indexing.py -> build\\lib.win-amd64-3.9\\pandas\\tests\\indexing\n",
      "  copying pandas\\tests\\indexing\\test_indexing_engines.py -> build\\lib.win-amd64-3.9\\pandas\\tests\\indexing\n",
      "  copying pandas\\tests\\indexing\\test_indexing_slow.py -> build\\lib.win-amd64-3.9\\pandas\\tests\\indexing\n",
      "  copying pandas\\tests\\indexing\\test_ix.py -> build\\lib.win-amd64-3.9\\pandas\\tests\\indexing\n",
      "  copying pandas\\tests\\indexing\\test_loc.py -> build\\lib.win-amd64-3.9\\pandas\\tests\\indexing\n",
      "  copying pandas\\tests\\indexing\\test_panel.py -> build\\lib.win-amd64-3.9\\pandas\\tests\\indexing\n",
      "  copying pandas\\tests\\indexing\\test_partial.py -> build\\lib.win-amd64-3.9\\pandas\\tests\\indexing\n",
      "  copying pandas\\tests\\indexing\\test_scalar.py -> build\\lib.win-amd64-3.9\\pandas\\tests\\indexing\n",
      "  copying pandas\\tests\\indexing\\test_timedelta.py -> build\\lib.win-amd64-3.9\\pandas\\tests\\indexing\n",
      "  copying pandas\\tests\\indexing\\__init__.py -> build\\lib.win-amd64-3.9\\pandas\\tests\\indexing\n",
      "  creating build\\lib.win-amd64-3.9\\pandas\\tests\\internals\n",
      "  copying pandas\\tests\\internals\\test_internals.py -> build\\lib.win-amd64-3.9\\pandas\\tests\\internals\n",
      "  copying pandas\\tests\\internals\\__init__.py -> build\\lib.win-amd64-3.9\\pandas\\tests\\internals\n",
      "  creating build\\lib.win-amd64-3.9\\pandas\\tests\\io\n",
      "  copying pandas\\tests\\io\\conftest.py -> build\\lib.win-amd64-3.9\\pandas\\tests\\io\n",
      "  copying pandas\\tests\\io\\generate_legacy_storage_files.py -> build\\lib.win-amd64-3.9\\pandas\\tests\\io\n",
      "  copying pandas\\tests\\io\\test_clipboard.py -> build\\lib.win-amd64-3.9\\pandas\\tests\\io\n",
      "  copying pandas\\tests\\io\\test_common.py -> build\\lib.win-amd64-3.9\\pandas\\tests\\io\n",
      "  copying pandas\\tests\\io\\test_compression.py -> build\\lib.win-amd64-3.9\\pandas\\tests\\io\n",
      "  copying pandas\\tests\\io\\test_date_converters.py -> build\\lib.win-amd64-3.9\\pandas\\tests\\io\n",
      "  copying pandas\\tests\\io\\test_excel.py -> build\\lib.win-amd64-3.9\\pandas\\tests\\io\n",
      "  copying pandas\\tests\\io\\test_feather.py -> build\\lib.win-amd64-3.9\\pandas\\tests\\io\n",
      "  copying pandas\\tests\\io\\test_gbq.py -> build\\lib.win-amd64-3.9\\pandas\\tests\\io\n",
      "  copying pandas\\tests\\io\\test_gcs.py -> build\\lib.win-amd64-3.9\\pandas\\tests\\io\n",
      "  copying pandas\\tests\\io\\test_html.py -> build\\lib.win-amd64-3.9\\pandas\\tests\\io\n",
      "  copying pandas\\tests\\io\\test_packers.py -> build\\lib.win-amd64-3.9\\pandas\\tests\\io\n",
      "  copying pandas\\tests\\io\\test_parquet.py -> build\\lib.win-amd64-3.9\\pandas\\tests\\io\n",
      "  copying pandas\\tests\\io\\test_pickle.py -> build\\lib.win-amd64-3.9\\pandas\\tests\\io\n",
      "  copying pandas\\tests\\io\\test_pytables.py -> build\\lib.win-amd64-3.9\\pandas\\tests\\io\n",
      "  copying pandas\\tests\\io\\test_s3.py -> build\\lib.win-amd64-3.9\\pandas\\tests\\io\n",
      "  copying pandas\\tests\\io\\test_sql.py -> build\\lib.win-amd64-3.9\\pandas\\tests\\io\n",
      "  copying pandas\\tests\\io\\test_stata.py -> build\\lib.win-amd64-3.9\\pandas\\tests\\io\n",
      "  copying pandas\\tests\\io\\__init__.py -> build\\lib.win-amd64-3.9\\pandas\\tests\\io\n",
      "  creating build\\lib.win-amd64-3.9\\pandas\\tests\\plotting\n",
      "  copying pandas\\tests\\plotting\\common.py -> build\\lib.win-amd64-3.9\\pandas\\tests\\plotting\n",
      "  copying pandas\\tests\\plotting\\test_boxplot_method.py -> build\\lib.win-amd64-3.9\\pandas\\tests\\plotting\n",
      "  copying pandas\\tests\\plotting\\test_converter.py -> build\\lib.win-amd64-3.9\\pandas\\tests\\plotting\n",
      "  copying pandas\\tests\\plotting\\test_datetimelike.py -> build\\lib.win-amd64-3.9\\pandas\\tests\\plotting\n",
      "  copying pandas\\tests\\plotting\\test_frame.py -> build\\lib.win-amd64-3.9\\pandas\\tests\\plotting\n",
      "  copying pandas\\tests\\plotting\\test_groupby.py -> build\\lib.win-amd64-3.9\\pandas\\tests\\plotting\n",
      "  copying pandas\\tests\\plotting\\test_hist_method.py -> build\\lib.win-amd64-3.9\\pandas\\tests\\plotting\n",
      "  copying pandas\\tests\\plotting\\test_misc.py -> build\\lib.win-amd64-3.9\\pandas\\tests\\plotting\n",
      "  copying pandas\\tests\\plotting\\test_series.py -> build\\lib.win-amd64-3.9\\pandas\\tests\\plotting\n",
      "  copying pandas\\tests\\plotting\\__init__.py -> build\\lib.win-amd64-3.9\\pandas\\tests\\plotting\n",
      "  creating build\\lib.win-amd64-3.9\\pandas\\tests\\reductions\n",
      "  copying pandas\\tests\\reductions\\test_reductions.py -> build\\lib.win-amd64-3.9\\pandas\\tests\\reductions\n",
      "  copying pandas\\tests\\reductions\\test_stat_reductions.py -> build\\lib.win-amd64-3.9\\pandas\\tests\\reductions\n",
      "  copying pandas\\tests\\reductions\\__init__.py -> build\\lib.win-amd64-3.9\\pandas\\tests\\reductions\n",
      "  creating build\\lib.win-amd64-3.9\\pandas\\tests\\resample\n",
      "  copying pandas\\tests\\resample\\conftest.py -> build\\lib.win-amd64-3.9\\pandas\\tests\\resample\n",
      "  copying pandas\\tests\\resample\\test_base.py -> build\\lib.win-amd64-3.9\\pandas\\tests\\resample\n",
      "  copying pandas\\tests\\resample\\test_datetime_index.py -> build\\lib.win-amd64-3.9\\pandas\\tests\\resample\n",
      "  copying pandas\\tests\\resample\\test_period_index.py -> build\\lib.win-amd64-3.9\\pandas\\tests\\resample\n",
      "  copying pandas\\tests\\resample\\test_resampler_grouper.py -> build\\lib.win-amd64-3.9\\pandas\\tests\\resample\n",
      "  copying pandas\\tests\\resample\\test_resample_api.py -> build\\lib.win-amd64-3.9\\pandas\\tests\\resample\n",
      "  copying pandas\\tests\\resample\\test_timedelta.py -> build\\lib.win-amd64-3.9\\pandas\\tests\\resample\n",
      "  copying pandas\\tests\\resample\\test_time_grouper.py -> build\\lib.win-amd64-3.9\\pandas\\tests\\resample\n",
      "  copying pandas\\tests\\resample\\__init__.py -> build\\lib.win-amd64-3.9\\pandas\\tests\\resample\n",
      "  creating build\\lib.win-amd64-3.9\\pandas\\tests\\reshape\n",
      "  copying pandas\\tests\\reshape\\test_concat.py -> build\\lib.win-amd64-3.9\\pandas\\tests\\reshape\n",
      "  copying pandas\\tests\\reshape\\test_cut.py -> build\\lib.win-amd64-3.9\\pandas\\tests\\reshape\n",
      "  copying pandas\\tests\\reshape\\test_melt.py -> build\\lib.win-amd64-3.9\\pandas\\tests\\reshape\n",
      "  copying pandas\\tests\\reshape\\test_pivot.py -> build\\lib.win-amd64-3.9\\pandas\\tests\\reshape\n",
      "  copying pandas\\tests\\reshape\\test_qcut.py -> build\\lib.win-amd64-3.9\\pandas\\tests\\reshape\n",
      "  copying pandas\\tests\\reshape\\test_reshape.py -> build\\lib.win-amd64-3.9\\pandas\\tests\\reshape\n",
      "  copying pandas\\tests\\reshape\\test_union_categoricals.py -> build\\lib.win-amd64-3.9\\pandas\\tests\\reshape\n",
      "  copying pandas\\tests\\reshape\\test_util.py -> build\\lib.win-amd64-3.9\\pandas\\tests\\reshape\n",
      "  copying pandas\\tests\\reshape\\__init__.py -> build\\lib.win-amd64-3.9\\pandas\\tests\\reshape\n",
      "  creating build\\lib.win-amd64-3.9\\pandas\\tests\\scalar\n",
      "  copying pandas\\tests\\scalar\\test_nat.py -> build\\lib.win-amd64-3.9\\pandas\\tests\\scalar\n",
      "  copying pandas\\tests\\scalar\\__init__.py -> build\\lib.win-amd64-3.9\\pandas\\tests\\scalar\n",
      "  creating build\\lib.win-amd64-3.9\\pandas\\tests\\series\n",
      "  copying pandas\\tests\\series\\common.py -> build\\lib.win-amd64-3.9\\pandas\\tests\\series\n",
      "  copying pandas\\tests\\series\\conftest.py -> build\\lib.win-amd64-3.9\\pandas\\tests\\series\n",
      "  copying pandas\\tests\\series\\test_alter_axes.py -> build\\lib.win-amd64-3.9\\pandas\\tests\\series\n",
      "  copying pandas\\tests\\series\\test_analytics.py -> build\\lib.win-amd64-3.9\\pandas\\tests\\series\n",
      "  copying pandas\\tests\\series\\test_api.py -> build\\lib.win-amd64-3.9\\pandas\\tests\\series\n",
      "  copying pandas\\tests\\series\\test_apply.py -> build\\lib.win-amd64-3.9\\pandas\\tests\\series\n",
      "  copying pandas\\tests\\series\\test_arithmetic.py -> build\\lib.win-amd64-3.9\\pandas\\tests\\series\n",
      "  copying pandas\\tests\\series\\test_asof.py -> build\\lib.win-amd64-3.9\\pandas\\tests\\series\n",
      "  copying pandas\\tests\\series\\test_block_internals.py -> build\\lib.win-amd64-3.9\\pandas\\tests\\series\n",
      "  copying pandas\\tests\\series\\test_combine_concat.py -> build\\lib.win-amd64-3.9\\pandas\\tests\\series\n",
      "  copying pandas\\tests\\series\\test_constructors.py -> build\\lib.win-amd64-3.9\\pandas\\tests\\series\n",
      "  copying pandas\\tests\\series\\test_datetime_values.py -> build\\lib.win-amd64-3.9\\pandas\\tests\\series\n",
      "  copying pandas\\tests\\series\\test_dtypes.py -> build\\lib.win-amd64-3.9\\pandas\\tests\\series\n",
      "  copying pandas\\tests\\series\\test_duplicates.py -> build\\lib.win-amd64-3.9\\pandas\\tests\\series\n",
      "  copying pandas\\tests\\series\\test_internals.py -> build\\lib.win-amd64-3.9\\pandas\\tests\\series\n",
      "  copying pandas\\tests\\series\\test_io.py -> build\\lib.win-amd64-3.9\\pandas\\tests\\series\n",
      "  copying pandas\\tests\\series\\test_missing.py -> build\\lib.win-amd64-3.9\\pandas\\tests\\series\n",
      "  copying pandas\\tests\\series\\test_operators.py -> build\\lib.win-amd64-3.9\\pandas\\tests\\series\n",
      "  copying pandas\\tests\\series\\test_period.py -> build\\lib.win-amd64-3.9\\pandas\\tests\\series\n",
      "  copying pandas\\tests\\series\\test_quantile.py -> build\\lib.win-amd64-3.9\\pandas\\tests\\series\n",
      "  copying pandas\\tests\\series\\test_rank.py -> build\\lib.win-amd64-3.9\\pandas\\tests\\series\n",
      "  copying pandas\\tests\\series\\test_replace.py -> build\\lib.win-amd64-3.9\\pandas\\tests\\series\n",
      "  copying pandas\\tests\\series\\test_repr.py -> build\\lib.win-amd64-3.9\\pandas\\tests\\series\n",
      "  copying pandas\\tests\\series\\test_sorting.py -> build\\lib.win-amd64-3.9\\pandas\\tests\\series\n",
      "  copying pandas\\tests\\series\\test_subclass.py -> build\\lib.win-amd64-3.9\\pandas\\tests\\series\n",
      "  copying pandas\\tests\\series\\test_timeseries.py -> build\\lib.win-amd64-3.9\\pandas\\tests\\series\n",
      "  copying pandas\\tests\\series\\test_timezones.py -> build\\lib.win-amd64-3.9\\pandas\\tests\\series\n",
      "  copying pandas\\tests\\series\\test_validate.py -> build\\lib.win-amd64-3.9\\pandas\\tests\\series\n",
      "  copying pandas\\tests\\series\\__init__.py -> build\\lib.win-amd64-3.9\\pandas\\tests\\series\n",
      "  creating build\\lib.win-amd64-3.9\\pandas\\tests\\sparse\n",
      "  copying pandas\\tests\\sparse\\common.py -> build\\lib.win-amd64-3.9\\pandas\\tests\\sparse\n",
      "  copying pandas\\tests\\sparse\\test_combine_concat.py -> build\\lib.win-amd64-3.9\\pandas\\tests\\sparse\n",
      "  copying pandas\\tests\\sparse\\test_format.py -> build\\lib.win-amd64-3.9\\pandas\\tests\\sparse\n",
      "  copying pandas\\tests\\sparse\\test_groupby.py -> build\\lib.win-amd64-3.9\\pandas\\tests\\sparse\n",
      "  copying pandas\\tests\\sparse\\test_indexing.py -> build\\lib.win-amd64-3.9\\pandas\\tests\\sparse\n",
      "  copying pandas\\tests\\sparse\\test_pivot.py -> build\\lib.win-amd64-3.9\\pandas\\tests\\sparse\n",
      "  copying pandas\\tests\\sparse\\test_reshape.py -> build\\lib.win-amd64-3.9\\pandas\\tests\\sparse\n",
      "  copying pandas\\tests\\sparse\\__init__.py -> build\\lib.win-amd64-3.9\\pandas\\tests\\sparse\n",
      "  creating build\\lib.win-amd64-3.9\\pandas\\tests\\tools\n",
      "  copying pandas\\tests\\tools\\test_numeric.py -> build\\lib.win-amd64-3.9\\pandas\\tests\\tools\n",
      "  copying pandas\\tests\\tools\\__init__.py -> build\\lib.win-amd64-3.9\\pandas\\tests\\tools\n",
      "  creating build\\lib.win-amd64-3.9\\pandas\\tests\\tseries\n",
      "  copying pandas\\tests\\tseries\\test_frequencies.py -> build\\lib.win-amd64-3.9\\pandas\\tests\\tseries\n",
      "  copying pandas\\tests\\tseries\\test_holiday.py -> build\\lib.win-amd64-3.9\\pandas\\tests\\tseries\n",
      "  copying pandas\\tests\\tseries\\__init__.py -> build\\lib.win-amd64-3.9\\pandas\\tests\\tseries\n",
      "  creating build\\lib.win-amd64-3.9\\pandas\\tests\\tslibs\n",
      "  copying pandas\\tests\\tslibs\\test_api.py -> build\\lib.win-amd64-3.9\\pandas\\tests\\tslibs\n",
      "  copying pandas\\tests\\tslibs\\test_array_to_datetime.py -> build\\lib.win-amd64-3.9\\pandas\\tests\\tslibs\n",
      "  copying pandas\\tests\\tslibs\\test_ccalendar.py -> build\\lib.win-amd64-3.9\\pandas\\tests\\tslibs\n",
      "  copying pandas\\tests\\tslibs\\test_conversion.py -> build\\lib.win-amd64-3.9\\pandas\\tests\\tslibs\n",
      "  copying pandas\\tests\\tslibs\\test_libfrequencies.py -> build\\lib.win-amd64-3.9\\pandas\\tests\\tslibs\n",
      "  copying pandas\\tests\\tslibs\\test_liboffsets.py -> build\\lib.win-amd64-3.9\\pandas\\tests\\tslibs\n",
      "  copying pandas\\tests\\tslibs\\test_normalize_date.py -> build\\lib.win-amd64-3.9\\pandas\\tests\\tslibs\n",
      "  copying pandas\\tests\\tslibs\\test_parse_iso8601.py -> build\\lib.win-amd64-3.9\\pandas\\tests\\tslibs\n",
      "  copying pandas\\tests\\tslibs\\test_parsing.py -> build\\lib.win-amd64-3.9\\pandas\\tests\\tslibs\n",
      "  copying pandas\\tests\\tslibs\\test_period_asfreq.py -> build\\lib.win-amd64-3.9\\pandas\\tests\\tslibs\n",
      "  copying pandas\\tests\\tslibs\\test_timedeltas.py -> build\\lib.win-amd64-3.9\\pandas\\tests\\tslibs\n",
      "  copying pandas\\tests\\tslibs\\test_timezones.py -> build\\lib.win-amd64-3.9\\pandas\\tests\\tslibs\n",
      "  copying pandas\\tests\\tslibs\\__init__.py -> build\\lib.win-amd64-3.9\\pandas\\tests\\tslibs\n",
      "  creating build\\lib.win-amd64-3.9\\pandas\\tests\\util\n",
      "  copying pandas\\tests\\util\\conftest.py -> build\\lib.win-amd64-3.9\\pandas\\tests\\util\n",
      "  copying pandas\\tests\\util\\test_assert_almost_equal.py -> build\\lib.win-amd64-3.9\\pandas\\tests\\util\n",
      "  copying pandas\\tests\\util\\test_assert_categorical_equal.py -> build\\lib.win-amd64-3.9\\pandas\\tests\\util\n",
      "  copying pandas\\tests\\util\\test_assert_extension_array_equal.py -> build\\lib.win-amd64-3.9\\pandas\\tests\\util\n",
      "  copying pandas\\tests\\util\\test_assert_frame_equal.py -> build\\lib.win-amd64-3.9\\pandas\\tests\\util\n",
      "  copying pandas\\tests\\util\\test_assert_index_equal.py -> build\\lib.win-amd64-3.9\\pandas\\tests\\util\n",
      "  copying pandas\\tests\\util\\test_assert_interval_array_equal.py -> build\\lib.win-amd64-3.9\\pandas\\tests\\util\n",
      "  copying pandas\\tests\\util\\test_assert_numpy_array_equal.py -> build\\lib.win-amd64-3.9\\pandas\\tests\\util\n",
      "  copying pandas\\tests\\util\\test_assert_series_equal.py -> build\\lib.win-amd64-3.9\\pandas\\tests\\util\n",
      "  copying pandas\\tests\\util\\test_deprecate.py -> build\\lib.win-amd64-3.9\\pandas\\tests\\util\n",
      "  copying pandas\\tests\\util\\test_deprecate_kwarg.py -> build\\lib.win-amd64-3.9\\pandas\\tests\\util\n",
      "  copying pandas\\tests\\util\\test_hashing.py -> build\\lib.win-amd64-3.9\\pandas\\tests\\util\n",
      "  copying pandas\\tests\\util\\test_locale.py -> build\\lib.win-amd64-3.9\\pandas\\tests\\util\n",
      "  copying pandas\\tests\\util\\test_move.py -> build\\lib.win-amd64-3.9\\pandas\\tests\\util\n",
      "  copying pandas\\tests\\util\\test_safe_import.py -> build\\lib.win-amd64-3.9\\pandas\\tests\\util\n",
      "  copying pandas\\tests\\util\\test_util.py -> build\\lib.win-amd64-3.9\\pandas\\tests\\util\n",
      "  copying pandas\\tests\\util\\test_validate_args.py -> build\\lib.win-amd64-3.9\\pandas\\tests\\util\n",
      "  copying pandas\\tests\\util\\test_validate_args_and_kwargs.py -> build\\lib.win-amd64-3.9\\pandas\\tests\\util\n",
      "  copying pandas\\tests\\util\\test_validate_kwargs.py -> build\\lib.win-amd64-3.9\\pandas\\tests\\util\n",
      "  copying pandas\\tests\\util\\__init__.py -> build\\lib.win-amd64-3.9\\pandas\\tests\\util\n",
      "  creating build\\lib.win-amd64-3.9\\pandas\\tests\\arrays\\categorical\n",
      "  copying pandas\\tests\\arrays\\categorical\\common.py -> build\\lib.win-amd64-3.9\\pandas\\tests\\arrays\\categorical\n",
      "  copying pandas\\tests\\arrays\\categorical\\conftest.py -> build\\lib.win-amd64-3.9\\pandas\\tests\\arrays\\categorical\n",
      "  copying pandas\\tests\\arrays\\categorical\\test_algos.py -> build\\lib.win-amd64-3.9\\pandas\\tests\\arrays\\categorical\n",
      "  copying pandas\\tests\\arrays\\categorical\\test_analytics.py -> build\\lib.win-amd64-3.9\\pandas\\tests\\arrays\\categorical\n",
      "  copying pandas\\tests\\arrays\\categorical\\test_api.py -> build\\lib.win-amd64-3.9\\pandas\\tests\\arrays\\categorical\n",
      "  copying pandas\\tests\\arrays\\categorical\\test_constructors.py -> build\\lib.win-amd64-3.9\\pandas\\tests\\arrays\\categorical\n",
      "  copying pandas\\tests\\arrays\\categorical\\test_dtypes.py -> build\\lib.win-amd64-3.9\\pandas\\tests\\arrays\\categorical\n",
      "  copying pandas\\tests\\arrays\\categorical\\test_indexing.py -> build\\lib.win-amd64-3.9\\pandas\\tests\\arrays\\categorical\n",
      "  copying pandas\\tests\\arrays\\categorical\\test_missing.py -> build\\lib.win-amd64-3.9\\pandas\\tests\\arrays\\categorical\n",
      "  copying pandas\\tests\\arrays\\categorical\\test_operators.py -> build\\lib.win-amd64-3.9\\pandas\\tests\\arrays\\categorical\n",
      "  copying pandas\\tests\\arrays\\categorical\\test_repr.py -> build\\lib.win-amd64-3.9\\pandas\\tests\\arrays\\categorical\n",
      "  copying pandas\\tests\\arrays\\categorical\\test_sorting.py -> build\\lib.win-amd64-3.9\\pandas\\tests\\arrays\\categorical\n",
      "  copying pandas\\tests\\arrays\\categorical\\test_subclass.py -> build\\lib.win-amd64-3.9\\pandas\\tests\\arrays\\categorical\n",
      "  copying pandas\\tests\\arrays\\categorical\\test_warnings.py -> build\\lib.win-amd64-3.9\\pandas\\tests\\arrays\\categorical\n",
      "  copying pandas\\tests\\arrays\\categorical\\__init__.py -> build\\lib.win-amd64-3.9\\pandas\\tests\\arrays\\categorical\n",
      "  creating build\\lib.win-amd64-3.9\\pandas\\tests\\arrays\\interval\n",
      "  copying pandas\\tests\\arrays\\interval\\test_interval.py -> build\\lib.win-amd64-3.9\\pandas\\tests\\arrays\\interval\n",
      "  copying pandas\\tests\\arrays\\interval\\test_ops.py -> build\\lib.win-amd64-3.9\\pandas\\tests\\arrays\\interval\n",
      "  copying pandas\\tests\\arrays\\interval\\__init__.py -> build\\lib.win-amd64-3.9\\pandas\\tests\\arrays\\interval\n",
      "  creating build\\lib.win-amd64-3.9\\pandas\\tests\\arrays\\sparse\n",
      "  copying pandas\\tests\\arrays\\sparse\\test_arithmetics.py -> build\\lib.win-amd64-3.9\\pandas\\tests\\arrays\\sparse\n",
      "  copying pandas\\tests\\arrays\\sparse\\test_array.py -> build\\lib.win-amd64-3.9\\pandas\\tests\\arrays\\sparse\n",
      "  copying pandas\\tests\\arrays\\sparse\\test_dtype.py -> build\\lib.win-amd64-3.9\\pandas\\tests\\arrays\\sparse\n",
      "  copying pandas\\tests\\arrays\\sparse\\test_libsparse.py -> build\\lib.win-amd64-3.9\\pandas\\tests\\arrays\\sparse\n",
      "  copying pandas\\tests\\arrays\\sparse\\__init__.py -> build\\lib.win-amd64-3.9\\pandas\\tests\\arrays\\sparse\n",
      "  creating build\\lib.win-amd64-3.9\\pandas\\tests\\dtypes\\cast\n",
      "  copying pandas\\tests\\dtypes\\cast\\test_construct_from_scalar.py -> build\\lib.win-amd64-3.9\\pandas\\tests\\dtypes\\cast\n",
      "  copying pandas\\tests\\dtypes\\cast\\test_construct_ndarray.py -> build\\lib.win-amd64-3.9\\pandas\\tests\\dtypes\\cast\n",
      "  copying pandas\\tests\\dtypes\\cast\\test_construct_object_arr.py -> build\\lib.win-amd64-3.9\\pandas\\tests\\dtypes\\cast\n",
      "  copying pandas\\tests\\dtypes\\cast\\test_convert_objects.py -> build\\lib.win-amd64-3.9\\pandas\\tests\\dtypes\\cast\n",
      "  copying pandas\\tests\\dtypes\\cast\\test_downcast.py -> build\\lib.win-amd64-3.9\\pandas\\tests\\dtypes\\cast\n",
      "  copying pandas\\tests\\dtypes\\cast\\test_find_common_type.py -> build\\lib.win-amd64-3.9\\pandas\\tests\\dtypes\\cast\n",
      "  copying pandas\\tests\\dtypes\\cast\\test_infer_datetimelike.py -> build\\lib.win-amd64-3.9\\pandas\\tests\\dtypes\\cast\n",
      "  copying pandas\\tests\\dtypes\\cast\\test_infer_dtype.py -> build\\lib.win-amd64-3.9\\pandas\\tests\\dtypes\\cast\n",
      "  copying pandas\\tests\\dtypes\\cast\\__init__.py -> build\\lib.win-amd64-3.9\\pandas\\tests\\dtypes\\cast\n",
      "  creating build\\lib.win-amd64-3.9\\pandas\\tests\\extension\\arrow\n",
      "  copying pandas\\tests\\extension\\arrow\\bool.py -> build\\lib.win-amd64-3.9\\pandas\\tests\\extension\\arrow\n",
      "  copying pandas\\tests\\extension\\arrow\\test_bool.py -> build\\lib.win-amd64-3.9\\pandas\\tests\\extension\\arrow\n",
      "  copying pandas\\tests\\extension\\arrow\\__init__.py -> build\\lib.win-amd64-3.9\\pandas\\tests\\extension\\arrow\n",
      "  creating build\\lib.win-amd64-3.9\\pandas\\tests\\extension\\base\n",
      "  copying pandas\\tests\\extension\\base\\base.py -> build\\lib.win-amd64-3.9\\pandas\\tests\\extension\\base\n",
      "  copying pandas\\tests\\extension\\base\\casting.py -> build\\lib.win-amd64-3.9\\pandas\\tests\\extension\\base\n",
      "  copying pandas\\tests\\extension\\base\\constructors.py -> build\\lib.win-amd64-3.9\\pandas\\tests\\extension\\base\n",
      "  copying pandas\\tests\\extension\\base\\dtype.py -> build\\lib.win-amd64-3.9\\pandas\\tests\\extension\\base\n",
      "  copying pandas\\tests\\extension\\base\\getitem.py -> build\\lib.win-amd64-3.9\\pandas\\tests\\extension\\base\n",
      "  copying pandas\\tests\\extension\\base\\groupby.py -> build\\lib.win-amd64-3.9\\pandas\\tests\\extension\\base\n",
      "  copying pandas\\tests\\extension\\base\\interface.py -> build\\lib.win-amd64-3.9\\pandas\\tests\\extension\\base\n",
      "  copying pandas\\tests\\extension\\base\\io.py -> build\\lib.win-amd64-3.9\\pandas\\tests\\extension\\base\n",
      "  copying pandas\\tests\\extension\\base\\methods.py -> build\\lib.win-amd64-3.9\\pandas\\tests\\extension\\base\n",
      "  copying pandas\\tests\\extension\\base\\missing.py -> build\\lib.win-amd64-3.9\\pandas\\tests\\extension\\base\n",
      "  copying pandas\\tests\\extension\\base\\ops.py -> build\\lib.win-amd64-3.9\\pandas\\tests\\extension\\base\n",
      "  copying pandas\\tests\\extension\\base\\printing.py -> build\\lib.win-amd64-3.9\\pandas\\tests\\extension\\base\n",
      "  copying pandas\\tests\\extension\\base\\reduce.py -> build\\lib.win-amd64-3.9\\pandas\\tests\\extension\\base\n",
      "  copying pandas\\tests\\extension\\base\\reshaping.py -> build\\lib.win-amd64-3.9\\pandas\\tests\\extension\\base\n",
      "  copying pandas\\tests\\extension\\base\\setitem.py -> build\\lib.win-amd64-3.9\\pandas\\tests\\extension\\base\n",
      "  copying pandas\\tests\\extension\\base\\__init__.py -> build\\lib.win-amd64-3.9\\pandas\\tests\\extension\\base\n",
      "  creating build\\lib.win-amd64-3.9\\pandas\\tests\\extension\\decimal\n",
      "  copying pandas\\tests\\extension\\decimal\\array.py -> build\\lib.win-amd64-3.9\\pandas\\tests\\extension\\decimal\n",
      "  copying pandas\\tests\\extension\\decimal\\test_decimal.py -> build\\lib.win-amd64-3.9\\pandas\\tests\\extension\\decimal\n",
      "  copying pandas\\tests\\extension\\decimal\\__init__.py -> build\\lib.win-amd64-3.9\\pandas\\tests\\extension\\decimal\n",
      "  creating build\\lib.win-amd64-3.9\\pandas\\tests\\extension\\json\n",
      "  copying pandas\\tests\\extension\\json\\array.py -> build\\lib.win-amd64-3.9\\pandas\\tests\\extension\\json\n",
      "  copying pandas\\tests\\extension\\json\\test_json.py -> build\\lib.win-amd64-3.9\\pandas\\tests\\extension\\json\n",
      "  copying pandas\\tests\\extension\\json\\__init__.py -> build\\lib.win-amd64-3.9\\pandas\\tests\\extension\\json\n",
      "  creating build\\lib.win-amd64-3.9\\pandas\\tests\\extension\\numpy_\n",
      "  copying pandas\\tests\\extension\\numpy_\\conftest.py -> build\\lib.win-amd64-3.9\\pandas\\tests\\extension\\numpy_\n",
      "  copying pandas\\tests\\extension\\numpy_\\test_numpy.py -> build\\lib.win-amd64-3.9\\pandas\\tests\\extension\\numpy_\n",
      "  copying pandas\\tests\\extension\\numpy_\\test_numpy_nested.py -> build\\lib.win-amd64-3.9\\pandas\\tests\\extension\\numpy_\n",
      "  copying pandas\\tests\\extension\\numpy_\\__init__.py -> build\\lib.win-amd64-3.9\\pandas\\tests\\extension\\numpy_\n",
      "  creating build\\lib.win-amd64-3.9\\pandas\\tests\\groupby\\aggregate\n",
      "  copying pandas\\tests\\groupby\\aggregate\\test_aggregate.py -> build\\lib.win-amd64-3.9\\pandas\\tests\\groupby\\aggregate\n",
      "  copying pandas\\tests\\groupby\\aggregate\\test_cython.py -> build\\lib.win-amd64-3.9\\pandas\\tests\\groupby\\aggregate\n",
      "  copying pandas\\tests\\groupby\\aggregate\\test_other.py -> build\\lib.win-amd64-3.9\\pandas\\tests\\groupby\\aggregate\n",
      "  copying pandas\\tests\\groupby\\aggregate\\__init__.py -> build\\lib.win-amd64-3.9\\pandas\\tests\\groupby\\aggregate\n",
      "  creating build\\lib.win-amd64-3.9\\pandas\\tests\\indexes\\datetimes\n",
      "  copying pandas\\tests\\indexes\\datetimes\\test_arithmetic.py -> build\\lib.win-amd64-3.9\\pandas\\tests\\indexes\\datetimes\n",
      "  copying pandas\\tests\\indexes\\datetimes\\test_astype.py -> build\\lib.win-amd64-3.9\\pandas\\tests\\indexes\\datetimes\n",
      "  copying pandas\\tests\\indexes\\datetimes\\test_construction.py -> build\\lib.win-amd64-3.9\\pandas\\tests\\indexes\\datetimes\n",
      "  copying pandas\\tests\\indexes\\datetimes\\test_datetime.py -> build\\lib.win-amd64-3.9\\pandas\\tests\\indexes\\datetimes\n",
      "  copying pandas\\tests\\indexes\\datetimes\\test_datetimelike.py -> build\\lib.win-amd64-3.9\\pandas\\tests\\indexes\\datetimes\n",
      "  copying pandas\\tests\\indexes\\datetimes\\test_date_range.py -> build\\lib.win-amd64-3.9\\pandas\\tests\\indexes\\datetimes\n",
      "  copying pandas\\tests\\indexes\\datetimes\\test_formats.py -> build\\lib.win-amd64-3.9\\pandas\\tests\\indexes\\datetimes\n",
      "  copying pandas\\tests\\indexes\\datetimes\\test_indexing.py -> build\\lib.win-amd64-3.9\\pandas\\tests\\indexes\\datetimes\n",
      "  copying pandas\\tests\\indexes\\datetimes\\test_misc.py -> build\\lib.win-amd64-3.9\\pandas\\tests\\indexes\\datetimes\n",
      "  copying pandas\\tests\\indexes\\datetimes\\test_missing.py -> build\\lib.win-amd64-3.9\\pandas\\tests\\indexes\\datetimes\n",
      "  copying pandas\\tests\\indexes\\datetimes\\test_ops.py -> build\\lib.win-amd64-3.9\\pandas\\tests\\indexes\\datetimes\n",
      "  copying pandas\\tests\\indexes\\datetimes\\test_partial_slicing.py -> build\\lib.win-amd64-3.9\\pandas\\tests\\indexes\\datetimes\n",
      "  copying pandas\\tests\\indexes\\datetimes\\test_scalar_compat.py -> build\\lib.win-amd64-3.9\\pandas\\tests\\indexes\\datetimes\n",
      "  copying pandas\\tests\\indexes\\datetimes\\test_setops.py -> build\\lib.win-amd64-3.9\\pandas\\tests\\indexes\\datetimes\n",
      "  copying pandas\\tests\\indexes\\datetimes\\test_timezones.py -> build\\lib.win-amd64-3.9\\pandas\\tests\\indexes\\datetimes\n",
      "  copying pandas\\tests\\indexes\\datetimes\\test_tools.py -> build\\lib.win-amd64-3.9\\pandas\\tests\\indexes\\datetimes\n",
      "  copying pandas\\tests\\indexes\\datetimes\\__init__.py -> build\\lib.win-amd64-3.9\\pandas\\tests\\indexes\\datetimes\n",
      "  creating build\\lib.win-amd64-3.9\\pandas\\tests\\indexes\\interval\n",
      "  copying pandas\\tests\\indexes\\interval\\test_astype.py -> build\\lib.win-amd64-3.9\\pandas\\tests\\indexes\\interval\n",
      "  copying pandas\\tests\\indexes\\interval\\test_construction.py -> build\\lib.win-amd64-3.9\\pandas\\tests\\indexes\\interval\n",
      "  copying pandas\\tests\\indexes\\interval\\test_interval.py -> build\\lib.win-amd64-3.9\\pandas\\tests\\indexes\\interval\n",
      "  copying pandas\\tests\\indexes\\interval\\test_interval_new.py -> build\\lib.win-amd64-3.9\\pandas\\tests\\indexes\\interval\n",
      "  copying pandas\\tests\\indexes\\interval\\test_interval_range.py -> build\\lib.win-amd64-3.9\\pandas\\tests\\indexes\\interval\n",
      "  copying pandas\\tests\\indexes\\interval\\test_interval_tree.py -> build\\lib.win-amd64-3.9\\pandas\\tests\\indexes\\interval\n",
      "  copying pandas\\tests\\indexes\\interval\\__init__.py -> build\\lib.win-amd64-3.9\\pandas\\tests\\indexes\\interval\n",
      "  creating build\\lib.win-amd64-3.9\\pandas\\tests\\indexes\\multi\n",
      "  copying pandas\\tests\\indexes\\multi\\conftest.py -> build\\lib.win-amd64-3.9\\pandas\\tests\\indexes\\multi\n",
      "  copying pandas\\tests\\indexes\\multi\\test_analytics.py -> build\\lib.win-amd64-3.9\\pandas\\tests\\indexes\\multi\n",
      "  copying pandas\\tests\\indexes\\multi\\test_astype.py -> build\\lib.win-amd64-3.9\\pandas\\tests\\indexes\\multi\n",
      "  copying pandas\\tests\\indexes\\multi\\test_compat.py -> build\\lib.win-amd64-3.9\\pandas\\tests\\indexes\\multi\n",
      "  copying pandas\\tests\\indexes\\multi\\test_constructor.py -> build\\lib.win-amd64-3.9\\pandas\\tests\\indexes\\multi\n",
      "  copying pandas\\tests\\indexes\\multi\\test_contains.py -> build\\lib.win-amd64-3.9\\pandas\\tests\\indexes\\multi\n",
      "  copying pandas\\tests\\indexes\\multi\\test_conversion.py -> build\\lib.win-amd64-3.9\\pandas\\tests\\indexes\\multi\n",
      "  copying pandas\\tests\\indexes\\multi\\test_copy.py -> build\\lib.win-amd64-3.9\\pandas\\tests\\indexes\\multi\n",
      "  copying pandas\\tests\\indexes\\multi\\test_drop.py -> build\\lib.win-amd64-3.9\\pandas\\tests\\indexes\\multi\n",
      "  copying pandas\\tests\\indexes\\multi\\test_duplicates.py -> build\\lib.win-amd64-3.9\\pandas\\tests\\indexes\\multi\n",
      "  copying pandas\\tests\\indexes\\multi\\test_equivalence.py -> build\\lib.win-amd64-3.9\\pandas\\tests\\indexes\\multi\n",
      "  copying pandas\\tests\\indexes\\multi\\test_format.py -> build\\lib.win-amd64-3.9\\pandas\\tests\\indexes\\multi\n",
      "  copying pandas\\tests\\indexes\\multi\\test_get_set.py -> build\\lib.win-amd64-3.9\\pandas\\tests\\indexes\\multi\n",
      "  copying pandas\\tests\\indexes\\multi\\test_indexing.py -> build\\lib.win-amd64-3.9\\pandas\\tests\\indexes\\multi\n",
      "  copying pandas\\tests\\indexes\\multi\\test_integrity.py -> build\\lib.win-amd64-3.9\\pandas\\tests\\indexes\\multi\n",
      "  copying pandas\\tests\\indexes\\multi\\test_join.py -> build\\lib.win-amd64-3.9\\pandas\\tests\\indexes\\multi\n",
      "  copying pandas\\tests\\indexes\\multi\\test_missing.py -> build\\lib.win-amd64-3.9\\pandas\\tests\\indexes\\multi\n",
      "  copying pandas\\tests\\indexes\\multi\\test_monotonic.py -> build\\lib.win-amd64-3.9\\pandas\\tests\\indexes\\multi\n",
      "  copying pandas\\tests\\indexes\\multi\\test_names.py -> build\\lib.win-amd64-3.9\\pandas\\tests\\indexes\\multi\n",
      "  copying pandas\\tests\\indexes\\multi\\test_partial_indexing.py -> build\\lib.win-amd64-3.9\\pandas\\tests\\indexes\\multi\n",
      "  copying pandas\\tests\\indexes\\multi\\test_reindex.py -> build\\lib.win-amd64-3.9\\pandas\\tests\\indexes\\multi\n",
      "  copying pandas\\tests\\indexes\\multi\\test_reshape.py -> build\\lib.win-amd64-3.9\\pandas\\tests\\indexes\\multi\n",
      "  copying pandas\\tests\\indexes\\multi\\test_set_ops.py -> build\\lib.win-amd64-3.9\\pandas\\tests\\indexes\\multi\n",
      "  copying pandas\\tests\\indexes\\multi\\test_sorting.py -> build\\lib.win-amd64-3.9\\pandas\\tests\\indexes\\multi\n",
      "  copying pandas\\tests\\indexes\\multi\\__init__.py -> build\\lib.win-amd64-3.9\\pandas\\tests\\indexes\\multi\n",
      "  creating build\\lib.win-amd64-3.9\\pandas\\tests\\indexes\\period\n",
      "  copying pandas\\tests\\indexes\\period\\test_arithmetic.py -> build\\lib.win-amd64-3.9\\pandas\\tests\\indexes\\period\n",
      "  copying pandas\\tests\\indexes\\period\\test_asfreq.py -> build\\lib.win-amd64-3.9\\pandas\\tests\\indexes\\period\n",
      "  copying pandas\\tests\\indexes\\period\\test_astype.py -> build\\lib.win-amd64-3.9\\pandas\\tests\\indexes\\period\n",
      "  copying pandas\\tests\\indexes\\period\\test_construction.py -> build\\lib.win-amd64-3.9\\pandas\\tests\\indexes\\period\n",
      "  copying pandas\\tests\\indexes\\period\\test_formats.py -> build\\lib.win-amd64-3.9\\pandas\\tests\\indexes\\period\n",
      "  copying pandas\\tests\\indexes\\period\\test_indexing.py -> build\\lib.win-amd64-3.9\\pandas\\tests\\indexes\\period\n",
      "  copying pandas\\tests\\indexes\\period\\test_ops.py -> build\\lib.win-amd64-3.9\\pandas\\tests\\indexes\\period\n",
      "  copying pandas\\tests\\indexes\\period\\test_partial_slicing.py -> build\\lib.win-amd64-3.9\\pandas\\tests\\indexes\\period\n",
      "  copying pandas\\tests\\indexes\\period\\test_period.py -> build\\lib.win-amd64-3.9\\pandas\\tests\\indexes\\period\n",
      "  copying pandas\\tests\\indexes\\period\\test_period_range.py -> build\\lib.win-amd64-3.9\\pandas\\tests\\indexes\\period\n",
      "  copying pandas\\tests\\indexes\\period\\test_scalar_compat.py -> build\\lib.win-amd64-3.9\\pandas\\tests\\indexes\\period\n",
      "  copying pandas\\tests\\indexes\\period\\test_setops.py -> build\\lib.win-amd64-3.9\\pandas\\tests\\indexes\\period\n",
      "  copying pandas\\tests\\indexes\\period\\test_tools.py -> build\\lib.win-amd64-3.9\\pandas\\tests\\indexes\\period\n",
      "  copying pandas\\tests\\indexes\\period\\__init__.py -> build\\lib.win-amd64-3.9\\pandas\\tests\\indexes\\period\n",
      "  creating build\\lib.win-amd64-3.9\\pandas\\tests\\indexes\\timedeltas\n",
      "  copying pandas\\tests\\indexes\\timedeltas\\test_arithmetic.py -> build\\lib.win-amd64-3.9\\pandas\\tests\\indexes\\timedeltas\n",
      "  copying pandas\\tests\\indexes\\timedeltas\\test_astype.py -> build\\lib.win-amd64-3.9\\pandas\\tests\\indexes\\timedeltas\n",
      "  copying pandas\\tests\\indexes\\timedeltas\\test_construction.py -> build\\lib.win-amd64-3.9\\pandas\\tests\\indexes\\timedeltas\n",
      "  copying pandas\\tests\\indexes\\timedeltas\\test_formats.py -> build\\lib.win-amd64-3.9\\pandas\\tests\\indexes\\timedeltas\n",
      "  copying pandas\\tests\\indexes\\timedeltas\\test_indexing.py -> build\\lib.win-amd64-3.9\\pandas\\tests\\indexes\\timedeltas\n",
      "  copying pandas\\tests\\indexes\\timedeltas\\test_ops.py -> build\\lib.win-amd64-3.9\\pandas\\tests\\indexes\\timedeltas\n",
      "  copying pandas\\tests\\indexes\\timedeltas\\test_partial_slicing.py -> build\\lib.win-amd64-3.9\\pandas\\tests\\indexes\\timedeltas\n",
      "  copying pandas\\tests\\indexes\\timedeltas\\test_scalar_compat.py -> build\\lib.win-amd64-3.9\\pandas\\tests\\indexes\\timedeltas\n",
      "  copying pandas\\tests\\indexes\\timedeltas\\test_setops.py -> build\\lib.win-amd64-3.9\\pandas\\tests\\indexes\\timedeltas\n",
      "  copying pandas\\tests\\indexes\\timedeltas\\test_timedelta.py -> build\\lib.win-amd64-3.9\\pandas\\tests\\indexes\\timedeltas\n",
      "  copying pandas\\tests\\indexes\\timedeltas\\test_timedelta_range.py -> build\\lib.win-amd64-3.9\\pandas\\tests\\indexes\\timedeltas\n",
      "  copying pandas\\tests\\indexes\\timedeltas\\test_tools.py -> build\\lib.win-amd64-3.9\\pandas\\tests\\indexes\\timedeltas\n",
      "  copying pandas\\tests\\indexes\\timedeltas\\__init__.py -> build\\lib.win-amd64-3.9\\pandas\\tests\\indexes\\timedeltas\n",
      "  creating build\\lib.win-amd64-3.9\\pandas\\tests\\indexing\\interval\n",
      "  copying pandas\\tests\\indexing\\interval\\test_interval.py -> build\\lib.win-amd64-3.9\\pandas\\tests\\indexing\\interval\n",
      "  copying pandas\\tests\\indexing\\interval\\test_interval_new.py -> build\\lib.win-amd64-3.9\\pandas\\tests\\indexing\\interval\n",
      "  copying pandas\\tests\\indexing\\interval\\__init__.py -> build\\lib.win-amd64-3.9\\pandas\\tests\\indexing\\interval\n",
      "  creating build\\lib.win-amd64-3.9\\pandas\\tests\\indexing\\multiindex\n",
      "  copying pandas\\tests\\indexing\\multiindex\\conftest.py -> build\\lib.win-amd64-3.9\\pandas\\tests\\indexing\\multiindex\n",
      "  copying pandas\\tests\\indexing\\multiindex\\test_chaining_and_caching.py -> build\\lib.win-amd64-3.9\\pandas\\tests\\indexing\\multiindex\n",
      "  copying pandas\\tests\\indexing\\multiindex\\test_datetime.py -> build\\lib.win-amd64-3.9\\pandas\\tests\\indexing\\multiindex\n",
      "  copying pandas\\tests\\indexing\\multiindex\\test_getitem.py -> build\\lib.win-amd64-3.9\\pandas\\tests\\indexing\\multiindex\n",
      "  copying pandas\\tests\\indexing\\multiindex\\test_iloc.py -> build\\lib.win-amd64-3.9\\pandas\\tests\\indexing\\multiindex\n",
      "  copying pandas\\tests\\indexing\\multiindex\\test_indexing_slow.py -> build\\lib.win-amd64-3.9\\pandas\\tests\\indexing\\multiindex\n",
      "  copying pandas\\tests\\indexing\\multiindex\\test_ix.py -> build\\lib.win-amd64-3.9\\pandas\\tests\\indexing\\multiindex\n",
      "  copying pandas\\tests\\indexing\\multiindex\\test_loc.py -> build\\lib.win-amd64-3.9\\pandas\\tests\\indexing\\multiindex\n",
      "  copying pandas\\tests\\indexing\\multiindex\\test_multiindex.py -> build\\lib.win-amd64-3.9\\pandas\\tests\\indexing\\multiindex\n",
      "  copying pandas\\tests\\indexing\\multiindex\\test_panel.py -> build\\lib.win-amd64-3.9\\pandas\\tests\\indexing\\multiindex\n",
      "  copying pandas\\tests\\indexing\\multiindex\\test_partial.py -> build\\lib.win-amd64-3.9\\pandas\\tests\\indexing\\multiindex\n",
      "  copying pandas\\tests\\indexing\\multiindex\\test_setitem.py -> build\\lib.win-amd64-3.9\\pandas\\tests\\indexing\\multiindex\n",
      "  copying pandas\\tests\\indexing\\multiindex\\test_set_ops.py -> build\\lib.win-amd64-3.9\\pandas\\tests\\indexing\\multiindex\n",
      "  copying pandas\\tests\\indexing\\multiindex\\test_slice.py -> build\\lib.win-amd64-3.9\\pandas\\tests\\indexing\\multiindex\n",
      "  copying pandas\\tests\\indexing\\multiindex\\test_sorted.py -> build\\lib.win-amd64-3.9\\pandas\\tests\\indexing\\multiindex\n",
      "  copying pandas\\tests\\indexing\\multiindex\\test_xs.py -> build\\lib.win-amd64-3.9\\pandas\\tests\\indexing\\multiindex\n",
      "  copying pandas\\tests\\indexing\\multiindex\\__init__.py -> build\\lib.win-amd64-3.9\\pandas\\tests\\indexing\\multiindex\n",
      "  creating build\\lib.win-amd64-3.9\\pandas\\tests\\io\\formats\n",
      "  copying pandas\\tests\\io\\formats\\test_console.py -> build\\lib.win-amd64-3.9\\pandas\\tests\\io\\formats\n",
      "  copying pandas\\tests\\io\\formats\\test_css.py -> build\\lib.win-amd64-3.9\\pandas\\tests\\io\\formats\n",
      "  copying pandas\\tests\\io\\formats\\test_eng_formatting.py -> build\\lib.win-amd64-3.9\\pandas\\tests\\io\\formats\n",
      "  copying pandas\\tests\\io\\formats\\test_format.py -> build\\lib.win-amd64-3.9\\pandas\\tests\\io\\formats\n",
      "  copying pandas\\tests\\io\\formats\\test_printing.py -> build\\lib.win-amd64-3.9\\pandas\\tests\\io\\formats\n",
      "  copying pandas\\tests\\io\\formats\\test_style.py -> build\\lib.win-amd64-3.9\\pandas\\tests\\io\\formats\n",
      "  copying pandas\\tests\\io\\formats\\test_to_csv.py -> build\\lib.win-amd64-3.9\\pandas\\tests\\io\\formats\n",
      "  copying pandas\\tests\\io\\formats\\test_to_excel.py -> build\\lib.win-amd64-3.9\\pandas\\tests\\io\\formats\n",
      "  copying pandas\\tests\\io\\formats\\test_to_html.py -> build\\lib.win-amd64-3.9\\pandas\\tests\\io\\formats\n",
      "  copying pandas\\tests\\io\\formats\\test_to_latex.py -> build\\lib.win-amd64-3.9\\pandas\\tests\\io\\formats\n",
      "  copying pandas\\tests\\io\\formats\\__init__.py -> build\\lib.win-amd64-3.9\\pandas\\tests\\io\\formats\n",
      "  creating build\\lib.win-amd64-3.9\\pandas\\tests\\io\\json\n",
      "  copying pandas\\tests\\io\\json\\test_compression.py -> build\\lib.win-amd64-3.9\\pandas\\tests\\io\\json\n",
      "  copying pandas\\tests\\io\\json\\test_json_table_schema.py -> build\\lib.win-amd64-3.9\\pandas\\tests\\io\\json\n",
      "  copying pandas\\tests\\io\\json\\test_normalize.py -> build\\lib.win-amd64-3.9\\pandas\\tests\\io\\json\n",
      "  copying pandas\\tests\\io\\json\\test_pandas.py -> build\\lib.win-amd64-3.9\\pandas\\tests\\io\\json\n",
      "  copying pandas\\tests\\io\\json\\test_readlines.py -> build\\lib.win-amd64-3.9\\pandas\\tests\\io\\json\n",
      "  copying pandas\\tests\\io\\json\\test_ujson.py -> build\\lib.win-amd64-3.9\\pandas\\tests\\io\\json\n",
      "  copying pandas\\tests\\io\\json\\__init__.py -> build\\lib.win-amd64-3.9\\pandas\\tests\\io\\json\n",
      "  creating build\\lib.win-amd64-3.9\\pandas\\tests\\io\\msgpack\n",
      "  copying pandas\\tests\\io\\msgpack\\common.py -> build\\lib.win-amd64-3.9\\pandas\\tests\\io\\msgpack\n",
      "  copying pandas\\tests\\io\\msgpack\\test_buffer.py -> build\\lib.win-amd64-3.9\\pandas\\tests\\io\\msgpack\n",
      "  copying pandas\\tests\\io\\msgpack\\test_case.py -> build\\lib.win-amd64-3.9\\pandas\\tests\\io\\msgpack\n",
      "  copying pandas\\tests\\io\\msgpack\\test_except.py -> build\\lib.win-amd64-3.9\\pandas\\tests\\io\\msgpack\n",
      "  copying pandas\\tests\\io\\msgpack\\test_extension.py -> build\\lib.win-amd64-3.9\\pandas\\tests\\io\\msgpack\n",
      "  copying pandas\\tests\\io\\msgpack\\test_format.py -> build\\lib.win-amd64-3.9\\pandas\\tests\\io\\msgpack\n",
      "  copying pandas\\tests\\io\\msgpack\\test_limits.py -> build\\lib.win-amd64-3.9\\pandas\\tests\\io\\msgpack\n",
      "  copying pandas\\tests\\io\\msgpack\\test_newspec.py -> build\\lib.win-amd64-3.9\\pandas\\tests\\io\\msgpack\n",
      "  copying pandas\\tests\\io\\msgpack\\test_obj.py -> build\\lib.win-amd64-3.9\\pandas\\tests\\io\\msgpack\n",
      "  copying pandas\\tests\\io\\msgpack\\test_pack.py -> build\\lib.win-amd64-3.9\\pandas\\tests\\io\\msgpack\n",
      "  copying pandas\\tests\\io\\msgpack\\test_read_size.py -> build\\lib.win-amd64-3.9\\pandas\\tests\\io\\msgpack\n",
      "  copying pandas\\tests\\io\\msgpack\\test_seq.py -> build\\lib.win-amd64-3.9\\pandas\\tests\\io\\msgpack\n",
      "  copying pandas\\tests\\io\\msgpack\\test_sequnpack.py -> build\\lib.win-amd64-3.9\\pandas\\tests\\io\\msgpack\n",
      "  copying pandas\\tests\\io\\msgpack\\test_subtype.py -> build\\lib.win-amd64-3.9\\pandas\\tests\\io\\msgpack\n",
      "  copying pandas\\tests\\io\\msgpack\\test_unpack.py -> build\\lib.win-amd64-3.9\\pandas\\tests\\io\\msgpack\n",
      "  copying pandas\\tests\\io\\msgpack\\test_unpack_raw.py -> build\\lib.win-amd64-3.9\\pandas\\tests\\io\\msgpack\n",
      "  copying pandas\\tests\\io\\msgpack\\__init__.py -> build\\lib.win-amd64-3.9\\pandas\\tests\\io\\msgpack\n",
      "  creating build\\lib.win-amd64-3.9\\pandas\\tests\\io\\parser\n",
      "  copying pandas\\tests\\io\\parser\\conftest.py -> build\\lib.win-amd64-3.9\\pandas\\tests\\io\\parser\n",
      "  copying pandas\\tests\\io\\parser\\test_comment.py -> build\\lib.win-amd64-3.9\\pandas\\tests\\io\\parser\n",
      "  copying pandas\\tests\\io\\parser\\test_common.py -> build\\lib.win-amd64-3.9\\pandas\\tests\\io\\parser\n",
      "  copying pandas\\tests\\io\\parser\\test_compression.py -> build\\lib.win-amd64-3.9\\pandas\\tests\\io\\parser\n",
      "  copying pandas\\tests\\io\\parser\\test_converters.py -> build\\lib.win-amd64-3.9\\pandas\\tests\\io\\parser\n",
      "  copying pandas\\tests\\io\\parser\\test_c_parser_only.py -> build\\lib.win-amd64-3.9\\pandas\\tests\\io\\parser\n",
      "  copying pandas\\tests\\io\\parser\\test_dialect.py -> build\\lib.win-amd64-3.9\\pandas\\tests\\io\\parser\n",
      "  copying pandas\\tests\\io\\parser\\test_dtypes.py -> build\\lib.win-amd64-3.9\\pandas\\tests\\io\\parser\n",
      "  copying pandas\\tests\\io\\parser\\test_header.py -> build\\lib.win-amd64-3.9\\pandas\\tests\\io\\parser\n",
      "  copying pandas\\tests\\io\\parser\\test_index_col.py -> build\\lib.win-amd64-3.9\\pandas\\tests\\io\\parser\n",
      "  copying pandas\\tests\\io\\parser\\test_mangle_dupes.py -> build\\lib.win-amd64-3.9\\pandas\\tests\\io\\parser\n",
      "  copying pandas\\tests\\io\\parser\\test_multi_thread.py -> build\\lib.win-amd64-3.9\\pandas\\tests\\io\\parser\n",
      "  copying pandas\\tests\\io\\parser\\test_na_values.py -> build\\lib.win-amd64-3.9\\pandas\\tests\\io\\parser\n",
      "  copying pandas\\tests\\io\\parser\\test_network.py -> build\\lib.win-amd64-3.9\\pandas\\tests\\io\\parser\n",
      "  copying pandas\\tests\\io\\parser\\test_parse_dates.py -> build\\lib.win-amd64-3.9\\pandas\\tests\\io\\parser\n",
      "  copying pandas\\tests\\io\\parser\\test_python_parser_only.py -> build\\lib.win-amd64-3.9\\pandas\\tests\\io\\parser\n",
      "  copying pandas\\tests\\io\\parser\\test_quoting.py -> build\\lib.win-amd64-3.9\\pandas\\tests\\io\\parser\n",
      "  copying pandas\\tests\\io\\parser\\test_read_fwf.py -> build\\lib.win-amd64-3.9\\pandas\\tests\\io\\parser\n",
      "  copying pandas\\tests\\io\\parser\\test_skiprows.py -> build\\lib.win-amd64-3.9\\pandas\\tests\\io\\parser\n",
      "  copying pandas\\tests\\io\\parser\\test_textreader.py -> build\\lib.win-amd64-3.9\\pandas\\tests\\io\\parser\n",
      "  copying pandas\\tests\\io\\parser\\test_unsupported.py -> build\\lib.win-amd64-3.9\\pandas\\tests\\io\\parser\n",
      "  copying pandas\\tests\\io\\parser\\test_usecols.py -> build\\lib.win-amd64-3.9\\pandas\\tests\\io\\parser\n",
      "  copying pandas\\tests\\io\\parser\\__init__.py -> build\\lib.win-amd64-3.9\\pandas\\tests\\io\\parser\n",
      "  creating build\\lib.win-amd64-3.9\\pandas\\tests\\io\\sas\n",
      "  copying pandas\\tests\\io\\sas\\test_sas.py -> build\\lib.win-amd64-3.9\\pandas\\tests\\io\\sas\n",
      "  copying pandas\\tests\\io\\sas\\test_sas7bdat.py -> build\\lib.win-amd64-3.9\\pandas\\tests\\io\\sas\n",
      "  copying pandas\\tests\\io\\sas\\test_xport.py -> build\\lib.win-amd64-3.9\\pandas\\tests\\io\\sas\n",
      "  copying pandas\\tests\\io\\sas\\__init__.py -> build\\lib.win-amd64-3.9\\pandas\\tests\\io\\sas\n",
      "  creating build\\lib.win-amd64-3.9\\pandas\\tests\\reshape\\merge\n",
      "  copying pandas\\tests\\reshape\\merge\\test_join.py -> build\\lib.win-amd64-3.9\\pandas\\tests\\reshape\\merge\n",
      "  copying pandas\\tests\\reshape\\merge\\test_merge.py -> build\\lib.win-amd64-3.9\\pandas\\tests\\reshape\\merge\n",
      "  copying pandas\\tests\\reshape\\merge\\test_merge_asof.py -> build\\lib.win-amd64-3.9\\pandas\\tests\\reshape\\merge\n",
      "  copying pandas\\tests\\reshape\\merge\\test_merge_index_as_string.py -> build\\lib.win-amd64-3.9\\pandas\\tests\\reshape\\merge\n",
      "  copying pandas\\tests\\reshape\\merge\\test_merge_ordered.py -> build\\lib.win-amd64-3.9\\pandas\\tests\\reshape\\merge\n",
      "  copying pandas\\tests\\reshape\\merge\\test_multi.py -> build\\lib.win-amd64-3.9\\pandas\\tests\\reshape\\merge\n",
      "  copying pandas\\tests\\reshape\\merge\\__init__.py -> build\\lib.win-amd64-3.9\\pandas\\tests\\reshape\\merge\n",
      "  creating build\\lib.win-amd64-3.9\\pandas\\tests\\scalar\\interval\n",
      "  copying pandas\\tests\\scalar\\interval\\test_interval.py -> build\\lib.win-amd64-3.9\\pandas\\tests\\scalar\\interval\n",
      "  copying pandas\\tests\\scalar\\interval\\test_ops.py -> build\\lib.win-amd64-3.9\\pandas\\tests\\scalar\\interval\n",
      "  copying pandas\\tests\\scalar\\interval\\__init__.py -> build\\lib.win-amd64-3.9\\pandas\\tests\\scalar\\interval\n",
      "  creating build\\lib.win-amd64-3.9\\pandas\\tests\\scalar\\period\n",
      "  copying pandas\\tests\\scalar\\period\\test_asfreq.py -> build\\lib.win-amd64-3.9\\pandas\\tests\\scalar\\period\n",
      "  copying pandas\\tests\\scalar\\period\\test_period.py -> build\\lib.win-amd64-3.9\\pandas\\tests\\scalar\\period\n",
      "  copying pandas\\tests\\scalar\\period\\__init__.py -> build\\lib.win-amd64-3.9\\pandas\\tests\\scalar\\period\n",
      "  creating build\\lib.win-amd64-3.9\\pandas\\tests\\scalar\\timedelta\n",
      "  copying pandas\\tests\\scalar\\timedelta\\test_arithmetic.py -> build\\lib.win-amd64-3.9\\pandas\\tests\\scalar\\timedelta\n",
      "  copying pandas\\tests\\scalar\\timedelta\\test_construction.py -> build\\lib.win-amd64-3.9\\pandas\\tests\\scalar\\timedelta\n",
      "  copying pandas\\tests\\scalar\\timedelta\\test_formats.py -> build\\lib.win-amd64-3.9\\pandas\\tests\\scalar\\timedelta\n",
      "  copying pandas\\tests\\scalar\\timedelta\\test_timedelta.py -> build\\lib.win-amd64-3.9\\pandas\\tests\\scalar\\timedelta\n",
      "  copying pandas\\tests\\scalar\\timedelta\\__init__.py -> build\\lib.win-amd64-3.9\\pandas\\tests\\scalar\\timedelta\n",
      "  creating build\\lib.win-amd64-3.9\\pandas\\tests\\scalar\\timestamp\n",
      "  copying pandas\\tests\\scalar\\timestamp\\test_arithmetic.py -> build\\lib.win-amd64-3.9\\pandas\\tests\\scalar\\timestamp\n",
      "  copying pandas\\tests\\scalar\\timestamp\\test_comparisons.py -> build\\lib.win-amd64-3.9\\pandas\\tests\\scalar\\timestamp\n",
      "  copying pandas\\tests\\scalar\\timestamp\\test_rendering.py -> build\\lib.win-amd64-3.9\\pandas\\tests\\scalar\\timestamp\n",
      "  copying pandas\\tests\\scalar\\timestamp\\test_timestamp.py -> build\\lib.win-amd64-3.9\\pandas\\tests\\scalar\\timestamp\n",
      "  copying pandas\\tests\\scalar\\timestamp\\test_timezones.py -> build\\lib.win-amd64-3.9\\pandas\\tests\\scalar\\timestamp\n",
      "  copying pandas\\tests\\scalar\\timestamp\\test_unary_ops.py -> build\\lib.win-amd64-3.9\\pandas\\tests\\scalar\\timestamp\n",
      "  copying pandas\\tests\\scalar\\timestamp\\__init__.py -> build\\lib.win-amd64-3.9\\pandas\\tests\\scalar\\timestamp\n",
      "  creating build\\lib.win-amd64-3.9\\pandas\\tests\\series\\indexing\n",
      "  copying pandas\\tests\\series\\indexing\\conftest.py -> build\\lib.win-amd64-3.9\\pandas\\tests\\series\\indexing\n",
      "  copying pandas\\tests\\series\\indexing\\test_alter_index.py -> build\\lib.win-amd64-3.9\\pandas\\tests\\series\\indexing\n",
      "  copying pandas\\tests\\series\\indexing\\test_boolean.py -> build\\lib.win-amd64-3.9\\pandas\\tests\\series\\indexing\n",
      "  copying pandas\\tests\\series\\indexing\\test_callable.py -> build\\lib.win-amd64-3.9\\pandas\\tests\\series\\indexing\n",
      "  copying pandas\\tests\\series\\indexing\\test_datetime.py -> build\\lib.win-amd64-3.9\\pandas\\tests\\series\\indexing\n",
      "  copying pandas\\tests\\series\\indexing\\test_iloc.py -> build\\lib.win-amd64-3.9\\pandas\\tests\\series\\indexing\n",
      "  copying pandas\\tests\\series\\indexing\\test_indexing.py -> build\\lib.win-amd64-3.9\\pandas\\tests\\series\\indexing\n",
      "  copying pandas\\tests\\series\\indexing\\test_loc.py -> build\\lib.win-amd64-3.9\\pandas\\tests\\series\\indexing\n",
      "  copying pandas\\tests\\series\\indexing\\test_numeric.py -> build\\lib.win-amd64-3.9\\pandas\\tests\\series\\indexing\n",
      "  copying pandas\\tests\\series\\indexing\\__init__.py -> build\\lib.win-amd64-3.9\\pandas\\tests\\series\\indexing\n",
      "  creating build\\lib.win-amd64-3.9\\pandas\\tests\\sparse\\frame\n",
      "  copying pandas\\tests\\sparse\\frame\\conftest.py -> build\\lib.win-amd64-3.9\\pandas\\tests\\sparse\\frame\n",
      "  copying pandas\\tests\\sparse\\frame\\test_analytics.py -> build\\lib.win-amd64-3.9\\pandas\\tests\\sparse\\frame\n",
      "  copying pandas\\tests\\sparse\\frame\\test_apply.py -> build\\lib.win-amd64-3.9\\pandas\\tests\\sparse\\frame\n",
      "  copying pandas\\tests\\sparse\\frame\\test_frame.py -> build\\lib.win-amd64-3.9\\pandas\\tests\\sparse\\frame\n",
      "  copying pandas\\tests\\sparse\\frame\\test_indexing.py -> build\\lib.win-amd64-3.9\\pandas\\tests\\sparse\\frame\n",
      "  copying pandas\\tests\\sparse\\frame\\test_to_csv.py -> build\\lib.win-amd64-3.9\\pandas\\tests\\sparse\\frame\n",
      "  copying pandas\\tests\\sparse\\frame\\test_to_from_scipy.py -> build\\lib.win-amd64-3.9\\pandas\\tests\\sparse\\frame\n",
      "  copying pandas\\tests\\sparse\\frame\\__init__.py -> build\\lib.win-amd64-3.9\\pandas\\tests\\sparse\\frame\n",
      "  creating build\\lib.win-amd64-3.9\\pandas\\tests\\sparse\\series\n",
      "  copying pandas\\tests\\sparse\\series\\test_indexing.py -> build\\lib.win-amd64-3.9\\pandas\\tests\\sparse\\series\n",
      "  copying pandas\\tests\\sparse\\series\\test_series.py -> build\\lib.win-amd64-3.9\\pandas\\tests\\sparse\\series\n",
      "  copying pandas\\tests\\sparse\\series\\__init__.py -> build\\lib.win-amd64-3.9\\pandas\\tests\\sparse\\series\n",
      "  creating build\\lib.win-amd64-3.9\\pandas\\tests\\tseries\\offsets\n",
      "  copying pandas\\tests\\tseries\\offsets\\common.py -> build\\lib.win-amd64-3.9\\pandas\\tests\\tseries\\offsets\n",
      "  copying pandas\\tests\\tseries\\offsets\\conftest.py -> build\\lib.win-amd64-3.9\\pandas\\tests\\tseries\\offsets\n",
      "  copying pandas\\tests\\tseries\\offsets\\test_fiscal.py -> build\\lib.win-amd64-3.9\\pandas\\tests\\tseries\\offsets\n",
      "  copying pandas\\tests\\tseries\\offsets\\test_offsets.py -> build\\lib.win-amd64-3.9\\pandas\\tests\\tseries\\offsets\n",
      "  copying pandas\\tests\\tseries\\offsets\\test_offsets_properties.py -> build\\lib.win-amd64-3.9\\pandas\\tests\\tseries\\offsets\n",
      "  copying pandas\\tests\\tseries\\offsets\\test_ticks.py -> build\\lib.win-amd64-3.9\\pandas\\tests\\tseries\\offsets\n",
      "  copying pandas\\tests\\tseries\\offsets\\test_yqm_offsets.py -> build\\lib.win-amd64-3.9\\pandas\\tests\\tseries\\offsets\n",
      "  copying pandas\\tests\\tseries\\offsets\\__init__.py -> build\\lib.win-amd64-3.9\\pandas\\tests\\tseries\\offsets\n",
      "  creating build\\lib.win-amd64-3.9\\pandas\\_libs\\tslibs\n",
      "  copying pandas\\_libs\\tslibs\\__init__.py -> build\\lib.win-amd64-3.9\\pandas\\_libs\\tslibs\n",
      "  creating build\\lib.win-amd64-3.9\\pandas\\io\\formats\\templates\n",
      "  copying pandas\\io\\formats\\templates\\html.tpl -> build\\lib.win-amd64-3.9\\pandas\\io\\formats\\templates\n",
      "  UPDATING build\\lib.win-amd64-3.9\\pandas/_version.py\n",
      "  set build\\lib.win-amd64-3.9\\pandas/_version.py to '0.24.2'\n",
      "  running build_ext\n",
      "  building 'pandas._libs.algos' extension\n",
      "  error: Microsoft Visual C++ 14.0 or greater is required. Get it with \"Microsoft C++ Build Tools\": https://visualstudio.microsoft.com/visual-cpp-build-tools/\n",
      "  ----------------------------------------\n",
      "  ERROR: Failed building wheel for pandas\n",
      "    ERROR: Command errored out with exit status 1:\n",
      "     command: 'C:\\Users\\Suma Marri\\anaconda3\\python.exe' -u -c 'import io, os, sys, setuptools, tokenize; sys.argv[0] = '\"'\"'C:\\\\Users\\\\Suma Marri\\\\AppData\\\\Local\\\\Temp\\\\pip-install-n65yhm8s\\\\pandas_7886b122b2b1407ea6708a88927d53b6\\\\setup.py'\"'\"'; __file__='\"'\"'C:\\\\Users\\\\Suma Marri\\\\AppData\\\\Local\\\\Temp\\\\pip-install-n65yhm8s\\\\pandas_7886b122b2b1407ea6708a88927d53b6\\\\setup.py'\"'\"';f = getattr(tokenize, '\"'\"'open'\"'\"', open)(__file__) if os.path.exists(__file__) else io.StringIO('\"'\"'from setuptools import setup; setup()'\"'\"');code = f.read().replace('\"'\"'\\r\\n'\"'\"', '\"'\"'\\n'\"'\"');f.close();exec(compile(code, __file__, '\"'\"'exec'\"'\"'))' install --record 'C:\\Users\\Suma Marri\\AppData\\Local\\Temp\\pip-record-qkkur7fq\\install-record.txt' --single-version-externally-managed --compile --install-headers 'C:\\Users\\Suma Marri\\anaconda3\\Include\\pandas'\n",
      "         cwd: C:\\Users\\Suma Marri\\AppData\\Local\\Temp\\pip-install-n65yhm8s\\pandas_7886b122b2b1407ea6708a88927d53b6\\\n",
      "    Complete output (999 lines):\n",
      "    Compiling pandas\\_libs/algos.pyx because it changed.\n",
      "    Compiling pandas\\_libs/groupby.pyx because it changed.\n",
      "    Compiling pandas\\_libs/hashing.pyx because it changed.\n",
      "    Compiling pandas\\_libs/hashtable.pyx because it changed.\n",
      "    Compiling pandas\\_libs/index.pyx because it changed.\n",
      "    Compiling pandas\\_libs/indexing.pyx because it changed.\n",
      "    Compiling pandas\\_libs/internals.pyx because it changed.\n",
      "    Compiling pandas\\_libs/interval.pyx because it changed.\n",
      "    Compiling pandas\\_libs/join.pyx because it changed.\n",
      "    Compiling pandas\\_libs/lib.pyx because it changed.\n",
      "    Compiling pandas\\_libs/missing.pyx because it changed.\n",
      "    Compiling pandas\\_libs/parsers.pyx because it changed.\n",
      "    Compiling pandas\\_libs/reduction.pyx because it changed.\n",
      "    Compiling pandas\\_libs/ops.pyx because it changed.\n",
      "    Compiling pandas\\_libs/properties.pyx because it changed.\n",
      "    Compiling pandas\\_libs/reshape.pyx because it changed.\n",
      "    Compiling pandas\\_libs/skiplist.pyx because it changed.\n",
      "    Compiling pandas\\_libs/sparse.pyx because it changed.\n",
      "    Compiling pandas\\_libs/tslib.pyx because it changed.\n",
      "    Compiling pandas\\_libs/tslibs/ccalendar.pyx because it changed.\n",
      "    Compiling pandas\\_libs/tslibs/conversion.pyx because it changed.\n",
      "    Compiling pandas\\_libs/tslibs/fields.pyx because it changed.\n",
      "    Compiling pandas\\_libs/tslibs/frequencies.pyx because it changed.\n",
      "    Compiling pandas\\_libs/tslibs/nattype.pyx because it changed.\n",
      "    Compiling pandas\\_libs/tslibs/np_datetime.pyx because it changed.\n",
      "    Compiling pandas\\_libs/tslibs/offsets.pyx because it changed.\n",
      "    Compiling pandas\\_libs/tslibs/parsing.pyx because it changed.\n",
      "    Compiling pandas\\_libs/tslibs/period.pyx because it changed.\n",
      "    Compiling pandas\\_libs/tslibs/resolution.pyx because it changed.\n",
      "    Compiling pandas\\_libs/tslibs/strptime.pyx because it changed.\n",
      "    Compiling pandas\\_libs/tslibs/timedeltas.pyx because it changed.\n",
      "    Compiling pandas\\_libs/tslibs/timestamps.pyx because it changed.\n",
      "    Compiling pandas\\_libs/tslibs/timezones.pyx because it changed.\n",
      "    Compiling pandas\\_libs/testing.pyx because it changed.\n",
      "    Compiling pandas\\_libs/writers.pyx because it changed.\n",
      "    Compiling pandas\\io/sas/sas.pyx because it changed.\n",
      "    [ 1/36] Cythonizing pandas\\_libs/algos.pyx\n",
      "    [ 2/36] Cythonizing pandas\\_libs/groupby.pyx\n",
      "    [ 3/36] Cythonizing pandas\\_libs/hashing.pyx\n",
      "    [ 4/36] Cythonizing pandas\\_libs/hashtable.pyx\n",
      "    [ 5/36] Cythonizing pandas\\_libs/index.pyx\n",
      "    [ 6/36] Cythonizing pandas\\_libs/indexing.pyx\n",
      "    [ 7/36] Cythonizing pandas\\_libs/internals.pyx\n",
      "    [ 8/36] Cythonizing pandas\\_libs/interval.pyx\n",
      "    [ 9/36] Cythonizing pandas\\_libs/join.pyx\n",
      "    [10/36] Cythonizing pandas\\_libs/lib.pyx\n",
      "    [11/36] Cythonizing pandas\\_libs/missing.pyx\n",
      "    [12/36] Cythonizing pandas\\_libs/ops.pyx\n",
      "    [13/36] Cythonizing pandas\\_libs/parsers.pyx\n",
      "    warning: pandas\\_libs\\parsers.pyx:1764:34: Casting a GIL-requiring function into a nogil function circumvents GIL validation\n",
      "    [14/36] Cythonizing pandas\\_libs/properties.pyx\n",
      "    [15/36] Cythonizing pandas\\_libs/reduction.pyx\n",
      "    [16/36] Cythonizing pandas\\_libs/reshape.pyx\n",
      "    [17/36] Cythonizing pandas\\_libs/skiplist.pyx\n",
      "    [18/36] Cythonizing pandas\\_libs/sparse.pyx\n",
      "    [19/36] Cythonizing pandas\\_libs/testing.pyx\n",
      "    [20/36] Cythonizing pandas\\_libs/tslib.pyx\n",
      "    warning: pandas\\_libs\\tslib.pyx:720:49: Buffer unpacking not optimized away.\n",
      "    warning: pandas\\_libs\\tslib.pyx:720:49: Buffer unpacking not optimized away.\n",
      "    [21/36] Cythonizing pandas\\_libs/tslibs/ccalendar.pyx\n",
      "    [22/36] Cythonizing pandas\\_libs/tslibs/conversion.pyx\n",
      "    [23/36] Cythonizing pandas\\_libs/tslibs/fields.pyx\n",
      "    [24/36] Cythonizing pandas\\_libs/tslibs/frequencies.pyx\n",
      "    [25/36] Cythonizing pandas\\_libs/tslibs/nattype.pyx"
     ]
    }
   ],
   "source": [
    "!pip install google.colab"
   ]
  },
  {
   "cell_type": "code",
   "execution_count": 29,
   "metadata": {
    "colab": {
     "base_uri": "https://localhost:8080/"
    },
    "id": "z9UCAjnz-zqq",
    "outputId": "730c6e23-962e-43de-b3c2-223328a60a90"
   },
   "outputs": [
    {
     "name": "stderr",
     "output_type": "stream",
     "text": [
      "\n",
      "    [26/36] Cythonizing pandas\\_libs/tslibs/np_datetime.pyx\n",
      "    [27/36] Cythonizing pandas\\_libs/tslibs/offsets.pyx\n",
      "    [28/36] Cythonizing pandas\\_libs/tslibs/parsing.pyx\n",
      "    [29/36] Cythonizing pandas\\_libs/tslibs/period.pyx\n",
      "    warning: pandas\\_libs\\tslibs\\period.pyx:158:19: Casting a GIL-requiring function into a nogil function circumvents GIL validation\n",
      "    warning: pandas\\_libs\\tslibs\\period.pyx:160:19: Casting a GIL-requiring function into a nogil function circumvents GIL validation\n",
      "    warning: pandas\\_libs\\tslibs\\period.pyx:162:19: Casting a GIL-requiring function into a nogil function circumvents GIL validation\n",
      "    warning: pandas\\_libs\\tslibs\\period.pyx:164:19: Casting a GIL-requiring function into a nogil function circumvents GIL validation\n",
      "    warning: pandas\\_libs\\tslibs\\period.pyx:166:19: Casting a GIL-requiring function into a nogil function circumvents GIL validation\n",
      "    warning: pandas\\_libs\\tslibs\\period.pyx:168:19: Casting a GIL-requiring function into a nogil function circumvents GIL validation\n",
      "    warning: pandas\\_libs\\tslibs\\period.pyx:170:19: Casting a GIL-requiring function into a nogil function circumvents GIL validation\n",
      "    warning: pandas\\_libs\\tslibs\\period.pyx:174:19: Casting a GIL-requiring function into a nogil function circumvents GIL validation\n",
      "    warning: pandas\\_libs\\tslibs\\period.pyx:176:19: Casting a GIL-requiring function into a nogil function circumvents GIL validation\n",
      "    warning: pandas\\_libs\\tslibs\\period.pyx:178:19: Casting a GIL-requiring function into a nogil function circumvents GIL validation\n",
      "    warning: pandas\\_libs\\tslibs\\period.pyx:180:19: Casting a GIL-requiring function into a nogil function circumvents GIL validation\n",
      "    warning: pandas\\_libs\\tslibs\\period.pyx:183:19: Casting a GIL-requiring function into a nogil function circumvents GIL validation\n",
      "    warning: pandas\\_libs\\tslibs\\period.pyx:185:19: Casting a GIL-requiring function into a nogil function circumvents GIL validation\n",
      "    warning: pandas\\_libs\\tslibs\\period.pyx:189:19: Casting a GIL-requiring function into a nogil function circumvents GIL validation\n",
      "    warning: pandas\\_libs\\tslibs\\period.pyx:191:19: Casting a GIL-requiring function into a nogil function circumvents GIL validation\n",
      "    warning: pandas\\_libs\\tslibs\\period.pyx:193:19: Casting a GIL-requiring function into a nogil function circumvents GIL validation\n",
      "    warning: pandas\\_libs\\tslibs\\period.pyx:195:19: Casting a GIL-requiring function into a nogil function circumvents GIL validation\n",
      "    warning: pandas\\_libs\\tslibs\\period.pyx:197:19: Casting a GIL-requiring function into a nogil function circumvents GIL validation\n",
      "    warning: pandas\\_libs\\tslibs\\period.pyx:199:19: Casting a GIL-requiring function into a nogil function circumvents GIL validation\n",
      "    warning: pandas\\_libs\\tslibs\\period.pyx:203:19: Casting a GIL-requiring function into a nogil function circumvents GIL validation\n",
      "    warning: pandas\\_libs\\tslibs\\period.pyx:205:19: Casting a GIL-requiring function into a nogil function circumvents GIL validation\n",
      "    warning: pandas\\_libs\\tslibs\\period.pyx:207:19: Casting a GIL-requiring function into a nogil function circumvents GIL validation\n",
      "    warning: pandas\\_libs\\tslibs\\period.pyx:209:19: Casting a GIL-requiring function into a nogil function circumvents GIL validation\n",
      "    warning: pandas\\_libs\\tslibs\\period.pyx:211:19: Casting a GIL-requiring function into a nogil function circumvents GIL validation\n",
      "    warning: pandas\\_libs\\tslibs\\period.pyx:213:19: Casting a GIL-requiring function into a nogil function circumvents GIL validation\n",
      "    warning: pandas\\_libs\\tslibs\\period.pyx:217:19: Casting a GIL-requiring function into a nogil function circumvents GIL validation\n",
      "    warning: pandas\\_libs\\tslibs\\period.pyx:219:19: Casting a GIL-requiring function into a nogil function circumvents GIL validation\n",
      "    warning: pandas\\_libs\\tslibs\\period.pyx:221:19: Casting a GIL-requiring function into a nogil function circumvents GIL validation\n",
      "    warning: pandas\\_libs\\tslibs\\period.pyx:223:19: Casting a GIL-requiring function into a nogil function circumvents GIL validation\n",
      "    warning: pandas\\_libs\\tslibs\\period.pyx:225:19: Casting a GIL-requiring function into a nogil function circumvents GIL validation\n",
      "    warning: pandas\\_libs\\tslibs\\period.pyx:227:19: Casting a GIL-requiring function into a nogil function circumvents GIL validation\n",
      "    warning: pandas\\_libs\\tslibs\\period.pyx:231:19: Casting a GIL-requiring function into a nogil function circumvents GIL validation\n",
      "    warning: pandas\\_libs\\tslibs\\period.pyx:233:19: Casting a GIL-requiring function into a nogil function circumvents GIL validation\n",
      "    warning: pandas\\_libs\\tslibs\\period.pyx:235:19: Casting a GIL-requiring function into a nogil function circumvents GIL validation\n",
      "    warning: pandas\\_libs\\tslibs\\period.pyx:237:19: Casting a GIL-requiring function into a nogil function circumvents GIL validation\n",
      "    warning: pandas\\_libs\\tslibs\\period.pyx:239:19: Casting a GIL-requiring function into a nogil function circumvents GIL validation\n",
      "    warning: pandas\\_libs\\tslibs\\period.pyx:241:19: Casting a GIL-requiring function into a nogil function circumvents GIL validation\n",
      "    warning: pandas\\_libs\\tslibs\\period.pyx:245:19: Casting a GIL-requiring function into a nogil function circumvents GIL validation\n",
      "    warning: pandas\\_libs\\tslibs\\period.pyx:247:19: Casting a GIL-requiring function into a nogil function circumvents GIL validation\n",
      "    warning: pandas\\_libs\\tslibs\\period.pyx:249:19: Casting a GIL-requiring function into a nogil function circumvents GIL validation\n",
      "    warning: pandas\\_libs\\tslibs\\period.pyx:251:19: Casting a GIL-requiring function into a nogil function circumvents GIL validation\n",
      "    warning: pandas\\_libs\\tslibs\\period.pyx:254:23: Casting a GIL-requiring function into a nogil function circumvents GIL validation\n",
      "    warning: pandas\\_libs\\tslibs\\period.pyx:256:23: Casting a GIL-requiring function into a nogil function circumvents GIL validation\n",
      "    warning: pandas\\_libs\\tslibs\\period.pyx:259:19: Casting a GIL-requiring function into a nogil function circumvents GIL validation\n",
      "    warning: pandas\\_libs\\tslibs\\period.pyx:262:15: Casting a GIL-requiring function into a nogil function circumvents GIL validation\n",
      "    warning: pandas\\_libs\\tslibs\\period.pyx:521:29: Casting a GIL-requiring function into a nogil function circumvents GIL validation\n",
      "    warning: pandas\\_libs\\tslibs\\period.pyx:522:29: Casting a GIL-requiring function into a nogil function circumvents GIL validation\n",
      "    warning: pandas\\_libs\\tslibs\\period.pyx:527:29: Casting a GIL-requiring function into a nogil function circumvents GIL validation\n",
      "    warning: pandas\\_libs\\tslibs\\period.pyx:528:29: Casting a GIL-requiring function into a nogil function circumvents GIL validation\n",
      "    warning: pandas\\_libs\\tslibs\\period.pyx:533:29: Casting a GIL-requiring function into a nogil function circumvents GIL validation\n",
      "    warning: pandas\\_libs\\tslibs\\period.pyx:534:29: Casting a GIL-requiring function into a nogil function circumvents GIL validation\n",
      "    warning: pandas\\_libs\\tslibs\\period.pyx:539:29: Casting a GIL-requiring function into a nogil function circumvents GIL validation\n",
      "    warning: pandas\\_libs\\tslibs\\period.pyx:540:29: Casting a GIL-requiring function into a nogil function circumvents GIL validation\n",
      "    warning: pandas\\_libs\\tslibs\\period.pyx:548:29: Casting a GIL-requiring function into a nogil function circumvents GIL validation\n",
      "    warning: pandas\\_libs\\tslibs\\period.pyx:549:29: Casting a GIL-requiring function into a nogil function circumvents GIL validation\n",
      "    warning: pandas\\_libs\\tslibs\\period.pyx:554:29: Casting a GIL-requiring function into a nogil function circumvents GIL validation\n",
      "    warning: pandas\\_libs\\tslibs\\period.pyx:555:29: Casting a GIL-requiring function into a nogil function circumvents GIL validation\n",
      "    warning: pandas\\_libs\\tslibs\\period.pyx:560:29: Casting a GIL-requiring function into a nogil function circumvents GIL validation\n",
      "    warning: pandas\\_libs\\tslibs\\period.pyx:561:29: Casting a GIL-requiring function into a nogil function circumvents GIL validation\n",
      "    warning: pandas\\_libs\\tslibs\\period.pyx:566:29: Casting a GIL-requiring function into a nogil function circumvents GIL validation\n",
      "    warning: pandas\\_libs\\tslibs\\period.pyx:567:29: Casting a GIL-requiring function into a nogil function circumvents GIL validation\n",
      "    warning: pandas\\_libs\\tslibs\\period.pyx:575:29: Casting a GIL-requiring function into a nogil function circumvents GIL validation\n",
      "    warning: pandas\\_libs\\tslibs\\period.pyx:576:29: Casting a GIL-requiring function into a nogil function circumvents GIL validation\n",
      "    warning: pandas\\_libs\\tslibs\\period.pyx:581:29: Casting a GIL-requiring function into a nogil function circumvents GIL validation\n",
      "    warning: pandas\\_libs\\tslibs\\period.pyx:582:29: Casting a GIL-requiring function into a nogil function circumvents GIL validation\n",
      "    warning: pandas\\_libs\\tslibs\\period.pyx:587:29: Casting a GIL-requiring function into a nogil function circumvents GIL validation\n",
      "    warning: pandas\\_libs\\tslibs\\period.pyx:588:29: Casting a GIL-requiring function into a nogil function circumvents GIL validation\n",
      "    warning: pandas\\_libs\\tslibs\\period.pyx:593:29: Casting a GIL-requiring function into a nogil function circumvents GIL validation\n",
      "    warning: pandas\\_libs\\tslibs\\period.pyx:594:29: Casting a GIL-requiring function into a nogil function circumvents GIL validation\n",
      "    warning: pandas\\_libs\\tslibs\\period.pyx:602:29: Casting a GIL-requiring function into a nogil function circumvents GIL validation\n",
      "    warning: pandas\\_libs\\tslibs\\period.pyx:603:29: Casting a GIL-requiring function into a nogil function circumvents GIL validation\n",
      "    warning: pandas\\_libs\\tslibs\\period.pyx:608:29: Casting a GIL-requiring function into a nogil function circumvents GIL validation\n",
      "    warning: pandas\\_libs\\tslibs\\period.pyx:609:29: Casting a GIL-requiring function into a nogil function circumvents GIL validation\n",
      "    warning: pandas\\_libs\\tslibs\\period.pyx:614:29: Casting a GIL-requiring function into a nogil function circumvents GIL validation\n",
      "    warning: pandas\\_libs\\tslibs\\period.pyx:615:29: Casting a GIL-requiring function into a nogil function circumvents GIL validation\n",
      "    warning: pandas\\_libs\\tslibs\\period.pyx:623:29: Casting a GIL-requiring function into a nogil function circumvents GIL validation\n",
      "    warning: pandas\\_libs\\tslibs\\period.pyx:624:29: Casting a GIL-requiring function into a nogil function circumvents GIL validation\n",
      "    warning: pandas\\_libs\\tslibs\\period.pyx:629:29: Casting a GIL-requiring function into a nogil function circumvents GIL validation\n",
      "    warning: pandas\\_libs\\tslibs\\period.pyx:630:29: Casting a GIL-requiring function into a nogil function circumvents GIL validation\n",
      "    warning: pandas\\_libs\\tslibs\\period.pyx:635:29: Casting a GIL-requiring function into a nogil function circumvents GIL validation\n"
     ]
    },
    {
     "ename": "ModuleNotFoundError",
     "evalue": "No module named 'google.colab'",
     "output_type": "error",
     "traceback": [
      "\u001b[1;31m---------------------------------------------------------------------------\u001b[0m",
      "\u001b[1;31mModuleNotFoundError\u001b[0m                       Traceback (most recent call last)",
      "\u001b[1;32mC:\\Users\\SUMAMA~1\\AppData\\Local\\Temp/ipykernel_20732/1408506528.py\u001b[0m in \u001b[0;36m<module>\u001b[1;34m\u001b[0m\n\u001b[1;32m----> 1\u001b[1;33m \u001b[1;32mfrom\u001b[0m \u001b[0mgoogle\u001b[0m\u001b[1;33m.\u001b[0m\u001b[0mcolab\u001b[0m \u001b[1;32mimport\u001b[0m \u001b[0mdrive\u001b[0m\u001b[1;33m\u001b[0m\u001b[1;33m\u001b[0m\u001b[0m\n\u001b[0m\u001b[0;32m      2\u001b[0m \u001b[0mdrive\u001b[0m\u001b[1;33m.\u001b[0m\u001b[0mmount\u001b[0m\u001b[1;33m(\u001b[0m\u001b[1;34m'/content/drive'\u001b[0m\u001b[1;33m)\u001b[0m\u001b[1;33m\u001b[0m\u001b[1;33m\u001b[0m\u001b[0m\n",
      "\u001b[1;31mModuleNotFoundError\u001b[0m: No module named 'google.colab'"
     ]
    }
   ],
   "source": [
    "from google.colab import drive\n",
    "drive.mount('/content/drive')"
   ]
  },
  {
   "cell_type": "code",
   "execution_count": null,
   "metadata": {
    "id": "rOm7AHFjB-m-"
   },
   "outputs": [
    {
     "name": "stderr",
     "output_type": "stream",
     "text": [
      "    warning: pandas\\_libs\\tslibs\\period.pyx:636:29: Casting a GIL-requiring function into a nogil function circumvents GIL validation\n",
      "    warning: pandas\\_libs\\tslibs\\period.pyx:641:29: Casting a GIL-requiring function into a nogil function circumvents GIL validation\n",
      "    warning: pandas\\_libs\\tslibs\\period.pyx:642:29: Casting a GIL-requiring function into a nogil function circumvents GIL validation\n",
      "    [30/36] Cythonizing pandas\\_libs/tslibs/resolution.pyx\n",
      "    [31/36] Cythonizing pandas\\_libs/tslibs/strptime.pyx\n",
      "    [32/36] Cythonizing pandas\\_libs/tslibs/timedeltas.pyx\n",
      "    [33/36] Cythonizing pandas\\_libs/tslibs/timestamps.pyx\n",
      "    [34/36] Cythonizing pandas\\_libs/tslibs/timezones.pyx\n",
      "    [35/36] Cythonizing pandas\\_libs/writers.pyx\n",
      "    [36/36] Cythonizing pandas\\io/sas/sas.pyx\n",
      "    running install\n",
      "    running build\n",
      "    running build_py\n",
      "    creating build\n",
      "    creating build\\lib.win-amd64-3.9\n",
      "    creating build\\lib.win-amd64-3.9\\pandas\n",
      "    copying pandas\\conftest.py -> build\\lib.win-amd64-3.9\\pandas\n",
      "    copying pandas\\testing.py -> build\\lib.win-amd64-3.9\\pandas\n",
      "    copying pandas\\_version.py -> build\\lib.win-amd64-3.9\\pandas\n",
      "    copying pandas\\__init__.py -> build\\lib.win-amd64-3.9\\pandas\n",
      "    creating build\\lib.win-amd64-3.9\\pandas\\api\n",
      "    copying pandas\\api\\__init__.py -> build\\lib.win-amd64-3.9\\pandas\\api\n",
      "    creating build\\lib.win-amd64-3.9\\pandas\\arrays\n",
      "    copying pandas\\arrays\\__init__.py -> build\\lib.win-amd64-3.9\\pandas\\arrays\n",
      "    creating build\\lib.win-amd64-3.9\\pandas\\compat\n",
      "    copying pandas\\compat\\chainmap.py -> build\\lib.win-amd64-3.9\\pandas\\compat\n",
      "    copying pandas\\compat\\chainmap_impl.py -> build\\lib.win-amd64-3.9\\pandas\\compat\n",
      "    copying pandas\\compat\\pickle_compat.py -> build\\lib.win-amd64-3.9\\pandas\\compat\n",
      "    copying pandas\\compat\\__init__.py -> build\\lib.win-amd64-3.9\\pandas\\compat\n",
      "    creating build\\lib.win-amd64-3.9\\pandas\\core\n",
      "    copying pandas\\core\\accessor.py -> build\\lib.win-amd64-3.9\\pandas\\core\n",
      "    copying pandas\\core\\algorithms.py -> build\\lib.win-amd64-3.9\\pandas\\core\n",
      "    copying pandas\\core\\api.py -> build\\lib.win-amd64-3.9\\pandas\\core\n",
      "    copying pandas\\core\\apply.py -> build\\lib.win-amd64-3.9\\pandas\\core\n",
      "    copying pandas\\core\\base.py -> build\\lib.win-amd64-3.9\\pandas\\core\n",
      "    copying pandas\\core\\categorical.py -> build\\lib.win-amd64-3.9\\pandas\\core\n",
      "    copying pandas\\core\\common.py -> build\\lib.win-amd64-3.9\\pandas\\core\n",
      "    copying pandas\\core\\config.py -> build\\lib.win-amd64-3.9\\pandas\\core\n",
      "    copying pandas\\core\\config_init.py -> build\\lib.win-amd64-3.9\\pandas\\core\n",
      "    copying pandas\\core\\frame.py -> build\\lib.win-amd64-3.9\\pandas\\core\n",
      "    copying pandas\\core\\generic.py -> build\\lib.win-amd64-3.9\\pandas\\core\n",
      "    copying pandas\\core\\index.py -> build\\lib.win-amd64-3.9\\pandas\\core\n",
      "    copying pandas\\core\\indexing.py -> build\\lib.win-amd64-3.9\\pandas\\core\n",
      "    copying pandas\\core\\missing.py -> build\\lib.win-amd64-3.9\\pandas\\core\n",
      "    copying pandas\\core\\nanops.py -> build\\lib.win-amd64-3.9\\pandas\\core\n",
      "    copying pandas\\core\\ops.py -> build\\lib.win-amd64-3.9\\pandas\\core\n",
      "    copying pandas\\core\\panel.py -> build\\lib.win-amd64-3.9\\pandas\\core\n",
      "    copying pandas\\core\\resample.py -> build\\lib.win-amd64-3.9\\pandas\\core\n",
      "    copying pandas\\core\\series.py -> build\\lib.win-amd64-3.9\\pandas\\core\n",
      "    copying pandas\\core\\sorting.py -> build\\lib.win-amd64-3.9\\pandas\\core\n",
      "    copying pandas\\core\\strings.py -> build\\lib.win-amd64-3.9\\pandas\\core\n",
      "    copying pandas\\core\\window.py -> build\\lib.win-amd64-3.9\\pandas\\core\n",
      "    copying pandas\\core\\__init__.py -> build\\lib.win-amd64-3.9\\pandas\\core\n",
      "    creating build\\lib.win-amd64-3.9\\pandas\\errors\n",
      "    copying pandas\\errors\\__init__.py -> build\\lib.win-amd64-3.9\\pandas\\errors\n",
      "    creating build\\lib.win-amd64-3.9\\pandas\\io\n",
      "    copying pandas\\io\\api.py -> build\\lib.win-amd64-3.9\\pandas\\io\n",
      "    copying pandas\\io\\clipboards.py -> build\\lib.win-amd64-3.9\\pandas\\io\n",
      "    copying pandas\\io\\common.py -> build\\lib.win-amd64-3.9\\pandas\\io\n",
      "    copying pandas\\io\\date_converters.py -> build\\lib.win-amd64-3.9\\pandas\\io\n",
      "    copying pandas\\io\\excel.py -> build\\lib.win-amd64-3.9\\pandas\\io\n",
      "    copying pandas\\io\\feather_format.py -> build\\lib.win-amd64-3.9\\pandas\\io\n",
      "    copying pandas\\io\\gbq.py -> build\\lib.win-amd64-3.9\\pandas\\io\n",
      "    copying pandas\\io\\gcs.py -> build\\lib.win-amd64-3.9\\pandas\\io\n",
      "    copying pandas\\io\\html.py -> build\\lib.win-amd64-3.9\\pandas\\io\n",
      "    copying pandas\\io\\packers.py -> build\\lib.win-amd64-3.9\\pandas\\io\n",
      "    copying pandas\\io\\parquet.py -> build\\lib.win-amd64-3.9\\pandas\\io\n",
      "    copying pandas\\io\\parsers.py -> build\\lib.win-amd64-3.9\\pandas\\io\n",
      "    copying pandas\\io\\pickle.py -> build\\lib.win-amd64-3.9\\pandas\\io\n",
      "    copying pandas\\io\\pytables.py -> build\\lib.win-amd64-3.9\\pandas\\io\n",
      "    copying pandas\\io\\s3.py -> build\\lib.win-amd64-3.9\\pandas\\io\n",
      "    copying pandas\\io\\sql.py -> build\\lib.win-amd64-3.9\\pandas\\io\n",
      "    copying pandas\\io\\stata.py -> build\\lib.win-amd64-3.9\\pandas\\io\n",
      "    copying pandas\\io\\__init__.py -> build\\lib.win-amd64-3.9\\pandas\\io\n",
      "    creating build\\lib.win-amd64-3.9\\pandas\\plotting\n",
      "    copying pandas\\plotting\\_compat.py -> build\\lib.win-amd64-3.9\\pandas\\plotting\n",
      "    copying pandas\\plotting\\_converter.py -> build\\lib.win-amd64-3.9\\pandas\\plotting\n",
      "    copying pandas\\plotting\\_core.py -> build\\lib.win-amd64-3.9\\pandas\\plotting\n",
      "    copying pandas\\plotting\\_misc.py -> build\\lib.win-amd64-3.9\\pandas\\plotting\n",
      "    copying pandas\\plotting\\_style.py -> build\\lib.win-amd64-3.9\\pandas\\plotting\n",
      "    copying pandas\\plotting\\_timeseries.py -> build\\lib.win-amd64-3.9\\pandas\\plotting\n",
      "    copying pandas\\plotting\\_tools.py -> build\\lib.win-amd64-3.9\\pandas\\plotting\n",
      "    copying pandas\\plotting\\__init__.py -> build\\lib.win-amd64-3.9\\pandas\\plotting\n",
      "    creating build\\lib.win-amd64-3.9\\pandas\\tests\n",
      "    copying pandas\\tests\\test_algos.py -> build\\lib.win-amd64-3.9\\pandas\\tests\n",
      "    copying pandas\\tests\\test_base.py -> build\\lib.win-amd64-3.9\\pandas\\tests\n",
      "    copying pandas\\tests\\test_common.py -> build\\lib.win-amd64-3.9\\pandas\\tests\n",
      "    copying pandas\\tests\\test_compat.py -> build\\lib.win-amd64-3.9\\pandas\\tests\n",
      "    copying pandas\\tests\\test_config.py -> build\\lib.win-amd64-3.9\\pandas\\tests\n",
      "    copying pandas\\tests\\test_downstream.py -> build\\lib.win-amd64-3.9\\pandas\\tests\n",
      "    copying pandas\\tests\\test_errors.py -> build\\lib.win-amd64-3.9\\pandas\\tests\n",
      "    copying pandas\\tests\\test_expressions.py -> build\\lib.win-amd64-3.9\\pandas\\tests\n",
      "    copying pandas\\tests\\test_join.py -> build\\lib.win-amd64-3.9\\pandas\\tests\n",
      "    copying pandas\\tests\\test_lib.py -> build\\lib.win-amd64-3.9\\pandas\\tests\n",
      "    copying pandas\\tests\\test_multilevel.py -> build\\lib.win-amd64-3.9\\pandas\\tests\n",
      "    copying pandas\\tests\\test_nanops.py -> build\\lib.win-amd64-3.9\\pandas\\tests\n",
      "    copying pandas\\tests\\test_panel.py -> build\\lib.win-amd64-3.9\\pandas\\tests\n",
      "    copying pandas\\tests\\test_register_accessor.py -> build\\lib.win-amd64-3.9\\pandas\\tests\n",
      "    copying pandas\\tests\\test_sorting.py -> build\\lib.win-amd64-3.9\\pandas\\tests\n",
      "    copying pandas\\tests\\test_strings.py -> build\\lib.win-amd64-3.9\\pandas\\tests\n",
      "    copying pandas\\tests\\test_take.py -> build\\lib.win-amd64-3.9\\pandas\\tests\n",
      "    copying pandas\\tests\\test_window.py -> build\\lib.win-amd64-3.9\\pandas\\tests\n",
      "    copying pandas\\tests\\__init__.py -> build\\lib.win-amd64-3.9\\pandas\\tests\n",
      "    creating build\\lib.win-amd64-3.9\\pandas\\tseries\n",
      "    copying pandas\\tseries\\api.py -> build\\lib.win-amd64-3.9\\pandas\\tseries\n",
      "    copying pandas\\tseries\\converter.py -> build\\lib.win-amd64-3.9\\pandas\\tseries\n",
      "    copying pandas\\tseries\\frequencies.py -> build\\lib.win-amd64-3.9\\pandas\\tseries\n",
      "    copying pandas\\tseries\\holiday.py -> build\\lib.win-amd64-3.9\\pandas\\tseries\n",
      "    copying pandas\\tseries\\offsets.py -> build\\lib.win-amd64-3.9\\pandas\\tseries\n",
      "    copying pandas\\tseries\\plotting.py -> build\\lib.win-amd64-3.9\\pandas\\tseries\n",
      "    copying pandas\\tseries\\__init__.py -> build\\lib.win-amd64-3.9\\pandas\\tseries\n",
      "    creating build\\lib.win-amd64-3.9\\pandas\\util\n",
      "    copying pandas\\util\\testing.py -> build\\lib.win-amd64-3.9\\pandas\\util\n",
      "    copying pandas\\util\\_decorators.py -> build\\lib.win-amd64-3.9\\pandas\\util\n",
      "    copying pandas\\util\\_depr_module.py -> build\\lib.win-amd64-3.9\\pandas\\util\n",
      "    copying pandas\\util\\_doctools.py -> build\\lib.win-amd64-3.9\\pandas\\util\n",
      "    copying pandas\\util\\_exceptions.py -> build\\lib.win-amd64-3.9\\pandas\\util\n",
      "    copying pandas\\util\\_print_versions.py -> build\\lib.win-amd64-3.9\\pandas\\util\n",
      "    copying pandas\\util\\_tester.py -> build\\lib.win-amd64-3.9\\pandas\\util\n",
      "    copying pandas\\util\\_test_decorators.py -> build\\lib.win-amd64-3.9\\pandas\\util\n",
      "    copying pandas\\util\\_validators.py -> build\\lib.win-amd64-3.9\\pandas\\util\n",
      "    copying pandas\\util\\__init__.py -> build\\lib.win-amd64-3.9\\pandas\\util\n",
      "    creating build\\lib.win-amd64-3.9\\pandas\\_libs\n",
      "    copying pandas\\_libs\\__init__.py -> build\\lib.win-amd64-3.9\\pandas\\_libs\n",
      "    creating build\\lib.win-amd64-3.9\\pandas\\api\\extensions\n",
      "    copying pandas\\api\\extensions\\__init__.py -> build\\lib.win-amd64-3.9\\pandas\\api\\extensions\n",
      "    creating build\\lib.win-amd64-3.9\\pandas\\api\\types\n",
      "    copying pandas\\api\\types\\__init__.py -> build\\lib.win-amd64-3.9\\pandas\\api\\types\n",
      "    creating build\\lib.win-amd64-3.9\\pandas\\compat\\numpy\n",
      "    copying pandas\\compat\\numpy\\function.py -> build\\lib.win-amd64-3.9\\pandas\\compat\\numpy\n",
      "    copying pandas\\compat\\numpy\\__init__.py -> build\\lib.win-amd64-3.9\\pandas\\compat\\numpy\n",
      "    creating build\\lib.win-amd64-3.9\\pandas\\core\\arrays\n",
      "    copying pandas\\core\\arrays\\array_.py -> build\\lib.win-amd64-3.9\\pandas\\core\\arrays\n",
      "    copying pandas\\core\\arrays\\base.py -> build\\lib.win-amd64-3.9\\pandas\\core\\arrays\n",
      "    copying pandas\\core\\arrays\\categorical.py -> build\\lib.win-amd64-3.9\\pandas\\core\\arrays\n",
      "    copying pandas\\core\\arrays\\datetimelike.py -> build\\lib.win-amd64-3.9\\pandas\\core\\arrays\n",
      "    copying pandas\\core\\arrays\\datetimes.py -> build\\lib.win-amd64-3.9\\pandas\\core\\arrays\n",
      "    copying pandas\\core\\arrays\\integer.py -> build\\lib.win-amd64-3.9\\pandas\\core\\arrays\n",
      "    copying pandas\\core\\arrays\\interval.py -> build\\lib.win-amd64-3.9\\pandas\\core\\arrays\n",
      "    copying pandas\\core\\arrays\\numpy_.py -> build\\lib.win-amd64-3.9\\pandas\\core\\arrays\n",
      "    copying pandas\\core\\arrays\\period.py -> build\\lib.win-amd64-3.9\\pandas\\core\\arrays\n",
      "    copying pandas\\core\\arrays\\sparse.py -> build\\lib.win-amd64-3.9\\pandas\\core\\arrays\n",
      "    copying pandas\\core\\arrays\\timedeltas.py -> build\\lib.win-amd64-3.9\\pandas\\core\\arrays\n",
      "    copying pandas\\core\\arrays\\_ranges.py -> build\\lib.win-amd64-3.9\\pandas\\core\\arrays\n",
      "    copying pandas\\core\\arrays\\__init__.py -> build\\lib.win-amd64-3.9\\pandas\\core\\arrays\n",
      "    creating build\\lib.win-amd64-3.9\\pandas\\core\\computation\n",
      "    copying pandas\\core\\computation\\align.py -> build\\lib.win-amd64-3.9\\pandas\\core\\computation\n",
      "    copying pandas\\core\\computation\\api.py -> build\\lib.win-amd64-3.9\\pandas\\core\\computation\n",
      "    copying pandas\\core\\computation\\check.py -> build\\lib.win-amd64-3.9\\pandas\\core\\computation\n",
      "    copying pandas\\core\\computation\\common.py -> build\\lib.win-amd64-3.9\\pandas\\core\\computation\n",
      "    copying pandas\\core\\computation\\engines.py -> build\\lib.win-amd64-3.9\\pandas\\core\\computation\n",
      "    copying pandas\\core\\computation\\eval.py -> build\\lib.win-amd64-3.9\\pandas\\core\\computation\n",
      "    copying pandas\\core\\computation\\expr.py -> build\\lib.win-amd64-3.9\\pandas\\core\\computation\n",
      "    copying pandas\\core\\computation\\expressions.py -> build\\lib.win-amd64-3.9\\pandas\\core\\computation\n",
      "    copying pandas\\core\\computation\\ops.py -> build\\lib.win-amd64-3.9\\pandas\\core\\computation\n",
      "    copying pandas\\core\\computation\\pytables.py -> build\\lib.win-amd64-3.9\\pandas\\core\\computation\n",
      "    copying pandas\\core\\computation\\scope.py -> build\\lib.win-amd64-3.9\\pandas\\core\\computation\n",
      "    copying pandas\\core\\computation\\__init__.py -> build\\lib.win-amd64-3.9\\pandas\\core\\computation\n",
      "    creating build\\lib.win-amd64-3.9\\pandas\\core\\dtypes\n",
      "    copying pandas\\core\\dtypes\\api.py -> build\\lib.win-amd64-3.9\\pandas\\core\\dtypes\n",
      "    copying pandas\\core\\dtypes\\base.py -> build\\lib.win-amd64-3.9\\pandas\\core\\dtypes\n",
      "    copying pandas\\core\\dtypes\\cast.py -> build\\lib.win-amd64-3.9\\pandas\\core\\dtypes\n",
      "    copying pandas\\core\\dtypes\\common.py -> build\\lib.win-amd64-3.9\\pandas\\core\\dtypes\n",
      "    copying pandas\\core\\dtypes\\concat.py -> build\\lib.win-amd64-3.9\\pandas\\core\\dtypes\n",
      "    copying pandas\\core\\dtypes\\dtypes.py -> build\\lib.win-amd64-3.9\\pandas\\core\\dtypes\n",
      "    copying pandas\\core\\dtypes\\generic.py -> build\\lib.win-amd64-3.9\\pandas\\core\\dtypes\n",
      "    copying pandas\\core\\dtypes\\inference.py -> build\\lib.win-amd64-3.9\\pandas\\core\\dtypes\n",
      "    copying pandas\\core\\dtypes\\missing.py -> build\\lib.win-amd64-3.9\\pandas\\core\\dtypes\n",
      "    copying pandas\\core\\dtypes\\__init__.py -> build\\lib.win-amd64-3.9\\pandas\\core\\dtypes\n",
      "    creating build\\lib.win-amd64-3.9\\pandas\\core\\groupby\n",
      "    copying pandas\\core\\groupby\\base.py -> build\\lib.win-amd64-3.9\\pandas\\core\\groupby\n",
      "    copying pandas\\core\\groupby\\categorical.py -> build\\lib.win-amd64-3.9\\pandas\\core\\groupby\n",
      "    copying pandas\\core\\groupby\\generic.py -> build\\lib.win-amd64-3.9\\pandas\\core\\groupby\n",
      "    copying pandas\\core\\groupby\\groupby.py -> build\\lib.win-amd64-3.9\\pandas\\core\\groupby\n",
      "    copying pandas\\core\\groupby\\grouper.py -> build\\lib.win-amd64-3.9\\pandas\\core\\groupby\n",
      "    copying pandas\\core\\groupby\\ops.py -> build\\lib.win-amd64-3.9\\pandas\\core\\groupby\n",
      "    copying pandas\\core\\groupby\\__init__.py -> build\\lib.win-amd64-3.9\\pandas\\core\\groupby\n",
      "    creating build\\lib.win-amd64-3.9\\pandas\\core\\indexes\n",
      "    copying pandas\\core\\indexes\\accessors.py -> build\\lib.win-amd64-3.9\\pandas\\core\\indexes\n",
      "    copying pandas\\core\\indexes\\api.py -> build\\lib.win-amd64-3.9\\pandas\\core\\indexes\n",
      "    copying pandas\\core\\indexes\\base.py -> build\\lib.win-amd64-3.9\\pandas\\core\\indexes\n",
      "    copying pandas\\core\\indexes\\category.py -> build\\lib.win-amd64-3.9\\pandas\\core\\indexes\n",
      "    copying pandas\\core\\indexes\\datetimelike.py -> build\\lib.win-amd64-3.9\\pandas\\core\\indexes\n",
      "    copying pandas\\core\\indexes\\datetimes.py -> build\\lib.win-amd64-3.9\\pandas\\core\\indexes\n",
      "    copying pandas\\core\\indexes\\frozen.py -> build\\lib.win-amd64-3.9\\pandas\\core\\indexes\n",
      "    copying pandas\\core\\indexes\\interval.py -> build\\lib.win-amd64-3.9\\pandas\\core\\indexes\n",
      "    copying pandas\\core\\indexes\\multi.py -> build\\lib.win-amd64-3.9\\pandas\\core\\indexes\n",
      "    copying pandas\\core\\indexes\\numeric.py -> build\\lib.win-amd64-3.9\\pandas\\core\\indexes\n",
      "    copying pandas\\core\\indexes\\period.py -> build\\lib.win-amd64-3.9\\pandas\\core\\indexes\n",
      "    copying pandas\\core\\indexes\\range.py -> build\\lib.win-amd64-3.9\\pandas\\core\\indexes\n",
      "    copying pandas\\core\\indexes\\timedeltas.py -> build\\lib.win-amd64-3.9\\pandas\\core\\indexes\n",
      "    copying pandas\\core\\indexes\\__init__.py -> build\\lib.win-amd64-3.9\\pandas\\core\\indexes\n",
      "    creating build\\lib.win-amd64-3.9\\pandas\\core\\internals\n",
      "    copying pandas\\core\\internals\\arrays.py -> build\\lib.win-amd64-3.9\\pandas\\core\\internals\n",
      "    copying pandas\\core\\internals\\blocks.py -> build\\lib.win-amd64-3.9\\pandas\\core\\internals\n",
      "    copying pandas\\core\\internals\\concat.py -> build\\lib.win-amd64-3.9\\pandas\\core\\internals\n",
      "    copying pandas\\core\\internals\\construction.py -> build\\lib.win-amd64-3.9\\pandas\\core\\internals\n",
      "    copying pandas\\core\\internals\\managers.py -> build\\lib.win-amd64-3.9\\pandas\\core\\internals\n",
      "    copying pandas\\core\\internals\\__init__.py -> build\\lib.win-amd64-3.9\\pandas\\core\\internals\n",
      "    creating build\\lib.win-amd64-3.9\\pandas\\core\\reshape\n",
      "    copying pandas\\core\\reshape\\api.py -> build\\lib.win-amd64-3.9\\pandas\\core\\reshape\n",
      "    copying pandas\\core\\reshape\\concat.py -> build\\lib.win-amd64-3.9\\pandas\\core\\reshape\n",
      "    copying pandas\\core\\reshape\\melt.py -> build\\lib.win-amd64-3.9\\pandas\\core\\reshape\n",
      "    copying pandas\\core\\reshape\\merge.py -> build\\lib.win-amd64-3.9\\pandas\\core\\reshape\n",
      "    copying pandas\\core\\reshape\\pivot.py -> build\\lib.win-amd64-3.9\\pandas\\core\\reshape\n",
      "    copying pandas\\core\\reshape\\reshape.py -> build\\lib.win-amd64-3.9\\pandas\\core\\reshape\n",
      "    copying pandas\\core\\reshape\\tile.py -> build\\lib.win-amd64-3.9\\pandas\\core\\reshape\n",
      "    copying pandas\\core\\reshape\\util.py -> build\\lib.win-amd64-3.9\\pandas\\core\\reshape\n",
      "    copying pandas\\core\\reshape\\__init__.py -> build\\lib.win-amd64-3.9\\pandas\\core\\reshape\n",
      "    creating build\\lib.win-amd64-3.9\\pandas\\core\\sparse\n",
      "    copying pandas\\core\\sparse\\api.py -> build\\lib.win-amd64-3.9\\pandas\\core\\sparse\n",
      "    copying pandas\\core\\sparse\\frame.py -> build\\lib.win-amd64-3.9\\pandas\\core\\sparse\n",
      "    copying pandas\\core\\sparse\\scipy_sparse.py -> build\\lib.win-amd64-3.9\\pandas\\core\\sparse\n",
      "    copying pandas\\core\\sparse\\series.py -> build\\lib.win-amd64-3.9\\pandas\\core\\sparse\n",
      "    copying pandas\\core\\sparse\\__init__.py -> build\\lib.win-amd64-3.9\\pandas\\core\\sparse\n",
      "    creating build\\lib.win-amd64-3.9\\pandas\\core\\tools\n",
      "    copying pandas\\core\\tools\\datetimes.py -> build\\lib.win-amd64-3.9\\pandas\\core\\tools\n",
      "    copying pandas\\core\\tools\\numeric.py -> build\\lib.win-amd64-3.9\\pandas\\core\\tools\n",
      "    copying pandas\\core\\tools\\timedeltas.py -> build\\lib.win-amd64-3.9\\pandas\\core\\tools\n",
      "    copying pandas\\core\\tools\\__init__.py -> build\\lib.win-amd64-3.9\\pandas\\core\\tools\n",
      "    creating build\\lib.win-amd64-3.9\\pandas\\core\\util\n",
      "    copying pandas\\core\\util\\hashing.py -> build\\lib.win-amd64-3.9\\pandas\\core\\util\n",
      "    copying pandas\\core\\util\\__init__.py -> build\\lib.win-amd64-3.9\\pandas\\core\\util\n",
      "    creating build\\lib.win-amd64-3.9\\pandas\\io\\clipboard\n",
      "    copying pandas\\io\\clipboard\\clipboards.py -> build\\lib.win-amd64-3.9\\pandas\\io\\clipboard\n",
      "    copying pandas\\io\\clipboard\\exceptions.py -> build\\lib.win-amd64-3.9\\pandas\\io\\clipboard\n",
      "    copying pandas\\io\\clipboard\\windows.py -> build\\lib.win-amd64-3.9\\pandas\\io\\clipboard\n",
      "    copying pandas\\io\\clipboard\\__init__.py -> build\\lib.win-amd64-3.9\\pandas\\io\\clipboard\n",
      "    creating build\\lib.win-amd64-3.9\\pandas\\io\\formats\n",
      "    copying pandas\\io\\formats\\console.py -> build\\lib.win-amd64-3.9\\pandas\\io\\formats\n",
      "    copying pandas\\io\\formats\\css.py -> build\\lib.win-amd64-3.9\\pandas\\io\\formats\n",
      "    copying pandas\\io\\formats\\csvs.py -> build\\lib.win-amd64-3.9\\pandas\\io\\formats\n",
      "    copying pandas\\io\\formats\\excel.py -> build\\lib.win-amd64-3.9\\pandas\\io\\formats\n",
      "    copying pandas\\io\\formats\\format.py -> build\\lib.win-amd64-3.9\\pandas\\io\\formats\n",
      "    copying pandas\\io\\formats\\html.py -> build\\lib.win-amd64-3.9\\pandas\\io\\formats\n",
      "    copying pandas\\io\\formats\\latex.py -> build\\lib.win-amd64-3.9\\pandas\\io\\formats\n",
      "    copying pandas\\io\\formats\\printing.py -> build\\lib.win-amd64-3.9\\pandas\\io\\formats\n",
      "    copying pandas\\io\\formats\\style.py -> build\\lib.win-amd64-3.9\\pandas\\io\\formats\n",
      "    copying pandas\\io\\formats\\terminal.py -> build\\lib.win-amd64-3.9\\pandas\\io\\formats\n",
      "    copying pandas\\io\\formats\\__init__.py -> build\\lib.win-amd64-3.9\\pandas\\io\\formats\n",
      "    creating build\\lib.win-amd64-3.9\\pandas\\io\\json\n",
      "    copying pandas\\io\\json\\json.py -> build\\lib.win-amd64-3.9\\pandas\\io\\json\n",
      "    copying pandas\\io\\json\\normalize.py -> build\\lib.win-amd64-3.9\\pandas\\io\\json\n",
      "    copying pandas\\io\\json\\table_schema.py -> build\\lib.win-amd64-3.9\\pandas\\io\\json\n",
      "    copying pandas\\io\\json\\__init__.py -> build\\lib.win-amd64-3.9\\pandas\\io\\json\n",
      "    creating build\\lib.win-amd64-3.9\\pandas\\io\\msgpack\n",
      "    copying pandas\\io\\msgpack\\exceptions.py -> build\\lib.win-amd64-3.9\\pandas\\io\\msgpack\n",
      "    copying pandas\\io\\msgpack\\_version.py -> build\\lib.win-amd64-3.9\\pandas\\io\\msgpack\n",
      "    copying pandas\\io\\msgpack\\__init__.py -> build\\lib.win-amd64-3.9\\pandas\\io\\msgpack\n",
      "    creating build\\lib.win-amd64-3.9\\pandas\\io\\sas\n",
      "    copying pandas\\io\\sas\\sas7bdat.py -> build\\lib.win-amd64-3.9\\pandas\\io\\sas\n",
      "    copying pandas\\io\\sas\\sasreader.py -> build\\lib.win-amd64-3.9\\pandas\\io\\sas\n",
      "    copying pandas\\io\\sas\\sas_constants.py -> build\\lib.win-amd64-3.9\\pandas\\io\\sas\n",
      "    copying pandas\\io\\sas\\sas_xport.py -> build\\lib.win-amd64-3.9\\pandas\\io\\sas\n",
      "    copying pandas\\io\\sas\\__init__.py -> build\\lib.win-amd64-3.9\\pandas\\io\\sas\n",
      "    creating build\\lib.win-amd64-3.9\\pandas\\tests\\api\n",
      "    copying pandas\\tests\\api\\test_api.py -> build\\lib.win-amd64-3.9\\pandas\\tests\\api\n",
      "    copying pandas\\tests\\api\\test_types.py -> build\\lib.win-amd64-3.9\\pandas\\tests\\api\n",
      "    copying pandas\\tests\\api\\__init__.py -> build\\lib.win-amd64-3.9\\pandas\\tests\\api\n",
      "    creating build\\lib.win-amd64-3.9\\pandas\\tests\\arithmetic\n",
      "    copying pandas\\tests\\arithmetic\\conftest.py -> build\\lib.win-amd64-3.9\\pandas\\tests\\arithmetic\n",
      "    copying pandas\\tests\\arithmetic\\test_datetime64.py -> build\\lib.win-amd64-3.9\\pandas\\tests\\arithmetic\n",
      "    copying pandas\\tests\\arithmetic\\test_numeric.py -> build\\lib.win-amd64-3.9\\pandas\\tests\\arithmetic\n",
      "    copying pandas\\tests\\arithmetic\\test_object.py -> build\\lib.win-amd64-3.9\\pandas\\tests\\arithmetic\n",
      "    copying pandas\\tests\\arithmetic\\test_period.py -> build\\lib.win-amd64-3.9\\pandas\\tests\\arithmetic\n",
      "    copying pandas\\tests\\arithmetic\\test_timedelta64.py -> build\\lib.win-amd64-3.9\\pandas\\tests\\arithmetic\n",
      "    copying pandas\\tests\\arithmetic\\__init__.py -> build\\lib.win-amd64-3.9\\pandas\\tests\\arithmetic\n",
      "    creating build\\lib.win-amd64-3.9\\pandas\\tests\\arrays\n",
      "    copying pandas\\tests\\arrays\\test_array.py -> build\\lib.win-amd64-3.9\\pandas\\tests\\arrays\n",
      "    copying pandas\\tests\\arrays\\test_datetimelike.py -> build\\lib.win-amd64-3.9\\pandas\\tests\\arrays\n",
      "    copying pandas\\tests\\arrays\\test_datetimes.py -> build\\lib.win-amd64-3.9\\pandas\\tests\\arrays\n",
      "    copying pandas\\tests\\arrays\\test_integer.py -> build\\lib.win-amd64-3.9\\pandas\\tests\\arrays\n",
      "    copying pandas\\tests\\arrays\\test_numpy.py -> build\\lib.win-amd64-3.9\\pandas\\tests\\arrays\n",
      "    copying pandas\\tests\\arrays\\test_period.py -> build\\lib.win-amd64-3.9\\pandas\\tests\\arrays\n",
      "    copying pandas\\tests\\arrays\\test_timedeltas.py -> build\\lib.win-amd64-3.9\\pandas\\tests\\arrays\n",
      "    copying pandas\\tests\\arrays\\__init__.py -> build\\lib.win-amd64-3.9\\pandas\\tests\\arrays\n",
      "    creating build\\lib.win-amd64-3.9\\pandas\\tests\\computation\n",
      "    copying pandas\\tests\\computation\\test_compat.py -> build\\lib.win-amd64-3.9\\pandas\\tests\\computation\n",
      "    copying pandas\\tests\\computation\\test_eval.py -> build\\lib.win-amd64-3.9\\pandas\\tests\\computation\n",
      "    copying pandas\\tests\\computation\\__init__.py -> build\\lib.win-amd64-3.9\\pandas\\tests\\computation\n",
      "    creating build\\lib.win-amd64-3.9\\pandas\\tests\\dtypes\n",
      "    copying pandas\\tests\\dtypes\\test_common.py -> build\\lib.win-amd64-3.9\\pandas\\tests\\dtypes\n",
      "    copying pandas\\tests\\dtypes\\test_concat.py -> build\\lib.win-amd64-3.9\\pandas\\tests\\dtypes\n",
      "    copying pandas\\tests\\dtypes\\test_dtypes.py -> build\\lib.win-amd64-3.9\\pandas\\tests\\dtypes\n",
      "    copying pandas\\tests\\dtypes\\test_generic.py -> build\\lib.win-amd64-3.9\\pandas\\tests\\dtypes\n",
      "    copying pandas\\tests\\dtypes\\test_inference.py -> build\\lib.win-amd64-3.9\\pandas\\tests\\dtypes\n",
      "    copying pandas\\tests\\dtypes\\test_missing.py -> build\\lib.win-amd64-3.9\\pandas\\tests\\dtypes\n",
      "    copying pandas\\tests\\dtypes\\__init__.py -> build\\lib.win-amd64-3.9\\pandas\\tests\\dtypes\n",
      "    creating build\\lib.win-amd64-3.9\\pandas\\tests\\extension\n",
      "    copying pandas\\tests\\extension\\conftest.py -> build\\lib.win-amd64-3.9\\pandas\\tests\\extension\n",
      "    copying pandas\\tests\\extension\\test_categorical.py -> build\\lib.win-amd64-3.9\\pandas\\tests\\extension\n",
      "    copying pandas\\tests\\extension\\test_common.py -> build\\lib.win-amd64-3.9\\pandas\\tests\\extension\n",
      "    copying pandas\\tests\\extension\\test_datetime.py -> build\\lib.win-amd64-3.9\\pandas\\tests\\extension\n",
      "    copying pandas\\tests\\extension\\test_external_block.py -> build\\lib.win-amd64-3.9\\pandas\\tests\\extension\n",
      "    copying pandas\\tests\\extension\\test_integer.py -> build\\lib.win-amd64-3.9\\pandas\\tests\\extension\n",
      "    copying pandas\\tests\\extension\\test_interval.py -> build\\lib.win-amd64-3.9\\pandas\\tests\\extension\n",
      "    copying pandas\\tests\\extension\\test_period.py -> build\\lib.win-amd64-3.9\\pandas\\tests\\extension\n",
      "    copying pandas\\tests\\extension\\test_sparse.py -> build\\lib.win-amd64-3.9\\pandas\\tests\\extension\n",
      "    copying pandas\\tests\\extension\\__init__.py -> build\\lib.win-amd64-3.9\\pandas\\tests\\extension\n",
      "    creating build\\lib.win-amd64-3.9\\pandas\\tests\\frame\n",
      "    copying pandas\\tests\\frame\\common.py -> build\\lib.win-amd64-3.9\\pandas\\tests\\frame\n",
      "    copying pandas\\tests\\frame\\conftest.py -> build\\lib.win-amd64-3.9\\pandas\\tests\\frame\n",
      "    copying pandas\\tests\\frame\\test_alter_axes.py -> build\\lib.win-amd64-3.9\\pandas\\tests\\frame\n",
      "    copying pandas\\tests\\frame\\test_analytics.py -> build\\lib.win-amd64-3.9\\pandas\\tests\\frame\n",
      "    copying pandas\\tests\\frame\\test_api.py -> build\\lib.win-amd64-3.9\\pandas\\tests\\frame\n",
      "    copying pandas\\tests\\frame\\test_apply.py -> build\\lib.win-amd64-3.9\\pandas\\tests\\frame\n",
      "    copying pandas\\tests\\frame\\test_arithmetic.py -> build\\lib.win-amd64-3.9\\pandas\\tests\\frame\n",
      "    copying pandas\\tests\\frame\\test_asof.py -> build\\lib.win-amd64-3.9\\pandas\\tests\\frame\n",
      "    copying pandas\\tests\\frame\\test_axis_select_reindex.py -> build\\lib.win-amd64-3.9\\pandas\\tests\\frame\n",
      "    copying pandas\\tests\\frame\\test_block_internals.py -> build\\lib.win-amd64-3.9\\pandas\\tests\\frame\n",
      "    copying pandas\\tests\\frame\\test_combine_concat.py -> build\\lib.win-amd64-3.9\\pandas\\tests\\frame\n",
      "    copying pandas\\tests\\frame\\test_constructors.py -> build\\lib.win-amd64-3.9\\pandas\\tests\\frame\n",
      "    copying pandas\\tests\\frame\\test_convert_to.py -> build\\lib.win-amd64-3.9\\pandas\\tests\\frame\n",
      "    copying pandas\\tests\\frame\\test_dtypes.py -> build\\lib.win-amd64-3.9\\pandas\\tests\\frame\n",
      "    copying pandas\\tests\\frame\\test_duplicates.py -> build\\lib.win-amd64-3.9\\pandas\\tests\\frame\n",
      "    copying pandas\\tests\\frame\\test_indexing.py -> build\\lib.win-amd64-3.9\\pandas\\tests\\frame\n",
      "    copying pandas\\tests\\frame\\test_join.py -> build\\lib.win-amd64-3.9\\pandas\\tests\\frame\n",
      "    copying pandas\\tests\\frame\\test_missing.py -> build\\lib.win-amd64-3.9\\pandas\\tests\\frame\n",
      "    copying pandas\\tests\\frame\\test_mutate_columns.py -> build\\lib.win-amd64-3.9\\pandas\\tests\\frame\n",
      "    copying pandas\\tests\\frame\\test_nonunique_indexes.py -> build\\lib.win-amd64-3.9\\pandas\\tests\\frame\n",
      "    copying pandas\\tests\\frame\\test_operators.py -> build\\lib.win-amd64-3.9\\pandas\\tests\\frame\n",
      "    copying pandas\\tests\\frame\\test_period.py -> build\\lib.win-amd64-3.9\\pandas\\tests\\frame\n",
      "    copying pandas\\tests\\frame\\test_quantile.py -> build\\lib.win-amd64-3.9\\pandas\\tests\\frame\n",
      "    copying pandas\\tests\\frame\\test_query_eval.py -> build\\lib.win-amd64-3.9\\pandas\\tests\\frame\n",
      "    copying pandas\\tests\\frame\\test_rank.py -> build\\lib.win-amd64-3.9\\pandas\\tests\\frame\n",
      "    copying pandas\\tests\\frame\\test_replace.py -> build\\lib.win-amd64-3.9\\pandas\\tests\\frame\n",
      "    copying pandas\\tests\\frame\\test_repr_info.py -> build\\lib.win-amd64-3.9\\pandas\\tests\\frame\n",
      "    copying pandas\\tests\\frame\\test_reshape.py -> build\\lib.win-amd64-3.9\\pandas\\tests\\frame\n",
      "    copying pandas\\tests\\frame\\test_sorting.py -> build\\lib.win-amd64-3.9\\pandas\\tests\\frame\n",
      "    copying pandas\\tests\\frame\\test_sort_values_level_as_str.py -> build\\lib.win-amd64-3.9\\pandas\\tests\\frame\n",
      "    copying pandas\\tests\\frame\\test_subclass.py -> build\\lib.win-amd64-3.9\\pandas\\tests\\frame\n",
      "    copying pandas\\tests\\frame\\test_timeseries.py -> build\\lib.win-amd64-3.9\\pandas\\tests\\frame\n",
      "    copying pandas\\tests\\frame\\test_timezones.py -> build\\lib.win-amd64-3.9\\pandas\\tests\\frame\n",
      "    copying pandas\\tests\\frame\\test_to_csv.py -> build\\lib.win-amd64-3.9\\pandas\\tests\\frame\n",
      "    copying pandas\\tests\\frame\\test_validate.py -> build\\lib.win-amd64-3.9\\pandas\\tests\\frame\n",
      "    copying pandas\\tests\\frame\\__init__.py -> build\\lib.win-amd64-3.9\\pandas\\tests\\frame\n",
      "    creating build\\lib.win-amd64-3.9\\pandas\\tests\\generic\n",
      "    copying pandas\\tests\\generic\\test_frame.py -> build\\lib.win-amd64-3.9\\pandas\\tests\\generic\n",
      "    copying pandas\\tests\\generic\\test_generic.py -> build\\lib.win-amd64-3.9\\pandas\\tests\\generic\n",
      "    copying pandas\\tests\\generic\\test_label_or_level_utils.py -> build\\lib.win-amd64-3.9\\pandas\\tests\\generic\n",
      "    copying pandas\\tests\\generic\\test_panel.py -> build\\lib.win-amd64-3.9\\pandas\\tests\\generic\n",
      "    copying pandas\\tests\\generic\\test_series.py -> build\\lib.win-amd64-3.9\\pandas\\tests\\generic\n",
      "    copying pandas\\tests\\generic\\__init__.py -> build\\lib.win-amd64-3.9\\pandas\\tests\\generic\n",
      "    creating build\\lib.win-amd64-3.9\\pandas\\tests\\groupby\n",
      "    copying pandas\\tests\\groupby\\conftest.py -> build\\lib.win-amd64-3.9\\pandas\\tests\\groupby\n",
      "    copying pandas\\tests\\groupby\\test_apply.py -> build\\lib.win-amd64-3.9\\pandas\\tests\\groupby\n",
      "    copying pandas\\tests\\groupby\\test_bin_groupby.py -> build\\lib.win-amd64-3.9\\pandas\\tests\\groupby\n",
      "    copying pandas\\tests\\groupby\\test_categorical.py -> build\\lib.win-amd64-3.9\\pandas\\tests\\groupby\n",
      "    copying pandas\\tests\\groupby\\test_counting.py -> build\\lib.win-amd64-3.9\\pandas\\tests\\groupby\n",
      "    copying pandas\\tests\\groupby\\test_filters.py -> build\\lib.win-amd64-3.9\\pandas\\tests\\groupby\n",
      "    copying pandas\\tests\\groupby\\test_function.py -> build\\lib.win-amd64-3.9\\pandas\\tests\\groupby\n",
      "    copying pandas\\tests\\groupby\\test_groupby.py -> build\\lib.win-amd64-3.9\\pandas\\tests\\groupby\n",
      "    copying pandas\\tests\\groupby\\test_grouping.py -> build\\lib.win-amd64-3.9\\pandas\\tests\\groupby\n",
      "    copying pandas\\tests\\groupby\\test_index_as_string.py -> build\\lib.win-amd64-3.9\\pandas\\tests\\groupby\n",
      "    copying pandas\\tests\\groupby\\test_nth.py -> build\\lib.win-amd64-3.9\\pandas\\tests\\groupby\n",
      "    copying pandas\\tests\\groupby\\test_rank.py -> build\\lib.win-amd64-3.9\\pandas\\tests\\groupby\n",
      "    copying pandas\\tests\\groupby\\test_timegrouper.py -> build\\lib.win-amd64-3.9\\pandas\\tests\\groupby\n",
      "    copying pandas\\tests\\groupby\\test_transform.py -> build\\lib.win-amd64-3.9\\pandas\\tests\\groupby\n",
      "    copying pandas\\tests\\groupby\\test_value_counts.py -> build\\lib.win-amd64-3.9\\pandas\\tests\\groupby\n",
      "    copying pandas\\tests\\groupby\\test_whitelist.py -> build\\lib.win-amd64-3.9\\pandas\\tests\\groupby\n",
      "    copying pandas\\tests\\groupby\\__init__.py -> build\\lib.win-amd64-3.9\\pandas\\tests\\groupby\n",
      "    creating build\\lib.win-amd64-3.9\\pandas\\tests\\indexes\n",
      "    copying pandas\\tests\\indexes\\common.py -> build\\lib.win-amd64-3.9\\pandas\\tests\\indexes\n",
      "    copying pandas\\tests\\indexes\\conftest.py -> build\\lib.win-amd64-3.9\\pandas\\tests\\indexes\n",
      "    copying pandas\\tests\\indexes\\datetimelike.py -> build\\lib.win-amd64-3.9\\pandas\\tests\\indexes\n",
      "    copying pandas\\tests\\indexes\\test_base.py -> build\\lib.win-amd64-3.9\\pandas\\tests\\indexes\n",
      "    copying pandas\\tests\\indexes\\test_category.py -> build\\lib.win-amd64-3.9\\pandas\\tests\\indexes\n",
      "    copying pandas\\tests\\indexes\\test_common.py -> build\\lib.win-amd64-3.9\\pandas\\tests\\indexes\n",
      "    copying pandas\\tests\\indexes\\test_frozen.py -> build\\lib.win-amd64-3.9\\pandas\\tests\\indexes\n",
      "    copying pandas\\tests\\indexes\\test_numeric.py -> build\\lib.win-amd64-3.9\\pandas\\tests\\indexes\n",
      "    copying pandas\\tests\\indexes\\test_range.py -> build\\lib.win-amd64-3.9\\pandas\\tests\\indexes\n",
      "    copying pandas\\tests\\indexes\\__init__.py -> build\\lib.win-amd64-3.9\\pandas\\tests\\indexes\n",
      "    creating build\\lib.win-amd64-3.9\\pandas\\tests\\indexing\n",
      "    copying pandas\\tests\\indexing\\common.py -> build\\lib.win-amd64-3.9\\pandas\\tests\\indexing\n",
      "    copying pandas\\tests\\indexing\\conftest.py -> build\\lib.win-amd64-3.9\\pandas\\tests\\indexing\n",
      "    copying pandas\\tests\\indexing\\test_callable.py -> build\\lib.win-amd64-3.9\\pandas\\tests\\indexing\n",
      "    copying pandas\\tests\\indexing\\test_categorical.py -> build\\lib.win-amd64-3.9\\pandas\\tests\\indexing\n",
      "    copying pandas\\tests\\indexing\\test_chaining_and_caching.py -> build\\lib.win-amd64-3.9\\pandas\\tests\\indexing\n",
      "    copying pandas\\tests\\indexing\\test_coercion.py -> build\\lib.win-amd64-3.9\\pandas\\tests\\indexing\n",
      "    copying pandas\\tests\\indexing\\test_datetime.py -> build\\lib.win-amd64-3.9\\pandas\\tests\\indexing\n",
      "    copying pandas\\tests\\indexing\\test_floats.py -> build\\lib.win-amd64-3.9\\pandas\\tests\\indexing\n",
      "    copying pandas\\tests\\indexing\\test_iloc.py -> build\\lib.win-amd64-3.9\\pandas\\tests\\indexing\n",
      "    copying pandas\\tests\\indexing\\test_indexing.py -> build\\lib.win-amd64-3.9\\pandas\\tests\\indexing\n",
      "    copying pandas\\tests\\indexing\\test_indexing_engines.py -> build\\lib.win-amd64-3.9\\pandas\\tests\\indexing\n",
      "    copying pandas\\tests\\indexing\\test_indexing_slow.py -> build\\lib.win-amd64-3.9\\pandas\\tests\\indexing\n",
      "    copying pandas\\tests\\indexing\\test_ix.py -> build\\lib.win-amd64-3.9\\pandas\\tests\\indexing\n",
      "    copying pandas\\tests\\indexing\\test_loc.py -> build\\lib.win-amd64-3.9\\pandas\\tests\\indexing\n",
      "    copying pandas\\tests\\indexing\\test_panel.py -> build\\lib.win-amd64-3.9\\pandas\\tests\\indexing\n",
      "    copying pandas\\tests\\indexing\\test_partial.py -> build\\lib.win-amd64-3.9\\pandas\\tests\\indexing\n",
      "    copying pandas\\tests\\indexing\\test_scalar.py -> build\\lib.win-amd64-3.9\\pandas\\tests\\indexing\n",
      "    copying pandas\\tests\\indexing\\test_timedelta.py -> build\\lib.win-amd64-3.9\\pandas\\tests\\indexing\n",
      "    copying pandas\\tests\\indexing\\__init__.py -> build\\lib.win-amd64-3.9\\pandas\\tests\\indexing\n",
      "    creating build\\lib.win-amd64-3.9\\pandas\\tests\\internals\n",
      "    copying pandas\\tests\\internals\\test_internals.py -> build\\lib.win-amd64-3.9\\pandas\\tests\\internals\n",
      "    copying pandas\\tests\\internals\\__init__.py -> build\\lib.win-amd64-3.9\\pandas\\tests\\internals\n",
      "    creating build\\lib.win-amd64-3.9\\pandas\\tests\\io\n",
      "    copying pandas\\tests\\io\\conftest.py -> build\\lib.win-amd64-3.9\\pandas\\tests\\io\n",
      "    copying pandas\\tests\\io\\generate_legacy_storage_files.py -> build\\lib.win-amd64-3.9\\pandas\\tests\\io\n",
      "    copying pandas\\tests\\io\\test_clipboard.py -> build\\lib.win-amd64-3.9\\pandas\\tests\\io\n",
      "    copying pandas\\tests\\io\\test_common.py -> build\\lib.win-amd64-3.9\\pandas\\tests\\io\n",
      "    copying pandas\\tests\\io\\test_compression.py -> build\\lib.win-amd64-3.9\\pandas\\tests\\io\n",
      "    copying pandas\\tests\\io\\test_date_converters.py -> build\\lib.win-amd64-3.9\\pandas\\tests\\io\n",
      "    copying pandas\\tests\\io\\test_excel.py -> build\\lib.win-amd64-3.9\\pandas\\tests\\io\n",
      "    copying pandas\\tests\\io\\test_feather.py -> build\\lib.win-amd64-3.9\\pandas\\tests\\io\n",
      "    copying pandas\\tests\\io\\test_gbq.py -> build\\lib.win-amd64-3.9\\pandas\\tests\\io\n",
      "    copying pandas\\tests\\io\\test_gcs.py -> build\\lib.win-amd64-3.9\\pandas\\tests\\io\n",
      "    copying pandas\\tests\\io\\test_html.py -> build\\lib.win-amd64-3.9\\pandas\\tests\\io\n",
      "    copying pandas\\tests\\io\\test_packers.py -> build\\lib.win-amd64-3.9\\pandas\\tests\\io\n",
      "    copying pandas\\tests\\io\\test_parquet.py -> build\\lib.win-amd64-3.9\\pandas\\tests\\io\n",
      "    copying pandas\\tests\\io\\test_pickle.py -> build\\lib.win-amd64-3.9\\pandas\\tests\\io\n",
      "    copying pandas\\tests\\io\\test_pytables.py -> build\\lib.win-amd64-3.9\\pandas\\tests\\io\n",
      "    copying pandas\\tests\\io\\test_s3.py -> build\\lib.win-amd64-3.9\\pandas\\tests\\io\n",
      "    copying pandas\\tests\\io\\test_sql.py -> build\\lib.win-amd64-3.9\\pandas\\tests\\io\n",
      "    copying pandas\\tests\\io\\test_stata.py -> build\\lib.win-amd64-3.9\\pandas\\tests\\io\n",
      "    copying pandas\\tests\\io\\__init__.py -> build\\lib.win-amd64-3.9\\pandas\\tests\\io\n",
      "    creating build\\lib.win-amd64-3.9\\pandas\\tests\\plotting\n",
      "    copying pandas\\tests\\plotting\\common.py -> build\\lib.win-amd64-3.9\\pandas\\tests\\plotting\n",
      "    copying pandas\\tests\\plotting\\test_boxplot_method.py -> build\\lib.win-amd64-3.9\\pandas\\tests\\plotting\n",
      "    copying pandas\\tests\\plotting\\test_converter.py -> build\\lib.win-amd64-3.9\\pandas\\tests\\plotting\n",
      "    copying pandas\\tests\\plotting\\test_datetimelike.py -> build\\lib.win-amd64-3.9\\pandas\\tests\\plotting\n",
      "    copying pandas\\tests\\plotting\\test_frame.py -> build\\lib.win-amd64-3.9\\pandas\\tests\\plotting\n",
      "    copying pandas\\tests\\plotting\\test_groupby.py -> build\\lib.win-amd64-3.9\\pandas\\tests\\plotting\n",
      "    copying pandas\\tests\\plotting\\test_hist_method.py -> build\\lib.win-amd64-3.9\\pandas\\tests\\plotting\n",
      "    copying pandas\\tests\\plotting\\test_misc.py -> build\\lib.win-amd64-3.9\\pandas\\tests\\plotting\n",
      "    copying pandas\\tests\\plotting\\test_series.py -> build\\lib.win-amd64-3.9\\pandas\\tests\\plotting\n",
      "    copying pandas\\tests\\plotting\\__init__.py -> build\\lib.win-amd64-3.9\\pandas\\tests\\plotting\n",
      "    creating build\\lib.win-amd64-3.9\\pandas\\tests\\reductions\n",
      "    copying pandas\\tests\\reductions\\test_reductions.py -> build\\lib.win-amd64-3.9\\pandas\\tests\\reductions\n",
      "    copying pandas\\tests\\reductions\\test_stat_reductions.py -> build\\lib.win-amd64-3.9\\pandas\\tests\\reductions\n",
      "    copying pandas\\tests\\reductions\\__init__.py -> build\\lib.win-amd64-3.9\\pandas\\tests\\reductions\n",
      "    creating build\\lib.win-amd64-3.9\\pandas\\tests\\resample\n",
      "    copying pandas\\tests\\resample\\conftest.py -> build\\lib.win-amd64-3.9\\pandas\\tests\\resample\n",
      "    copying pandas\\tests\\resample\\test_base.py -> build\\lib.win-amd64-3.9\\pandas\\tests\\resample\n",
      "    copying pandas\\tests\\resample\\test_datetime_index.py -> build\\lib.win-amd64-3.9\\pandas\\tests\\resample\n",
      "    copying pandas\\tests\\resample\\test_period_index.py -> build\\lib.win-amd64-3.9\\pandas\\tests\\resample\n",
      "    copying pandas\\tests\\resample\\test_resampler_grouper.py -> build\\lib.win-amd64-3.9\\pandas\\tests\\resample\n",
      "    copying pandas\\tests\\resample\\test_resample_api.py -> build\\lib.win-amd64-3.9\\pandas\\tests\\resample\n",
      "    copying pandas\\tests\\resample\\test_timedelta.py -> build\\lib.win-amd64-3.9\\pandas\\tests\\resample\n",
      "    copying pandas\\tests\\resample\\test_time_grouper.py -> build\\lib.win-amd64-3.9\\pandas\\tests\\resample\n",
      "    copying pandas\\tests\\resample\\__init__.py -> build\\lib.win-amd64-3.9\\pandas\\tests\\resample\n",
      "    creating build\\lib.win-amd64-3.9\\pandas\\tests\\reshape\n",
      "    copying pandas\\tests\\reshape\\test_concat.py -> build\\lib.win-amd64-3.9\\pandas\\tests\\reshape\n",
      "    copying pandas\\tests\\reshape\\test_cut.py -> build\\lib.win-amd64-3.9\\pandas\\tests\\reshape\n",
      "    copying pandas\\tests\\reshape\\test_melt.py -> build\\lib.win-amd64-3.9\\pandas\\tests\\reshape\n",
      "    copying pandas\\tests\\reshape\\test_pivot.py -> build\\lib.win-amd64-3.9\\pandas\\tests\\reshape\n",
      "    copying pandas\\tests\\reshape\\test_qcut.py -> build\\lib.win-amd64-3.9\\pandas\\tests\\reshape\n",
      "    copying pandas\\tests\\reshape\\test_reshape.py -> build\\lib.win-amd64-3.9\\pandas\\tests\\reshape\n",
      "    copying pandas\\tests\\reshape\\test_union_categoricals.py -> build\\lib.win-amd64-3.9\\pandas\\tests\\reshape\n",
      "    copying pandas\\tests\\reshape\\test_util.py -> build\\lib.win-amd64-3.9\\pandas\\tests\\reshape\n",
      "    copying pandas\\tests\\reshape\\__init__.py -> build\\lib.win-amd64-3.9\\pandas\\tests\\reshape\n",
      "    creating build\\lib.win-amd64-3.9\\pandas\\tests\\scalar\n",
      "    copying pandas\\tests\\scalar\\test_nat.py -> build\\lib.win-amd64-3.9\\pandas\\tests\\scalar\n",
      "    copying pandas\\tests\\scalar\\__init__.py -> build\\lib.win-amd64-3.9\\pandas\\tests\\scalar\n",
      "    creating build\\lib.win-amd64-3.9\\pandas\\tests\\series\n",
      "    copying pandas\\tests\\series\\common.py -> build\\lib.win-amd64-3.9\\pandas\\tests\\series\n",
      "    copying pandas\\tests\\series\\conftest.py -> build\\lib.win-amd64-3.9\\pandas\\tests\\series\n",
      "    copying pandas\\tests\\series\\test_alter_axes.py -> build\\lib.win-amd64-3.9\\pandas\\tests\\series\n",
      "    copying pandas\\tests\\series\\test_analytics.py -> build\\lib.win-amd64-3.9\\pandas\\tests\\series\n",
      "    copying pandas\\tests\\series\\test_api.py -> build\\lib.win-amd64-3.9\\pandas\\tests\\series\n",
      "    copying pandas\\tests\\series\\test_apply.py -> build\\lib.win-amd64-3.9\\pandas\\tests\\series\n",
      "    copying pandas\\tests\\series\\test_arithmetic.py -> build\\lib.win-amd64-3.9\\pandas\\tests\\series\n",
      "    copying pandas\\tests\\series\\test_asof.py -> build\\lib.win-amd64-3.9\\pandas\\tests\\series\n",
      "    copying pandas\\tests\\series\\test_block_internals.py -> build\\lib.win-amd64-3.9\\pandas\\tests\\series\n",
      "    copying pandas\\tests\\series\\test_combine_concat.py -> build\\lib.win-amd64-3.9\\pandas\\tests\\series\n",
      "    copying pandas\\tests\\series\\test_constructors.py -> build\\lib.win-amd64-3.9\\pandas\\tests\\series\n",
      "    copying pandas\\tests\\series\\test_datetime_values.py -> build\\lib.win-amd64-3.9\\pandas\\tests\\series\n",
      "    copying pandas\\tests\\series\\test_dtypes.py -> build\\lib.win-amd64-3.9\\pandas\\tests\\series\n",
      "    copying pandas\\tests\\series\\test_duplicates.py -> build\\lib.win-amd64-3.9\\pandas\\tests\\series\n",
      "    copying pandas\\tests\\series\\test_internals.py -> build\\lib.win-amd64-3.9\\pandas\\tests\\series\n",
      "    copying pandas\\tests\\series\\test_io.py -> build\\lib.win-amd64-3.9\\pandas\\tests\\series\n",
      "    copying pandas\\tests\\series\\test_missing.py -> build\\lib.win-amd64-3.9\\pandas\\tests\\series\n",
      "    copying pandas\\tests\\series\\test_operators.py -> build\\lib.win-amd64-3.9\\pandas\\tests\\series\n",
      "    copying pandas\\tests\\series\\test_period.py -> build\\lib.win-amd64-3.9\\pandas\\tests\\series\n",
      "    copying pandas\\tests\\series\\test_quantile.py -> build\\lib.win-amd64-3.9\\pandas\\tests\\series\n",
      "    copying pandas\\tests\\series\\test_rank.py -> build\\lib.win-amd64-3.9\\pandas\\tests\\series\n",
      "    copying pandas\\tests\\series\\test_replace.py -> build\\lib.win-amd64-3.9\\pandas\\tests\\series\n",
      "    copying pandas\\tests\\series\\test_repr.py -> build\\lib.win-amd64-3.9\\pandas\\tests\\series\n",
      "    copying pandas\\tests\\series\\test_sorting.py -> build\\lib.win-amd64-3.9\\pandas\\tests\\series\n",
      "    copying pandas\\tests\\series\\test_subclass.py -> build\\lib.win-amd64-3.9\\pandas\\tests\\series\n",
      "    copying pandas\\tests\\series\\test_timeseries.py -> build\\lib.win-amd64-3.9\\pandas\\tests\\series\n",
      "    copying pandas\\tests\\series\\test_timezones.py -> build\\lib.win-amd64-3.9\\pandas\\tests\\series\n",
      "    copying pandas\\tests\\series\\test_validate.py -> build\\lib.win-amd64-3.9\\pandas\\tests\\series\n",
      "    copying pandas\\tests\\series\\__init__.py -> build\\lib.win-amd64-3.9\\pandas\\tests\\series\n",
      "    creating build\\lib.win-amd64-3.9\\pandas\\tests\\sparse\n",
      "    copying pandas\\tests\\sparse\\common.py -> build\\lib.win-amd64-3.9\\pandas\\tests\\sparse\n",
      "    copying pandas\\tests\\sparse\\test_combine_concat.py -> build\\lib.win-amd64-3.9\\pandas\\tests\\sparse\n",
      "    copying pandas\\tests\\sparse\\test_format.py -> build\\lib.win-amd64-3.9\\pandas\\tests\\sparse\n",
      "    copying pandas\\tests\\sparse\\test_groupby.py -> build\\lib.win-amd64-3.9\\pandas\\tests\\sparse\n",
      "    copying pandas\\tests\\sparse\\test_indexing.py -> build\\lib.win-amd64-3.9\\pandas\\tests\\sparse\n",
      "    copying pandas\\tests\\sparse\\test_pivot.py -> build\\lib.win-amd64-3.9\\pandas\\tests\\sparse\n",
      "    copying pandas\\tests\\sparse\\test_reshape.py -> build\\lib.win-amd64-3.9\\pandas\\tests\\sparse\n",
      "    copying pandas\\tests\\sparse\\__init__.py -> build\\lib.win-amd64-3.9\\pandas\\tests\\sparse\n",
      "    creating build\\lib.win-amd64-3.9\\pandas\\tests\\tools\n",
      "    copying pandas\\tests\\tools\\test_numeric.py -> build\\lib.win-amd64-3.9\\pandas\\tests\\tools\n",
      "    copying pandas\\tests\\tools\\__init__.py -> build\\lib.win-amd64-3.9\\pandas\\tests\\tools\n",
      "    creating build\\lib.win-amd64-3.9\\pandas\\tests\\tseries\n",
      "    copying pandas\\tests\\tseries\\test_frequencies.py -> build\\lib.win-amd64-3.9\\pandas\\tests\\tseries\n",
      "    copying pandas\\tests\\tseries\\test_holiday.py -> build\\lib.win-amd64-3.9\\pandas\\tests\\tseries\n",
      "    copying pandas\\tests\\tseries\\__init__.py -> build\\lib.win-amd64-3.9\\pandas\\tests\\tseries\n",
      "    creating build\\lib.win-amd64-3.9\\pandas\\tests\\tslibs\n",
      "    copying pandas\\tests\\tslibs\\test_api.py -> build\\lib.win-amd64-3.9\\pandas\\tests\\tslibs\n",
      "    copying pandas\\tests\\tslibs\\test_array_to_datetime.py -> build\\lib.win-amd64-3.9\\pandas\\tests\\tslibs\n",
      "    copying pandas\\tests\\tslibs\\test_ccalendar.py -> build\\lib.win-amd64-3.9\\pandas\\tests\\tslibs\n",
      "    copying pandas\\tests\\tslibs\\test_conversion.py -> build\\lib.win-amd64-3.9\\pandas\\tests\\tslibs\n",
      "    copying pandas\\tests\\tslibs\\test_libfrequencies.py -> build\\lib.win-amd64-3.9\\pandas\\tests\\tslibs\n",
      "    copying pandas\\tests\\tslibs\\test_liboffsets.py -> build\\lib.win-amd64-3.9\\pandas\\tests\\tslibs\n",
      "    copying pandas\\tests\\tslibs\\test_normalize_date.py -> build\\lib.win-amd64-3.9\\pandas\\tests\\tslibs\n",
      "    copying pandas\\tests\\tslibs\\test_parse_iso8601.py -> build\\lib.win-amd64-3.9\\pandas\\tests\\tslibs\n",
      "    copying pandas\\tests\\tslibs\\test_parsing.py -> build\\lib.win-amd64-3.9\\pandas\\tests\\tslibs\n",
      "    copying pandas\\tests\\tslibs\\test_period_asfreq.py -> build\\lib.win-amd64-3.9\\pandas\\tests\\tslibs\n",
      "    copying pandas\\tests\\tslibs\\test_timedeltas.py -> build\\lib.win-amd64-3.9\\pandas\\tests\\tslibs\n",
      "    copying pandas\\tests\\tslibs\\test_timezones.py -> build\\lib.win-amd64-3.9\\pandas\\tests\\tslibs\n",
      "    copying pandas\\tests\\tslibs\\__init__.py -> build\\lib.win-amd64-3.9\\pandas\\tests\\tslibs\n",
      "    creating build\\lib.win-amd64-3.9\\pandas\\tests\\util\n",
      "    copying pandas\\tests\\util\\conftest.py -> build\\lib.win-amd64-3.9\\pandas\\tests\\util\n",
      "    copying pandas\\tests\\util\\test_assert_almost_equal.py -> build\\lib.win-amd64-3.9\\pandas\\tests\\util\n",
      "    copying pandas\\tests\\util\\test_assert_categorical_equal.py -> build\\lib.win-amd64-3.9\\pandas\\tests\\util\n",
      "    copying pandas\\tests\\util\\test_assert_extension_array_equal.py -> build\\lib.win-amd64-3.9\\pandas\\tests\\util\n",
      "    copying pandas\\tests\\util\\test_assert_frame_equal.py -> build\\lib.win-amd64-3.9\\pandas\\tests\\util\n",
      "    copying pandas\\tests\\util\\test_assert_index_equal.py -> build\\lib.win-amd64-3.9\\pandas\\tests\\util\n",
      "    copying pandas\\tests\\util\\test_assert_interval_array_equal.py -> build\\lib.win-amd64-3.9\\pandas\\tests\\util\n",
      "    copying pandas\\tests\\util\\test_assert_numpy_array_equal.py -> build\\lib.win-amd64-3.9\\pandas\\tests\\util\n",
      "    copying pandas\\tests\\util\\test_assert_series_equal.py -> build\\lib.win-amd64-3.9\\pandas\\tests\\util\n",
      "    copying pandas\\tests\\util\\test_deprecate.py -> build\\lib.win-amd64-3.9\\pandas\\tests\\util\n",
      "    copying pandas\\tests\\util\\test_deprecate_kwarg.py -> build\\lib.win-amd64-3.9\\pandas\\tests\\util\n",
      "    copying pandas\\tests\\util\\test_hashing.py -> build\\lib.win-amd64-3.9\\pandas\\tests\\util\n",
      "    copying pandas\\tests\\util\\test_locale.py -> build\\lib.win-amd64-3.9\\pandas\\tests\\util\n",
      "    copying pandas\\tests\\util\\test_move.py -> build\\lib.win-amd64-3.9\\pandas\\tests\\util\n",
      "    copying pandas\\tests\\util\\test_safe_import.py -> build\\lib.win-amd64-3.9\\pandas\\tests\\util\n",
      "    copying pandas\\tests\\util\\test_util.py -> build\\lib.win-amd64-3.9\\pandas\\tests\\util\n",
      "    copying pandas\\tests\\util\\test_validate_args.py -> build\\lib.win-amd64-3.9\\pandas\\tests\\util\n",
      "    copying pandas\\tests\\util\\test_validate_args_and_kwargs.py -> build\\lib.win-amd64-3.9\\pandas\\tests\\util\n",
      "    copying pandas\\tests\\util\\test_validate_kwargs.py -> build\\lib.win-amd64-3.9\\pandas\\tests\\util\n",
      "    copying pandas\\tests\\util\\__init__.py -> build\\lib.win-amd64-3.9\\pandas\\tests\\util\n",
      "    creating build\\lib.win-amd64-3.9\\pandas\\tests\\arrays\\categorical\n",
      "    copying pandas\\tests\\arrays\\categorical\\common.py -> build\\lib.win-amd64-3.9\\pandas\\tests\\arrays\\categorical\n",
      "    copying pandas\\tests\\arrays\\categorical\\conftest.py -> build\\lib.win-amd64-3.9\\pandas\\tests\\arrays\\categorical\n",
      "    copying pandas\\tests\\arrays\\categorical\\test_algos.py -> build\\lib.win-amd64-3.9\\pandas\\tests\\arrays\\categorical\n",
      "    copying pandas\\tests\\arrays\\categorical\\test_analytics.py -> build\\lib.win-amd64-3.9\\pandas\\tests\\arrays\\categorical\n",
      "    copying pandas\\tests\\arrays\\categorical\\test_api.py -> build\\lib.win-amd64-3.9\\pandas\\tests\\arrays\\categorical\n",
      "    copying pandas\\tests\\arrays\\categorical\\test_constructors.py -> build\\lib.win-amd64-3.9\\pandas\\tests\\arrays\\categorical\n",
      "    copying pandas\\tests\\arrays\\categorical\\test_dtypes.py -> build\\lib.win-amd64-3.9\\pandas\\tests\\arrays\\categorical\n",
      "    copying pandas\\tests\\arrays\\categorical\\test_indexing.py -> build\\lib.win-amd64-3.9\\pandas\\tests\\arrays\\categorical\n",
      "    copying pandas\\tests\\arrays\\categorical\\test_missing.py -> build\\lib.win-amd64-3.9\\pandas\\tests\\arrays\\categorical\n",
      "    copying pandas\\tests\\arrays\\categorical\\test_operators.py -> build\\lib.win-amd64-3.9\\pandas\\tests\\arrays\\categorical\n",
      "    copying pandas\\tests\\arrays\\categorical\\test_repr.py -> build\\lib.win-amd64-3.9\\pandas\\tests\\arrays\\categorical\n",
      "    copying pandas\\tests\\arrays\\categorical\\test_sorting.py -> build\\lib.win-amd64-3.9\\pandas\\tests\\arrays\\categorical\n",
      "    copying pandas\\tests\\arrays\\categorical\\test_subclass.py -> build\\lib.win-amd64-3.9\\pandas\\tests\\arrays\\categorical\n",
      "    copying pandas\\tests\\arrays\\categorical\\test_warnings.py -> build\\lib.win-amd64-3.9\\pandas\\tests\\arrays\\categorical\n",
      "    copying pandas\\tests\\arrays\\categorical\\__init__.py -> build\\lib.win-amd64-3.9\\pandas\\tests\\arrays\\categorical\n",
      "    creating build\\lib.win-amd64-3.9\\pandas\\tests\\arrays\\interval\n",
      "    copying pandas\\tests\\arrays\\interval\\test_interval.py -> build\\lib.win-amd64-3.9\\pandas\\tests\\arrays\\interval\n",
      "    copying pandas\\tests\\arrays\\interval\\test_ops.py -> build\\lib.win-amd64-3.9\\pandas\\tests\\arrays\\interval\n",
      "    copying pandas\\tests\\arrays\\interval\\__init__.py -> build\\lib.win-amd64-3.9\\pandas\\tests\\arrays\\interval\n",
      "    creating build\\lib.win-amd64-3.9\\pandas\\tests\\arrays\\sparse\n",
      "    copying pandas\\tests\\arrays\\sparse\\test_arithmetics.py -> build\\lib.win-amd64-3.9\\pandas\\tests\\arrays\\sparse\n",
      "    copying pandas\\tests\\arrays\\sparse\\test_array.py -> build\\lib.win-amd64-3.9\\pandas\\tests\\arrays\\sparse\n",
      "    copying pandas\\tests\\arrays\\sparse\\test_dtype.py -> build\\lib.win-amd64-3.9\\pandas\\tests\\arrays\\sparse\n",
      "    copying pandas\\tests\\arrays\\sparse\\test_libsparse.py -> build\\lib.win-amd64-3.9\\pandas\\tests\\arrays\\sparse\n",
      "    copying pandas\\tests\\arrays\\sparse\\__init__.py -> build\\lib.win-amd64-3.9\\pandas\\tests\\arrays\\sparse\n",
      "    creating build\\lib.win-amd64-3.9\\pandas\\tests\\dtypes\\cast\n",
      "    copying pandas\\tests\\dtypes\\cast\\test_construct_from_scalar.py -> build\\lib.win-amd64-3.9\\pandas\\tests\\dtypes\\cast\n",
      "    copying pandas\\tests\\dtypes\\cast\\test_construct_ndarray.py -> build\\lib.win-amd64-3.9\\pandas\\tests\\dtypes\\cast\n",
      "    copying pandas\\tests\\dtypes\\cast\\test_construct_object_arr.py -> build\\lib.win-amd64-3.9\\pandas\\tests\\dtypes\\cast\n",
      "    copying pandas\\tests\\dtypes\\cast\\test_convert_objects.py -> build\\lib.win-amd64-3.9\\pandas\\tests\\dtypes\\cast\n",
      "    copying pandas\\tests\\dtypes\\cast\\test_downcast.py -> build\\lib.win-amd64-3.9\\pandas\\tests\\dtypes\\cast\n",
      "    copying pandas\\tests\\dtypes\\cast\\test_find_common_type.py -> build\\lib.win-amd64-3.9\\pandas\\tests\\dtypes\\cast\n",
      "    copying pandas\\tests\\dtypes\\cast\\test_infer_datetimelike.py -> build\\lib.win-amd64-3.9\\pandas\\tests\\dtypes\\cast\n",
      "    copying pandas\\tests\\dtypes\\cast\\test_infer_dtype.py -> build\\lib.win-amd64-3.9\\pandas\\tests\\dtypes\\cast\n",
      "    copying pandas\\tests\\dtypes\\cast\\__init__.py -> build\\lib.win-amd64-3.9\\pandas\\tests\\dtypes\\cast\n",
      "    creating build\\lib.win-amd64-3.9\\pandas\\tests\\extension\\arrow\n",
      "    copying pandas\\tests\\extension\\arrow\\bool.py -> build\\lib.win-amd64-3.9\\pandas\\tests\\extension\\arrow\n",
      "    copying pandas\\tests\\extension\\arrow\\test_bool.py -> build\\lib.win-amd64-3.9\\pandas\\tests\\extension\\arrow\n",
      "    copying pandas\\tests\\extension\\arrow\\__init__.py -> build\\lib.win-amd64-3.9\\pandas\\tests\\extension\\arrow\n",
      "    creating build\\lib.win-amd64-3.9\\pandas\\tests\\extension\\base\n",
      "    copying pandas\\tests\\extension\\base\\base.py -> build\\lib.win-amd64-3.9\\pandas\\tests\\extension\\base\n",
      "    copying pandas\\tests\\extension\\base\\casting.py -> build\\lib.win-amd64-3.9\\pandas\\tests\\extension\\base\n",
      "    copying pandas\\tests\\extension\\base\\constructors.py -> build\\lib.win-amd64-3.9\\pandas\\tests\\extension\\base\n",
      "    copying pandas\\tests\\extension\\base\\dtype.py -> build\\lib.win-amd64-3.9\\pandas\\tests\\extension\\base\n",
      "    copying pandas\\tests\\extension\\base\\getitem.py -> build\\lib.win-amd64-3.9\\pandas\\tests\\extension\\base\n",
      "    copying pandas\\tests\\extension\\base\\groupby.py -> build\\lib.win-amd64-3.9\\pandas\\tests\\extension\\base\n",
      "    copying pandas\\tests\\extension\\base\\interface.py -> build\\lib.win-amd64-3.9\\pandas\\tests\\extension\\base\n",
      "    copying pandas\\tests\\extension\\base\\io.py -> build\\lib.win-amd64-3.9\\pandas\\tests\\extension\\base\n",
      "    copying pandas\\tests\\extension\\base\\methods.py -> build\\lib.win-amd64-3.9\\pandas\\tests\\extension\\base\n",
      "    copying pandas\\tests\\extension\\base\\missing.py -> build\\lib.win-amd64-3.9\\pandas\\tests\\extension\\base\n",
      "    copying pandas\\tests\\extension\\base\\ops.py -> build\\lib.win-amd64-3.9\\pandas\\tests\\extension\\base\n",
      "    copying pandas\\tests\\extension\\base\\printing.py -> build\\lib.win-amd64-3.9\\pandas\\tests\\extension\\base\n",
      "    copying pandas\\tests\\extension\\base\\reduce.py -> build\\lib.win-amd64-3.9\\pandas\\tests\\extension\\base\n",
      "    copying pandas\\tests\\extension\\base\\reshaping.py -> build\\lib.win-amd64-3.9\\pandas\\tests\\extension\\base\n",
      "    copying pandas\\tests\\extension\\base\\setitem.py -> build\\lib.win-amd64-3.9\\pandas\\tests\\extension\\base\n",
      "    copying pandas\\tests\\extension\\base\\__init__.py -> build\\lib.win-amd64-3.9\\pandas\\tests\\extension\\base\n",
      "    creating build\\lib.win-amd64-3.9\\pandas\\tests\\extension\\decimal\n",
      "    copying pandas\\tests\\extension\\decimal\\array.py -> build\\lib.win-amd64-3.9\\pandas\\tests\\extension\\decimal\n",
      "    copying pandas\\tests\\extension\\decimal\\test_decimal.py -> build\\lib.win-amd64-3.9\\pandas\\tests\\extension\\decimal\n",
      "    copying pandas\\tests\\extension\\decimal\\__init__.py -> build\\lib.win-amd64-3.9\\pandas\\tests\\extension\\decimal\n",
      "    creating build\\lib.win-amd64-3.9\\pandas\\tests\\extension\\json\n",
      "    copying pandas\\tests\\extension\\json\\array.py -> build\\lib.win-amd64-3.9\\pandas\\tests\\extension\\json\n",
      "    copying pandas\\tests\\extension\\json\\test_json.py -> build\\lib.win-amd64-3.9\\pandas\\tests\\extension\\json\n",
      "    copying pandas\\tests\\extension\\json\\__init__.py -> build\\lib.win-amd64-3.9\\pandas\\tests\\extension\\json\n",
      "    creating build\\lib.win-amd64-3.9\\pandas\\tests\\extension\\numpy_\n",
      "    copying pandas\\tests\\extension\\numpy_\\conftest.py -> build\\lib.win-amd64-3.9\\pandas\\tests\\extension\\numpy_\n",
      "    copying pandas\\tests\\extension\\numpy_\\test_numpy.py -> build\\lib.win-amd64-3.9\\pandas\\tests\\extension\\numpy_\n",
      "    copying pandas\\tests\\extension\\numpy_\\test_numpy_nested.py -> build\\lib.win-amd64-3.9\\pandas\\tests\\extension\\numpy_\n",
      "    copying pandas\\tests\\extension\\numpy_\\__init__.py -> build\\lib.win-amd64-3.9\\pandas\\tests\\extension\\numpy_\n",
      "    creating build\\lib.win-amd64-3.9\\pandas\\tests\\groupby\\aggregate\n",
      "    copying pandas\\tests\\groupby\\aggregate\\test_aggregate.py -> build\\lib.win-amd64-3.9\\pandas\\tests\\groupby\\aggregate\n",
      "    copying pandas\\tests\\groupby\\aggregate\\test_cython.py -> build\\lib.win-amd64-3.9\\pandas\\tests\\groupby\\aggregate\n",
      "    copying pandas\\tests\\groupby\\aggregate\\test_other.py -> build\\lib.win-amd64-3.9\\pandas\\tests\\groupby\\aggregate\n",
      "    copying pandas\\tests\\groupby\\aggregate\\__init__.py -> build\\lib.win-amd64-3.9\\pandas\\tests\\groupby\\aggregate\n",
      "    creating build\\lib.win-amd64-3.9\\pandas\\tests\\indexes\\datetimes\n",
      "    copying pandas\\tests\\indexes\\datetimes\\test_arithmetic.py -> build\\lib.win-amd64-3.9\\pandas\\tests\\indexes\\datetimes\n",
      "    copying pandas\\tests\\indexes\\datetimes\\test_astype.py -> build\\lib.win-amd64-3.9\\pandas\\tests\\indexes\\datetimes\n",
      "    copying pandas\\tests\\indexes\\datetimes\\test_construction.py -> build\\lib.win-amd64-3.9\\pandas\\tests\\indexes\\datetimes\n",
      "    copying pandas\\tests\\indexes\\datetimes\\test_datetime.py -> build\\lib.win-amd64-3.9\\pandas\\tests\\indexes\\datetimes\n",
      "    copying pandas\\tests\\indexes\\datetimes\\test_datetimelike.py -> build\\lib.win-amd64-3.9\\pandas\\tests\\indexes\\datetimes\n",
      "    copying pandas\\tests\\indexes\\datetimes\\test_date_range.py -> build\\lib.win-amd64-3.9\\pandas\\tests\\indexes\\datetimes\n",
      "    copying pandas\\tests\\indexes\\datetimes\\test_formats.py -> build\\lib.win-amd64-3.9\\pandas\\tests\\indexes\\datetimes\n",
      "    copying pandas\\tests\\indexes\\datetimes\\test_indexing.py -> build\\lib.win-amd64-3.9\\pandas\\tests\\indexes\\datetimes\n",
      "    copying pandas\\tests\\indexes\\datetimes\\test_misc.py -> build\\lib.win-amd64-3.9\\pandas\\tests\\indexes\\datetimes\n",
      "    copying pandas\\tests\\indexes\\datetimes\\test_missing.py -> build\\lib.win-amd64-3.9\\pandas\\tests\\indexes\\datetimes\n",
      "    copying pandas\\tests\\indexes\\datetimes\\test_ops.py -> build\\lib.win-amd64-3.9\\pandas\\tests\\indexes\\datetimes\n",
      "    copying pandas\\tests\\indexes\\datetimes\\test_partial_slicing.py -> build\\lib.win-amd64-3.9\\pandas\\tests\\indexes\\datetimes\n",
      "    copying pandas\\tests\\indexes\\datetimes\\test_scalar_compat.py -> build\\lib.win-amd64-3.9\\pandas\\tests\\indexes\\datetimes\n",
      "    copying pandas\\tests\\indexes\\datetimes\\test_setops.py -> build\\lib.win-amd64-3.9\\pandas\\tests\\indexes\\datetimes\n",
      "    copying pandas\\tests\\indexes\\datetimes\\test_timezones.py -> build\\lib.win-amd64-3.9\\pandas\\tests\\indexes\\datetimes\n",
      "    copying pandas\\tests\\indexes\\datetimes\\test_tools.py -> build\\lib.win-amd64-3.9\\pandas\\tests\\indexes\\datetimes\n",
      "    copying pandas\\tests\\indexes\\datetimes\\__init__.py -> build\\lib.win-amd64-3.9\\pandas\\tests\\indexes\\datetimes\n",
      "    creating build\\lib.win-amd64-3.9\\pandas\\tests\\indexes\\interval\n",
      "    copying pandas\\tests\\indexes\\interval\\test_astype.py -> build\\lib.win-amd64-3.9\\pandas\\tests\\indexes\\interval\n",
      "    copying pandas\\tests\\indexes\\interval\\test_construction.py -> build\\lib.win-amd64-3.9\\pandas\\tests\\indexes\\interval\n",
      "    copying pandas\\tests\\indexes\\interval\\test_interval.py -> build\\lib.win-amd64-3.9\\pandas\\tests\\indexes\\interval\n",
      "    copying pandas\\tests\\indexes\\interval\\test_interval_new.py -> build\\lib.win-amd64-3.9\\pandas\\tests\\indexes\\interval\n",
      "    copying pandas\\tests\\indexes\\interval\\test_interval_range.py -> build\\lib.win-amd64-3.9\\pandas\\tests\\indexes\\interval\n",
      "    copying pandas\\tests\\indexes\\interval\\test_interval_tree.py -> build\\lib.win-amd64-3.9\\pandas\\tests\\indexes\\interval\n",
      "    copying pandas\\tests\\indexes\\interval\\__init__.py -> build\\lib.win-amd64-3.9\\pandas\\tests\\indexes\\interval\n",
      "    creating build\\lib.win-amd64-3.9\\pandas\\tests\\indexes\\multi\n",
      "    copying pandas\\tests\\indexes\\multi\\conftest.py -> build\\lib.win-amd64-3.9\\pandas\\tests\\indexes\\multi\n",
      "    copying pandas\\tests\\indexes\\multi\\test_analytics.py -> build\\lib.win-amd64-3.9\\pandas\\tests\\indexes\\multi\n",
      "    copying pandas\\tests\\indexes\\multi\\test_astype.py -> build\\lib.win-amd64-3.9\\pandas\\tests\\indexes\\multi\n",
      "    copying pandas\\tests\\indexes\\multi\\test_compat.py -> build\\lib.win-amd64-3.9\\pandas\\tests\\indexes\\multi\n",
      "    copying pandas\\tests\\indexes\\multi\\test_constructor.py -> build\\lib.win-amd64-3.9\\pandas\\tests\\indexes\\multi\n",
      "    copying pandas\\tests\\indexes\\multi\\test_contains.py -> build\\lib.win-amd64-3.9\\pandas\\tests\\indexes\\multi\n",
      "    copying pandas\\tests\\indexes\\multi\\test_conversion.py -> build\\lib.win-amd64-3.9\\pandas\\tests\\indexes\\multi\n",
      "    copying pandas\\tests\\indexes\\multi\\test_copy.py -> build\\lib.win-amd64-3.9\\pandas\\tests\\indexes\\multi\n",
      "    copying pandas\\tests\\indexes\\multi\\test_drop.py -> build\\lib.win-amd64-3.9\\pandas\\tests\\indexes\\multi\n",
      "    copying pandas\\tests\\indexes\\multi\\test_duplicates.py -> build\\lib.win-amd64-3.9\\pandas\\tests\\indexes\\multi\n",
      "    copying pandas\\tests\\indexes\\multi\\test_equivalence.py -> build\\lib.win-amd64-3.9\\pandas\\tests\\indexes\\multi\n",
      "    copying pandas\\tests\\indexes\\multi\\test_format.py -> build\\lib.win-amd64-3.9\\pandas\\tests\\indexes\\multi\n",
      "    copying pandas\\tests\\indexes\\multi\\test_get_set.py -> build\\lib.win-amd64-3.9\\pandas\\tests\\indexes\\multi\n",
      "    copying pandas\\tests\\indexes\\multi\\test_indexing.py -> build\\lib.win-amd64-3.9\\pandas\\tests\\indexes\\multi\n",
      "    copying pandas\\tests\\indexes\\multi\\test_integrity.py -> build\\lib.win-amd64-3.9\\pandas\\tests\\indexes\\multi\n",
      "    copying pandas\\tests\\indexes\\multi\\test_join.py -> build\\lib.win-amd64-3.9\\pandas\\tests\\indexes\\multi\n",
      "    copying pandas\\tests\\indexes\\multi\\test_missing.py -> build\\lib.win-amd64-3.9\\pandas\\tests\\indexes\\multi\n",
      "    copying pandas\\tests\\indexes\\multi\\test_monotonic.py -> build\\lib.win-amd64-3.9\\pandas\\tests\\indexes\\multi\n",
      "    copying pandas\\tests\\indexes\\multi\\test_names.py -> build\\lib.win-amd64-3.9\\pandas\\tests\\indexes\\multi\n",
      "    copying pandas\\tests\\indexes\\multi\\test_partial_indexing.py -> build\\lib.win-amd64-3.9\\pandas\\tests\\indexes\\multi\n",
      "    copying pandas\\tests\\indexes\\multi\\test_reindex.py -> build\\lib.win-amd64-3.9\\pandas\\tests\\indexes\\multi\n",
      "    copying pandas\\tests\\indexes\\multi\\test_reshape.py -> build\\lib.win-amd64-3.9\\pandas\\tests\\indexes\\multi\n",
      "    copying pandas\\tests\\indexes\\multi\\test_set_ops.py -> build\\lib.win-amd64-3.9\\pandas\\tests\\indexes\\multi\n",
      "    copying pandas\\tests\\indexes\\multi\\test_sorting.py -> build\\lib.win-amd64-3.9\\pandas\\tests\\indexes\\multi\n",
      "    copying pandas\\tests\\indexes\\multi\\__init__.py -> build\\lib.win-amd64-3.9\\pandas\\tests\\indexes\\multi\n",
      "    creating build\\lib.win-amd64-3.9\\pandas\\tests\\indexes\\period\n",
      "    copying pandas\\tests\\indexes\\period\\test_arithmetic.py -> build\\lib.win-amd64-3.9\\pandas\\tests\\indexes\\period\n",
      "    copying pandas\\tests\\indexes\\period\\test_asfreq.py -> build\\lib.win-amd64-3.9\\pandas\\tests\\indexes\\period\n",
      "    copying pandas\\tests\\indexes\\period\\test_astype.py -> build\\lib.win-amd64-3.9\\pandas\\tests\\indexes\\period\n",
      "    copying pandas\\tests\\indexes\\period\\test_construction.py -> build\\lib.win-amd64-3.9\\pandas\\tests\\indexes\\period\n",
      "    copying pandas\\tests\\indexes\\period\\test_formats.py -> build\\lib.win-amd64-3.9\\pandas\\tests\\indexes\\period\n",
      "    copying pandas\\tests\\indexes\\period\\test_indexing.py -> build\\lib.win-amd64-3.9\\pandas\\tests\\indexes\\period\n",
      "    copying pandas\\tests\\indexes\\period\\test_ops.py -> build\\lib.win-amd64-3.9\\pandas\\tests\\indexes\\period\n",
      "    copying pandas\\tests\\indexes\\period\\test_partial_slicing.py -> build\\lib.win-amd64-3.9\\pandas\\tests\\indexes\\period\n",
      "    copying pandas\\tests\\indexes\\period\\test_period.py -> build\\lib.win-amd64-3.9\\pandas\\tests\\indexes\\period\n",
      "    copying pandas\\tests\\indexes\\period\\test_period_range.py -> build\\lib.win-amd64-3.9\\pandas\\tests\\indexes\\period\n",
      "    copying pandas\\tests\\indexes\\period\\test_scalar_compat.py -> build\\lib.win-amd64-3.9\\pandas\\tests\\indexes\\period\n",
      "    copying pandas\\tests\\indexes\\period\\test_setops.py -> build\\lib.win-amd64-3.9\\pandas\\tests\\indexes\\period\n",
      "    copying pandas\\tests\\indexes\\period\\test_tools.py -> build\\lib.win-amd64-3.9\\pandas\\tests\\indexes\\period\n",
      "    copying pandas\\tests\\indexes\\period\\__init__.py -> build\\lib.win-amd64-3.9\\pandas\\tests\\indexes\\period\n",
      "    creating build\\lib.win-amd64-3.9\\pandas\\tests\\indexes\\timedeltas\n",
      "    copying pandas\\tests\\indexes\\timedeltas\\test_arithmetic.py -> build\\lib.win-amd64-3.9\\pandas\\tests\\indexes\\timedeltas\n",
      "    copying pandas\\tests\\indexes\\timedeltas\\test_astype.py -> build\\lib.win-amd64-3.9\\pandas\\tests\\indexes\\timedeltas\n",
      "    copying pandas\\tests\\indexes\\timedeltas\\test_construction.py -> build\\lib.win-amd64-3.9\\pandas\\tests\\indexes\\timedeltas\n",
      "    copying pandas\\tests\\indexes\\timedeltas\\test_formats.py -> build\\lib.win-amd64-3.9\\pandas\\tests\\indexes\\timedeltas\n",
      "    copying pandas\\tests\\indexes\\timedeltas\\test_indexing.py -> build\\lib.win-amd64-3.9\\pandas\\tests\\indexes\\timedeltas\n",
      "    copying pandas\\tests\\indexes\\timedeltas\\test_ops.py -> build\\lib.win-amd64-3.9\\pandas\\tests\\indexes\\timedeltas\n",
      "    copying pandas\\tests\\indexes\\timedeltas\\test_partial_slicing.py -> build\\lib.win-amd64-3.9\\pandas\\tests\\indexes\\timedeltas\n",
      "    copying pandas\\tests\\indexes\\timedeltas\\test_scalar_compat.py -> build\\lib.win-amd64-3.9\\pandas\\tests\\indexes\\timedeltas\n",
      "    copying pandas\\tests\\indexes\\timedeltas\\test_setops.py -> build\\lib.win-amd64-3.9\\pandas\\tests\\indexes\\timedeltas\n",
      "    copying pandas\\tests\\indexes\\timedeltas\\test_timedelta.py -> build\\lib.win-amd64-3.9\\pandas\\tests\\indexes\\timedeltas\n",
      "    copying pandas\\tests\\indexes\\timedeltas\\test_timedelta_range.py -> build\\lib.win-amd64-3.9\\pandas\\tests\\indexes\\timedeltas\n",
      "    copying pandas\\tests\\indexes\\timedeltas\\test_tools.py -> build\\lib.win-amd64-3.9\\pandas\\tests\\indexes\\timedeltas\n",
      "    copying pandas\\tests\\indexes\\timedeltas\\__init__.py -> build\\lib.win-amd64-3.9\\pandas\\tests\\indexes\\timedeltas\n",
      "    creating build\\lib.win-amd64-3.9\\pandas\\tests\\indexing\\interval\n",
      "    copying pandas\\tests\\indexing\\interval\\test_interval.py -> build\\lib.win-amd64-3.9\\pandas\\tests\\indexing\\interval\n",
      "    copying pandas\\tests\\indexing\\interval\\test_interval_new.py -> build\\lib.win-amd64-3.9\\pandas\\tests\\indexing\\interval\n",
      "    copying pandas\\tests\\indexing\\interval\\__init__.py -> build\\lib.win-amd64-3.9\\pandas\\tests\\indexing\\interval\n",
      "    creating build\\lib.win-amd64-3.9\\pandas\\tests\\indexing\\multiindex\n",
      "    copying pandas\\tests\\indexing\\multiindex\\conftest.py -> build\\lib.win-amd64-3.9\\pandas\\tests\\indexing\\multiindex\n",
      "    copying pandas\\tests\\indexing\\multiindex\\test_chaining_and_caching.py -> build\\lib.win-amd64-3.9\\pandas\\tests\\indexing\\multiindex\n",
      "    copying pandas\\tests\\indexing\\multiindex\\test_datetime.py -> build\\lib.win-amd64-3.9\\pandas\\tests\\indexing\\multiindex\n",
      "    copying pandas\\tests\\indexing\\multiindex\\test_getitem.py -> build\\lib.win-amd64-3.9\\pandas\\tests\\indexing\\multiindex\n",
      "    copying pandas\\tests\\indexing\\multiindex\\test_iloc.py -> build\\lib.win-amd64-3.9\\pandas\\tests\\indexing\\multiindex\n",
      "    copying pandas\\tests\\indexing\\multiindex\\test_indexing_slow.py -> build\\lib.win-amd64-3.9\\pandas\\tests\\indexing\\multiindex\n",
      "    copying pandas\\tests\\indexing\\multiindex\\test_ix.py -> build\\lib.win-amd64-3.9\\pandas\\tests\\indexing\\multiindex\n",
      "    copying pandas\\tests\\indexing\\multiindex\\test_loc.py -> build\\lib.win-amd64-3.9\\pandas\\tests\\indexing\\multiindex\n",
      "    copying pandas\\tests\\indexing\\multiindex\\test_multiindex.py -> build\\lib.win-amd64-3.9\\pandas\\tests\\indexing\\multiindex\n",
      "    copying pandas\\tests\\indexing\\multiindex\\test_panel.py -> build\\lib.win-amd64-3.9\\pandas\\tests\\indexing\\multiindex\n",
      "    copying pandas\\tests\\indexing\\multiindex\\test_partial.py -> build\\lib.win-amd64-3.9\\pandas\\tests\\indexing\\multiindex\n",
      "    copying pandas\\tests\\indexing\\multiindex\\test_setitem.py -> build\\lib.win-amd64-3.9\\pandas\\tests\\indexing\\multiindex\n",
      "    copying pandas\\tests\\indexing\\multiindex\\test_set_ops.py -> build\\lib.win-amd64-3.9\\pandas\\tests\\indexing\\multiindex\n",
      "    copying pandas\\tests\\indexing\\multiindex\\test_slice.py -> build\\lib.win-amd64-3.9\\pandas\\tests\\indexing\\multiindex\n",
      "    copying pandas\\tests\\indexing\\multiindex\\test_sorted.py -> build\\lib.win-amd64-3.9\\pandas\\tests\\indexing\\multiindex\n",
      "    copying pandas\\tests\\indexing\\multiindex\\test_xs.py -> build\\lib.win-amd64-3.9\\pandas\\tests\\indexing\\multiindex\n",
      "    copying pandas\\tests\\indexing\\multiindex\\__init__.py -> build\\lib.win-amd64-3.9\\pandas\\tests\\indexing\\multiindex\n",
      "    creating build\\lib.win-amd64-3.9\\pandas\\tests\\io\\formats\n",
      "    copying pandas\\tests\\io\\formats\\test_console.py -> build\\lib.win-amd64-3.9\\pandas\\tests\\io\\formats\n",
      "    copying pandas\\tests\\io\\formats\\test_css.py -> build\\lib.win-amd64-3.9\\pandas\\tests\\io\\formats\n",
      "    copying pandas\\tests\\io\\formats\\test_eng_formatting.py -> build\\lib.win-amd64-3.9\\pandas\\tests\\io\\formats\n",
      "    copying pandas\\tests\\io\\formats\\test_format.py -> build\\lib.win-amd64-3.9\\pandas\\tests\\io\\formats\n",
      "    copying pandas\\tests\\io\\formats\\test_printing.py -> build\\lib.win-amd64-3.9\\pandas\\tests\\io\\formats\n",
      "    copying pandas\\tests\\io\\formats\\test_style.py -> build\\lib.win-amd64-3.9\\pandas\\tests\\io\\formats\n",
      "    copying pandas\\tests\\io\\formats\\test_to_csv.py -> build\\lib.win-amd64-3.9\\pandas\\tests\\io\\formats\n",
      "    copying pandas\\tests\\io\\formats\\test_to_excel.py -> build\\lib.win-amd64-3.9\\pandas\\tests\\io\\formats\n",
      "    copying pandas\\tests\\io\\formats\\test_to_html.py -> build\\lib.win-amd64-3.9\\pandas\\tests\\io\\formats\n",
      "    copying pandas\\tests\\io\\formats\\test_to_latex.py -> build\\lib.win-amd64-3.9\\pandas\\tests\\io\\formats\n",
      "    copying pandas\\tests\\io\\formats\\__init__.py -> build\\lib.win-amd64-3.9\\pandas\\tests\\io\\formats\n",
      "    creating build\\lib.win-amd64-3.9\\pandas\\tests\\io\\json\n",
      "    copying pandas\\tests\\io\\json\\test_compression.py -> build\\lib.win-amd64-3.9\\pandas\\tests\\io\\json\n",
      "    copying pandas\\tests\\io\\json\\test_json_table_schema.py -> build\\lib.win-amd64-3.9\\pandas\\tests\\io\\json\n",
      "    copying pandas\\tests\\io\\json\\test_normalize.py -> build\\lib.win-amd64-3.9\\pandas\\tests\\io\\json\n",
      "    copying pandas\\tests\\io\\json\\test_pandas.py -> build\\lib.win-amd64-3.9\\pandas\\tests\\io\\json\n",
      "    copying pandas\\tests\\io\\json\\test_readlines.py -> build\\lib.win-amd64-3.9\\pandas\\tests\\io\\json\n",
      "    copying pandas\\tests\\io\\json\\test_ujson.py -> build\\lib.win-amd64-3.9\\pandas\\tests\\io\\json\n",
      "    copying pandas\\tests\\io\\json\\__init__.py -> build\\lib.win-amd64-3.9\\pandas\\tests\\io\\json\n",
      "    creating build\\lib.win-amd64-3.9\\pandas\\tests\\io\\msgpack\n",
      "    copying pandas\\tests\\io\\msgpack\\common.py -> build\\lib.win-amd64-3.9\\pandas\\tests\\io\\msgpack\n",
      "    copying pandas\\tests\\io\\msgpack\\test_buffer.py -> build\\lib.win-amd64-3.9\\pandas\\tests\\io\\msgpack\n",
      "    copying pandas\\tests\\io\\msgpack\\test_case.py -> build\\lib.win-amd64-3.9\\pandas\\tests\\io\\msgpack\n",
      "    copying pandas\\tests\\io\\msgpack\\test_except.py -> build\\lib.win-amd64-3.9\\pandas\\tests\\io\\msgpack\n",
      "    copying pandas\\tests\\io\\msgpack\\test_extension.py -> build\\lib.win-amd64-3.9\\pandas\\tests\\io\\msgpack\n",
      "    copying pandas\\tests\\io\\msgpack\\test_format.py -> build\\lib.win-amd64-3.9\\pandas\\tests\\io\\msgpack\n",
      "    copying pandas\\tests\\io\\msgpack\\test_limits.py -> build\\lib.win-amd64-3.9\\pandas\\tests\\io\\msgpack\n",
      "    copying pandas\\tests\\io\\msgpack\\test_newspec.py -> build\\lib.win-amd64-3.9\\pandas\\tests\\io\\msgpack\n",
      "    copying pandas\\tests\\io\\msgpack\\test_obj.py -> build\\lib.win-amd64-3.9\\pandas\\tests\\io\\msgpack\n",
      "    copying pandas\\tests\\io\\msgpack\\test_pack.py -> build\\lib.win-amd64-3.9\\pandas\\tests\\io\\msgpack\n",
      "    copying pandas\\tests\\io\\msgpack\\test_read_size.py -> build\\lib.win-amd64-3.9\\pandas\\tests\\io\\msgpack\n",
      "    copying pandas\\tests\\io\\msgpack\\test_seq.py -> build\\lib.win-amd64-3.9\\pandas\\tests\\io\\msgpack\n",
      "    copying pandas\\tests\\io\\msgpack\\test_sequnpack.py -> build\\lib.win-amd64-3.9\\pandas\\tests\\io\\msgpack\n",
      "    copying pandas\\tests\\io\\msgpack\\test_subtype.py -> build\\lib.win-amd64-3.9\\pandas\\tests\\io\\msgpack\n",
      "    copying pandas\\tests\\io\\msgpack\\test_unpack.py -> build\\lib.win-amd64-3.9\\pandas\\tests\\io\\msgpack\n",
      "    copying pandas\\tests\\io\\msgpack\\test_unpack_raw.py -> build\\lib.win-amd64-3.9\\pandas\\tests\\io\\msgpack\n",
      "    copying pandas\\tests\\io\\msgpack\\__init__.py -> build\\lib.win-amd64-3.9\\pandas\\tests\\io\\msgpack\n",
      "    creating build\\lib.win-amd64-3.9\\pandas\\tests\\io\\parser\n",
      "    copying pandas\\tests\\io\\parser\\conftest.py -> build\\lib.win-amd64-3.9\\pandas\\tests\\io\\parser\n",
      "    copying pandas\\tests\\io\\parser\\test_comment.py -> build\\lib.win-amd64-3.9\\pandas\\tests\\io\\parser\n",
      "    copying pandas\\tests\\io\\parser\\test_common.py -> build\\lib.win-amd64-3.9\\pandas\\tests\\io\\parser\n",
      "    copying pandas\\tests\\io\\parser\\test_compression.py -> build\\lib.win-amd64-3.9\\pandas\\tests\\io\\parser\n",
      "    copying pandas\\tests\\io\\parser\\test_converters.py -> build\\lib.win-amd64-3.9\\pandas\\tests\\io\\parser\n",
      "    copying pandas\\tests\\io\\parser\\test_c_parser_only.py -> build\\lib.win-amd64-3.9\\pandas\\tests\\io\\parser\n",
      "    copying pandas\\tests\\io\\parser\\test_dialect.py -> build\\lib.win-amd64-3.9\\pandas\\tests\\io\\parser\n",
      "    copying pandas\\tests\\io\\parser\\test_dtypes.py -> build\\lib.win-amd64-3.9\\pandas\\tests\\io\\parser\n",
      "    copying pandas\\tests\\io\\parser\\test_header.py -> build\\lib.win-amd64-3.9\\pandas\\tests\\io\\parser\n",
      "    copying pandas\\tests\\io\\parser\\test_index_col.py -> build\\lib.win-amd64-3.9\\pandas\\tests\\io\\parser\n",
      "    copying pandas\\tests\\io\\parser\\test_mangle_dupes.py -> build\\lib.win-amd64-3.9\\pandas\\tests\\io\\parser\n",
      "    copying pandas\\tests\\io\\parser\\test_multi_thread.py -> build\\lib.win-amd64-3.9\\pandas\\tests\\io\\parser\n",
      "    copying pandas\\tests\\io\\parser\\test_na_values.py -> build\\lib.win-amd64-3.9\\pandas\\tests\\io\\parser\n",
      "    copying pandas\\tests\\io\\parser\\test_network.py -> build\\lib.win-amd64-3.9\\pandas\\tests\\io\\parser\n",
      "    copying pandas\\tests\\io\\parser\\test_parse_dates.py -> build\\lib.win-amd64-3.9\\pandas\\tests\\io\\parser\n",
      "    copying pandas\\tests\\io\\parser\\test_python_parser_only.py -> build\\lib.win-amd64-3.9\\pandas\\tests\\io\\parser\n",
      "    copying pandas\\tests\\io\\parser\\test_quoting.py -> build\\lib.win-amd64-3.9\\pandas\\tests\\io\\parser\n",
      "    copying pandas\\tests\\io\\parser\\test_read_fwf.py -> build\\lib.win-amd64-3.9\\pandas\\tests\\io\\parser\n",
      "    copying pandas\\tests\\io\\parser\\test_skiprows.py -> build\\lib.win-amd64-3.9\\pandas\\tests\\io\\parser\n",
      "    copying pandas\\tests\\io\\parser\\test_textreader.py -> build\\lib.win-amd64-3.9\\pandas\\tests\\io\\parser\n",
      "    copying pandas\\tests\\io\\parser\\test_unsupported.py -> build\\lib.win-amd64-3.9\\pandas\\tests\\io\\parser\n",
      "    copying pandas\\tests\\io\\parser\\test_usecols.py -> build\\lib.win-amd64-3.9\\pandas\\tests\\io\\parser\n",
      "    copying pandas\\tests\\io\\parser\\__init__.py -> build\\lib.win-amd64-3.9\\pandas\\tests\\io\\parser\n",
      "    creating build\\lib.win-amd64-3.9\\pandas\\tests\\io\\sas\n",
      "    copying pandas\\tests\\io\\sas\\test_sas.py -> build\\lib.win-amd64-3.9\\pandas\\tests\\io\\sas\n",
      "    copying pandas\\tests\\io\\sas\\test_sas7bdat.py -> build\\lib.win-amd64-3.9\\pandas\\tests\\io\\sas\n",
      "    copying pandas\\tests\\io\\sas\\test_xport.py -> build\\lib.win-amd64-3.9\\pandas\\tests\\io\\sas\n",
      "    copying pandas\\tests\\io\\sas\\__init__.py -> build\\lib.win-amd64-3.9\\pandas\\tests\\io\\sas\n",
      "    creating build\\lib.win-amd64-3.9\\pandas\\tests\\reshape\\merge\n",
      "    copying pandas\\tests\\reshape\\merge\\test_join.py -> build\\lib.win-amd64-3.9\\pandas\\tests\\reshape\\merge\n",
      "    copying pandas\\tests\\reshape\\merge\\test_merge.py -> build\\lib.win-amd64-3.9\\pandas\\tests\\reshape\\merge\n",
      "    copying pandas\\tests\\reshape\\merge\\test_merge_asof.py -> build\\lib.win-amd64-3.9\\pandas\\tests\\reshape\\merge\n",
      "    copying pandas\\tests\\reshape\\merge\\test_merge_index_as_string.py -> build\\lib.win-amd64-3.9\\pandas\\tests\\reshape\\merge\n",
      "    copying pandas\\tests\\reshape\\merge\\test_merge_ordered.py -> build\\lib.win-amd64-3.9\\pandas\\tests\\reshape\\merge\n",
      "    copying pandas\\tests\\reshape\\merge\\test_multi.py -> build\\lib.win-amd64-3.9\\pandas\\tests\\reshape\\merge\n",
      "    copying pandas\\tests\\reshape\\merge\\__init__.py -> build\\lib.win-amd64-3.9\\pandas\\tests\\reshape\\merge\n",
      "    creating build\\lib.win-amd64-3.9\\pandas\\tests\\scalar\\interval\n",
      "    copying pandas\\tests\\scalar\\interval\\test_interval.py -> build\\lib.win-amd64-3.9\\pandas\\tests\\scalar\\interval\n",
      "    copying pandas\\tests\\scalar\\interval\\test_ops.py -> build\\lib.win-amd64-3.9\\pandas\\tests\\scalar\\interval\n",
      "    copying pandas\\tests\\scalar\\interval\\__init__.py -> build\\lib.win-amd64-3.9\\pandas\\tests\\scalar\\interval\n",
      "    creating build\\lib.win-amd64-3.9\\pandas\\tests\\scalar\\period\n",
      "    copying pandas\\tests\\scalar\\period\\test_asfreq.py -> build\\lib.win-amd64-3.9\\pandas\\tests\\scalar\\period\n",
      "    copying pandas\\tests\\scalar\\period\\test_period.py -> build\\lib.win-amd64-3.9\\pandas\\tests\\scalar\\period\n",
      "    copying pandas\\tests\\scalar\\period\\__init__.py -> build\\lib.win-amd64-3.9\\pandas\\tests\\scalar\\period\n",
      "    creating build\\lib.win-amd64-3.9\\pandas\\tests\\scalar\\timedelta\n",
      "    copying pandas\\tests\\scalar\\timedelta\\test_arithmetic.py -> build\\lib.win-amd64-3.9\\pandas\\tests\\scalar\\timedelta\n",
      "    copying pandas\\tests\\scalar\\timedelta\\test_construction.py -> build\\lib.win-amd64-3.9\\pandas\\tests\\scalar\\timedelta\n",
      "    copying pandas\\tests\\scalar\\timedelta\\test_formats.py -> build\\lib.win-amd64-3.9\\pandas\\tests\\scalar\\timedelta\n",
      "    copying pandas\\tests\\scalar\\timedelta\\test_timedelta.py -> build\\lib.win-amd64-3.9\\pandas\\tests\\scalar\\timedelta\n",
      "    copying pandas\\tests\\scalar\\timedelta\\__init__.py -> build\\lib.win-amd64-3.9\\pandas\\tests\\scalar\\timedelta\n",
      "    creating build\\lib.win-amd64-3.9\\pandas\\tests\\scalar\\timestamp\n",
      "    copying pandas\\tests\\scalar\\timestamp\\test_arithmetic.py -> build\\lib.win-amd64-3.9\\pandas\\tests\\scalar\\timestamp\n",
      "    copying pandas\\tests\\scalar\\timestamp\\test_comparisons.py -> build\\lib.win-amd64-3.9\\pandas\\tests\\scalar\\timestamp\n",
      "    copying pandas\\tests\\scalar\\timestamp\\test_rendering.py -> build\\lib.win-amd64-3.9\\pandas\\tests\\scalar\\timestamp\n",
      "    copying pandas\\tests\\scalar\\timestamp\\test_timestamp.py -> build\\lib.win-amd64-3.9\\pandas\\tests\\scalar\\timestamp\n",
      "    copying pandas\\tests\\scalar\\timestamp\\test_timezones.py -> build\\lib.win-amd64-3.9\\pandas\\tests\\scalar\\timestamp\n",
      "    copying pandas\\tests\\scalar\\timestamp\\test_unary_ops.py -> build\\lib.win-amd64-3.9\\pandas\\tests\\scalar\\timestamp\n",
      "    copying pandas\\tests\\scalar\\timestamp\\__init__.py -> build\\lib.win-amd64-3.9\\pandas\\tests\\scalar\\timestamp\n",
      "    creating build\\lib.win-amd64-3.9\\pandas\\tests\\series\\indexing\n",
      "    copying pandas\\tests\\series\\indexing\\conftest.py -> build\\lib.win-amd64-3.9\\pandas\\tests\\series\\indexing\n",
      "    copying pandas\\tests\\series\\indexing\\test_alter_index.py -> build\\lib.win-amd64-3.9\\pandas\\tests\\series\\indexing\n",
      "    copying pandas\\tests\\series\\indexing\\test_boolean.py -> build\\lib.win-amd64-3.9\\pandas\\tests\\series\\indexing\n",
      "    copying pandas\\tests\\series\\indexing\\test_callable.py -> build\\lib.win-amd64-3.9\\pandas\\tests\\series\\indexing\n",
      "    copying pandas\\tests\\series\\indexing\\test_datetime.py -> build\\lib.win-amd64-3.9\\pandas\\tests\\series\\indexing\n",
      "    copying pandas\\tests\\series\\indexing\\test_iloc.py -> build\\lib.win-amd64-3.9\\pandas\\tests\\series\\indexing\n",
      "    copying pandas\\tests\\series\\indexing\\test_indexing.py -> build\\lib.win-amd64-3.9\\pandas\\tests\\series\\indexing\n",
      "    copying pandas\\tests\\series\\indexing\\test_loc.py -> build\\lib.win-amd64-3.9\\pandas\\tests\\series\\indexing\n",
      "    copying pandas\\tests\\series\\indexing\\test_numeric.py -> build\\lib.win-amd64-3.9\\pandas\\tests\\series\\indexing\n",
      "    copying pandas\\tests\\series\\indexing\\__init__.py -> build\\lib.win-amd64-3.9\\pandas\\tests\\series\\indexing\n",
      "    creating build\\lib.win-amd64-3.9\\pandas\\tests\\sparse\\frame\n",
      "    copying pandas\\tests\\sparse\\frame\\conftest.py -> build\\lib.win-amd64-3.9\\pandas\\tests\\sparse\\frame\n",
      "    copying pandas\\tests\\sparse\\frame\\test_analytics.py -> build\\lib.win-amd64-3.9\\pandas\\tests\\sparse\\frame\n",
      "    copying pandas\\tests\\sparse\\frame\\test_apply.py -> build\\lib.win-amd64-3.9\\pandas\\tests\\sparse\\frame\n",
      "    copying pandas\\tests\\sparse\\frame\\test_frame.py -> build\\lib.win-amd64-3.9\\pandas\\tests\\sparse\\frame\n",
      "    copying pandas\\tests\\sparse\\frame\\test_indexing.py -> build\\lib.win-amd64-3.9\\pandas\\tests\\sparse\\frame\n",
      "    copying pandas\\tests\\sparse\\frame\\test_to_csv.py -> build\\lib.win-amd64-3.9\\pandas\\tests\\sparse\\frame\n",
      "    copying pandas\\tests\\sparse\\frame\\test_to_from_scipy.py -> build\\lib.win-amd64-3.9\\pandas\\tests\\sparse\\frame\n",
      "    copying pandas\\tests\\sparse\\frame\\__init__.py -> build\\lib.win-amd64-3.9\\pandas\\tests\\sparse\\frame\n",
      "    creating build\\lib.win-amd64-3.9\\pandas\\tests\\sparse\\series\n",
      "    copying pandas\\tests\\sparse\\series\\test_indexing.py -> build\\lib.win-amd64-3.9\\pandas\\tests\\sparse\\series\n",
      "    copying pandas\\tests\\sparse\\series\\test_series.py -> build\\lib.win-amd64-3.9\\pandas\\tests\\sparse\\series\n",
      "    copying pandas\\tests\\sparse\\series\\__init__.py -> build\\lib.win-amd64-3.9\\pandas\\tests\\sparse\\series\n",
      "    creating build\\lib.win-amd64-3.9\\pandas\\tests\\tseries\\offsets\n",
      "    copying pandas\\tests\\tseries\\offsets\\common.py -> build\\lib.win-amd64-3.9\\pandas\\tests\\tseries\\offsets\n",
      "    copying pandas\\tests\\tseries\\offsets\\conftest.py -> build\\lib.win-amd64-3.9\\pandas\\tests\\tseries\\offsets\n",
      "    copying pandas\\tests\\tseries\\offsets\\test_fiscal.py -> build\\lib.win-amd64-3.9\\pandas\\tests\\tseries\\offsets\n",
      "    copying pandas\\tests\\tseries\\offsets\\test_offsets.py -> build\\lib.win-amd64-3.9\\pandas\\tests\\tseries\\offsets\n",
      "    copying pandas\\tests\\tseries\\offsets\\test_offsets_properties.py -> build\\lib.win-amd64-3.9\\pandas\\tests\\tseries\\offsets\n",
      "    copying pandas\\tests\\tseries\\offsets\\test_ticks.py -> build\\lib.win-amd64-3.9\\pandas\\tests\\tseries\\offsets\n",
      "    copying pandas\\tests\\tseries\\offsets\\test_yqm_offsets.py -> build\\lib.win-amd64-3.9\\pandas\\tests\\tseries\\offsets\n",
      "    copying pandas\\tests\\tseries\\offsets\\__init__.py -> build\\lib.win-amd64-3.9\\pandas\\tests\\tseries\\offsets\n",
      "    creating build\\lib.win-amd64-3.9\\pandas\\_libs\\tslibs\n",
      "    copying pandas\\_libs\\tslibs\\__init__.py -> build\\lib.win-amd64-3.9\\pandas\\_libs\\tslibs\n",
      "    creating build\\lib.win-amd64-3.9\\pandas\\io\\formats\\templates\n",
      "    copying pandas\\io\\formats\\templates\\html.tpl -> build\\lib.win-amd64-3.9\\pandas\\io\\formats\\templates\n",
      "    UPDATING build\\lib.win-amd64-3.9\\pandas/_version.py\n",
      "    set build\\lib.win-amd64-3.9\\pandas/_version.py to '0.24.2'\n",
      "    running build_ext\n",
      "    building 'pandas._libs.algos' extension\n",
      "    error: Microsoft Visual C++ 14.0 or greater is required. Get it with \"Microsoft C++ Build Tools\": https://visualstudio.microsoft.com/visual-cpp-build-tools/\n",
      "    ----------------------------------------\n",
      "ERROR: Command errored out with exit status 1: 'C:\\Users\\Suma Marri\\anaconda3\\python.exe' -u -c 'import io, os, sys, setuptools, tokenize; sys.argv[0] = '\"'\"'C:\\\\Users\\\\Suma Marri\\\\AppData\\\\Local\\\\Temp\\\\pip-install-n65yhm8s\\\\pandas_7886b122b2b1407ea6708a88927d53b6\\\\setup.py'\"'\"'; __file__='\"'\"'C:\\\\Users\\\\Suma Marri\\\\AppData\\\\Local\\\\Temp\\\\pip-install-n65yhm8s\\\\pandas_7886b122b2b1407ea6708a88927d53b6\\\\setup.py'\"'\"';f = getattr(tokenize, '\"'\"'open'\"'\"', open)(__file__) if os.path.exists(__file__) else io.StringIO('\"'\"'from setuptools import setup; setup()'\"'\"');code = f.read().replace('\"'\"'\\r\\n'\"'\"', '\"'\"'\\n'\"'\"');f.close();exec(compile(code, __file__, '\"'\"'exec'\"'\"'))' install --record 'C:\\Users\\Suma Marri\\AppData\\Local\\Temp\\pip-record-qkkur7fq\\install-record.txt' --single-version-externally-managed --compile --install-headers 'C:\\Users\\Suma Marri\\anaconda3\\Include\\pandas' Check the logs for full command output.\n"
     ]
    }
   ],
   "source": [
    "import sys\n",
    "import re\n",
    "import string\n",
    "import pickle\n",
    "import os\n",
    "\n",
    "import numpy as np\n",
    "import pandas as pd\n",
    "import matplotlib.pyplot as plt\n",
    "\n",
    "from nltk.corpus import stopwords\n",
    "from nltk.stem import WordNetLemmatizer\n",
    "from nltk.stem import PorterStemmer\n",
    "from nltk.tokenize import word_tokenize\n",
    "from gensim.models import Word2Vec\n",
    "from tqdm import tqdm\n",
    "import plotly.express as px\n",
    "from sklearn.feature_extraction.text import TfidfVectorizer\n",
    "\n",
    "from keras.preprocessing.text import Tokenizer\n",
    "from keras.preprocessing.sequence import pad_sequences\n",
    "from sklearn.utils import class_weight\n",
    "import gensim\n",
    "from sklearn.feature_extraction.text import CountVectorizer, TfidfTransformer\n",
    "from sklearn.metrics import confusion_matrix, accuracy_score, classification_report, recall_score, f1_score\n",
    "from sklearn.preprocessing import LabelEncoder, OneHotEncoder\n",
    "from sklearn.model_selection import train_test_split, cross_val_score\n",
    "import joblib\n",
    "\n",
    "from sklearn.linear_model import LogisticRegression\n",
    "from sklearn.naive_bayes import MultinomialNB\n",
    "from sklearn.ensemble import RandomForestClassifier, ExtraTreesClassifier\n",
    "from sklearn.svm import SVC\n",
    "from sklearn import preprocessing\n",
    "\n",
    "import tweepy\n",
    "from mpl_toolkits.mplot3d import Axes3D\n",
    "from sklearn.preprocessing import StandardScaler\n",
    "import matplotlib.pyplot as plt # plotting\n",
    "import numpy as np # linear algebra\n",
    "import os # accessing directory structure\n",
    "import pandas as pd # data processing, CSV file I/O (e.g. pd.read_csv)\n",
    "\n",
    "import seaborn as sb\n",
    "import matplotlib.pyplot as plt\n",
    "import wordcloud\n",
    "from wordcloud import WordCloud, STOPWORDS\n",
    "from collections import Counter\n",
    "import nltk\n",
    "nltk.download('stopwords')\n",
    "nltk.download('wordnet')\n",
    "\n",
    "!pip install catboost\n",
    "from catboost import CatBoostClassifier\n",
    "from xgboost import XGBClassifier\n",
    "from sklearn.neighbors import KNeighborsClassifier\n",
    "from sklearn.ensemble import RandomForestClassifier\n",
    "from sklearn.linear_model import LogisticRegression\n",
    "from sklearn.linear_model import SGDClassifier\n",
    "from sklearn.svm import SVC,LinearSVC\n",
    "from sklearn.tree import DecisionTreeClassifier"
   ]
  },
  {
   "cell_type": "code",
   "execution_count": null,
   "metadata": {
    "colab": {
     "base_uri": "https://localhost:8080/",
     "height": 206
    },
    "id": "BVvBprMMLrsc",
    "outputId": "97ba459b-a166-49ea-d437-58ffefeeff39"
   },
   "outputs": [],
   "source": [
    "df = pd.read_csv(\"/content/drive/MyDrive/mbti_1.csv\")\n",
    "df.head()"
   ]
  },
  {
   "cell_type": "markdown",
   "metadata": {
    "id": "nmZPgHHlnSKl"
   },
   "source": [
    "### Checking for the null values"
   ]
  },
  {
   "cell_type": "code",
   "execution_count": null,
   "metadata": {
    "colab": {
     "base_uri": "https://localhost:8080/"
    },
    "id": "b6B3DNOkL08G",
    "outputId": "88da8d77-ef31-4974-a1f7-4d573ef7d02b"
   },
   "outputs": [],
   "source": [
    "df.isnull().any()"
   ]
  },
  {
   "cell_type": "code",
   "execution_count": null,
   "metadata": {
    "colab": {
     "base_uri": "https://localhost:8080/"
    },
    "id": "2petSo2SL4pu",
    "outputId": "00114159-6a18-4b93-c25e-e3fb96a7b156"
   },
   "outputs": [],
   "source": [
    "df.shape"
   ]
  },
  {
   "cell_type": "code",
   "execution_count": null,
   "metadata": {
    "colab": {
     "base_uri": "https://localhost:8080/"
    },
    "id": "IsZv2Wh_L669",
    "outputId": "4b4a3acf-1540-49bf-bfbf-2d14583eac7f"
   },
   "outputs": [],
   "source": [
    "df.info()"
   ]
  },
  {
   "cell_type": "code",
   "execution_count": null,
   "metadata": {
    "colab": {
     "base_uri": "https://localhost:8080/"
    },
    "id": "BMHhe-X5L91e",
    "outputId": "f193630e-7103-456e-86af-727fe4eec22e"
   },
   "outputs": [],
   "source": [
    "types = np.unique(np.array(df['type']))\n",
    "types"
   ]
  },
  {
   "cell_type": "code",
   "execution_count": null,
   "metadata": {
    "colab": {
     "base_uri": "https://localhost:8080/",
     "height": 576
    },
    "id": "4ZmFBfzmL-o_",
    "outputId": "e992b0d2-d432-459b-85ff-792c3d8a2fdc"
   },
   "outputs": [],
   "source": [
    "print(df.type.value_counts())\n",
    "df.type.hist(xrot=90)\n",
    "plt.show()"
   ]
  },
  {
   "cell_type": "markdown",
   "metadata": {
    "id": "qy_m0T-Rncs-"
   },
   "source": [
    "### Distribution of different personality types based on their frequencies in the dataset"
   ]
  },
  {
   "cell_type": "code",
   "execution_count": null,
   "metadata": {
    "colab": {
     "base_uri": "https://localhost:8080/",
     "height": 482
    },
    "id": "ocDb5ZApMFe4",
    "outputId": "dcfa14a7-e0e9-4b88-e774-cf84285dec2e"
   },
   "outputs": [],
   "source": [
    "graph = df['type'].value_counts()\n",
    "plt.figure(figsize=(15,6))\n",
    "sb.barplot(graph.index, graph.values, alpha=1)\n",
    "plt.xlabel('Personality types', fontsize=15)\n",
    "plt.ylabel('No. of posts', fontsize=15)\n",
    "plt.show()"
   ]
  },
  {
   "cell_type": "markdown",
   "metadata": {
    "id": "wNtbJp2Tn0Il"
   },
   "source": [
    "-> Above plot shows INFP type personalities are most common in our dataset, while ESTJ are least"
   ]
  },
  {
   "cell_type": "markdown",
   "metadata": {
    "id": "0H7eCG_eoZlY"
   },
   "source": [
    "-> Now analysis based on each user's pattern of tweets is performed"
   ]
  },
  {
   "cell_type": "code",
   "execution_count": null,
   "metadata": {
    "id": "rAPuszbqkSg2"
   },
   "outputs": [],
   "source": [
    "df1 = df.copy()"
   ]
  },
  {
   "cell_type": "code",
   "execution_count": null,
   "metadata": {
    "colab": {
     "base_uri": "https://localhost:8080/",
     "height": 1000
    },
    "id": "gSMoChw9MLGS",
    "outputId": "f477c082-e6d0-446d-aec0-72595f666d5c"
   },
   "outputs": [],
   "source": [
    "# Swarm Plot\n",
    "#this function counts the no of words in each post of a user\n",
    "def var_row(row):\n",
    "    l = []\n",
    "    for i in row.split('|||'):\n",
    "        l.append(len(i.split()))\n",
    "    return np.var(l)\n",
    "\n",
    "#this function counts the no of words per post out of the total 50 posts in the whole row\n",
    "df1['words_per_tweet'] = df1['posts'].apply(lambda x: len(x.split())/50)\n",
    "df1['variance_of_word_counts'] = df1['posts'].apply(lambda x: var_row(x))\n",
    "\n",
    "plt.figure(figsize=(15,10))\n",
    "sb.swarmplot(\"type\", \"words_per_tweet\", data=df1)"
   ]
  },
  {
   "cell_type": "code",
   "execution_count": null,
   "metadata": {
    "colab": {
     "base_uri": "https://localhost:8080/",
     "height": 206
    },
    "id": "87QIuIHJokoV",
    "outputId": "29b0658f-5f34-4fff-e039-923371659146"
   },
   "outputs": [],
   "source": [
    "df1.head()"
   ]
  },
  {
   "cell_type": "markdown",
   "metadata": {
    "id": "275beLNCo7fs"
   },
   "source": [
    "-> Now wordcloud based on 40 most common words in all posts is generated"
   ]
  },
  {
   "cell_type": "code",
   "execution_count": null,
   "metadata": {
    "colab": {
     "base_uri": "https://localhost:8080/",
     "height": 488
    },
    "id": "1zVgKQH8NBm5",
    "outputId": "f4e999e1-ae29-455e-ab82-066dc7fdf2dd"
   },
   "outputs": [],
   "source": [
    "#Plotting WordCloud.\n",
    "\n",
    "#Finding the most common words in all posts.\n",
    "words = list(df1[\"posts\"].apply(lambda x: x.split()))\n",
    "words = [x for y in words for x in y]\n",
    "Counter(words).most_common(40)\n",
    "wc = wordcloud.WordCloud(width=1200, height=500, \n",
    "                         collocations=False, background_color=\"white\", \n",
    "                         colormap=\"tab20b\").generate(\" \".join(words))\n",
    "\n",
    "# collocations to False  is set to ensure that the word cloud doesn't appear as if it contains any duplicate words\n",
    "plt.figure(figsize=(25,10))\n",
    "# generate word cloud, interpolation \n",
    "plt.imshow(wc, interpolation='bilinear')\n",
    "_ = plt.axis(\"off\")"
   ]
  },
  {
   "cell_type": "markdown",
   "metadata": {
    "id": "EeaDDEnspVh8"
   },
   "source": [
    "-> 5 most common words from above figure are:-\n",
    "- people\n",
    "- think\n",
    "- one\n",
    "- know\n",
    "- really"
   ]
  },
  {
   "cell_type": "markdown",
   "metadata": {
    "id": "bEopoFjHp4OH"
   },
   "source": [
    "-> Now subplots of wordcloud corresponding to most frequent words in each of the 16 different personalities are generated"
   ]
  },
  {
   "cell_type": "code",
   "execution_count": null,
   "metadata": {
    "colab": {
     "base_uri": "https://localhost:8080/",
     "height": 836
    },
    "id": "fse1HS-BNFPE",
    "outputId": "54a0c419-2af9-48ce-9929-f8dc68168367"
   },
   "outputs": [],
   "source": [
    "fig, ax = plt.subplots(len(df1['type'].unique()), sharex=True, figsize=(15,len(df1['type'].unique())))\n",
    "k = 0\n",
    "for i in df1['type'].unique():\n",
    "    df_4 = df[df['type'] == i]\n",
    "    wordcloud = WordCloud(max_words=1628,relative_scaling=1,normalize_plurals=False).generate(df_4['posts'].to_string())\n",
    "    plt.subplot(4,4,k+1)\n",
    "    plt.imshow(wordcloud, interpolation='bilinear')\n",
    "    plt.title(i)\n",
    "    ax[k].axis(\"off\")\n",
    "    k+=1"
   ]
  },
  {
   "cell_type": "markdown",
   "metadata": {
    "id": "o0HPtIOhPeX_"
   },
   "source": [
    "### -> Adding one column for each MBTI characteristic pair, since we will be training independent classifier model for each pair independently. The reason for this is because of imbalance present in our dataset as seen in the EDA section."
   ]
  },
  {
   "cell_type": "code",
   "execution_count": null,
   "metadata": {
    "id": "9F3U18IbNj-y"
   },
   "outputs": [],
   "source": [
    "df['ie'] = df.type\n",
    "df['ns'] = df.type\n",
    "df['ft'] = df.type\n",
    "df['pj'] = df.type\n",
    "\n",
    "for i, t in enumerate(df.type):\n",
    "    if 'I' in t:\n",
    "        df.ie[i] = 'I'\n",
    "    elif 'E' in t:\n",
    "        df.ie[i] = 'E'\n",
    "        \n",
    "    if 'N' in t:\n",
    "        df.ns[i] = 'N'\n",
    "    elif 'S' in t:\n",
    "        df.ns[i] = 'S'\n",
    "        \n",
    "    if 'F' in t:\n",
    "        df.ft[i] = 'F'\n",
    "    elif 'T' in t:\n",
    "        df.ft[i] = 'T'\n",
    "        \n",
    "    if 'P' in t:\n",
    "        df.pj[i] = 'P'\n",
    "    elif 'J' in t:\n",
    "        df.pj[i] = 'J'\n",
    "\n",
    "\n",
    "posts = df.posts.values\n",
    "yIE = df.ie.values\n",
    "yNS = df.ns.values\n",
    "yFT = df.ft.values\n",
    "yPJ = df.pj.values\n",
    "y = df.type"
   ]
  },
  {
   "cell_type": "code",
   "execution_count": null,
   "metadata": {
    "colab": {
     "base_uri": "https://localhost:8080/"
    },
    "id": "7Patj176Nrtq",
    "outputId": "6607e52c-e3d0-48ec-cd81-585a9439f2f4"
   },
   "outputs": [],
   "source": [
    "posts.shape"
   ]
  },
  {
   "cell_type": "code",
   "execution_count": null,
   "metadata": {
    "colab": {
     "base_uri": "https://localhost:8080/",
     "height": 206
    },
    "id": "tpFzvAcyNwcb",
    "outputId": "2edc4653-1a24-44f3-a166-8a4aa3d69c25"
   },
   "outputs": [],
   "source": [
    "df.head()"
   ]
  },
  {
   "cell_type": "code",
   "execution_count": null,
   "metadata": {
    "colab": {
     "base_uri": "https://localhost:8080/",
     "height": 1000
    },
    "id": "zrBNJvVPNzMq",
    "outputId": "b3bef001-53fb-4888-9945-c4638f1d1d6f"
   },
   "outputs": [],
   "source": [
    "df.ie.hist(); plt.show()\n",
    "df.ns.hist(); plt.show()\n",
    "df.ft.hist(); plt.show()\n",
    "df.pj.hist(); plt.show()"
   ]
  },
  {
   "cell_type": "markdown",
   "metadata": {
    "id": "T59kvoq-qaJi"
   },
   "source": [
    "-> Above we can see that there is great unbalance in Introvert/Extrovert and Intuition/Sensing pairs. Whereas Feeling/Thinking and Perception/Judgment pairs are quite balanced."
   ]
  },
  {
   "cell_type": "markdown",
   "metadata": {
    "id": "Diht8NIPPXkM"
   },
   "source": [
    "How many Introvert posts are present v/s how many Extrovert posts are presnt, out of all the given entries in our labelled Kaggle dataset. This is done in order to explore the dataset for all the individual Personality Indices of MBTI\n",
    "\n",
    "Counting No. of posts in one class / Total no. of posts in the other class"
   ]
  },
  {
   "cell_type": "code",
   "execution_count": null,
   "metadata": {
    "colab": {
     "base_uri": "https://localhost:8080/"
    },
    "id": "7un6pjJZOAMF",
    "outputId": "ad51e1bf-fad3-41a2-a9a6-cd6c8a3b5962"
   },
   "outputs": [],
   "source": [
    "print (\"Introversion (I) /  Extroversion (E):\\t\", df['ie'].value_counts()['I'], \" / \", df['ie'].value_counts()['E'])\n",
    "print (\"Intuition (N) / Sensing (S):\\t\\t\", df['ns'].value_counts()['N'], \" / \", df['ns'].value_counts()['S'])\n",
    "print (\"Thinking (T) / Feeling (F):\\t\\t\", df['ft'].value_counts()['F'], \" / \", df['ft'].value_counts()['T'])\n",
    "print (\"Judging (J) / Perceiving (P):\\t\\t\", df['pj'].value_counts()['P'], \" / \", df['pj'].value_counts()['J'])"
   ]
  },
  {
   "cell_type": "markdown",
   "metadata": {
    "id": "f-cOdihUrjot"
   },
   "source": [
    "### -> Now data preprocessing is performed using regular expressions"
   ]
  },
  {
   "cell_type": "code",
   "execution_count": null,
   "metadata": {
    "id": "EFLKJy7qOBbG"
   },
   "outputs": [],
   "source": [
    "#regular expressions for tokenization\n",
    "regexes = [\n",
    "    #urls\n",
    "    #r'http[s]?://(?:[a-z]|[0-9]|[$-_@.&amp;+]|[!*\\(\\),]|(?:%[0-9a-f][0-9a-f]))+',\n",
    "    \n",
    "    #html\n",
    "    #r'<[^>]+>',\n",
    "    \n",
    "    #punctuation\n",
    "    r'(?:(\\w+)\\'s)',\n",
    "    \n",
    "    r'(?:\\s(\\w+)\\.+\\s)',\n",
    "    r'(?:\\s(\\w+),+\\s)',\n",
    "    r'(?:\\s(\\w+)\\?+\\s)',\n",
    "    r'(?:\\s(\\w+)!+\\s)',\n",
    "    \n",
    "    r'(?:\\'+(\\w+)\\'+)',\n",
    "    r'(?:\"+(\\w+)\"+)',\n",
    "    r'(?:\\[+(\\w+)\\]+)',\n",
    "    r'(?:{+(\\w+)}+)',\n",
    "    r'(?:\\(+(\\w+))',\n",
    "    r'(?:(\\w+)\\)+)',\n",
    "\n",
    "    #words containing numbers & special characters & punctuation\n",
    "    r'(?:(?:(?:[a-zA-Z])*(?:[0-9!\"#$%&\\'()*+,\\-./:;<=>?@\\[\\\\\\]^_`{|}~])+(?:[a-zA-Z])*)+)',\n",
    "    \n",
    "    #pure words\n",
    "    r'([a-zA-Z]+)',\n",
    "    \n",
    "    #numbers\n",
    "    #r'(?:(?:\\d+,?)+(?:\\.?\\d+)?)',\n",
    "\n",
    "    #emoticons\n",
    "    #r\"\"\"(?:[:=;][oO\\-]?[D\\)\\]\\(\\]/\\\\OpP])\"\"\",\n",
    "\n",
    "    #other words\n",
    "    #r'(?:[\\w_]+)',\n",
    "\n",
    "    #anything else\n",
    "    #r'(?:\\S)'\n",
    "]\n",
    "\n",
    "#compiling regular expression\n",
    "regex = re.compile(r'(?:'+'|'.join(regexes)+')', re.VERBOSE | re.IGNORECASE)"
   ]
  },
  {
   "cell_type": "markdown",
   "metadata": {
    "id": "oE6fja6zr7-m"
   },
   "source": [
    "-> Functions like tokenization, lemmatization and stopwords removal is performed"
   ]
  },
  {
   "cell_type": "code",
   "execution_count": null,
   "metadata": {
    "colab": {
     "base_uri": "https://localhost:8080/"
    },
    "id": "uEdXK1vTOH8o",
    "outputId": "e384b535-e9a0-4e6b-dfb7-d612440a14ae"
   },
   "outputs": [],
   "source": [
    "\n",
    "def preprocess(documents):\n",
    "    lemmatizer = WordNetLemmatizer()\n",
    "    stemmer = PorterStemmer()\n",
    "    \n",
    "    #fetching list of stopwords\n",
    "    punctuation = list(string.punctuation)\n",
    "    swords = stopwords.words('english') + ['amp'] + ['infp', 'infj', 'intp', 'intj', 'isfp', 'isfj', 'enfp', 'enfj', 'entp', 'entj', 'esfp', 'esfj', 'monday', 'tuesday', 'wednesday', 'thursday', 'friday', 'saturday', 'sunday', 'january', 'feburary', 'march', 'april', 'may', 'june', 'july', 'august', 'september', 'october', 'november', 'december',  'mon', 'tue', 'wed', 'thu', 'fri', 'sat', 'sun',  'jan', 'feb', 'mar', 'apr', 'may', 'jun' 'jul', 'aug', 'sep', 'oct', 'nov', 'dec', 'tommorow', 'today', 'yesterday'] + ['mr', 'mrs']\n",
    "\n",
    "\n",
    "    processed_documents = []\n",
    "    for i,document in enumerate(documents):\n",
    "        print('{0}/{1}'.format(i+1, len(documents)))\n",
    "        \n",
    "        #tokenization\n",
    "        tokens = regex.findall(document)\n",
    "\n",
    "        #skipping useless tokens\n",
    "        t_regex = re.compile(r\"[^a-zA-Z]\")\n",
    "        document = []\n",
    "        \n",
    "        for token in tokens:\n",
    "            token = np.array(token)\n",
    "            token = np.unique(token[token != ''])\n",
    "            \n",
    "            if len(token) > 0:\n",
    "                token = token[0].lower()\n",
    "            else:\n",
    "                continue\n",
    "                \n",
    "            if re.search(t_regex, token) == None and token not in swords:\n",
    "                token = lemmatizer.lemmatize(token)\n",
    "                document.append(token)\n",
    "                \n",
    "        document = ' '.join(document)\n",
    "\n",
    "        #skipping\n",
    "        if len(document) >= 0:\n",
    "            processed_documents.append(document)\n",
    "\n",
    "    print()\n",
    "    return np.array(processed_documents)"
   ]
  },
  {
   "cell_type": "code",
   "execution_count": null,
   "metadata": {
    "colab": {
     "base_uri": "https://localhost:8080/"
    },
    "id": "Utyw-wMuON05",
    "outputId": "997ad865-0658-4265-c9b8-fa48bee13bcd"
   },
   "outputs": [],
   "source": [
    "%%time\n",
    "posts = preprocess(posts)"
   ]
  },
  {
   "cell_type": "code",
   "execution_count": null,
   "metadata": {
    "colab": {
     "base_uri": "https://localhost:8080/",
     "height": 122
    },
    "id": "ZuiD-ufbwzKp",
    "outputId": "06ec43d0-b0eb-4d87-fd18-b4b7e5c6f3b7"
   },
   "outputs": [],
   "source": [
    "posts[0]"
   ]
  },
  {
   "cell_type": "markdown",
   "metadata": {
    "id": "R0FE6Q5DsN4k"
   },
   "source": [
    "-> Now adding the preprocessed posts back in the dataframe"
   ]
  },
  {
   "cell_type": "code",
   "execution_count": null,
   "metadata": {
    "colab": {
     "base_uri": "https://localhost:8080/",
     "height": 143
    },
    "id": "3amcz23-G-hc",
    "outputId": "c5c20409-fdc4-4099-b87a-a8f0928b67bd"
   },
   "outputs": [],
   "source": [
    "df['posts'] = posts\n",
    "df.head(3)"
   ]
  },
  {
   "cell_type": "markdown",
   "metadata": {
    "id": "n8gKk6YVh4Mv"
   },
   "source": [
    "## Cleaning and preprocessing of test data"
   ]
  },
  {
   "cell_type": "code",
   "execution_count": null,
   "metadata": {
    "colab": {
     "base_uri": "https://localhost:8080/",
     "height": 206
    },
    "id": "_Ugp6QBCg0tG",
    "outputId": "1b2fd053-caa4-4f95-a571-c9307a8f014e"
   },
   "outputs": [],
   "source": [
    "test_df = pd.read_csv(\"/content/drive/MyDrive/Forbes figures mbti  - Sheet1.csv\")\n",
    "test_df.head()"
   ]
  },
  {
   "cell_type": "code",
   "execution_count": null,
   "metadata": {
    "id": "eNrzRe2xxoLk"
   },
   "outputs": [],
   "source": [
    "test_df.drop('Name', axis=1, inplace= True)"
   ]
  },
  {
   "cell_type": "markdown",
   "metadata": {
    "id": "St52BFRr9cgH"
   },
   "source": [
    "### Visualizations on Test Data"
   ]
  },
  {
   "cell_type": "code",
   "execution_count": null,
   "metadata": {
    "id": "2tGkNEYX-cew"
   },
   "outputs": [],
   "source": [
    "test_df_male = test_df.iloc[:17,:]\n",
    "test_df_female = test_df.iloc[18:,:]"
   ]
  },
  {
   "cell_type": "code",
   "execution_count": null,
   "metadata": {
    "colab": {
     "base_uri": "https://localhost:8080/",
     "height": 206
    },
    "id": "YdHKFZ2u-fVf",
    "outputId": "3ca5c343-1bfa-46c2-dc46-87af9d08f29a"
   },
   "outputs": [],
   "source": [
    "test_df_male.head()"
   ]
  },
  {
   "cell_type": "code",
   "execution_count": null,
   "metadata": {
    "colab": {
     "base_uri": "https://localhost:8080/",
     "height": 206
    },
    "id": "SChrTpSL-dIV",
    "outputId": "a85b5d9a-fe20-465e-a812-b042385bdccb"
   },
   "outputs": [],
   "source": [
    "test_df_female.head()"
   ]
  },
  {
   "cell_type": "markdown",
   "metadata": {
    "id": "RSbCosfC-jBn"
   },
   "source": [
    "Males"
   ]
  },
  {
   "cell_type": "code",
   "execution_count": null,
   "metadata": {
    "colab": {
     "base_uri": "https://localhost:8080/",
     "height": 416
    },
    "id": "inhoXtYY-gsT",
    "outputId": "006fe108-f0f4-43cf-abae-dd0ea1b9c878"
   },
   "outputs": [],
   "source": [
    "print(test_df_male.type.value_counts())\n",
    "test_df_male.type.hist(xrot=90)\n",
    "plt.show()"
   ]
  },
  {
   "cell_type": "code",
   "execution_count": null,
   "metadata": {
    "colab": {
     "base_uri": "https://localhost:8080/",
     "height": 483
    },
    "id": "HDbYZpLn-lly",
    "outputId": "8db18760-c308-43b9-d597-279ec2f31b17"
   },
   "outputs": [],
   "source": [
    "graph = test_df_male['type'].value_counts()\n",
    "plt.figure(figsize=(15,6))\n",
    "sb.barplot(graph.index, graph.values, alpha=1)\n",
    "plt.xlabel('Personality types', fontsize=15)\n",
    "plt.ylabel('No. of males', fontsize=15)\n",
    "plt.show()"
   ]
  },
  {
   "cell_type": "markdown",
   "metadata": {
    "id": "-YBUkp3L-oYy"
   },
   "source": [
    "Females"
   ]
  },
  {
   "cell_type": "code",
   "execution_count": null,
   "metadata": {
    "colab": {
     "base_uri": "https://localhost:8080/",
     "height": 437
    },
    "id": "JY1In4jq-pcu",
    "outputId": "29b3e46a-aefb-496f-a0d4-152c1a36b3d8"
   },
   "outputs": [],
   "source": [
    "print(test_df_female.type.value_counts())\n",
    "test_df_female.type.hist(xrot=90)\n",
    "plt.show()"
   ]
  },
  {
   "cell_type": "code",
   "execution_count": null,
   "metadata": {
    "colab": {
     "base_uri": "https://localhost:8080/",
     "height": 483
    },
    "id": "S6UoeAR9-sJh",
    "outputId": "e7644736-9b4e-400c-ce5f-638b91454f68"
   },
   "outputs": [],
   "source": [
    "graph = test_df_female['type'].value_counts()\n",
    "plt.figure(figsize=(15,6))\n",
    "sb.barplot(graph.index, graph.values, alpha=1)\n",
    "plt.xlabel('Personality types', fontsize=15)\n",
    "plt.ylabel('No. of females', fontsize=15)\n",
    "plt.show()"
   ]
  },
  {
   "cell_type": "markdown",
   "metadata": {
    "id": "6GkJ6Qm_9zxV"
   },
   "source": [
    "### Preprocessing on Test Data"
   ]
  },
  {
   "cell_type": "code",
   "execution_count": null,
   "metadata": {
    "id": "EsEtccuxOFIn"
   },
   "outputs": [],
   "source": [
    "test_df['ie'] = test_df.type\n",
    "test_df['ns'] = test_df.type\n",
    "test_df['ft'] = test_df.type\n",
    "test_df['pj'] = test_df.type\n",
    "\n",
    "for i, t in enumerate(test_df.type):\n",
    "    if 'I' in t:\n",
    "        test_df.ie[i] = 'I'\n",
    "    elif 'E' in t:\n",
    "        test_df.ie[i] = 'E'\n",
    "        \n",
    "    if 'N' in t:\n",
    "        test_df.ns[i] = 'N'\n",
    "    elif 'S' in t:\n",
    "        test_df.ns[i] = 'S'\n",
    "        \n",
    "    if 'F' in t:\n",
    "        test_df.ft[i] = 'F'\n",
    "    elif 'T' in t:\n",
    "        test_df.ft[i] = 'T'\n",
    "        \n",
    "    if 'P' in t:\n",
    "        test_df.pj[i] = 'P'\n",
    "    elif 'J' in t:\n",
    "        test_df.pj[i] = 'J'\n",
    "\n",
    "\n",
    "t_posts = test_df.posts.values\n",
    "t_yIE = test_df.ie.values\n",
    "t_yNS = test_df.ns.values\n",
    "t_yFT = test_df.ft.values\n",
    "t_yPJ = test_df.pj.values\n",
    "t_y = test_df.type"
   ]
  },
  {
   "cell_type": "code",
   "execution_count": null,
   "metadata": {
    "colab": {
     "base_uri": "https://localhost:8080/"
    },
    "id": "aFrfKD_MhL-n",
    "outputId": "d8b211f5-b610-4205-f990-0b357e5c43d4"
   },
   "outputs": [],
   "source": [
    "%%time\n",
    "test_posts = test_df['posts']\n",
    "test_posts = preprocess(test_posts)"
   ]
  },
  {
   "cell_type": "code",
   "execution_count": null,
   "metadata": {
    "colab": {
     "base_uri": "https://localhost:8080/",
     "height": 122
    },
    "id": "tUqAedbOhkhF",
    "outputId": "818ef35f-d263-4690-8218-c79b7409ded0"
   },
   "outputs": [],
   "source": [
    "test_posts[0]"
   ]
  },
  {
   "cell_type": "code",
   "execution_count": null,
   "metadata": {
    "colab": {
     "base_uri": "https://localhost:8080/",
     "height": 206
    },
    "id": "DuMCQdPpndXf",
    "outputId": "f30c6454-9274-42f4-dd03-0ec7bbfb6186"
   },
   "outputs": [],
   "source": [
    "test_df['posts'] = test_posts\n",
    "test_df.head()"
   ]
  },
  {
   "cell_type": "markdown",
   "metadata": {
    "id": "RNja4DKTxGwy"
   },
   "source": [
    "### Preprocessing using tf-idf"
   ]
  },
  {
   "cell_type": "markdown",
   "metadata": {
    "id": "6ipcMCHHQmx4"
   },
   "source": [
    "TF-IDF is an abbreviation for Term Frequency Inverse Document Frequency. This is very common algorithm to transform text into a meaningful representation of numbers which is used to fit machine algorithm for prediction.\n",
    "\n",
    "In TfidfVectorizer we consider overall document weightage of a word. It helps us in dealing with most frequent words. Using it we can penalize them. TfidfVectorizer weights the word counts by a measure of how often they appear in the documents."
   ]
  },
  {
   "cell_type": "code",
   "execution_count": null,
   "metadata": {
    "colab": {
     "base_uri": "https://localhost:8080/"
    },
    "id": "wFOq2MNPMtQF",
    "outputId": "f3f8bea8-e08b-4a75-b7e9-2501380abecd"
   },
   "outputs": [],
   "source": [
    "%%time\n",
    "\n",
    "#TF-IDF representation\n",
    "# creating document frequency matrix\n",
    "cv = CountVectorizer(analyzer=\"word\", max_features=150).fit(posts)\n",
    "X = cv.transform(posts)"
   ]
  },
  {
   "cell_type": "code",
   "execution_count": null,
   "metadata": {
    "id": "XDEjPqroM0yf"
   },
   "outputs": [],
   "source": [
    "tf = TfidfTransformer()\n",
    "X_tf=  tf.fit_transform(X).toarray()"
   ]
  },
  {
   "cell_type": "code",
   "execution_count": null,
   "metadata": {
    "colab": {
     "base_uri": "https://localhost:8080/"
    },
    "id": "PsxW94-3zSqL",
    "outputId": "c7843803-9ae7-4908-e59e-8841458a168c"
   },
   "outputs": [],
   "source": [
    "posts.shape, X.shape, X_tf.shape, yIE.shape, yNS.shape # verifying that the shapes match"
   ]
  },
  {
   "cell_type": "code",
   "execution_count": null,
   "metadata": {
    "colab": {
     "base_uri": "https://localhost:8080/"
    },
    "id": "Ir_ooiDuQsun",
    "outputId": "952a0324-292b-4b1f-a026-cb9ed6142986"
   },
   "outputs": [],
   "source": [
    "%%time\n",
    "\n",
    "#TF-IDF representation\n",
    "# creating document frequency matrix\n",
    "cv = CountVectorizer(analyzer=\"word\", max_features=150).fit(test_posts)\n",
    "X_test_cnt = cv.transform(test_posts)"
   ]
  },
  {
   "cell_type": "code",
   "execution_count": null,
   "metadata": {
    "id": "W0XOysk7Q44h"
   },
   "outputs": [],
   "source": [
    "X_test_tf=  tf.fit_transform(X_test_cnt).toarray()"
   ]
  },
  {
   "cell_type": "code",
   "execution_count": null,
   "metadata": {
    "colab": {
     "base_uri": "https://localhost:8080/"
    },
    "id": "hqf0prw6Q-fl",
    "outputId": "cfb29479-4081-42a6-d3be-28c4a71d8113"
   },
   "outputs": [],
   "source": [
    "t_posts.shape, X_test_cnt.shape, X_test_tf.shape, t_yIE.shape, t_yNS.shape # verifying that the shapes match"
   ]
  },
  {
   "cell_type": "markdown",
   "metadata": {
    "id": "l9ZuXEofSxpu"
   },
   "source": [
    "## Training and testing data"
   ]
  },
  {
   "cell_type": "code",
   "execution_count": null,
   "metadata": {
    "id": "ClUasraPSsmi"
   },
   "outputs": [],
   "source": [
    "xTrain = X_tf\n",
    "yTrain = y"
   ]
  },
  {
   "cell_type": "code",
   "execution_count": null,
   "metadata": {
    "id": "PfZE_BdiSF_O"
   },
   "outputs": [],
   "source": [
    "xTest = X_test_tf\n",
    "yTest = t_y"
   ]
  },
  {
   "cell_type": "code",
   "execution_count": null,
   "metadata": {
    "id": "kE5f6jIGSlyf"
   },
   "outputs": [],
   "source": [
    "xIETrain = X_tf\n",
    "yIETrain = yIE\n",
    "\n",
    "xNSTrain = X_tf\n",
    "yNSTrain = yNS\n",
    "\n",
    "xFTTrain = X_tf\n",
    "yFTTrain = yFT\n",
    "\n",
    "xPJTrain = X_tf\n",
    "yPJTrain = yPJ"
   ]
  },
  {
   "cell_type": "code",
   "execution_count": null,
   "metadata": {
    "id": "mrEpvSbSTiU_"
   },
   "outputs": [],
   "source": [
    "xIETest = X_test_tf\n",
    "yIETest = t_yIE\n",
    "\n",
    "xNSTest = X_test_tf\n",
    "yNSTest = t_yNS\n",
    "\n",
    "xFTTest = X_test_tf\n",
    "yFTTest = t_yFT\n",
    "\n",
    "xPJTest = X_test_tf\n",
    "yPJTest = t_yPJ"
   ]
  },
  {
   "cell_type": "markdown",
   "metadata": {
    "id": "1PM1WTh7nSmc"
   },
   "source": [
    "## Label Encoding"
   ]
  },
  {
   "cell_type": "code",
   "execution_count": null,
   "metadata": {
    "id": "UuPlTHLW_3Bp"
   },
   "outputs": [],
   "source": [
    "frames = [df, test_df]\n",
    "result = pd.concat(frames)"
   ]
  },
  {
   "cell_type": "code",
   "execution_count": null,
   "metadata": {
    "id": "HjSe7wUK8bRB"
   },
   "outputs": [],
   "source": [
    "\n",
    "le = preprocessing.LabelEncoder()\n",
    "result['type'] = le.fit_transform(result.type.values)"
   ]
  },
  {
   "cell_type": "code",
   "execution_count": null,
   "metadata": {
    "id": "IZVNo8M1Cd9y"
   },
   "outputs": [],
   "source": [
    "result.ie= le.fit_transform(result.ie.values)\n",
    "result.ns= le.fit_transform(result.ns.values)\n",
    "result.ft= le.fit_transform(result.ft.values)\n",
    "result.pj= le.fit_transform(result.pj.values)"
   ]
  },
  {
   "cell_type": "code",
   "execution_count": null,
   "metadata": {
    "colab": {
     "base_uri": "https://localhost:8080/",
     "height": 174
    },
    "id": "4x5Zuag-p6xt",
    "outputId": "10364850-c4be-4f02-84a0-a756b37e6fe7"
   },
   "outputs": [],
   "source": [
    "result.head(4)"
   ]
  },
  {
   "cell_type": "code",
   "execution_count": null,
   "metadata": {
    "id": "BEWnBKUjAxfR"
   },
   "outputs": [],
   "source": [
    "df_1 = result.iloc[:8675,:]\n",
    "df_2 = result.iloc[8675:,:]"
   ]
  },
  {
   "cell_type": "markdown",
   "metadata": {
    "id": "3RXcj0SGDgzy"
   },
   "source": [
    "Label encoding type column of train data"
   ]
  },
  {
   "cell_type": "markdown",
   "metadata": {
    "id": "o0EvSXN9C150"
   },
   "source": [
    "Label encoding type column of test data"
   ]
  },
  {
   "cell_type": "code",
   "execution_count": 2,
   "metadata": {
    "id": "s5pKa-dPBUDf"
   },
   "outputs": [
    {
     "ename": "NameError",
     "evalue": "name 'df_1' is not defined",
     "output_type": "error",
     "traceback": [
      "\u001b[1;31m---------------------------------------------------------------------------\u001b[0m",
      "\u001b[1;31mNameError\u001b[0m                                 Traceback (most recent call last)",
      "\u001b[1;32mC:\\Users\\SUMAMA~1\\AppData\\Local\\Temp/ipykernel_20732/1266049154.py\u001b[0m in \u001b[0;36m<module>\u001b[1;34m\u001b[0m\n\u001b[1;32m----> 1\u001b[1;33m \u001b[0mnyTrain\u001b[0m \u001b[1;33m=\u001b[0m \u001b[0mdf_1\u001b[0m\u001b[1;33m[\u001b[0m\u001b[1;34m'type'\u001b[0m\u001b[1;33m]\u001b[0m\u001b[1;33m\u001b[0m\u001b[1;33m\u001b[0m\u001b[0m\n\u001b[0m\u001b[0;32m      2\u001b[0m \u001b[0mnyTest\u001b[0m \u001b[1;33m=\u001b[0m \u001b[0mdf_2\u001b[0m\u001b[1;33m[\u001b[0m\u001b[1;34m'type'\u001b[0m\u001b[1;33m]\u001b[0m\u001b[1;33m\u001b[0m\u001b[1;33m\u001b[0m\u001b[0m\n",
      "\u001b[1;31mNameError\u001b[0m: name 'df_1' is not defined"
     ]
    }
   ],
   "source": [
    "nyTrain = df_1['type']\n",
    "nyTest = df_2['type']"
   ]
  },
  {
   "cell_type": "markdown",
   "metadata": {
    "id": "S-v3WYMvDLCu"
   },
   "source": [
    "label encoding ie, ns, ft, pj column of train data\n"
   ]
  },
  {
   "cell_type": "code",
   "execution_count": null,
   "metadata": {
    "id": "bI_j1b1DDIOS"
   },
   "outputs": [],
   "source": [
    "yIE = df_1.ie\n",
    "yNS = df_1.ns\n",
    "yFT = df_1.ft\n",
    "yPJ = df_1.pj"
   ]
  },
  {
   "cell_type": "markdown",
   "metadata": {
    "id": "IUytTBWTC5Lw"
   },
   "source": [
    "label encoding ie, ns, ft, pj column of test data\n"
   ]
  },
  {
   "cell_type": "code",
   "execution_count": null,
   "metadata": {
    "id": "r30ygIiMCSwO"
   },
   "outputs": [],
   "source": [
    "t_yIE = df_2.ie\n",
    "t_yNS = df_2.ns\n",
    "t_yFT = df_2.ft\n",
    "t_yPJ = df_2.pj"
   ]
  },
  {
   "cell_type": "markdown",
   "metadata": {
    "id": "PmZXdFRYEmIt"
   },
   "source": [
    "#**1. Multinomial NB**"
   ]
  },
  {
   "cell_type": "code",
   "execution_count": null,
   "metadata": {
    "id": "IYsKch46T9k2"
   },
   "outputs": [],
   "source": [
    "model = MultinomialNB().fit(xTrain, nyTrain)\n",
    "ieModel = MultinomialNB().fit(xIETrain, yIE)\n",
    "nsModel = MultinomialNB().fit(xNSTrain, yNS)\n",
    "ftModel = MultinomialNB().fit(xFTTrain, yFT)\n",
    "pjModel = MultinomialNB().fit(xPJTrain, yPJ)"
   ]
  },
  {
   "cell_type": "code",
   "execution_count": null,
   "metadata": {
    "colab": {
     "base_uri": "https://localhost:8080/"
    },
    "id": "ywRBkqORZDOl",
    "outputId": "012ed1b5-bd40-4a17-eab0-abacf2e00c9e"
   },
   "outputs": [],
   "source": [
    "model.score(xTrain, nyTrain)"
   ]
  },
  {
   "cell_type": "code",
   "execution_count": null,
   "metadata": {
    "colab": {
     "base_uri": "https://localhost:8080/"
    },
    "id": "Xzit7Sk5UFMV",
    "outputId": "d1947278-3ccb-4b34-c4c7-95095c41b174"
   },
   "outputs": [],
   "source": [
    "print(model.score(xTest, nyTest))\n",
    "print(ieModel.score(xIETest, t_yIE))\n",
    "print(nsModel.score(xNSTest, t_yNS))\n",
    "print(ftModel.score(xFTTest, t_yFT))\n",
    "print(pjModel.score(xPJTest, t_yPJ))"
   ]
  },
  {
   "cell_type": "markdown",
   "metadata": {
    "id": "50LC8zvUVCwp"
   },
   "source": [
    "As we can see above the first model which tries to predict at at once performs poorly. But the separate model which predicts i or e, n or s, f or t, p or j does good\n",
    "\n"
   ]
  },
  {
   "cell_type": "markdown",
   "metadata": {
    "id": "Jg1QbRChVRnu"
   },
   "source": [
    "To get actual performance of our models, I am using KFold cross validation with k=10 to get actual performance. These values will be pickled along with models, so that these can be used in scripts to allow users to see performance and reliability of each model corresponding to their characteristic pair."
   ]
  },
  {
   "cell_type": "code",
   "execution_count": null,
   "metadata": {
    "colab": {
     "base_uri": "https://localhost:8080/"
    },
    "id": "cOa2nRUiVOP1",
    "outputId": "a725ee2f-69c6-4297-ac62-61fb5314998a"
   },
   "outputs": [],
   "source": [
    "scores = []\n",
    "\n",
    "scores.append(cross_val_score(estimator=model, cv=10, X=xTrain, y=nyTrain, scoring='accuracy'))\n",
    "scores.append(cross_val_score(estimator=ieModel, cv=10, X=xTrain, y=yIE, scoring='accuracy'))\n",
    "scores.append(cross_val_score(estimator=nsModel, cv=10, X=xTrain, y=yNS, scoring='accuracy'))\n",
    "scores.append(cross_val_score(estimator=ftModel, cv=10, X=xTrain, y=yFT, scoring='accuracy'))\n",
    "scores.append(cross_val_score(estimator=pjModel, cv=10, X=xTrain, y=yPJ, scoring='accuracy'))\n",
    "\n",
    "#prining mean and standard deviations for each model\n",
    "for score in scores:\n",
    "    print(score.mean())\n",
    "    print(score.std(), end='\\n\\n')"
   ]
  },
  {
   "cell_type": "code",
   "execution_count": null,
   "metadata": {
    "colab": {
     "base_uri": "https://localhost:8080/"
    },
    "id": "vlo20olJq0Pa",
    "outputId": "f8b6d7aa-be4f-48a5-c819-57240f215cf9"
   },
   "outputs": [],
   "source": [
    "scores = []\n",
    "\n",
    "scores.append(cross_val_score(estimator=model, cv=5, X=xTest, y=nyTest, scoring='accuracy'))\n",
    "scores.append(cross_val_score(estimator=ieModel, cv=5, X=xTest, y=t_yIE, scoring='accuracy'))\n",
    "scores.append(cross_val_score(estimator=nsModel, cv=5, X=xTest, y=t_yNS, scoring='accuracy'))\n",
    "scores.append(cross_val_score(estimator=ftModel, cv=5, X=xTest, y=t_yFT, scoring='accuracy'))\n",
    "scores.append(cross_val_score(estimator=pjModel, cv=5, X=xTest, y=t_yPJ, scoring='accuracy'))\n",
    "\n",
    "#prining mean and standard deviations for each model\n",
    "for score in scores:\n",
    "    print(score.mean())\n",
    "    print(score.std(), end='\\n\\n')"
   ]
  },
  {
   "cell_type": "code",
   "execution_count": null,
   "metadata": {
    "colab": {
     "base_uri": "https://localhost:8080/"
    },
    "id": "HiSchfpYzI3G",
    "outputId": "1e9946b8-4432-4dc4-9995-b9ca2744818b"
   },
   "outputs": [],
   "source": [
    "print('Train Classification Report \\n ',classification_report(nyTrain,model.predict(xTrain)))"
   ]
  },
  {
   "cell_type": "code",
   "execution_count": null,
   "metadata": {
    "colab": {
     "base_uri": "https://localhost:8080/"
    },
    "id": "GIwEkpassZJd",
    "outputId": "179864b1-6144-4545-e02d-ca0864f2ae93"
   },
   "outputs": [],
   "source": [
    "print('Test Classification Report \\n ',classification_report(nyTest,model.predict(xTest)))"
   ]
  },
  {
   "cell_type": "markdown",
   "metadata": {
    "id": "nN06gP_-WXWM"
   },
   "source": [
    "# **2. Logistic Regression**\n"
   ]
  },
  {
   "cell_type": "code",
   "execution_count": null,
   "metadata": {
    "id": "Rnq_GkkMV1tZ"
   },
   "outputs": [],
   "source": [
    "model_log=LogisticRegression(max_iter=3000,C=0.5,n_jobs=-1)"
   ]
  },
  {
   "cell_type": "code",
   "execution_count": null,
   "metadata": {
    "id": "UX6aU0L0VtbV"
   },
   "outputs": [],
   "source": [
    "model_lg = model_log.fit(xTrain, nyTrain)\n",
    "ieModel = model_log.fit(xIETrain, yIE)\n",
    "nsModel = model_log.fit(xNSTrain, yNS)\n",
    "ftModel = model_log.fit(xFTTrain, yFT)\n",
    "pjModel = model_log.fit(xPJTrain, yPJ)"
   ]
  },
  {
   "cell_type": "code",
   "execution_count": null,
   "metadata": {
    "colab": {
     "base_uri": "https://localhost:8080/"
    },
    "id": "2OinuZ-vXQuE",
    "outputId": "3256f720-596f-45b4-ad96-1276270ade22"
   },
   "outputs": [],
   "source": [
    "model_lg.score(xTrain, nyTrain)"
   ]
  },
  {
   "cell_type": "code",
   "execution_count": null,
   "metadata": {
    "colab": {
     "base_uri": "https://localhost:8080/"
    },
    "id": "si_7nGg5VtX-",
    "outputId": "95abce0e-383a-422a-e912-b5ba80b4c0f1"
   },
   "outputs": [],
   "source": [
    "model_lg.score(xTest, nyTest)"
   ]
  },
  {
   "cell_type": "code",
   "execution_count": null,
   "metadata": {
    "colab": {
     "base_uri": "https://localhost:8080/"
    },
    "id": "5rhpriZV3Lnf",
    "outputId": "a725ee2f-69c6-4297-ac62-61fb5314998a"
   },
   "outputs": [],
   "source": [
    "scores = []\n",
    "\n",
    "scores.append(cross_val_score(estimator=model_lg, cv=5, X=xTrain, y=nyTrain, scoring='accuracy'))\n",
    "scores.append(cross_val_score(estimator=ieModel, cv=5, X=xTrain, y=yIE, scoring='accuracy'))\n",
    "scores.append(cross_val_score(estimator=nsModel, cv=5, X=xTrain, y=yNS, scoring='accuracy'))\n",
    "scores.append(cross_val_score(estimator=ftModel, cv=5, X=xTrain, y=yFT, scoring='accuracy'))\n",
    "scores.append(cross_val_score(estimator=pjModel, cv=5, X=xTrain, y=yPJ, scoring='accuracy'))\n",
    "\n",
    "#prining mean and standard deviations for each model\n",
    "for score in scores:\n",
    "    print(score.mean())\n",
    "    print(score.std(), end='\\n\\n')"
   ]
  },
  {
   "cell_type": "code",
   "execution_count": null,
   "metadata": {
    "colab": {
     "base_uri": "https://localhost:8080/"
    },
    "id": "4xqWZk7A3Lng",
    "outputId": "f8b6d7aa-be4f-48a5-c819-57240f215cf9"
   },
   "outputs": [],
   "source": [
    "scores = []\n",
    "\n",
    "scores.append(cross_val_score(estimator=model_lg, cv=5, X=xTest, y=nyTest, scoring='accuracy'))\n",
    "scores.append(cross_val_score(estimator=ieModel, cv=5, X=xTest, y=t_yIE, scoring='accuracy'))\n",
    "scores.append(cross_val_score(estimator=nsModel, cv=5, X=xTest, y=t_yNS, scoring='accuracy'))\n",
    "scores.append(cross_val_score(estimator=ftModel, cv=5, X=xTest, y=t_yFT, scoring='accuracy'))\n",
    "scores.append(cross_val_score(estimator=pjModel, cv=5, X=xTest, y=t_yPJ, scoring='accuracy'))\n",
    "\n",
    "#prining mean and standard deviations for each model\n",
    "for score in scores:\n",
    "    print(score.mean())\n",
    "    print(score.std(), end='\\n\\n')"
   ]
  },
  {
   "cell_type": "code",
   "execution_count": null,
   "metadata": {
    "colab": {
     "base_uri": "https://localhost:8080/"
    },
    "id": "EbBrKomz9GUn",
    "outputId": "4da4c335-a04e-4ab9-886f-4ac229936149"
   },
   "outputs": [],
   "source": [
    "print('Train Classification Report \\n ',classification_report(nyTrain,model_lg.predict(xTrain)))"
   ]
  },
  {
   "cell_type": "code",
   "execution_count": null,
   "metadata": {
    "colab": {
     "base_uri": "https://localhost:8080/"
    },
    "id": "HnOT2Vkhxqvo",
    "outputId": "0aa223d0-1739-42a3-d483-d899635666f0"
   },
   "outputs": [],
   "source": [
    "print('Test Classification Report \\n ',classification_report(nyTest,model_lg.predict(xTest)))"
   ]
  },
  {
   "cell_type": "markdown",
   "metadata": {
    "id": "Eb0vcZw28g22"
   },
   "source": [
    "# **3. Random Forest**"
   ]
  },
  {
   "cell_type": "code",
   "execution_count": null,
   "metadata": {
    "id": "Hv3OM3wPVtTF"
   },
   "outputs": [],
   "source": [
    "random_forest = RandomForestClassifier(n_estimators=100)"
   ]
  },
  {
   "cell_type": "code",
   "execution_count": 3,
   "metadata": {
    "id": "vQBHm0xt_C7I"
   },
   "outputs": [
    {
     "ename": "NameError",
     "evalue": "name 'RandomForestClassifier' is not defined",
     "output_type": "error",
     "traceback": [
      "\u001b[1;31m---------------------------------------------------------------------------\u001b[0m",
      "\u001b[1;31mNameError\u001b[0m                                 Traceback (most recent call last)",
      "\u001b[1;32mC:\\Users\\SUMAMA~1\\AppData\\Local\\Temp/ipykernel_20732/3812994747.py\u001b[0m in \u001b[0;36m<module>\u001b[1;34m\u001b[0m\n\u001b[1;32m----> 1\u001b[1;33m \u001b[0mrnd_model\u001b[0m \u001b[1;33m=\u001b[0m  \u001b[0mRandomForestClassifier\u001b[0m\u001b[1;33m(\u001b[0m\u001b[0mn_estimators\u001b[0m\u001b[1;33m=\u001b[0m\u001b[1;36m100\u001b[0m\u001b[1;33m)\u001b[0m\u001b[1;33m.\u001b[0m\u001b[0mfit\u001b[0m\u001b[1;33m(\u001b[0m\u001b[0mxTrain\u001b[0m\u001b[1;33m,\u001b[0m \u001b[0mnyTrain\u001b[0m\u001b[1;33m)\u001b[0m\u001b[1;33m\u001b[0m\u001b[1;33m\u001b[0m\u001b[0m\n\u001b[0m\u001b[0;32m      2\u001b[0m \u001b[0mieModel\u001b[0m \u001b[1;33m=\u001b[0m  \u001b[0mRandomForestClassifier\u001b[0m\u001b[1;33m(\u001b[0m\u001b[0mn_estimators\u001b[0m\u001b[1;33m=\u001b[0m\u001b[1;36m100\u001b[0m\u001b[1;33m)\u001b[0m\u001b[1;33m.\u001b[0m\u001b[0mfit\u001b[0m\u001b[1;33m(\u001b[0m\u001b[0mxIETrain\u001b[0m\u001b[1;33m,\u001b[0m \u001b[0myIE\u001b[0m\u001b[1;33m)\u001b[0m\u001b[1;33m\u001b[0m\u001b[1;33m\u001b[0m\u001b[0m\n\u001b[0;32m      3\u001b[0m \u001b[0mnsModel\u001b[0m \u001b[1;33m=\u001b[0m  \u001b[0mRandomForestClassifier\u001b[0m\u001b[1;33m(\u001b[0m\u001b[0mn_estimators\u001b[0m\u001b[1;33m=\u001b[0m\u001b[1;36m100\u001b[0m\u001b[1;33m)\u001b[0m\u001b[1;33m.\u001b[0m\u001b[0mfit\u001b[0m\u001b[1;33m(\u001b[0m\u001b[0mxNSTrain\u001b[0m\u001b[1;33m,\u001b[0m \u001b[0myNS\u001b[0m\u001b[1;33m)\u001b[0m\u001b[1;33m\u001b[0m\u001b[1;33m\u001b[0m\u001b[0m\n\u001b[0;32m      4\u001b[0m \u001b[0mftModel\u001b[0m \u001b[1;33m=\u001b[0m  \u001b[0mRandomForestClassifier\u001b[0m\u001b[1;33m(\u001b[0m\u001b[0mn_estimators\u001b[0m\u001b[1;33m=\u001b[0m\u001b[1;36m100\u001b[0m\u001b[1;33m)\u001b[0m\u001b[1;33m.\u001b[0m\u001b[0mfit\u001b[0m\u001b[1;33m(\u001b[0m\u001b[0mxFTTrain\u001b[0m\u001b[1;33m,\u001b[0m \u001b[0myFT\u001b[0m\u001b[1;33m)\u001b[0m\u001b[1;33m\u001b[0m\u001b[1;33m\u001b[0m\u001b[0m\n\u001b[0;32m      5\u001b[0m \u001b[0mpjModel\u001b[0m \u001b[1;33m=\u001b[0m  \u001b[0mRandomForestClassifier\u001b[0m\u001b[1;33m(\u001b[0m\u001b[0mn_estimators\u001b[0m\u001b[1;33m=\u001b[0m\u001b[1;36m100\u001b[0m\u001b[1;33m)\u001b[0m\u001b[1;33m.\u001b[0m\u001b[0mfit\u001b[0m\u001b[1;33m(\u001b[0m\u001b[0mxPJTrain\u001b[0m\u001b[1;33m,\u001b[0m \u001b[0myPJ\u001b[0m\u001b[1;33m)\u001b[0m\u001b[1;33m\u001b[0m\u001b[1;33m\u001b[0m\u001b[0m\n",
      "\u001b[1;31mNameError\u001b[0m: name 'RandomForestClassifier' is not defined"
     ]
    }
   ],
   "source": [
    "rnd_model =  RandomForestClassifier(n_estimators=100).fit(xTrain, nyTrain)\n",
    "ieModel =  RandomForestClassifier(n_estimators=100).fit(xIETrain, yIE)\n",
    "nsModel =  RandomForestClassifier(n_estimators=100).fit(xNSTrain, yNS)\n",
    "ftModel =  RandomForestClassifier(n_estimators=100).fit(xFTTrain, yFT)\n",
    "pjModel =  RandomForestClassifier(n_estimators=100).fit(xPJTrain, yPJ)"
   ]
  },
  {
   "cell_type": "code",
   "execution_count": null,
   "metadata": {
    "colab": {
     "base_uri": "https://localhost:8080/"
    },
    "id": "8VYp077z-2e2",
    "outputId": "f1cb4a23-4686-4a50-e2f8-bf7ff8595956"
   },
   "outputs": [],
   "source": [
    "rnd_model.score(xTrain, nyTrain)"
   ]
  },
  {
   "cell_type": "code",
   "execution_count": null,
   "metadata": {
    "colab": {
     "base_uri": "https://localhost:8080/"
    },
    "id": "fX_VbZee_64_",
    "outputId": "d352ac1a-4ef5-4344-fd36-944f3b603bc7"
   },
   "outputs": [],
   "source": [
    "print(rnd_model.score(xTest, nyTest))\n",
    "print(ieModel.score(xIETest, t_yIE))\n",
    "print(nsModel.score(xNSTest, t_yNS))\n",
    "print(ftModel.score(xFTTest, t_yFT))\n",
    "print(pjModel.score(xPJTest, t_yPJ))"
   ]
  },
  {
   "cell_type": "code",
   "execution_count": null,
   "metadata": {
    "colab": {
     "base_uri": "https://localhost:8080/"
    },
    "id": "L2zkd4IEAYEx",
    "outputId": "76a9a53d-79f2-4191-f397-bb7c0ebb633c"
   },
   "outputs": [],
   "source": [
    "scores = []\n",
    "\n",
    "scores.append(cross_val_score(estimator=rnd_model, cv=5, X=xTrain, y=nyTrain, scoring='accuracy'))\n",
    "scores.append(cross_val_score(estimator=ieModel, cv=5, X=xTrain, y=yIE, scoring='accuracy'))\n",
    "scores.append(cross_val_score(estimator=nsModel, cv=5, X=xTrain, y=yNS, scoring='accuracy'))\n",
    "scores.append(cross_val_score(estimator=ftModel, cv=5, X=xTrain, y=yFT, scoring='accuracy'))\n",
    "scores.append(cross_val_score(estimator=pjModel, cv=5, X=xTrain, y=yPJ, scoring='accuracy'))\n",
    "\n",
    "#prining mean and standard deviations for each model\n",
    "for score in scores:\n",
    "    print(score.mean())\n",
    "    print(score.std(), end='\\n\\n')"
   ]
  },
  {
   "cell_type": "code",
   "execution_count": null,
   "metadata": {
    "colab": {
     "base_uri": "https://localhost:8080/"
    },
    "id": "JsvMOVtVzkJK",
    "outputId": "950ed4d6-e1e8-409d-c139-8ac80f5d24ad"
   },
   "outputs": [],
   "source": [
    "print('Train Classification Report \\n ',classification_report(nyTrain,rnd_model.predict(xTrain)))"
   ]
  },
  {
   "cell_type": "markdown",
   "metadata": {
    "id": "wR_8GfJ9CHVu"
   },
   "source": [
    "#**4. K Nearest Neighbor**"
   ]
  },
  {
   "cell_type": "code",
   "execution_count": null,
   "metadata": {
    "id": "naF5kq4WB3K7"
   },
   "outputs": [],
   "source": [
    "knn = KNeighborsClassifier(n_neighbors = 5)"
   ]
  },
  {
   "cell_type": "code",
   "execution_count": null,
   "metadata": {
    "id": "rLvLG5y3B3IP"
   },
   "outputs": [],
   "source": [
    "knn_model =  KNeighborsClassifier(n_neighbors = 5).fit(xTrain, nyTrain)\n",
    "ieModel = KNeighborsClassifier(n_neighbors = 5).fit(xIETrain, yIE)\n",
    "nsModel =  KNeighborsClassifier(n_neighbors = 5).fit(xNSTrain, yNS)\n",
    "ftModel =  KNeighborsClassifier(n_neighbors = 5).fit(xFTTrain, yFT)\n",
    "pjModel =  KNeighborsClassifier(n_neighbors = 5).fit(xPJTrain, yPJ)"
   ]
  },
  {
   "cell_type": "code",
   "execution_count": null,
   "metadata": {
    "colab": {
     "base_uri": "https://localhost:8080/"
    },
    "id": "0C1tSVY3Auun",
    "outputId": "79afec29-cbbd-4da1-c8dc-ebc87b0ba3cf"
   },
   "outputs": [],
   "source": [
    "knn_model.score(xTrain, nyTrain)"
   ]
  },
  {
   "cell_type": "code",
   "execution_count": null,
   "metadata": {
    "colab": {
     "base_uri": "https://localhost:8080/"
    },
    "id": "Fk75qBotCGQo",
    "outputId": "d7c45edb-e32c-47a0-dc75-d5a2bcb33379"
   },
   "outputs": [],
   "source": [
    "print(knn_model.score(xTest, nyTest))\n",
    "print(ieModel.score(xIETest, t_yIE))\n",
    "print(nsModel.score(xNSTest, t_yNS))\n",
    "print(ftModel.score(xFTTest, t_yFT))\n",
    "print(pjModel.score(xPJTest, t_yPJ))"
   ]
  },
  {
   "cell_type": "code",
   "execution_count": null,
   "metadata": {
    "colab": {
     "base_uri": "https://localhost:8080/"
    },
    "id": "XIFlw445BwEm",
    "outputId": "c1495980-ac64-43a5-fe37-0528ae45c163"
   },
   "outputs": [],
   "source": [
    "scores = []\n",
    "\n",
    "scores.append(cross_val_score(estimator=knn_model, cv=5, X=xTrain, y=nyTrain, scoring='accuracy'))\n",
    "scores.append(cross_val_score(estimator=ieModel, cv=5, X=xTrain, y=yIE, scoring='accuracy'))\n",
    "scores.append(cross_val_score(estimator=nsModel, cv=5, X=xTrain, y=yNS, scoring='accuracy'))\n",
    "scores.append(cross_val_score(estimator=ftModel, cv=5, X=xTrain, y=yFT, scoring='accuracy'))\n",
    "scores.append(cross_val_score(estimator=pjModel, cv=5, X=xTrain, y=yPJ, scoring='accuracy'))\n",
    "\n",
    "#prining mean and standard deviations for each model\n",
    "for score in scores:\n",
    "    print(score.mean())\n",
    "    print(score.std(), end='\\n\\n')"
   ]
  },
  {
   "cell_type": "code",
   "execution_count": 4,
   "metadata": {
    "colab": {
     "base_uri": "https://localhost:8080/"
    },
    "id": "tjKUW6LV4NWj",
    "outputId": "ad960341-cee8-4883-e26c-f2a33caff255"
   },
   "outputs": [
    {
     "ename": "NameError",
     "evalue": "name 'classification_report' is not defined",
     "output_type": "error",
     "traceback": [
      "\u001b[1;31m---------------------------------------------------------------------------\u001b[0m",
      "\u001b[1;31mNameError\u001b[0m                                 Traceback (most recent call last)",
      "\u001b[1;32mC:\\Users\\SUMAMA~1\\AppData\\Local\\Temp/ipykernel_20732/46253037.py\u001b[0m in \u001b[0;36m<module>\u001b[1;34m\u001b[0m\n\u001b[1;32m----> 1\u001b[1;33m \u001b[0mprint\u001b[0m\u001b[1;33m(\u001b[0m\u001b[1;34m'Train Classification Report \\n '\u001b[0m\u001b[1;33m,\u001b[0m\u001b[0mclassification_report\u001b[0m\u001b[1;33m(\u001b[0m\u001b[0mnyTrain\u001b[0m\u001b[1;33m,\u001b[0m\u001b[0mknn_model\u001b[0m\u001b[1;33m.\u001b[0m\u001b[0mpredict\u001b[0m\u001b[1;33m(\u001b[0m\u001b[0mxTrain\u001b[0m\u001b[1;33m)\u001b[0m\u001b[1;33m)\u001b[0m\u001b[1;33m)\u001b[0m\u001b[1;33m\u001b[0m\u001b[1;33m\u001b[0m\u001b[0m\n\u001b[0m",
      "\u001b[1;31mNameError\u001b[0m: name 'classification_report' is not defined"
     ]
    }
   ],
   "source": [
    "print('Train Classification Report \\n ',classification_report(nyTrain,knn_model.predict(xTrain)))"
   ]
  },
  {
   "cell_type": "markdown",
   "metadata": {
    "id": "vQSb2R6ztESP"
   },
   "source": [
    "#**KNN ||**"
   ]
  },
  {
   "cell_type": "code",
   "execution_count": null,
   "metadata": {
    "id": "mhTr7iRu96Km"
   },
   "outputs": [],
   "source": [
    "knn = KNeighborsClassifier(n_neighbors = 3)  "
   ]
  },
  {
   "cell_type": "code",
   "execution_count": null,
   "metadata": {
    "id": "sBiM3ryfCc5p"
   },
   "outputs": [],
   "source": [
    "knn_model =  KNeighborsClassifier(n_neighbors = 3).fit(xTrain, nyTrain)\n",
    "ieModel = KNeighborsClassifier(n_neighbors = 3).fit(xIETrain, yIE)\n",
    "nsModel =  KNeighborsClassifier(n_neighbors = 3).fit(xNSTrain, yNS)\n",
    "ftModel =  KNeighborsClassifier(n_neighbors = 3).fit(xFTTrain, yFT)\n",
    "pjModel =  KNeighborsClassifier(n_neighbors = 3).fit(xPJTrain, yPJ)"
   ]
  },
  {
   "cell_type": "code",
   "execution_count": null,
   "metadata": {
    "colab": {
     "base_uri": "https://localhost:8080/"
    },
    "id": "HUFXc7imCc2S",
    "outputId": "a5f33bbc-60ad-44a2-ca64-ddf9ae539da6"
   },
   "outputs": [],
   "source": [
    "knn_model.score(xTrain, nyTrain)"
   ]
  },
  {
   "cell_type": "code",
   "execution_count": null,
   "metadata": {
    "colab": {
     "base_uri": "https://localhost:8080/"
    },
    "id": "ZLjy4hcVCczg",
    "outputId": "2d441de1-002d-40d3-bf1f-81114d377b6e"
   },
   "outputs": [],
   "source": [
    "print(knn_model.score(xTest, nyTest))\n",
    "print(ieModel.score(xIETest, t_yIE))\n",
    "print(nsModel.score(xNSTest, t_yNS))\n",
    "print(ftModel.score(xFTTest, t_yFT))\n",
    "print(pjModel.score(xPJTest, t_yPJ))"
   ]
  },
  {
   "cell_type": "code",
   "execution_count": null,
   "metadata": {
    "colab": {
     "base_uri": "https://localhost:8080/"
    },
    "id": "_qWApuLsCffn",
    "outputId": "8a703def-24da-42d6-a425-2c64c6c0ec2a"
   },
   "outputs": [],
   "source": [
    "scores = []\n",
    "\n",
    "scores.append(cross_val_score(estimator=knn_model, cv=5, X=xTrain, y=nyTrain, scoring='accuracy'))\n",
    "scores.append(cross_val_score(estimator=ieModel, cv=5, X=xTrain, y=yIE, scoring='accuracy'))\n",
    "scores.append(cross_val_score(estimator=nsModel, cv=5, X=xTrain, y=yNS, scoring='accuracy'))\n",
    "scores.append(cross_val_score(estimator=ftModel, cv=5, X=xTrain, y=yFT, scoring='accuracy'))\n",
    "scores.append(cross_val_score(estimator=pjModel, cv=5, X=xTrain, y=yPJ, scoring='accuracy'))\n",
    "\n",
    "#prining mean and standard deviations for each model\n",
    "for score in scores:\n",
    "    print(score.mean())\n",
    "    print(score.std(), end='\\n\\n')"
   ]
  },
  {
   "cell_type": "markdown",
   "metadata": {
    "id": "WZxMtKN4tLfx"
   },
   "source": [
    "#**KNN |||**"
   ]
  },
  {
   "cell_type": "code",
   "execution_count": null,
   "metadata": {
    "id": "irBdKWuVC0EN"
   },
   "outputs": [],
   "source": [
    "knn_model =  KNeighborsClassifier(n_neighbors = 2).fit(xTrain, nyTrain)\n",
    "ieModel = KNeighborsClassifier(n_neighbors = 2).fit(xIETrain, yIE)\n",
    "nsModel =  KNeighborsClassifier(n_neighbors = 2).fit(xNSTrain, yNS)\n",
    "ftModel =  KNeighborsClassifier(n_neighbors = 2).fit(xFTTrain, yFT)\n",
    "pjModel =  KNeighborsClassifier(n_neighbors = 2).fit(xPJTrain, yPJ)"
   ]
  },
  {
   "cell_type": "code",
   "execution_count": null,
   "metadata": {
    "colab": {
     "base_uri": "https://localhost:8080/"
    },
    "id": "g5rPjOdzC9fq",
    "outputId": "c663cb1b-47f9-4df3-d4c6-47fb8fcedcab"
   },
   "outputs": [],
   "source": [
    "knn_model.score(xTrain, nyTrain)"
   ]
  },
  {
   "cell_type": "code",
   "execution_count": 5,
   "metadata": {
    "colab": {
     "base_uri": "https://localhost:8080/"
    },
    "id": "KuGeqfsfC-WS",
    "outputId": "e5e0dbe2-5509-463c-eea6-498439cc45cb"
   },
   "outputs": [
    {
     "ename": "NameError",
     "evalue": "name 'knn_model' is not defined",
     "output_type": "error",
     "traceback": [
      "\u001b[1;31m---------------------------------------------------------------------------\u001b[0m",
      "\u001b[1;31mNameError\u001b[0m                                 Traceback (most recent call last)",
      "\u001b[1;32mC:\\Users\\SUMAMA~1\\AppData\\Local\\Temp/ipykernel_20732/3085237419.py\u001b[0m in \u001b[0;36m<module>\u001b[1;34m\u001b[0m\n\u001b[1;32m----> 1\u001b[1;33m \u001b[0mprint\u001b[0m\u001b[1;33m(\u001b[0m\u001b[0mknn_model\u001b[0m\u001b[1;33m.\u001b[0m\u001b[0mscore\u001b[0m\u001b[1;33m(\u001b[0m\u001b[0mxTest\u001b[0m\u001b[1;33m,\u001b[0m \u001b[0mnyTest\u001b[0m\u001b[1;33m)\u001b[0m\u001b[1;33m)\u001b[0m\u001b[1;33m\u001b[0m\u001b[1;33m\u001b[0m\u001b[0m\n\u001b[0m\u001b[0;32m      2\u001b[0m \u001b[0mprint\u001b[0m\u001b[1;33m(\u001b[0m\u001b[0mieModel\u001b[0m\u001b[1;33m.\u001b[0m\u001b[0mscore\u001b[0m\u001b[1;33m(\u001b[0m\u001b[0mxIETest\u001b[0m\u001b[1;33m,\u001b[0m \u001b[0mt_yIE\u001b[0m\u001b[1;33m)\u001b[0m\u001b[1;33m)\u001b[0m\u001b[1;33m\u001b[0m\u001b[1;33m\u001b[0m\u001b[0m\n\u001b[0;32m      3\u001b[0m \u001b[0mprint\u001b[0m\u001b[1;33m(\u001b[0m\u001b[0mnsModel\u001b[0m\u001b[1;33m.\u001b[0m\u001b[0mscore\u001b[0m\u001b[1;33m(\u001b[0m\u001b[0mxNSTest\u001b[0m\u001b[1;33m,\u001b[0m \u001b[0mt_yNS\u001b[0m\u001b[1;33m)\u001b[0m\u001b[1;33m)\u001b[0m\u001b[1;33m\u001b[0m\u001b[1;33m\u001b[0m\u001b[0m\n\u001b[0;32m      4\u001b[0m \u001b[0mprint\u001b[0m\u001b[1;33m(\u001b[0m\u001b[0mftModel\u001b[0m\u001b[1;33m.\u001b[0m\u001b[0mscore\u001b[0m\u001b[1;33m(\u001b[0m\u001b[0mxFTTest\u001b[0m\u001b[1;33m,\u001b[0m \u001b[0mt_yFT\u001b[0m\u001b[1;33m)\u001b[0m\u001b[1;33m)\u001b[0m\u001b[1;33m\u001b[0m\u001b[1;33m\u001b[0m\u001b[0m\n\u001b[0;32m      5\u001b[0m \u001b[0mprint\u001b[0m\u001b[1;33m(\u001b[0m\u001b[0mpjModel\u001b[0m\u001b[1;33m.\u001b[0m\u001b[0mscore\u001b[0m\u001b[1;33m(\u001b[0m\u001b[0mxPJTest\u001b[0m\u001b[1;33m,\u001b[0m \u001b[0mt_yPJ\u001b[0m\u001b[1;33m)\u001b[0m\u001b[1;33m)\u001b[0m\u001b[1;33m\u001b[0m\u001b[1;33m\u001b[0m\u001b[0m\n",
      "\u001b[1;31mNameError\u001b[0m: name 'knn_model' is not defined"
     ]
    }
   ],
   "source": [
    "print(knn_model.score(xTest, nyTest))\n",
    "print(ieModel.score(xIETest, t_yIE))\n",
    "print(nsModel.score(xNSTest, t_yNS))\n",
    "print(ftModel.score(xFTTest, t_yFT))\n",
    "print(pjModel.score(xPJTest, t_yPJ))"
   ]
  },
  {
   "cell_type": "code",
   "execution_count": null,
   "metadata": {
    "colab": {
     "base_uri": "https://localhost:8080/"
    },
    "id": "yY5O-1StCguQ",
    "outputId": "79932875-6045-41a6-91a9-b83c559ae731"
   },
   "outputs": [],
   "source": [
    "scores = []\n",
    "\n",
    "scores.append(cross_val_score(estimator=knn_model, cv=5, X=xTrain, y=nyTrain, scoring='accuracy'))\n",
    "scores.append(cross_val_score(estimator=ieModel, cv=5, X=xTrain, y=yIE, scoring='accuracy'))\n",
    "scores.append(cross_val_score(estimator=nsModel, cv=5, X=xTrain, y=yNS, scoring='accuracy'))\n",
    "scores.append(cross_val_score(estimator=ftModel, cv=5, X=xTrain, y=yFT, scoring='accuracy'))\n",
    "scores.append(cross_val_score(estimator=pjModel, cv=5, X=xTrain, y=yPJ, scoring='accuracy'))\n",
    "\n",
    "#prining mean and standard deviations for each model\n",
    "for score in scores:\n",
    "    print(score.mean())\n",
    "    print(score.std(), end='\\n\\n')"
   ]
  },
  {
   "cell_type": "markdown",
   "metadata": {
    "id": "VRc0SXmPEjDI"
   },
   "source": [
    "# **5. CatBoost Classifier**"
   ]
  },
  {
   "cell_type": "code",
   "execution_count": null,
   "metadata": {
    "id": "XDZ337uqEk8I"
   },
   "outputs": [],
   "source": [
    "model_cat=CatBoostClassifier(loss_function='MultiClass',eval_metric='MultiClass',task_type='GPU', verbose=False)"
   ]
  },
  {
   "cell_type": "code",
   "execution_count": null,
   "metadata": {
    "colab": {
     "base_uri": "https://localhost:8080/"
    },
    "id": "VjCf7ZG1E4Je",
    "outputId": "2505d67d-4c82-497d-c560-f5852f2f41cd"
   },
   "outputs": [],
   "source": [
    "cat =  model_cat.fit(xTrain, nyTrain)\n",
    "ieModel = model_cat.fit(xIETrain, yIE)\n",
    "nsModel =  model_cat.fit(xNSTrain, yNS)\n",
    "ftModel =  model_cat.fit(xFTTrain, yFT)\n",
    "pjModel =  model_cat.fit(xPJTrain, yPJ)"
   ]
  },
  {
   "cell_type": "code",
   "execution_count": 6,
   "metadata": {
    "colab": {
     "base_uri": "https://localhost:8080/"
    },
    "id": "VpBaiFQaE4F5",
    "outputId": "d03d652e-cd64-4433-97bf-206dafd8046b"
   },
   "outputs": [
    {
     "ename": "NameError",
     "evalue": "name 'cat' is not defined",
     "output_type": "error",
     "traceback": [
      "\u001b[1;31m---------------------------------------------------------------------------\u001b[0m",
      "\u001b[1;31mNameError\u001b[0m                                 Traceback (most recent call last)",
      "\u001b[1;32mC:\\Users\\SUMAMA~1\\AppData\\Local\\Temp/ipykernel_20732/3677110187.py\u001b[0m in \u001b[0;36m<module>\u001b[1;34m\u001b[0m\n\u001b[1;32m----> 1\u001b[1;33m \u001b[0mcat\u001b[0m\u001b[1;33m.\u001b[0m\u001b[0mscore\u001b[0m\u001b[1;33m(\u001b[0m\u001b[0mxTrain\u001b[0m\u001b[1;33m,\u001b[0m \u001b[0mnyTrain\u001b[0m\u001b[1;33m)\u001b[0m\u001b[1;33m\u001b[0m\u001b[1;33m\u001b[0m\u001b[0m\n\u001b[0m",
      "\u001b[1;31mNameError\u001b[0m: name 'cat' is not defined"
     ]
    }
   ],
   "source": [
    "cat.score(xTrain, nyTrain)"
   ]
  },
  {
   "cell_type": "code",
   "execution_count": null,
   "metadata": {
    "colab": {
     "base_uri": "https://localhost:8080/"
    },
    "id": "pLSmQlWRE4DQ",
    "outputId": "7aabcdcd-4984-4659-f90d-393fe9a600bc"
   },
   "outputs": [],
   "source": [
    "print(cat.score(xTest, nyTest))\n",
    "print(ieModel.score(xIETest, t_yIE))\n",
    "print(nsModel.score(xNSTest, t_yNS))\n",
    "print(ftModel.score(xFTTest, t_yFT))\n",
    "print(pjModel.score(xPJTest, t_yPJ))"
   ]
  },
  {
   "cell_type": "code",
   "execution_count": null,
   "metadata": {
    "colab": {
     "base_uri": "https://localhost:8080/"
    },
    "id": "JjKdPUhZ5xh7",
    "outputId": "66caf3c1-b1b6-4665-ddcb-d2c4d0396e4a"
   },
   "outputs": [],
   "source": [
    "scores = []\n",
    "\n",
    "scores.append(cross_val_score(estimator=cat, cv=5, X=xTrain, y=nyTrain, scoring='accuracy'))\n",
    "scores.append(cross_val_score(estimator=ieModel, cv=5, X=xTrain, y=yIE, scoring='accuracy'))\n",
    "scores.append(cross_val_score(estimator=nsModel, cv=5, X=xTrain, y=yNS, scoring='accuracy'))\n",
    "scores.append(cross_val_score(estimator=ftModel, cv=5, X=xTrain, y=yFT, scoring='accuracy'))\n",
    "scores.append(cross_val_score(estimator=pjModel, cv=5, X=xTrain, y=yPJ, scoring='accuracy'))\n",
    "\n",
    "#prining mean and standard deviations for each model\n",
    "for score in scores:\n",
    "    print(score.mean())\n",
    "    print(score.std(), end='\\n\\n')"
   ]
  },
  {
   "cell_type": "code",
   "execution_count": null,
   "metadata": {
    "colab": {
     "base_uri": "https://localhost:8080/"
    },
    "id": "5uBaDN4ZWPZT",
    "outputId": "dc9c77be-ca0b-499e-fdc5-b8a7c95a5e92"
   },
   "outputs": [],
   "source": [
    "print('Train Classification Report \\n ',classification_report(nyTrain,model_cat.predict(xTrain)))"
   ]
  },
  {
   "cell_type": "markdown",
   "metadata": {
    "id": "s2NTzPRQ9uSt"
   },
   "source": [
    "# **6. XGBoost**"
   ]
  },
  {
   "cell_type": "code",
   "execution_count": null,
   "metadata": {
    "id": "ysU1pOy_9KEO"
   },
   "outputs": [],
   "source": [
    "xgb = XGBClassifier()"
   ]
  },
  {
   "cell_type": "code",
   "execution_count": null,
   "metadata": {
    "id": "XBPGQDrODenI"
   },
   "outputs": [],
   "source": [
    "xgb_model =  xgb.fit(xTrain, nyTrain)\n",
    "ieModel = xgb.fit(xIETrain, yIE)\n",
    "nsModel =  xgb.fit(xNSTrain, yNS)\n",
    "ftModel =  xgb.fit(xFTTrain, yFT)\n",
    "pjModel =  xgb.fit(xPJTrain, yPJ)"
   ]
  },
  {
   "cell_type": "code",
   "execution_count": 7,
   "metadata": {
    "colab": {
     "base_uri": "https://localhost:8080/"
    },
    "id": "4FuvXXPjDejl",
    "outputId": "1ec6ba72-2feb-49b6-cfc2-4cb8234ae868"
   },
   "outputs": [
    {
     "ename": "NameError",
     "evalue": "name 'xgb_model' is not defined",
     "output_type": "error",
     "traceback": [
      "\u001b[1;31m---------------------------------------------------------------------------\u001b[0m",
      "\u001b[1;31mNameError\u001b[0m                                 Traceback (most recent call last)",
      "\u001b[1;32mC:\\Users\\SUMAMA~1\\AppData\\Local\\Temp/ipykernel_20732/2010962041.py\u001b[0m in \u001b[0;36m<module>\u001b[1;34m\u001b[0m\n\u001b[1;32m----> 1\u001b[1;33m \u001b[0mxgb_model\u001b[0m\u001b[1;33m.\u001b[0m\u001b[0mscore\u001b[0m\u001b[1;33m(\u001b[0m\u001b[0mxTrain\u001b[0m\u001b[1;33m,\u001b[0m \u001b[0mnyTrain\u001b[0m\u001b[1;33m)\u001b[0m\u001b[1;33m\u001b[0m\u001b[1;33m\u001b[0m\u001b[0m\n\u001b[0m",
      "\u001b[1;31mNameError\u001b[0m: name 'xgb_model' is not defined"
     ]
    }
   ],
   "source": [
    "xgb_model.score(xTrain, nyTrain)"
   ]
  },
  {
   "cell_type": "code",
   "execution_count": null,
   "metadata": {
    "colab": {
     "base_uri": "https://localhost:8080/"
    },
    "id": "yQpz7DsXDegl",
    "outputId": "dc0403c4-b85b-4e4c-d3a9-019e847039fc"
   },
   "outputs": [],
   "source": [
    "xgb_model.score(xTest, nyTest)"
   ]
  },
  {
   "cell_type": "code",
   "execution_count": null,
   "metadata": {
    "colab": {
     "base_uri": "https://localhost:8080/"
    },
    "id": "6S7TsA1q6CQE",
    "outputId": "9bb4eb0c-2fc9-44f2-93f0-70f1543b3905"
   },
   "outputs": [],
   "source": [
    "scores = []\n",
    "\n",
    "scores.append(cross_val_score(estimator=xgb_model, cv=5, X=xTrain, y=nyTrain, scoring='accuracy'))\n",
    "scores.append(cross_val_score(estimator=ieModel, cv=5, X=xTrain, y=yIE, scoring='accuracy'))\n",
    "scores.append(cross_val_score(estimator=nsModel, cv=5, X=xTrain, y=yNS, scoring='accuracy'))\n",
    "scores.append(cross_val_score(estimator=ftModel, cv=5, X=xTrain, y=yFT, scoring='accuracy'))\n",
    "scores.append(cross_val_score(estimator=pjModel, cv=5, X=xTrain, y=yPJ, scoring='accuracy'))\n",
    "\n",
    "#prining mean and standard deviations for each model\n",
    "for score in scores:\n",
    "    print(score.mean())\n",
    "    print(score.std(), end='\\n\\n')"
   ]
  },
  {
   "cell_type": "code",
   "execution_count": 8,
   "metadata": {
    "colab": {
     "base_uri": "https://localhost:8080/"
    },
    "id": "aNAgGGEGHdG2",
    "outputId": "633cacd4-7994-4144-a2d6-e149450c6557"
   },
   "outputs": [
    {
     "ename": "NameError",
     "evalue": "name 'classification_report' is not defined",
     "output_type": "error",
     "traceback": [
      "\u001b[1;31m---------------------------------------------------------------------------\u001b[0m",
      "\u001b[1;31mNameError\u001b[0m                                 Traceback (most recent call last)",
      "\u001b[1;32mC:\\Users\\SUMAMA~1\\AppData\\Local\\Temp/ipykernel_20732/976450308.py\u001b[0m in \u001b[0;36m<module>\u001b[1;34m\u001b[0m\n\u001b[1;32m----> 1\u001b[1;33m \u001b[0mprint\u001b[0m\u001b[1;33m(\u001b[0m\u001b[1;34m'Train Classification Report \\n '\u001b[0m\u001b[1;33m,\u001b[0m\u001b[0mclassification_report\u001b[0m\u001b[1;33m(\u001b[0m\u001b[0mnyTrain\u001b[0m\u001b[1;33m,\u001b[0m\u001b[0mxgb_model\u001b[0m\u001b[1;33m.\u001b[0m\u001b[0mpredict\u001b[0m\u001b[1;33m(\u001b[0m\u001b[0mxTrain\u001b[0m\u001b[1;33m)\u001b[0m\u001b[1;33m)\u001b[0m\u001b[1;33m)\u001b[0m\u001b[1;33m\u001b[0m\u001b[1;33m\u001b[0m\u001b[0m\n\u001b[0m",
      "\u001b[1;31mNameError\u001b[0m: name 'classification_report' is not defined"
     ]
    }
   ],
   "source": [
    "print('Train Classification Report \\n ',classification_report(nyTrain,xgb_model.predict(xTrain)))"
   ]
  },
  {
   "cell_type": "code",
   "execution_count": null,
   "metadata": {
    "id": "RG7ePB5bEpkx"
   },
   "outputs": [],
   "source": [
    "model_xgb=XGBClassifier(gpu_id=0,tree_method='gpu_hist',max_depth=5,n_estimators=50,learning_rate=0.1)"
   ]
  },
  {
   "cell_type": "code",
   "execution_count": null,
   "metadata": {
    "id": "K3aYdiGMEpiX"
   },
   "outputs": [],
   "source": [
    "x_model =  model_xgb.fit(xTrain, nyTrain)\n",
    "ieModel = model_xgb.fit(xIETrain, yIETrain)\n",
    "nsModel =  model_xgb.fit(xNSTrain, yNSTrain)\n",
    "ftModel =  model_xgb.fit(xFTTrain, yFTTrain)\n",
    "pjModel =  model_xgb.fit(xPJTrain, yPJTrain)"
   ]
  },
  {
   "cell_type": "code",
   "execution_count": null,
   "metadata": {
    "colab": {
     "base_uri": "https://localhost:8080/"
    },
    "id": "V5djR7DCEpfv",
    "outputId": "fef19350-e617-4421-80c8-b5562b5d5560"
   },
   "outputs": [],
   "source": [
    "x_model.score(xTrain, nyTrain)"
   ]
  },
  {
   "cell_type": "code",
   "execution_count": null,
   "metadata": {
    "colab": {
     "base_uri": "https://localhost:8080/"
    },
    "id": "gMHIByYIEqTV",
    "outputId": "d2a781aa-9b31-4df6-9a57-c24cc0588eaa"
   },
   "outputs": [],
   "source": [
    "print(x_model.score(xTest, nyTest))"
   ]
  },
  {
   "cell_type": "code",
   "execution_count": null,
   "metadata": {
    "colab": {
     "base_uri": "https://localhost:8080/"
    },
    "id": "Yg1DldWXDxGu",
    "outputId": "584e80d2-18a7-4759-e655-ccfc4177b4f0"
   },
   "outputs": [],
   "source": [
    "print('Train Classification Report \\n ',classification_report(nyTrain,x_model.predict(xTrain)))"
   ]
  },
  {
   "cell_type": "markdown",
   "metadata": {
    "id": "5jJ_GZnp9Kql"
   },
   "source": [
    "#**7. Stochastic Gradient Descent (SGD)**"
   ]
  },
  {
   "cell_type": "code",
   "execution_count": 9,
   "metadata": {
    "id": "wRN4lLwn9KH0"
   },
   "outputs": [
    {
     "ename": "NameError",
     "evalue": "name 'SGDClassifier' is not defined",
     "output_type": "error",
     "traceback": [
      "\u001b[1;31m---------------------------------------------------------------------------\u001b[0m",
      "\u001b[1;31mNameError\u001b[0m                                 Traceback (most recent call last)",
      "\u001b[1;32mC:\\Users\\SUMAMA~1\\AppData\\Local\\Temp/ipykernel_20732/2883845788.py\u001b[0m in \u001b[0;36m<module>\u001b[1;34m\u001b[0m\n\u001b[1;32m----> 1\u001b[1;33m \u001b[0msgd\u001b[0m \u001b[1;33m=\u001b[0m \u001b[0mSGDClassifier\u001b[0m\u001b[1;33m(\u001b[0m\u001b[0mmax_iter\u001b[0m\u001b[1;33m=\u001b[0m\u001b[1;36m5\u001b[0m\u001b[1;33m,\u001b[0m \u001b[0mtol\u001b[0m\u001b[1;33m=\u001b[0m\u001b[1;32mNone\u001b[0m\u001b[1;33m)\u001b[0m\u001b[1;33m\u001b[0m\u001b[1;33m\u001b[0m\u001b[0m\n\u001b[0m",
      "\u001b[1;31mNameError\u001b[0m: name 'SGDClassifier' is not defined"
     ]
    }
   ],
   "source": [
    "sgd = SGDClassifier(max_iter=5, tol=None)"
   ]
  },
  {
   "cell_type": "code",
   "execution_count": null,
   "metadata": {
    "id": "wh132HJfDCoT"
   },
   "outputs": [],
   "source": [
    "sgd_model =  sgd.fit(xTrain, nyTrain)\n",
    "ieModel = sgd.fit(xIETrain, yIE)\n",
    "nsModel =  sgd.fit(xNSTrain, yNS)\n",
    "ftModel =  sgd.fit(xFTTrain, yFT)\n",
    "pjModel =  sgd.fit(xPJTrain, yPJ)"
   ]
  },
  {
   "cell_type": "code",
   "execution_count": null,
   "metadata": {
    "colab": {
     "base_uri": "https://localhost:8080/"
    },
    "id": "f99Z1VnfDCks",
    "outputId": "4cda75da-dce5-4f4e-d53f-ae0c8a6e5a37"
   },
   "outputs": [],
   "source": [
    "sgd_model.score(xTrain, nyTrain)"
   ]
  },
  {
   "cell_type": "code",
   "execution_count": null,
   "metadata": {
    "colab": {
     "base_uri": "https://localhost:8080/"
    },
    "id": "JXbTb0rNDCiV",
    "outputId": "81de3ca6-43d8-4aa4-cd7d-184cbc3f49eb"
   },
   "outputs": [],
   "source": [
    "print(sgd_model.score(xTest, nyTest))\n",
    "print(ieModel.score(xIETest, t_yIE))\n",
    "print(nsModel.score(xNSTest, t_yNS))\n",
    "print(ftModel.score(xFTTest, t_yFT))\n",
    "print(pjModel.score(xPJTest, t_yPJ))"
   ]
  },
  {
   "cell_type": "code",
   "execution_count": 10,
   "metadata": {
    "colab": {
     "base_uri": "https://localhost:8080/"
    },
    "id": "cMgwwJIW4d1y",
    "outputId": "253f6409-37fd-444c-99f7-40d889c7b65f"
   },
   "outputs": [
    {
     "ename": "NameError",
     "evalue": "name 'cross_val_score' is not defined",
     "output_type": "error",
     "traceback": [
      "\u001b[1;31m---------------------------------------------------------------------------\u001b[0m",
      "\u001b[1;31mNameError\u001b[0m                                 Traceback (most recent call last)",
      "\u001b[1;32mC:\\Users\\SUMAMA~1\\AppData\\Local\\Temp/ipykernel_20732/1262173562.py\u001b[0m in \u001b[0;36m<module>\u001b[1;34m\u001b[0m\n\u001b[0;32m      1\u001b[0m \u001b[0mscores\u001b[0m \u001b[1;33m=\u001b[0m \u001b[1;33m[\u001b[0m\u001b[1;33m]\u001b[0m\u001b[1;33m\u001b[0m\u001b[1;33m\u001b[0m\u001b[0m\n\u001b[0;32m      2\u001b[0m \u001b[1;33m\u001b[0m\u001b[0m\n\u001b[1;32m----> 3\u001b[1;33m \u001b[0mscores\u001b[0m\u001b[1;33m.\u001b[0m\u001b[0mappend\u001b[0m\u001b[1;33m(\u001b[0m\u001b[0mcross_val_score\u001b[0m\u001b[1;33m(\u001b[0m\u001b[0mestimator\u001b[0m\u001b[1;33m=\u001b[0m\u001b[0msgd_model\u001b[0m\u001b[1;33m,\u001b[0m \u001b[0mcv\u001b[0m\u001b[1;33m=\u001b[0m\u001b[1;36m5\u001b[0m\u001b[1;33m,\u001b[0m \u001b[0mX\u001b[0m\u001b[1;33m=\u001b[0m\u001b[0mxTrain\u001b[0m\u001b[1;33m,\u001b[0m \u001b[0my\u001b[0m\u001b[1;33m=\u001b[0m\u001b[0my\u001b[0m\u001b[1;33m,\u001b[0m \u001b[0mscoring\u001b[0m\u001b[1;33m=\u001b[0m\u001b[1;34m'accuracy'\u001b[0m\u001b[1;33m)\u001b[0m\u001b[1;33m)\u001b[0m\u001b[1;33m\u001b[0m\u001b[1;33m\u001b[0m\u001b[0m\n\u001b[0m\u001b[0;32m      4\u001b[0m \u001b[0mscores\u001b[0m\u001b[1;33m.\u001b[0m\u001b[0mappend\u001b[0m\u001b[1;33m(\u001b[0m\u001b[0mcross_val_score\u001b[0m\u001b[1;33m(\u001b[0m\u001b[0mestimator\u001b[0m\u001b[1;33m=\u001b[0m\u001b[0mieModel\u001b[0m\u001b[1;33m,\u001b[0m \u001b[0mcv\u001b[0m\u001b[1;33m=\u001b[0m\u001b[1;36m5\u001b[0m\u001b[1;33m,\u001b[0m \u001b[0mX\u001b[0m\u001b[1;33m=\u001b[0m\u001b[0mxTrain\u001b[0m\u001b[1;33m,\u001b[0m \u001b[0my\u001b[0m\u001b[1;33m=\u001b[0m\u001b[0myIE\u001b[0m\u001b[1;33m,\u001b[0m \u001b[0mscoring\u001b[0m\u001b[1;33m=\u001b[0m\u001b[1;34m'accuracy'\u001b[0m\u001b[1;33m)\u001b[0m\u001b[1;33m)\u001b[0m\u001b[1;33m\u001b[0m\u001b[1;33m\u001b[0m\u001b[0m\n\u001b[0;32m      5\u001b[0m \u001b[0mscores\u001b[0m\u001b[1;33m.\u001b[0m\u001b[0mappend\u001b[0m\u001b[1;33m(\u001b[0m\u001b[0mcross_val_score\u001b[0m\u001b[1;33m(\u001b[0m\u001b[0mestimator\u001b[0m\u001b[1;33m=\u001b[0m\u001b[0mnsModel\u001b[0m\u001b[1;33m,\u001b[0m \u001b[0mcv\u001b[0m\u001b[1;33m=\u001b[0m\u001b[1;36m5\u001b[0m\u001b[1;33m,\u001b[0m \u001b[0mX\u001b[0m\u001b[1;33m=\u001b[0m\u001b[0mxTrain\u001b[0m\u001b[1;33m,\u001b[0m \u001b[0my\u001b[0m\u001b[1;33m=\u001b[0m\u001b[0myNS\u001b[0m\u001b[1;33m,\u001b[0m \u001b[0mscoring\u001b[0m\u001b[1;33m=\u001b[0m\u001b[1;34m'accuracy'\u001b[0m\u001b[1;33m)\u001b[0m\u001b[1;33m)\u001b[0m\u001b[1;33m\u001b[0m\u001b[1;33m\u001b[0m\u001b[0m\n",
      "\u001b[1;31mNameError\u001b[0m: name 'cross_val_score' is not defined"
     ]
    }
   ],
   "source": [
    "scores = []\n",
    "\n",
    "scores.append(cross_val_score(estimator=sgd_model, cv=5, X=xTrain, y=y, scoring='accuracy'))\n",
    "scores.append(cross_val_score(estimator=ieModel, cv=5, X=xTrain, y=yIE, scoring='accuracy'))\n",
    "scores.append(cross_val_score(estimator=nsModel, cv=5, X=xTrain, y=yNS, scoring='accuracy'))\n",
    "scores.append(cross_val_score(estimator=ftModel, cv=5, X=xTrain, y=yFT, scoring='accuracy'))\n",
    "scores.append(cross_val_score(estimator=pjModel, cv=5, X=xTrain, y=yPJ, scoring='accuracy'))\n",
    "\n",
    "#prining mean and standard deviations for each model\n",
    "for score in scores:\n",
    "    print(score.mean())\n",
    "    print(score.std(), end='\\n\\n')"
   ]
  },
  {
   "cell_type": "code",
   "execution_count": null,
   "metadata": {
    "colab": {
     "base_uri": "https://localhost:8080/"
    },
    "id": "69LhVbju4d10",
    "outputId": "bf1634cb-2fd7-4974-db4d-d3cf53b95dc0"
   },
   "outputs": [],
   "source": [
    "scores = []\n",
    "\n",
    "scores.append(cross_val_score(estimator=sgd_model, cv=5, X=xTest, y=nyTest, scoring='accuracy'))\n",
    "scores.append(cross_val_score(estimator=ieModel, cv=5, X=xTest, y=t_yIE, scoring='accuracy'))\n",
    "scores.append(cross_val_score(estimator=nsModel, cv=5, X=xTest, y=t_yNS, scoring='accuracy'))\n",
    "scores.append(cross_val_score(estimator=ftModel, cv=5, X=xTest, y=t_yFT, scoring='accuracy'))\n",
    "scores.append(cross_val_score(estimator=pjModel, cv=5, X=xTest, y=t_yPJ, scoring='accuracy'))\n",
    "\n",
    "#prining mean and standard deviations for each model\n",
    "for score in scores:\n",
    "    print(score.mean())\n",
    "    print(score.std(), end='\\n\\n')"
   ]
  },
  {
   "cell_type": "markdown",
   "metadata": {
    "id": "eDfrfUq199V0"
   },
   "source": [
    "#**8. Support vector classification**"
   ]
  },
  {
   "cell_type": "code",
   "execution_count": null,
   "metadata": {
    "id": "442ngBGl9KBz"
   },
   "outputs": [],
   "source": [
    "svm = SVC(random_state = 1)"
   ]
  },
  {
   "cell_type": "code",
   "execution_count": null,
   "metadata": {
    "id": "iLLQ6Xfk-nHF"
   },
   "outputs": [],
   "source": [
    "svm_model =  svm.fit(xTrain, yTrain)\n",
    "# ieModel =  svm.fit(xIETrain, yIETrain)\n",
    "# nsModel =  svm.fit(xNSTrain, yNSTrain)\n",
    "# ftModel =  svm.fit(xFTTrain, yFTTrain)\n",
    "# pjModel =  svm.fit(xPJTrain, yPJTrain)"
   ]
  },
  {
   "cell_type": "code",
   "execution_count": null,
   "metadata": {
    "colab": {
     "base_uri": "https://localhost:8080/"
    },
    "id": "g5EGZ-pFD2zU",
    "outputId": "ebaaa9d9-8c55-47a2-ece8-152a370c9d06"
   },
   "outputs": [],
   "source": [
    "svm_model.score(xTrain, yTrain)"
   ]
  },
  {
   "cell_type": "code",
   "execution_count": null,
   "metadata": {
    "colab": {
     "base_uri": "https://localhost:8080/"
    },
    "id": "csgoDJveD5Ox",
    "outputId": "4427236b-6f4d-4535-a2c2-980231aa9e04"
   },
   "outputs": [],
   "source": [
    "print(svm_model.score(xTest, yTest))\n",
    "# print(ieModel.score(xIETest, yIETest))\n",
    "# print(nsModel.score(xNSTest, yNSTest))\n",
    "# print(ftModel.score(xFTTest, yFTTest))\n",
    "# print(pjModel.score(xPJTest, yPJTest))"
   ]
  },
  {
   "cell_type": "code",
   "execution_count": 11,
   "metadata": {
    "colab": {
     "base_uri": "https://localhost:8080/"
    },
    "id": "pTrTWuH1SRJq",
    "outputId": "74f582b9-3060-4b31-95ea-c141c0e0b37f"
   },
   "outputs": [
    {
     "ename": "NameError",
     "evalue": "name 'classification_report' is not defined",
     "output_type": "error",
     "traceback": [
      "\u001b[1;31m---------------------------------------------------------------------------\u001b[0m",
      "\u001b[1;31mNameError\u001b[0m                                 Traceback (most recent call last)",
      "\u001b[1;32mC:\\Users\\SUMAMA~1\\AppData\\Local\\Temp/ipykernel_20732/3936806813.py\u001b[0m in \u001b[0;36m<module>\u001b[1;34m\u001b[0m\n\u001b[1;32m----> 1\u001b[1;33m \u001b[0mprint\u001b[0m\u001b[1;33m(\u001b[0m\u001b[1;34m'Train Classification Report \\n '\u001b[0m\u001b[1;33m,\u001b[0m\u001b[0mclassification_report\u001b[0m\u001b[1;33m(\u001b[0m\u001b[0myTrain\u001b[0m\u001b[1;33m,\u001b[0m\u001b[0msvm_model\u001b[0m\u001b[1;33m.\u001b[0m\u001b[0mpredict\u001b[0m\u001b[1;33m(\u001b[0m\u001b[0mxTrain\u001b[0m\u001b[1;33m)\u001b[0m\u001b[1;33m)\u001b[0m\u001b[1;33m)\u001b[0m\u001b[1;33m\u001b[0m\u001b[1;33m\u001b[0m\u001b[0m\n\u001b[0m",
      "\u001b[1;31mNameError\u001b[0m: name 'classification_report' is not defined"
     ]
    }
   ],
   "source": [
    "print('Train Classification Report \\n ',classification_report(yTrain,svm_model.predict(xTrain)))"
   ]
  },
  {
   "cell_type": "markdown",
   "metadata": {
    "id": "pG4wAvCPIwH2"
   },
   "source": [
    "# **9. Linear SVC**"
   ]
  },
  {
   "cell_type": "code",
   "execution_count": null,
   "metadata": {
    "id": "wKuYVuGIPk5s"
   },
   "outputs": [],
   "source": [
    "yIE = df['ie']\n",
    "yNS = df['ns']\n",
    "yFT = df['ft']\n",
    "yPJ = df['pj']"
   ]
  },
  {
   "cell_type": "code",
   "execution_count": null,
   "metadata": {
    "id": "YY_2hd5XJIP2"
   },
   "outputs": [],
   "source": [
    "\n",
    "model_linear_svc=LinearSVC(C=0.1)\n",
    "# lscv =  model_linear_svc.fit(xTrain, nyTrain)\n",
    "# ieModel = model_linear_svc.fit(xIETrain, yIE)\n",
    "# nsModel =  model_linear_svc.fit(xNSTrain, yNS)\n",
    "# ftModel =  model_linear_svc.fit(xFTTrain, yFT)\n",
    "pjModel =  model_linear_svc.fit(xPJTrain, yPJ)"
   ]
  },
  {
   "cell_type": "code",
   "execution_count": null,
   "metadata": {
    "colab": {
     "base_uri": "https://localhost:8080/"
    },
    "id": "AXd96E6AJiQd",
    "outputId": "37ada580-3621-4734-ce36-794dfffba2a2"
   },
   "outputs": [],
   "source": [
    "print(lscv.score(xTrain, nyTrain))\n",
    "print(lscv.score(xTest, nyTest))"
   ]
  },
  {
   "cell_type": "code",
   "execution_count": null,
   "metadata": {
    "colab": {
     "base_uri": "https://localhost:8080/"
    },
    "id": "ZSpQhqP8J3l4",
    "outputId": "3dd8ad2c-028c-4f2f-8d5e-e1da8836c094"
   },
   "outputs": [],
   "source": [
    "print(lscv.score(xIETest, t_yIE))\n",
    "print(lscv.score(xNSTest, t_yNS))\n",
    "print(lscv.score(xFTTest, t_yFT))\n",
    "print(lscv.score(xPJTest, t_yPJ))"
   ]
  },
  {
   "cell_type": "code",
   "execution_count": null,
   "metadata": {
    "colab": {
     "base_uri": "https://localhost:8080/"
    },
    "id": "NEDbcBEpJRxB",
    "outputId": "8ab8e810-94e6-4a06-ede5-dafe0c48dfb9"
   },
   "outputs": [],
   "source": [
    "print('Train Classification Report \\n ',classification_report(nyTrain,lscv.predict(xTrain)))"
   ]
  },
  {
   "cell_type": "code",
   "execution_count": null,
   "metadata": {
    "colab": {
     "base_uri": "https://localhost:8080/"
    },
    "id": "1oEEv7IslqTM",
    "outputId": "3737be14-12d7-4c22-adb4-f49a35b5982c"
   },
   "outputs": [],
   "source": [
    "scores = []\n",
    "\n",
    "# scores.append(cross_val_score(estimator=lscv, cv=5, X=xTrain, y=nyTrain, scoring='accuracy'))\n",
    "scores.append(cross_val_score(estimator=ieModel, cv=5, X=xTrain, y=yIE, scoring='accuracy'))\n",
    "scores.append(cross_val_score(estimator=nsModel, cv=5, X=xTrain, y=yNS, scoring='accuracy'))\n",
    "scores.append(cross_val_score(estimator=ftModel, cv=5, X=xTrain, y=yFT, scoring='accuracy'))\n",
    "scores.append(cross_val_score(estimator=pjModel, cv=5, X=xTrain, y=yPJ, scoring='accuracy'))\n",
    "\n",
    "#prining mean and standard deviations for each model\n",
    "for score in scores:\n",
    "    print(score.mean())\n",
    "    print(score.std(), end='\\n\\n')"
   ]
  },
  {
   "cell_type": "code",
   "execution_count": null,
   "metadata": {
    "colab": {
     "base_uri": "https://localhost:8080/"
    },
    "id": "OjUGmt8bJtNG",
    "outputId": "e107ede5-bbf6-40df-90bd-779a8824f156"
   },
   "outputs": [],
   "source": [
    "print('Train Classification Report \\n ',classification_report(nyTest,lscv.predict(xTest)))"
   ]
  },
  {
   "cell_type": "markdown",
   "metadata": {
    "id": "1m555OJEEFIC"
   },
   "source": [
    "## Prediction for Jacinda Ardern"
   ]
  },
  {
   "cell_type": "code",
   "execution_count": null,
   "metadata": {
    "colab": {
     "base_uri": "https://localhost:8080/",
     "height": 206
    },
    "id": "QRGTIw1noHO2",
    "outputId": "82a40307-950c-4ee6-86ce-487d97dfc1d4"
   },
   "outputs": [],
   "source": [
    "jacinda_df = pd.read_csv(\"/content/drive/MyDrive/Colab Notebooks/MBTI Project/jacindaardern_tweets - jacindaardern_tweets.csv\")\n",
    "jacinda_df.head()"
   ]
  },
  {
   "cell_type": "code",
   "execution_count": 12,
   "metadata": {
    "id": "AHHrB-LVqQJg"
   },
   "outputs": [
    {
     "ename": "NameError",
     "evalue": "name 'jacinda_df' is not defined",
     "output_type": "error",
     "traceback": [
      "\u001b[1;31m---------------------------------------------------------------------------\u001b[0m",
      "\u001b[1;31mNameError\u001b[0m                                 Traceback (most recent call last)",
      "\u001b[1;32mC:\\Users\\SUMAMA~1\\AppData\\Local\\Temp/ipykernel_20732/968646642.py\u001b[0m in \u001b[0;36m<module>\u001b[1;34m\u001b[0m\n\u001b[0;32m      1\u001b[0m \u001b[1;31m# jac_df = jacinda_df.rename(columns={'text': 'posts'})\u001b[0m\u001b[1;33m\u001b[0m\u001b[1;33m\u001b[0m\u001b[0m\n\u001b[1;32m----> 2\u001b[1;33m \u001b[0mjac_df\u001b[0m \u001b[1;33m=\u001b[0m \u001b[0mjacinda_df\u001b[0m\u001b[1;33m[\u001b[0m\u001b[1;34m'text'\u001b[0m\u001b[1;33m]\u001b[0m\u001b[1;33m\u001b[0m\u001b[1;33m\u001b[0m\u001b[0m\n\u001b[0m",
      "\u001b[1;31mNameError\u001b[0m: name 'jacinda_df' is not defined"
     ]
    }
   ],
   "source": [
    "# jac_df = jacinda_df.rename(columns={'text': 'posts'})\n",
    "jac_df = jacinda_df['text']"
   ]
  },
  {
   "cell_type": "code",
   "execution_count": null,
   "metadata": {
    "colab": {
     "base_uri": "https://localhost:8080/"
    },
    "id": "UQWeUUdoq0fs",
    "outputId": "4cbfe555-74ae-4ea2-f242-4cacb685cf60"
   },
   "outputs": [],
   "source": [
    "%%time\n",
    "jac_posts = jac_df\n",
    "jac_posts = preprocess(jac_posts)"
   ]
  },
  {
   "cell_type": "code",
   "execution_count": null,
   "metadata": {
    "id": "7pGm87spstBf"
   },
   "outputs": [],
   "source": [
    "# cv = CountVectorizer(analyzer=\"word\", max_features=1500).fit(jac_posts)\n",
    "jac_X = cv.transform(jac_posts)\n",
    "jac_X_tf=  tf.fit_transform(jac_X).toarray()"
   ]
  },
  {
   "cell_type": "code",
   "execution_count": null,
   "metadata": {
    "colab": {
     "base_uri": "https://localhost:8080/"
    },
    "id": "Xcd_irpXuJWZ",
    "outputId": "01282740-aa60-4a81-c491-168a64ff9475"
   },
   "outputs": [],
   "source": [
    "predicted_ie = ieModel.predict(jac_X_tf)\n",
    "ieModel.predict(jac_X_tf)"
   ]
  },
  {
   "cell_type": "code",
   "execution_count": null,
   "metadata": {
    "colab": {
     "base_uri": "https://localhost:8080/"
    },
    "id": "wj2EUFlA5yp0",
    "outputId": "9afc47de-9a36-4710-84dc-aaba690361dc"
   },
   "outputs": [],
   "source": [
    "predicted_ns = nsModel.predict(jac_X_tf)\n",
    "nsModel.predict(jac_X_tf)"
   ]
  },
  {
   "cell_type": "code",
   "execution_count": null,
   "metadata": {
    "colab": {
     "base_uri": "https://localhost:8080/"
    },
    "id": "5_TxMWo_56rK",
    "outputId": "b40f34d4-7329-4a15-c73b-fd1e2b4ea88a"
   },
   "outputs": [],
   "source": [
    "predicted_ft = ftModel.predict(jac_X_tf)\n",
    "ftModel.predict(jac_X_tf)"
   ]
  },
  {
   "cell_type": "code",
   "execution_count": null,
   "metadata": {
    "colab": {
     "base_uri": "https://localhost:8080/"
    },
    "id": "mZlJ2FOY67-_",
    "outputId": "89c22bb5-dc39-4462-a865-b843cbc10259"
   },
   "outputs": [],
   "source": [
    "predicted_pj = pjModel.predict(jac_X_tf)\n",
    "pjModel.predict(jac_X_tf)"
   ]
  },
  {
   "cell_type": "code",
   "execution_count": null,
   "metadata": {
    "colab": {
     "base_uri": "https://localhost:8080/",
     "height": 143
    },
    "id": "qqNbhMtQSjgX",
    "outputId": "11cfd2be-d466-4e0f-eb05-9ac7cf82daa1"
   },
   "outputs": [],
   "source": [
    "jacinda_df['text'] = jac_posts\n",
    "jacinda_df['predicted_ie'] = predicted_ie\n",
    "jacinda_df['predicted_ns'] = predicted_ns\n",
    "jacinda_df['predicted_ft'] = predicted_ft\n",
    "jacinda_df['predicted_pj'] = predicted_pj\n",
    "jacinda_df.drop(['created_at','favorite_count', 'retweet_count'], axis=1, inplace= True)\n",
    "jacinda_df.head(3)"
   ]
  },
  {
   "cell_type": "code",
   "execution_count": null,
   "metadata": {
    "colab": {
     "base_uri": "https://localhost:8080/",
     "height": 1000
    },
    "id": "aPA7I30mWM4Q",
    "outputId": "895a70e8-483b-471f-8eb2-2c543463112a"
   },
   "outputs": [],
   "source": [
    "plt.figure(0)\n",
    "jacinda_df.groupby('predicted_ie')['predicted_ie'].count().plot.pie(autopct='%.2f',figsize=(5,5))\n",
    "\n",
    "plt.figure(1)\n",
    "jacinda_df.groupby('predicted_ns')['predicted_ns'].count().plot.pie(autopct='%.2f',figsize=(5,5))\n",
    "\n",
    "plt.figure(2)\n",
    "jacinda_df.groupby('predicted_ft')['predicted_ft'].count().plot.pie(autopct='%.2f',figsize=(5,5))\n",
    "\n",
    "plt.figure(3)\n",
    "jacinda_df.groupby('predicted_pj')['predicted_pj'].count().plot.pie(autopct='%.2f',figsize=(5,5))\n",
    "\n",
    "plt.show() #show all figures"
   ]
  },
  {
   "cell_type": "code",
   "execution_count": null,
   "metadata": {
    "colab": {
     "base_uri": "https://localhost:8080/",
     "height": 1000
    },
    "id": "qHONJRApYlZg",
    "outputId": "541475f7-50b4-4eb5-97fb-91d799ed5bba"
   },
   "outputs": [],
   "source": [
    "plt.style.use('ggplot')\n",
    "\n",
    "plt.figure(0)\n",
    "jacinda_df.groupby(['id','predicted_ie']).predicted_ie.count().unstack().plot.bar(legend=True)\n",
    "\n",
    "plt.figure(1)\n",
    "jacinda_df.groupby(['id','predicted_ns']).predicted_ns.count().unstack().plot.bar(legend=True)\n",
    "\n",
    "plt.figure(2)\n",
    "jacinda_df.groupby(['id','predicted_ft']).predicted_ft.count().unstack().plot.bar(legend=True)\n",
    "\n",
    "plt.figure(3)\n",
    "jacinda_df.groupby(['id','predicted_pj']).predicted_pj.count().unstack().plot.bar(legend=True)\n",
    "\n",
    "plt.show() #show all figures"
   ]
  },
  {
   "cell_type": "code",
   "execution_count": null,
   "metadata": {
    "id": "AfS4CXS4bMnR"
   },
   "outputs": [],
   "source": []
  },
  {
   "cell_type": "markdown",
   "metadata": {
    "id": "gs8D-RWBEKi9"
   },
   "source": [
    "## Prediction for Ursula von der Leyen"
   ]
  },
  {
   "cell_type": "code",
   "execution_count": 13,
   "metadata": {
    "colab": {
     "base_uri": "https://localhost:8080/",
     "height": 206
    },
    "id": "CMPOC8hVAPs2",
    "outputId": "c9dd791b-c144-414a-83a9-36cb1076d4ef"
   },
   "outputs": [
    {
     "ename": "NameError",
     "evalue": "name 'pd' is not defined",
     "output_type": "error",
     "traceback": [
      "\u001b[1;31m---------------------------------------------------------------------------\u001b[0m",
      "\u001b[1;31mNameError\u001b[0m                                 Traceback (most recent call last)",
      "\u001b[1;32mC:\\Users\\SUMAMA~1\\AppData\\Local\\Temp/ipykernel_20732/2908441362.py\u001b[0m in \u001b[0;36m<module>\u001b[1;34m\u001b[0m\n\u001b[1;32m----> 1\u001b[1;33m \u001b[0mvon_df\u001b[0m \u001b[1;33m=\u001b[0m \u001b[0mpd\u001b[0m\u001b[1;33m.\u001b[0m\u001b[0mread_csv\u001b[0m\u001b[1;33m(\u001b[0m\u001b[1;34m\"/content/drive/MyDrive/Colab Notebooks/MBTI Project/vonderleyen_tweets - vonderleyen_tweets.csv\"\u001b[0m\u001b[1;33m)\u001b[0m\u001b[1;33m\u001b[0m\u001b[1;33m\u001b[0m\u001b[0m\n\u001b[0m\u001b[0;32m      2\u001b[0m \u001b[0mvon_df\u001b[0m\u001b[1;33m.\u001b[0m\u001b[0mhead\u001b[0m\u001b[1;33m(\u001b[0m\u001b[1;33m)\u001b[0m\u001b[1;33m\u001b[0m\u001b[1;33m\u001b[0m\u001b[0m\n",
      "\u001b[1;31mNameError\u001b[0m: name 'pd' is not defined"
     ]
    }
   ],
   "source": [
    "von_df = pd.read_csv(\"/content/drive/MyDrive/Colab Notebooks/MBTI Project/vonderleyen_tweets - vonderleyen_tweets.csv\")\n",
    "von_df.head()"
   ]
  },
  {
   "cell_type": "code",
   "execution_count": null,
   "metadata": {
    "id": "doecrfUZAPs2"
   },
   "outputs": [],
   "source": [
    "# jac_df = jacinda_df.rename(columns={'text': 'posts'})\n",
    "# von_df = von_df['text']"
   ]
  },
  {
   "cell_type": "code",
   "execution_count": null,
   "metadata": {
    "colab": {
     "base_uri": "https://localhost:8080/"
    },
    "id": "hWIC9ih9APs2",
    "outputId": "c21d0efe-3b38-49df-8e5f-dc3cf9765b31"
   },
   "outputs": [],
   "source": [
    "%%time\n",
    "von_posts = von_df['text']\n",
    "von_posts = preprocess(von_posts)"
   ]
  },
  {
   "cell_type": "code",
   "execution_count": null,
   "metadata": {
    "id": "e9x5760cAPs2"
   },
   "outputs": [],
   "source": [
    "# cv = CountVectorizer(analyzer=\"word\", max_features=1500).fit(jac_posts)\n",
    "von_X = cv.transform(von_posts)\n",
    "von_X_tf=  tf.fit_transform(von_X).toarray()"
   ]
  },
  {
   "cell_type": "code",
   "execution_count": null,
   "metadata": {
    "colab": {
     "base_uri": "https://localhost:8080/"
    },
    "id": "-lVePTuAAPs3",
    "outputId": "c0182cab-0871-48e9-d1e8-931ac7b8ecae"
   },
   "outputs": [],
   "source": [
    "von_df['predicted_ie'] = ieModel.predict(von_X_tf)\n",
    "ieModel.predict(von_X_tf)"
   ]
  },
  {
   "cell_type": "code",
   "execution_count": null,
   "metadata": {
    "colab": {
     "base_uri": "https://localhost:8080/"
    },
    "id": "sSWwRHKqAPs3",
    "outputId": "75b81a14-9bab-4a41-ffc5-ac4aa7b515cc"
   },
   "outputs": [],
   "source": [
    "von_df['predicted_ns'] = nsModel.predict(von_X_tf)\n",
    "nsModel.predict(von_X_tf)"
   ]
  },
  {
   "cell_type": "code",
   "execution_count": null,
   "metadata": {
    "colab": {
     "base_uri": "https://localhost:8080/"
    },
    "id": "9RALAd-QAPs3",
    "outputId": "39bb3500-072d-408e-91a1-e8db65d6e447"
   },
   "outputs": [],
   "source": [
    "von_df['predicted_ft'] = ftModel.predict(von_X_tf)\n",
    "ftModel.predict(von_X_tf)"
   ]
  },
  {
   "cell_type": "code",
   "execution_count": null,
   "metadata": {
    "colab": {
     "base_uri": "https://localhost:8080/"
    },
    "id": "At9-I0rAAPs3",
    "outputId": "d60b6bd8-5a3d-4ec9-8f26-0a97f6b133c1"
   },
   "outputs": [],
   "source": [
    "von_df['predicted_pj'] = pjModel.predict(von_X_tf)\n",
    "pjModel.predict(von_X_tf)"
   ]
  },
  {
   "cell_type": "code",
   "execution_count": 14,
   "metadata": {
    "colab": {
     "base_uri": "https://localhost:8080/",
     "height": 143
    },
    "id": "SKyWGfWTaNyZ",
    "outputId": "a84e4a9c-08c5-496a-bab7-5f533c9056b4"
   },
   "outputs": [
    {
     "ename": "NameError",
     "evalue": "name 'von_posts' is not defined",
     "output_type": "error",
     "traceback": [
      "\u001b[1;31m---------------------------------------------------------------------------\u001b[0m",
      "\u001b[1;31mNameError\u001b[0m                                 Traceback (most recent call last)",
      "\u001b[1;32mC:\\Users\\SUMAMA~1\\AppData\\Local\\Temp/ipykernel_20732/2357797069.py\u001b[0m in \u001b[0;36m<module>\u001b[1;34m\u001b[0m\n\u001b[1;32m----> 1\u001b[1;33m \u001b[0mvon_df\u001b[0m\u001b[1;33m[\u001b[0m\u001b[1;34m'text'\u001b[0m\u001b[1;33m]\u001b[0m \u001b[1;33m=\u001b[0m \u001b[0mvon_posts\u001b[0m\u001b[1;33m\u001b[0m\u001b[1;33m\u001b[0m\u001b[0m\n\u001b[0m\u001b[0;32m      2\u001b[0m \u001b[0mvon_df\u001b[0m\u001b[1;33m.\u001b[0m\u001b[0mdrop\u001b[0m\u001b[1;33m(\u001b[0m\u001b[1;33m[\u001b[0m\u001b[1;34m'created_at'\u001b[0m\u001b[1;33m,\u001b[0m\u001b[1;34m'favorite_count'\u001b[0m\u001b[1;33m,\u001b[0m \u001b[1;34m'retweet_count'\u001b[0m\u001b[1;33m]\u001b[0m\u001b[1;33m,\u001b[0m \u001b[0maxis\u001b[0m\u001b[1;33m=\u001b[0m\u001b[1;36m1\u001b[0m\u001b[1;33m,\u001b[0m \u001b[0minplace\u001b[0m\u001b[1;33m=\u001b[0m \u001b[1;32mTrue\u001b[0m\u001b[1;33m)\u001b[0m\u001b[1;33m\u001b[0m\u001b[1;33m\u001b[0m\u001b[0m\n\u001b[0;32m      3\u001b[0m \u001b[0mvon_df\u001b[0m\u001b[1;33m.\u001b[0m\u001b[0mhead\u001b[0m\u001b[1;33m(\u001b[0m\u001b[1;36m3\u001b[0m\u001b[1;33m)\u001b[0m\u001b[1;33m\u001b[0m\u001b[1;33m\u001b[0m\u001b[0m\n",
      "\u001b[1;31mNameError\u001b[0m: name 'von_posts' is not defined"
     ]
    }
   ],
   "source": [
    "von_df['text'] = von_posts\n",
    "von_df.drop(['created_at','favorite_count', 'retweet_count'], axis=1, inplace= True)\n",
    "von_df.head(3)"
   ]
  },
  {
   "cell_type": "code",
   "execution_count": null,
   "metadata": {
    "colab": {
     "base_uri": "https://localhost:8080/",
     "height": 1000
    },
    "id": "9MCuHVBbbti9",
    "outputId": "03155dba-e164-41bc-ae49-5f9917f8a6ad"
   },
   "outputs": [],
   "source": [
    "plt.figure(0)\n",
    "von_df.groupby('predicted_ie')['predicted_ie'].count().plot.pie(autopct='%.2f',figsize=(5,5))\n",
    "\n",
    "plt.figure(1)\n",
    "von_df.groupby('predicted_ns')['predicted_ns'].count().plot.pie(autopct='%.2f',figsize=(5,5))\n",
    "\n",
    "plt.figure(2)\n",
    "von_df.groupby('predicted_ft')['predicted_ft'].count().plot.pie(autopct='%.2f',figsize=(5,5))\n",
    "\n",
    "plt.figure(3)\n",
    "von_df.groupby('predicted_pj')['predicted_pj'].count().plot.pie(autopct='%.2f',figsize=(5,5))\n",
    "\n",
    "plt.show() #show all figures"
   ]
  },
  {
   "cell_type": "code",
   "execution_count": null,
   "metadata": {
    "colab": {
     "base_uri": "https://localhost:8080/",
     "height": 1000
    },
    "id": "1U4-xr7Dn3od",
    "outputId": "9e9b1656-4e47-40d8-ff0f-03866833b19c"
   },
   "outputs": [],
   "source": [
    "plt.style.use('ggplot')\n",
    "\n",
    "plt.figure(0)\n",
    "von_df.groupby(['id','predicted_ie']).predicted_ie.count().unstack().plot.bar(legend=True)\n",
    "\n",
    "plt.figure(1)\n",
    "von_df.groupby(['id','predicted_ns']).predicted_ns.count().unstack().plot.bar(legend=True)\n",
    "\n",
    "plt.figure(2)\n",
    "von_df.groupby(['id','predicted_ft']).predicted_ft.count().unstack().plot.bar(legend=True)\n",
    "\n",
    "plt.figure(3)\n",
    "von_df.groupby(['id','predicted_pj']).predicted_pj.count().unstack().plot.bar(legend=True)\n",
    "\n",
    "plt.show() #show all figures"
   ]
  },
  {
   "cell_type": "markdown",
   "metadata": {
    "id": "LA2D5WzdESmd"
   },
   "source": [
    "## Prediction for Christine Lagarde"
   ]
  },
  {
   "cell_type": "code",
   "execution_count": null,
   "metadata": {
    "colab": {
     "base_uri": "https://localhost:8080/",
     "height": 206
    },
    "id": "pSUmKCLwEBXX",
    "outputId": "58509265-a074-4aa6-b998-e6770f89a85a"
   },
   "outputs": [],
   "source": [
    "christine_df = pd.read_csv(\"/content/drive/MyDrive/Colab Notebooks/MBTI Project/Lagarde_tweets - Lagarde_tweets.csv\")\n",
    "christine_df.head()"
   ]
  },
  {
   "cell_type": "code",
   "execution_count": null,
   "metadata": {
    "id": "8mDHCCjnEBXX"
   },
   "outputs": [],
   "source": [
    "# jac_df = jacinda_df.rename(columns={'text': 'posts'})\n",
    "chris_df = christine_df['text']"
   ]
  },
  {
   "cell_type": "code",
   "execution_count": null,
   "metadata": {
    "colab": {
     "base_uri": "https://localhost:8080/"
    },
    "id": "1bs4vpk7EBXX",
    "outputId": "d1c17927-af05-4ed1-9a0d-1246e1afa44f"
   },
   "outputs": [],
   "source": [
    "%%time\n",
    "chris_posts = chris_df\n",
    "chris_posts = preprocess(chris_posts)"
   ]
  },
  {
   "cell_type": "code",
   "execution_count": null,
   "metadata": {
    "id": "jBF2m0sBEBXX"
   },
   "outputs": [],
   "source": [
    "# cv = CountVectorizer(analyzer=\"word\", max_features=1500).fit(jac_posts)\n",
    "chris_X = cv.transform(chris_posts)\n",
    "chris_X_tf=  tf.fit_transform(chris_X).toarray()"
   ]
  },
  {
   "cell_type": "code",
   "execution_count": null,
   "metadata": {
    "colab": {
     "base_uri": "https://localhost:8080/"
    },
    "id": "sZtzlRkoEBXX",
    "outputId": "c0794efa-ba58-4152-90d2-b41bf55c8910"
   },
   "outputs": [],
   "source": [
    "christine_df['predicted_ie'] = ieModel.predict(chris_X_tf)\n",
    "ieModel.predict(chris_X_tf)"
   ]
  },
  {
   "cell_type": "code",
   "execution_count": null,
   "metadata": {
    "colab": {
     "base_uri": "https://localhost:8080/"
    },
    "id": "W1kwRneSEBXX",
    "outputId": "981588bc-c5da-4516-c60e-4e86498e8406"
   },
   "outputs": [],
   "source": [
    "christine_df['predicted_ns'] = nsModel.predict(chris_X_tf)\n",
    "nsModel.predict(chris_X_tf)"
   ]
  },
  {
   "cell_type": "code",
   "execution_count": null,
   "metadata": {
    "colab": {
     "base_uri": "https://localhost:8080/"
    },
    "id": "9PljqWrpEBXY",
    "outputId": "73bf2b9b-805f-4dda-fa49-cf6476edff01"
   },
   "outputs": [],
   "source": [
    "christine_df['predicted_ft'] = ftModel.predict(chris_X_tf)\n",
    "ftModel.predict(chris_X_tf)"
   ]
  },
  {
   "cell_type": "code",
   "execution_count": null,
   "metadata": {
    "colab": {
     "base_uri": "https://localhost:8080/"
    },
    "id": "tAxwnivXEBXY",
    "outputId": "f05a1d84-cbf2-47fd-b7c8-290863e35310"
   },
   "outputs": [],
   "source": [
    "christine_df['predicted_pj'] = pjModel.predict(chris_X_tf)\n",
    "pjModel.predict(chris_X_tf)"
   ]
  },
  {
   "cell_type": "code",
   "execution_count": 15,
   "metadata": {
    "colab": {
     "base_uri": "https://localhost:8080/",
     "height": 143
    },
    "id": "0S785CUWciIZ",
    "outputId": "c2f03118-5277-4cd3-e1be-d7849c90c5f0"
   },
   "outputs": [
    {
     "ename": "NameError",
     "evalue": "name 'chris_posts' is not defined",
     "output_type": "error",
     "traceback": [
      "\u001b[1;31m---------------------------------------------------------------------------\u001b[0m",
      "\u001b[1;31mNameError\u001b[0m                                 Traceback (most recent call last)",
      "\u001b[1;32mC:\\Users\\SUMAMA~1\\AppData\\Local\\Temp/ipykernel_20732/44046645.py\u001b[0m in \u001b[0;36m<module>\u001b[1;34m\u001b[0m\n\u001b[1;32m----> 1\u001b[1;33m \u001b[0mchristine_df\u001b[0m\u001b[1;33m[\u001b[0m\u001b[1;34m'text'\u001b[0m\u001b[1;33m]\u001b[0m \u001b[1;33m=\u001b[0m \u001b[0mchris_posts\u001b[0m\u001b[1;33m\u001b[0m\u001b[1;33m\u001b[0m\u001b[0m\n\u001b[0m\u001b[0;32m      2\u001b[0m \u001b[0mchristine_df\u001b[0m\u001b[1;33m.\u001b[0m\u001b[0mdrop\u001b[0m\u001b[1;33m(\u001b[0m\u001b[1;33m[\u001b[0m\u001b[1;34m'created_at'\u001b[0m\u001b[1;33m,\u001b[0m\u001b[1;34m'favorite_count'\u001b[0m\u001b[1;33m,\u001b[0m \u001b[1;34m'retweet_count'\u001b[0m\u001b[1;33m]\u001b[0m\u001b[1;33m,\u001b[0m \u001b[0maxis\u001b[0m\u001b[1;33m=\u001b[0m\u001b[1;36m1\u001b[0m\u001b[1;33m,\u001b[0m \u001b[0minplace\u001b[0m\u001b[1;33m=\u001b[0m \u001b[1;32mTrue\u001b[0m\u001b[1;33m)\u001b[0m\u001b[1;33m\u001b[0m\u001b[1;33m\u001b[0m\u001b[0m\n\u001b[0;32m      3\u001b[0m \u001b[0mchristine_df\u001b[0m\u001b[1;33m.\u001b[0m\u001b[0mhead\u001b[0m\u001b[1;33m(\u001b[0m\u001b[1;36m3\u001b[0m\u001b[1;33m)\u001b[0m\u001b[1;33m\u001b[0m\u001b[1;33m\u001b[0m\u001b[0m\n",
      "\u001b[1;31mNameError\u001b[0m: name 'chris_posts' is not defined"
     ]
    }
   ],
   "source": [
    "christine_df['text'] = chris_posts\n",
    "christine_df.drop(['created_at','favorite_count', 'retweet_count'], axis=1, inplace= True)\n",
    "christine_df.head(3)"
   ]
  },
  {
   "cell_type": "code",
   "execution_count": null,
   "metadata": {
    "colab": {
     "base_uri": "https://localhost:8080/",
     "height": 1000
    },
    "id": "fY4QXgdeciIa",
    "outputId": "4477aef2-a40e-4a40-c759-28a1da077b88"
   },
   "outputs": [],
   "source": [
    "plt.figure(0)\n",
    "christine_df.groupby('predicted_ie')['predicted_ie'].count().plot.pie(autopct='%.2f',figsize=(5,5))\n",
    "\n",
    "plt.figure(1)\n",
    "christine_df.groupby('predicted_ns')['predicted_ns'].count().plot.pie(autopct='%.2f',figsize=(5,5))\n",
    "\n",
    "plt.figure(2)\n",
    "christine_df.groupby('predicted_ft')['predicted_ft'].count().plot.pie(autopct='%.2f',figsize=(5,5))\n",
    "\n",
    "plt.figure(3)\n",
    "christine_df.groupby('predicted_pj')['predicted_pj'].count().plot.pie(autopct='%.2f',figsize=(5,5))\n",
    "\n",
    "plt.show() #show all figures"
   ]
  },
  {
   "cell_type": "code",
   "execution_count": null,
   "metadata": {
    "colab": {
     "base_uri": "https://localhost:8080/",
     "height": 1000
    },
    "id": "Kq14SMGSoZSi",
    "outputId": "895f158d-d946-45a9-bf9e-544e80a248dc"
   },
   "outputs": [],
   "source": [
    "plt.style.use('ggplot')\n",
    "\n",
    "plt.figure(0)\n",
    "christine_df.groupby(['id','predicted_ie']).predicted_ie.count().unstack().plot.bar(legend=True)\n",
    "\n",
    "plt.figure(1)\n",
    "christine_df.groupby(['id','predicted_ns']).predicted_ns.count().unstack().plot.bar(legend=True)\n",
    "\n",
    "plt.figure(2)\n",
    "christine_df.groupby(['id','predicted_ft']).predicted_ft.count().unstack().plot.bar(legend=True)\n",
    "\n",
    "plt.figure(3)\n",
    "christine_df.groupby(['id','predicted_pj']).predicted_pj.count().unstack().plot.bar(legend=True)\n",
    "\n",
    "plt.show() #show all figures"
   ]
  },
  {
   "cell_type": "code",
   "execution_count": null,
   "metadata": {
    "id": "ECn8vry0EBXY"
   },
   "outputs": [],
   "source": []
  },
  {
   "cell_type": "markdown",
   "metadata": {
    "id": "sevfs46MEfrg"
   },
   "source": [
    "## Prediction for Nancy Pelosi"
   ]
  },
  {
   "cell_type": "code",
   "execution_count": null,
   "metadata": {
    "colab": {
     "base_uri": "https://localhost:8080/",
     "height": 206
    },
    "id": "BggeoBiGECfv",
    "outputId": "50d9192d-0c88-4aae-845e-5517c6143461"
   },
   "outputs": [],
   "source": [
    "nancy_df = pd.read_csv(\"/content/drive/MyDrive/Colab Notebooks/MBTI Project/SpeakerPelosi_tweets - SpeakerPelosi_tweets.csv\")\n",
    "nancy_df.head()"
   ]
  },
  {
   "cell_type": "code",
   "execution_count": null,
   "metadata": {
    "id": "L-j4_i7iECfw"
   },
   "outputs": [],
   "source": [
    "# jac_df = jacinda_df.rename(columns={'text': 'posts'})\n",
    "nan_df = nancy_df['text']"
   ]
  },
  {
   "cell_type": "code",
   "execution_count": null,
   "metadata": {
    "colab": {
     "base_uri": "https://localhost:8080/"
    },
    "id": "FPaZCegMECfw",
    "outputId": "6b80734f-15f5-4ae9-aa27-d6087cafabb1"
   },
   "outputs": [],
   "source": [
    "%%time\n",
    "nan_posts = nan_df\n",
    "nan_posts = preprocess(nan_posts)"
   ]
  },
  {
   "cell_type": "code",
   "execution_count": null,
   "metadata": {
    "id": "iJkDnzFZECfw"
   },
   "outputs": [],
   "source": [
    "# cv = CountVectorizer(analyzer=\"word\", max_features=1500).fit(jac_posts)\n",
    "nan_X = cv.transform(nan_posts)\n",
    "nan_X_tf=  tf.fit_transform(nan_X).toarray()"
   ]
  },
  {
   "cell_type": "code",
   "execution_count": null,
   "metadata": {
    "colab": {
     "base_uri": "https://localhost:8080/"
    },
    "id": "QDSMDOTLECfw",
    "outputId": "1736680c-c4a6-46c4-a547-6c164e88d4a5"
   },
   "outputs": [],
   "source": [
    "nancy_df['predicted_ie'] = ieModel.predict(nan_X_tf)\n",
    "ieModel.predict(nan_X_tf)"
   ]
  },
  {
   "cell_type": "code",
   "execution_count": 16,
   "metadata": {
    "colab": {
     "base_uri": "https://localhost:8080/"
    },
    "id": "A-Owy8HKECfw",
    "outputId": "7a2a26b7-c686-4fd8-fc91-50ae8b0ebaa9"
   },
   "outputs": [
    {
     "ename": "NameError",
     "evalue": "name 'nsModel' is not defined",
     "output_type": "error",
     "traceback": [
      "\u001b[1;31m---------------------------------------------------------------------------\u001b[0m",
      "\u001b[1;31mNameError\u001b[0m                                 Traceback (most recent call last)",
      "\u001b[1;32mC:\\Users\\SUMAMA~1\\AppData\\Local\\Temp/ipykernel_20732/1104644552.py\u001b[0m in \u001b[0;36m<module>\u001b[1;34m\u001b[0m\n\u001b[1;32m----> 1\u001b[1;33m \u001b[0mnancy_df\u001b[0m\u001b[1;33m[\u001b[0m\u001b[1;34m'predicted_ns'\u001b[0m\u001b[1;33m]\u001b[0m \u001b[1;33m=\u001b[0m \u001b[0mnsModel\u001b[0m\u001b[1;33m.\u001b[0m\u001b[0mpredict\u001b[0m\u001b[1;33m(\u001b[0m\u001b[0mnan_X_tf\u001b[0m\u001b[1;33m)\u001b[0m\u001b[1;33m\u001b[0m\u001b[1;33m\u001b[0m\u001b[0m\n\u001b[0m\u001b[0;32m      2\u001b[0m \u001b[0mnsModel\u001b[0m\u001b[1;33m.\u001b[0m\u001b[0mpredict\u001b[0m\u001b[1;33m(\u001b[0m\u001b[0mnan_X_tf\u001b[0m\u001b[1;33m)\u001b[0m\u001b[1;33m\u001b[0m\u001b[1;33m\u001b[0m\u001b[0m\n",
      "\u001b[1;31mNameError\u001b[0m: name 'nsModel' is not defined"
     ]
    }
   ],
   "source": [
    "nancy_df['predicted_ns'] = nsModel.predict(nan_X_tf)\n",
    "nsModel.predict(nan_X_tf)"
   ]
  },
  {
   "cell_type": "code",
   "execution_count": null,
   "metadata": {
    "colab": {
     "base_uri": "https://localhost:8080/"
    },
    "id": "rhoBQgEAECfw",
    "outputId": "7f49eadf-1043-42de-89fe-2c01b39a9376"
   },
   "outputs": [],
   "source": [
    "nancy_df['predicted_ft'] = ftModel.predict(nan_X_tf)\n",
    "ftModel.predict(nan_X_tf)"
   ]
  },
  {
   "cell_type": "code",
   "execution_count": null,
   "metadata": {
    "colab": {
     "base_uri": "https://localhost:8080/"
    },
    "id": "qYTEGLXlECfw",
    "outputId": "5ee6dd2b-2ec6-40f3-f3c5-5ab5f6d802d0"
   },
   "outputs": [],
   "source": [
    "nancy_df['predicted_pj'] = pjModel.predict(nan_X_tf)\n",
    "pjModel.predict(nan_X_tf)"
   ]
  },
  {
   "cell_type": "code",
   "execution_count": null,
   "metadata": {
    "colab": {
     "base_uri": "https://localhost:8080/",
     "height": 143
    },
    "id": "2_Zg72O8dCwm",
    "outputId": "e7c51c46-4469-4148-d602-4b27eca50bdd"
   },
   "outputs": [],
   "source": [
    "nancy_df['text'] = nan_posts\n",
    "nancy_df.drop(['created_at','favorite_count', 'retweet_count'], axis=1, inplace= True)\n",
    "nancy_df.head(3)"
   ]
  },
  {
   "cell_type": "code",
   "execution_count": null,
   "metadata": {
    "colab": {
     "base_uri": "https://localhost:8080/",
     "height": 1000
    },
    "id": "sJ35MefNdCwn",
    "outputId": "c8a737fd-4f6b-42af-caa8-a99551029ff5"
   },
   "outputs": [],
   "source": [
    "plt.figure(0)\n",
    "nancy_df.groupby('predicted_ie')['predicted_ie'].count().plot.pie(autopct='%.2f',figsize=(5,5))\n",
    "\n",
    "plt.figure(1)\n",
    "nancy_df.groupby('predicted_ns')['predicted_ns'].count().plot.pie(autopct='%.2f',figsize=(5,5))\n",
    "\n",
    "plt.figure(2)\n",
    "nancy_df.groupby('predicted_ft')['predicted_ft'].count().plot.pie(autopct='%.2f',figsize=(5,5))\n",
    "\n",
    "plt.figure(3)\n",
    "nancy_df.groupby('predicted_pj')['predicted_pj'].count().plot.pie(autopct='%.2f',figsize=(5,5))\n",
    "\n",
    "plt.show() #show all figures"
   ]
  },
  {
   "cell_type": "code",
   "execution_count": null,
   "metadata": {
    "colab": {
     "base_uri": "https://localhost:8080/",
     "height": 1000
    },
    "id": "du76Oph3n6Ny",
    "outputId": "9de3ff3c-764a-4450-eb10-3d88a8f41343"
   },
   "outputs": [],
   "source": [
    "plt.style.use('ggplot')\n",
    "\n",
    "plt.figure(0)\n",
    "nancy_df.groupby(['id','predicted_ie']).predicted_ie.count().unstack().plot.bar(legend=True)\n",
    "\n",
    "plt.figure(1)\n",
    "nancy_df.groupby(['id','predicted_ns']).predicted_ns.count().unstack().plot.bar(legend=True)\n",
    "\n",
    "plt.figure(2)\n",
    "nancy_df.groupby(['id','predicted_ft']).predicted_ft.count().unstack().plot.bar(legend=True)\n",
    "\n",
    "plt.figure(3)\n",
    "nancy_df.groupby(['id','predicted_pj']).predicted_pj.count().unstack().plot.bar(legend=True)\n",
    "\n",
    "plt.show() #show all figures"
   ]
  },
  {
   "cell_type": "code",
   "execution_count": null,
   "metadata": {
    "id": "g6eDUfPEECfx"
   },
   "outputs": [],
   "source": []
  },
  {
   "cell_type": "markdown",
   "metadata": {
    "id": "vNazZiyPiGh1"
   },
   "source": [
    "## Prediction for Kamala Harris"
   ]
  },
  {
   "cell_type": "code",
   "execution_count": null,
   "metadata": {
    "colab": {
     "base_uri": "https://localhost:8080/",
     "height": 206
    },
    "id": "-B4X4mNUlSWQ",
    "outputId": "e3f5fa6c-4668-4d86-bda6-a378193f26d7"
   },
   "outputs": [],
   "source": [
    "kam_df = pd.read_csv(\"/content/drive/MyDrive/KremlinRussia_E_tweets.csv\")\n",
    "kam_df.head()"
   ]
  },
  {
   "cell_type": "code",
   "execution_count": null,
   "metadata": {
    "colab": {
     "base_uri": "https://localhost:8080/"
    },
    "id": "tcKcos4rl3no",
    "outputId": "dc66bf93-4821-4ab1-f51a-35c5ff9362e2"
   },
   "outputs": [],
   "source": [
    "%%time\n",
    "kam_posts = kam_df['text']\n",
    "kam_posts = preprocess(kam_posts)"
   ]
  },
  {
   "cell_type": "code",
   "execution_count": 17,
   "metadata": {
    "id": "rPdH_QYFl3sh"
   },
   "outputs": [
    {
     "ename": "NameError",
     "evalue": "name 'cv' is not defined",
     "output_type": "error",
     "traceback": [
      "\u001b[1;31m---------------------------------------------------------------------------\u001b[0m",
      "\u001b[1;31mNameError\u001b[0m                                 Traceback (most recent call last)",
      "\u001b[1;32mC:\\Users\\SUMAMA~1\\AppData\\Local\\Temp/ipykernel_20732/1460455744.py\u001b[0m in \u001b[0;36m<module>\u001b[1;34m\u001b[0m\n\u001b[0;32m      1\u001b[0m \u001b[1;31m# cv = CountVectorizer(analyzer=\"word\", max_features=1500).fit(jac_posts)\u001b[0m\u001b[1;33m\u001b[0m\u001b[1;33m\u001b[0m\u001b[0m\n\u001b[1;32m----> 2\u001b[1;33m \u001b[0mkam_X\u001b[0m \u001b[1;33m=\u001b[0m \u001b[0mcv\u001b[0m\u001b[1;33m.\u001b[0m\u001b[0mtransform\u001b[0m\u001b[1;33m(\u001b[0m\u001b[0mkam_posts\u001b[0m\u001b[1;33m)\u001b[0m\u001b[1;33m\u001b[0m\u001b[1;33m\u001b[0m\u001b[0m\n\u001b[0m\u001b[0;32m      3\u001b[0m \u001b[0mkam_X_tf\u001b[0m\u001b[1;33m=\u001b[0m  \u001b[0mtf\u001b[0m\u001b[1;33m.\u001b[0m\u001b[0mfit_transform\u001b[0m\u001b[1;33m(\u001b[0m\u001b[0mkam_X\u001b[0m\u001b[1;33m)\u001b[0m\u001b[1;33m.\u001b[0m\u001b[0mtoarray\u001b[0m\u001b[1;33m(\u001b[0m\u001b[1;33m)\u001b[0m\u001b[1;33m\u001b[0m\u001b[1;33m\u001b[0m\u001b[0m\n",
      "\u001b[1;31mNameError\u001b[0m: name 'cv' is not defined"
     ]
    }
   ],
   "source": [
    "# cv = CountVectorizer(analyzer=\"word\", max_features=1500).fit(jac_posts)\n",
    "kam_X = cv.transform(kam_posts)\n",
    "kam_X_tf=  tf.fit_transform(kam_X).toarray()"
   ]
  },
  {
   "cell_type": "code",
   "execution_count": null,
   "metadata": {
    "colab": {
     "base_uri": "https://localhost:8080/"
    },
    "id": "B-t_2dK8l30U",
    "outputId": "cf7b2691-2447-4fab-e03a-71970705be27"
   },
   "outputs": [],
   "source": [
    "predicted_ie = ieModel.predict(kam_X_tf)\n",
    "ieModel.predict(kam_X_tf)"
   ]
  },
  {
   "cell_type": "code",
   "execution_count": null,
   "metadata": {
    "colab": {
     "base_uri": "https://localhost:8080/"
    },
    "id": "cOZg-Wx2l36q",
    "outputId": "5035e224-722e-4eed-e780-cc0910aef901"
   },
   "outputs": [],
   "source": [
    "predicted_ns = nsModel.predict(kam_X_tf)\n",
    "nsModel.predict(kam_X_tf)"
   ]
  },
  {
   "cell_type": "code",
   "execution_count": null,
   "metadata": {
    "colab": {
     "base_uri": "https://localhost:8080/"
    },
    "id": "pIEj34NRl4FF",
    "outputId": "3467b1f1-fa40-45e7-e62c-6e5e75ec3a80"
   },
   "outputs": [],
   "source": [
    "predicted_ft = ftModel.predict(kam_X_tf)\n",
    "ftModel.predict(kam_X_tf)"
   ]
  },
  {
   "cell_type": "code",
   "execution_count": null,
   "metadata": {
    "colab": {
     "base_uri": "https://localhost:8080/"
    },
    "id": "batgBBxIl4K2",
    "outputId": "6a8f4b11-843f-492e-e822-1dfb9f08f713"
   },
   "outputs": [],
   "source": [
    "predicted_pj = pjModel.predict(kam_X_tf)\n",
    "pjModel.predict(kam_X_tf)"
   ]
  },
  {
   "cell_type": "code",
   "execution_count": null,
   "metadata": {
    "colab": {
     "base_uri": "https://localhost:8080/",
     "height": 143
    },
    "id": "Ti-EM1gnmTK3",
    "outputId": "dacde820-cfa1-4eac-c115-57fa6e90be11"
   },
   "outputs": [],
   "source": [
    "kam_df['text'] = kam_posts\n",
    "kam_df['predicted_ie'] = predicted_ie\n",
    "kam_df['predicted_ns'] = predicted_ns\n",
    "kam_df['predicted_ft'] = predicted_ft\n",
    "kam_df['predicted_pj'] = predicted_pj\n",
    "kam_df.drop(['created_at','favorite_count', 'retweet_count'], axis=1, inplace= True)\n",
    "kam_df.head(3)"
   ]
  },
  {
   "cell_type": "code",
   "execution_count": null,
   "metadata": {
    "colab": {
     "base_uri": "https://localhost:8080/",
     "height": 1000
    },
    "id": "1L6_DGa9mTFd",
    "outputId": "6c2c3544-cdc9-45e1-ae38-c2058823dd54"
   },
   "outputs": [],
   "source": [
    "plt.figure(0)\n",
    "kam_df.groupby('predicted_ie')['predicted_ie'].count().plot.pie(autopct='%.2f',figsize=(5,5))\n",
    "\n",
    "plt.figure(1)\n",
    "kam_df.groupby('predicted_ns')['predicted_ns'].count().plot.pie(autopct='%.2f',figsize=(5,5))\n",
    "\n",
    "plt.figure(2)\n",
    "kam_df.groupby('predicted_ft')['predicted_ft'].count().plot.pie(autopct='%.2f',figsize=(5,5))\n",
    "\n",
    "plt.figure(3)\n",
    "kam_df.groupby('predicted_pj')['predicted_pj'].count().plot.pie(autopct='%.2f',figsize=(5,5))\n",
    "\n",
    "plt.show() #show all figures"
   ]
  },
  {
   "cell_type": "code",
   "execution_count": null,
   "metadata": {
    "colab": {
     "base_uri": "https://localhost:8080/",
     "height": 1000
    },
    "id": "xjlRlqNHmTCO",
    "outputId": "281a04f7-6f70-4a77-f03e-af04b65af331"
   },
   "outputs": [],
   "source": [
    "plt.style.use('ggplot')\n",
    "\n",
    "plt.figure(0)\n",
    "kam_df.groupby(['id','predicted_ie']).predicted_ie.count().unstack().plot.bar(legend=True)\n",
    "\n",
    "plt.figure(1)\n",
    "kam_df.groupby(['id','predicted_ns']).predicted_ns.count().unstack().plot.bar(legend=True)\n",
    "\n",
    "plt.figure(2)\n",
    "kam_df.groupby(['id','predicted_ft']).predicted_ft.count().unstack().plot.bar(legend=True)\n",
    "\n",
    "plt.figure(3)\n",
    "kam_df.groupby(['id','predicted_pj']).predicted_pj.count().unstack().plot.bar(legend=True)\n",
    "\n",
    "plt.show() #show all figures"
   ]
  },
  {
   "cell_type": "markdown",
   "metadata": {
    "id": "cdjdpUIx0d4W"
   },
   "source": [
    "## Prediction for Pope Francis"
   ]
  },
  {
   "cell_type": "code",
   "execution_count": null,
   "metadata": {
    "colab": {
     "base_uri": "https://localhost:8080/",
     "height": 206
    },
    "id": "J1458I0b0d4Y",
    "outputId": "62362f50-ba6b-4ba4-eb4d-9b96da3959e1"
   },
   "outputs": [],
   "source": [
    "pope_df = pd.read_csv(\"/content/drive/MyDrive/Pontifex_tweets.csv\")\n",
    "pope_df.head()"
   ]
  },
  {
   "cell_type": "code",
   "execution_count": null,
   "metadata": {
    "id": "3q_sB6VL0d4Z"
   },
   "outputs": [],
   "source": [
    "\n",
    "pop_df = pope_df['text']"
   ]
  },
  {
   "cell_type": "code",
   "execution_count": 18,
   "metadata": {
    "colab": {
     "base_uri": "https://localhost:8080/"
    },
    "id": "f5v8aA_R0d4Z",
    "outputId": "b22dc337-6c30-499f-f630-41f27aae66a3"
   },
   "outputs": [
    {
     "ename": "NameError",
     "evalue": "name 'pop_df' is not defined",
     "output_type": "error",
     "traceback": [
      "\u001b[1;31m---------------------------------------------------------------------------\u001b[0m",
      "\u001b[1;31mNameError\u001b[0m                                 Traceback (most recent call last)",
      "\u001b[1;32m<timed exec>\u001b[0m in \u001b[0;36m<module>\u001b[1;34m\u001b[0m\n",
      "\u001b[1;31mNameError\u001b[0m: name 'pop_df' is not defined"
     ]
    }
   ],
   "source": [
    "%%time\n",
    "pop_posts = pop_df\n",
    "pop_posts = preprocess(pop_posts)"
   ]
  },
  {
   "cell_type": "code",
   "execution_count": 19,
   "metadata": {
    "id": "6diWe8gQ0d4a"
   },
   "outputs": [
    {
     "ename": "NameError",
     "evalue": "name 'cv' is not defined",
     "output_type": "error",
     "traceback": [
      "\u001b[1;31m---------------------------------------------------------------------------\u001b[0m",
      "\u001b[1;31mNameError\u001b[0m                                 Traceback (most recent call last)",
      "\u001b[1;32mC:\\Users\\SUMAMA~1\\AppData\\Local\\Temp/ipykernel_20732/2665928489.py\u001b[0m in \u001b[0;36m<module>\u001b[1;34m\u001b[0m\n\u001b[0;32m      1\u001b[0m \u001b[1;31m# cv = CountVectorizer(analyzer=\"word\", max_features=1500).fit(jac_posts)\u001b[0m\u001b[1;33m\u001b[0m\u001b[1;33m\u001b[0m\u001b[0m\n\u001b[1;32m----> 2\u001b[1;33m \u001b[0mpop_X\u001b[0m \u001b[1;33m=\u001b[0m \u001b[0mcv\u001b[0m\u001b[1;33m.\u001b[0m\u001b[0mtransform\u001b[0m\u001b[1;33m(\u001b[0m\u001b[0mpop_posts\u001b[0m\u001b[1;33m)\u001b[0m\u001b[1;33m\u001b[0m\u001b[1;33m\u001b[0m\u001b[0m\n\u001b[0m\u001b[0;32m      3\u001b[0m \u001b[0mpop_X_tf\u001b[0m\u001b[1;33m=\u001b[0m  \u001b[0mtf\u001b[0m\u001b[1;33m.\u001b[0m\u001b[0mfit_transform\u001b[0m\u001b[1;33m(\u001b[0m\u001b[0mpop_X\u001b[0m\u001b[1;33m)\u001b[0m\u001b[1;33m.\u001b[0m\u001b[0mtoarray\u001b[0m\u001b[1;33m(\u001b[0m\u001b[1;33m)\u001b[0m\u001b[1;33m\u001b[0m\u001b[1;33m\u001b[0m\u001b[0m\n",
      "\u001b[1;31mNameError\u001b[0m: name 'cv' is not defined"
     ]
    }
   ],
   "source": [
    "# cv = CountVectorizer(analyzer=\"word\", max_features=1500).fit(jac_posts)\n",
    "pop_X = cv.transform(pop_posts)\n",
    "pop_X_tf=  tf.fit_transform(pop_X).toarray()"
   ]
  },
  {
   "cell_type": "code",
   "execution_count": null,
   "metadata": {
    "id": "j6Bf58sxgxcj"
   },
   "outputs": [],
   "source": [
    "ieModel = model_linear_svc.fit(xIETrain, yIE)"
   ]
  },
  {
   "cell_type": "code",
   "execution_count": null,
   "metadata": {
    "colab": {
     "base_uri": "https://localhost:8080/"
    },
    "id": "y4_VoH9P0d4a",
    "outputId": "ba32a013-1de0-422d-f56e-ed24b21ff759"
   },
   "outputs": [],
   "source": [
    "predicted_ie = ieModel.predict(pop_X_tf)\n",
    "ieModel.predict(pop_X_tf)"
   ]
  },
  {
   "cell_type": "code",
   "execution_count": null,
   "metadata": {
    "id": "SfIsnpf9g1J7"
   },
   "outputs": [],
   "source": [
    "nsModel =  model_linear_svc.fit(xNSTrain, yNS)"
   ]
  },
  {
   "cell_type": "code",
   "execution_count": null,
   "metadata": {
    "colab": {
     "base_uri": "https://localhost:8080/"
    },
    "id": "OTkiIA_K0d4b",
    "outputId": "302c36c9-13de-4b7d-89c3-7c364cb405d1"
   },
   "outputs": [],
   "source": [
    "predicted_ns = nsModel.predict(pop_X_tf)\n",
    "nsModel.predict(pop_X_tf)"
   ]
  },
  {
   "cell_type": "code",
   "execution_count": null,
   "metadata": {
    "id": "Fj7DaD0IhDI0"
   },
   "outputs": [],
   "source": [
    "ftModel =  model_linear_svc.fit(xFTTrain, yFT)"
   ]
  },
  {
   "cell_type": "code",
   "execution_count": null,
   "metadata": {
    "colab": {
     "base_uri": "https://localhost:8080/"
    },
    "id": "OsU7dSuX0d4c",
    "outputId": "93624f36-7249-4cb9-8942-fa711f2b54d6"
   },
   "outputs": [],
   "source": [
    "predicted_ft = ftModel.predict(pop_X_tf)\n",
    "ftModel.predict(pop_X_tf)"
   ]
  },
  {
   "cell_type": "code",
   "execution_count": null,
   "metadata": {
    "id": "I673ctk0hfjf"
   },
   "outputs": [],
   "source": [
    "pjModel =  model_linear_svc.fit(xPJTrain, yPJ)"
   ]
  },
  {
   "cell_type": "code",
   "execution_count": null,
   "metadata": {
    "colab": {
     "base_uri": "https://localhost:8080/"
    },
    "id": "kJs4I1A80d4d",
    "outputId": "f5c61b8b-2b4d-4183-dc77-009077188195"
   },
   "outputs": [],
   "source": [
    "predicted_pj = pjModel.predict(pop_X_tf)\n",
    "pjModel.predict(pop_X_tf)"
   ]
  },
  {
   "cell_type": "code",
   "execution_count": null,
   "metadata": {
    "colab": {
     "base_uri": "https://localhost:8080/",
     "height": 1000
    },
    "id": "unpvXq-Q0d4d",
    "outputId": "4704e743-2240-4e01-9d56-3c12bf01a31c"
   },
   "outputs": [],
   "source": [
    "plt.figure(0)\n",
    "pope_df.groupby('predicted_ie')['predicted_ie'].count().plot.pie(autopct='%.2f',figsize=(5,5))\n",
    "\n",
    "plt.figure(1)\n",
    "pope_df.groupby('predicted_ns')['predicted_ns'].count().plot.pie(autopct='%.2f',figsize=(5,5))\n",
    "\n",
    "plt.figure(2)\n",
    "pope_df.groupby('predicted_ft')['predicted_ft'].count().plot.pie(autopct='%.2f',figsize=(5,5))\n",
    "\n",
    "plt.figure(3)\n",
    "pope_df.groupby('predicted_pj')['predicted_pj'].count().plot.pie(autopct='%.2f',figsize=(5,5))\n",
    "\n",
    "plt.show() #show all figures"
   ]
  },
  {
   "cell_type": "code",
   "execution_count": null,
   "metadata": {
    "colab": {
     "base_uri": "https://localhost:8080/",
     "height": 1000
    },
    "id": "1MKRYN3wr8FD",
    "outputId": "53d1e021-49b4-4bd2-dade-c7dc673bbb31"
   },
   "outputs": [],
   "source": [
    "plt.style.use('ggplot')\n",
    "\n",
    "plt.figure(0)\n",
    "pope_df.groupby(['id','predicted_ie']).predicted_ie.count().unstack().plot.bar(legend=True)\n",
    "\n",
    "plt.figure(1)\n",
    "pope_df.groupby(['id','predicted_ns']).predicted_ns.count().unstack().plot.bar(legend=True)\n",
    "\n",
    "plt.figure(2)\n",
    "pope_df.groupby(['id','predicted_ft']).predicted_ft.count().unstack().plot.bar(legend=True)\n",
    "\n",
    "plt.figure(3)\n",
    "pope_df.groupby(['id','predicted_pj']).predicted_pj.count().unstack().plot.bar(legend=True)\n",
    "\n",
    "plt.show() #show all figures"
   ]
  },
  {
   "cell_type": "markdown",
   "metadata": {
    "id": "7W_p9YSn0d4g"
   },
   "source": [
    "## Prediction for Rupert Murdoch"
   ]
  },
  {
   "cell_type": "code",
   "execution_count": null,
   "metadata": {
    "colab": {
     "base_uri": "https://localhost:8080/",
     "height": 206
    },
    "id": "HtUaEtMq0d4g",
    "outputId": "44ef48b6-3a39-43d0-9569-15fe0d6c6a5a"
   },
   "outputs": [],
   "source": [
    "rupe_df = pd.read_csv(\"/content/drive/MyDrive/rupertmadoch_tweets.csv\")\n",
    "rupe_df.head()"
   ]
  },
  {
   "cell_type": "code",
   "execution_count": null,
   "metadata": {
    "colab": {
     "base_uri": "https://localhost:8080/"
    },
    "id": "8xBHd6ht0d4g",
    "outputId": "9f06298d-7eaa-4569-af88-5fabf8fdb5b3"
   },
   "outputs": [],
   "source": [
    "%%time\n",
    "rupe_posts = rupe_df['text']\n",
    "rupe_posts = preprocess(rupe_posts)"
   ]
  },
  {
   "cell_type": "code",
   "execution_count": null,
   "metadata": {
    "id": "DeRN0VoJ0d4h"
   },
   "outputs": [],
   "source": [
    "# cv = CountVectorizer(analyzer=\"word\", max_features=1500).fit(jac_posts)\n",
    "rupe_X = cv.transform(rupe_posts)\n",
    "rupe_X_tf=  tf.fit_transform(rupe_X).toarray()"
   ]
  },
  {
   "cell_type": "code",
   "execution_count": 20,
   "metadata": {
    "id": "JOOCpyCmjxIh"
   },
   "outputs": [
    {
     "ename": "NameError",
     "evalue": "name 'model_linear_svc' is not defined",
     "output_type": "error",
     "traceback": [
      "\u001b[1;31m---------------------------------------------------------------------------\u001b[0m",
      "\u001b[1;31mNameError\u001b[0m                                 Traceback (most recent call last)",
      "\u001b[1;32mC:\\Users\\SUMAMA~1\\AppData\\Local\\Temp/ipykernel_20732/3796875600.py\u001b[0m in \u001b[0;36m<module>\u001b[1;34m\u001b[0m\n\u001b[1;32m----> 1\u001b[1;33m \u001b[0mieModel\u001b[0m \u001b[1;33m=\u001b[0m \u001b[0mmodel_linear_svc\u001b[0m\u001b[1;33m.\u001b[0m\u001b[0mfit\u001b[0m\u001b[1;33m(\u001b[0m\u001b[0mxIETrain\u001b[0m\u001b[1;33m,\u001b[0m \u001b[0myIE\u001b[0m\u001b[1;33m)\u001b[0m\u001b[1;33m\u001b[0m\u001b[1;33m\u001b[0m\u001b[0m\n\u001b[0m",
      "\u001b[1;31mNameError\u001b[0m: name 'model_linear_svc' is not defined"
     ]
    }
   ],
   "source": [
    "ieModel = model_linear_svc.fit(xIETrain, yIE)"
   ]
  },
  {
   "cell_type": "code",
   "execution_count": null,
   "metadata": {
    "colab": {
     "base_uri": "https://localhost:8080/"
    },
    "id": "S9gpZTkVjxIi",
    "outputId": "4bfabaa3-1f0c-4a9c-c00f-d696f22445e3"
   },
   "outputs": [],
   "source": [
    "predicted_ie = ieModel.predict(rupe_X_tf)\n",
    "ieModel.predict(rupe_X_tf)"
   ]
  },
  {
   "cell_type": "code",
   "execution_count": null,
   "metadata": {
    "id": "wRZMwV1MjxIi"
   },
   "outputs": [],
   "source": [
    "nsModel =  model_linear_svc.fit(xNSTrain, yNS)"
   ]
  },
  {
   "cell_type": "code",
   "execution_count": null,
   "metadata": {
    "colab": {
     "base_uri": "https://localhost:8080/"
    },
    "id": "oz_I-Ui2jxIi",
    "outputId": "874eb6be-8b76-472d-d1fe-967c9457f160"
   },
   "outputs": [],
   "source": [
    "predicted_ns = nsModel.predict(rupe_X_tf)\n",
    "nsModel.predict(rupe_X_tf)"
   ]
  },
  {
   "cell_type": "code",
   "execution_count": null,
   "metadata": {
    "id": "bFPVz_m0jxIj"
   },
   "outputs": [],
   "source": [
    "ftModel =  model_linear_svc.fit(xFTTrain, yFT)"
   ]
  },
  {
   "cell_type": "code",
   "execution_count": null,
   "metadata": {
    "colab": {
     "base_uri": "https://localhost:8080/"
    },
    "id": "5oPaMaqqjxIj",
    "outputId": "448d8d5a-1b33-424b-d784-92d6d266d08a"
   },
   "outputs": [],
   "source": [
    "predicted_ft = ftModel.predict(pop_X_tf)\n",
    "ftModel.predict(pop_X_tf)"
   ]
  },
  {
   "cell_type": "code",
   "execution_count": null,
   "metadata": {
    "id": "887pLaymjxIj"
   },
   "outputs": [],
   "source": [
    "pjModel =  model_linear_svc.fit(xPJTrain, yPJ)"
   ]
  },
  {
   "cell_type": "code",
   "execution_count": null,
   "metadata": {
    "colab": {
     "base_uri": "https://localhost:8080/"
    },
    "id": "DeqVQ8lejxIj",
    "outputId": "00b71295-f5a0-4644-90d2-81670a2418b4"
   },
   "outputs": [],
   "source": [
    "predicted_pj = pjModel.predict(rupe_X_tf)\n",
    "pjModel.predict(rupe_X_tf)"
   ]
  },
  {
   "cell_type": "code",
   "execution_count": null,
   "metadata": {
    "colab": {
     "base_uri": "https://localhost:8080/",
     "height": 143
    },
    "id": "JEUEkcRtjxIk",
    "outputId": "993aca52-be12-4424-bf6a-48fb1befca27"
   },
   "outputs": [],
   "source": [
    "rupe_df['text'] = rupe_posts\n",
    "rupe_df['predicted_ie'] = predicted_ie\n",
    "rupe_df['predicted_ns'] = predicted_ns\n",
    "rupe_df['predicted_ft'] = predicted_ft\n",
    "rupe_df['predicted_pj'] = predicted_pj\n",
    "rupe_df.drop(['created_at','favorite_count', 'retweet_count'], axis=1, inplace= True)\n",
    "rupe_df.head(3)"
   ]
  },
  {
   "cell_type": "code",
   "execution_count": null,
   "metadata": {
    "colab": {
     "base_uri": "https://localhost:8080/",
     "height": 1000
    },
    "id": "5sx3w2ZW0d4k",
    "outputId": "eb611816-6872-4a75-bdd0-5e6adf489849"
   },
   "outputs": [],
   "source": [
    "plt.figure(0)\n",
    "rupe_df.groupby('predicted_ie')['predicted_ie'].count().plot.pie(autopct='%.2f',figsize=(5,5))\n",
    "\n",
    "plt.figure(1)\n",
    "rupe_df.groupby('predicted_ns')['predicted_ns'].count().plot.pie(autopct='%.2f',figsize=(5,5))\n",
    "\n",
    "plt.figure(2)\n",
    "rupe_df.groupby('predicted_ft')['predicted_ft'].count().plot.pie(autopct='%.2f',figsize=(5,5))\n",
    "\n",
    "plt.figure(3)\n",
    "rupe_df.groupby('predicted_pj')['predicted_pj'].count().plot.pie(autopct='%.2f',figsize=(5,5))\n",
    "\n",
    "plt.show() #show all figures"
   ]
  },
  {
   "cell_type": "code",
   "execution_count": null,
   "metadata": {
    "colab": {
     "base_uri": "https://localhost:8080/",
     "height": 1000
    },
    "id": "5q9f44sUlPmz",
    "outputId": "eb635cfd-2ec5-4185-98f0-cf17d25ba22a"
   },
   "outputs": [],
   "source": [
    "plt.style.use('ggplot')\n",
    "\n",
    "plt.figure(0)\n",
    "rupe_df.groupby(['id','predicted_ie']).predicted_ie.count().unstack().plot.bar(legend=True)\n",
    "\n",
    "plt.figure(1)\n",
    "rupe_df.groupby(['id','predicted_ns']).predicted_ns.count().unstack().plot.bar(legend=True)\n",
    "\n",
    "plt.figure(2)\n",
    "rupe_df.groupby(['id','predicted_ft']).predicted_ft.count().unstack().plot.bar(legend=True)\n",
    "\n",
    "plt.figure(3)\n",
    "rupe_df.groupby(['id','predicted_pj']).predicted_pj.count().unstack().plot.bar(legend=True)\n",
    "\n",
    "plt.show() #show all figures"
   ]
  },
  {
   "cell_type": "code",
   "execution_count": null,
   "metadata": {
    "id": "lEbmlyNV00kf"
   },
   "outputs": [],
   "source": []
  },
  {
   "cell_type": "markdown",
   "metadata": {
    "id": "hDqnVomdYOGm"
   },
   "source": [
    "## Prediction for Vladimir Putin"
   ]
  },
  {
   "cell_type": "code",
   "execution_count": 21,
   "metadata": {
    "colab": {
     "base_uri": "https://localhost:8080/",
     "height": 206
    },
    "id": "mGMvjTamYaXc",
    "outputId": "d36e79b3-9c56-4723-9172-474f6c2bf8a1"
   },
   "outputs": [
    {
     "ename": "NameError",
     "evalue": "name 'pd' is not defined",
     "output_type": "error",
     "traceback": [
      "\u001b[1;31m---------------------------------------------------------------------------\u001b[0m",
      "\u001b[1;31mNameError\u001b[0m                                 Traceback (most recent call last)",
      "\u001b[1;32mC:\\Users\\SUMAMA~1\\AppData\\Local\\Temp/ipykernel_20732/2541658915.py\u001b[0m in \u001b[0;36m<module>\u001b[1;34m\u001b[0m\n\u001b[1;32m----> 1\u001b[1;33m \u001b[0mput_df\u001b[0m \u001b[1;33m=\u001b[0m \u001b[0mpd\u001b[0m\u001b[1;33m.\u001b[0m\u001b[0mread_csv\u001b[0m\u001b[1;33m(\u001b[0m\u001b[1;34m\"/content/drive/MyDrive/KamalaHarris_tweets.csv\"\u001b[0m\u001b[1;33m)\u001b[0m\u001b[1;33m\u001b[0m\u001b[1;33m\u001b[0m\u001b[0m\n\u001b[0m\u001b[0;32m      2\u001b[0m \u001b[0mput_df\u001b[0m\u001b[1;33m.\u001b[0m\u001b[0mhead\u001b[0m\u001b[1;33m(\u001b[0m\u001b[1;33m)\u001b[0m\u001b[1;33m\u001b[0m\u001b[1;33m\u001b[0m\u001b[0m\n",
      "\u001b[1;31mNameError\u001b[0m: name 'pd' is not defined"
     ]
    }
   ],
   "source": [
    "put_df = pd.read_csv(\"/content/drive/MyDrive/KamalaHarris_tweets.csv\")\n",
    "put_df.head()"
   ]
  },
  {
   "cell_type": "code",
   "execution_count": null,
   "metadata": {
    "colab": {
     "base_uri": "https://localhost:8080/"
    },
    "id": "EnWwEBaTYxLR",
    "outputId": "fb25b0e6-4b58-4f0a-a653-ce7f3c69ea57"
   },
   "outputs": [],
   "source": [
    "%%time\n",
    "put_posts = put_df['text']\n",
    "put_posts = preprocess(put_posts)"
   ]
  },
  {
   "cell_type": "code",
   "execution_count": null,
   "metadata": {
    "id": "yl4pqEIpY4N-"
   },
   "outputs": [],
   "source": [
    "# cv = CountVectorizer(analyzer=\"word\", max_features=1500).fit(jac_posts)\n",
    "put_X = cv.transform(put_posts)\n",
    "put_X_tf=  tf.fit_transform(put_X).toarray()"
   ]
  },
  {
   "cell_type": "code",
   "execution_count": null,
   "metadata": {
    "colab": {
     "base_uri": "https://localhost:8080/"
    },
    "id": "dgfJDuxzY_Ny",
    "outputId": "95167a8e-761d-4a8c-c923-5a1ecb171ea7"
   },
   "outputs": [],
   "source": [
    "predicted_ie = ieModel.predict(put_X_tf)\n",
    "ieModel.predict(put_X_tf)"
   ]
  },
  {
   "cell_type": "code",
   "execution_count": null,
   "metadata": {
    "colab": {
     "base_uri": "https://localhost:8080/"
    },
    "id": "LmK9a2kTZFEV",
    "outputId": "22072b23-7684-4c4a-cbf4-7f7399d30193"
   },
   "outputs": [],
   "source": [
    "predicted_ns = nsModel.predict(put_X_tf)\n",
    "nsModel.predict(put_X_tf)"
   ]
  },
  {
   "cell_type": "code",
   "execution_count": null,
   "metadata": {
    "colab": {
     "base_uri": "https://localhost:8080/"
    },
    "id": "ojbif4YrZTIc",
    "outputId": "d65626e3-7a76-4c6a-bd7e-be501502b337"
   },
   "outputs": [],
   "source": [
    "predicted_ft = ftModel.predict(put_X_tf)\n",
    "ftModel.predict(put_X_tf)"
   ]
  },
  {
   "cell_type": "code",
   "execution_count": null,
   "metadata": {
    "colab": {
     "base_uri": "https://localhost:8080/"
    },
    "id": "DI6Aw7y4ZVhd",
    "outputId": "a060c919-ed95-4aa7-d39d-5b8f11b85c12"
   },
   "outputs": [],
   "source": [
    "predicted_pj = pjModel.predict(put_X_tf)\n",
    "pjModel.predict(put_X_tf)"
   ]
  },
  {
   "cell_type": "code",
   "execution_count": 22,
   "metadata": {
    "colab": {
     "base_uri": "https://localhost:8080/",
     "height": 143
    },
    "id": "rZofLdpiZIrY",
    "outputId": "bbff3b1a-98fc-4562-85db-24d9ff195836"
   },
   "outputs": [
    {
     "ename": "NameError",
     "evalue": "name 'put_posts' is not defined",
     "output_type": "error",
     "traceback": [
      "\u001b[1;31m---------------------------------------------------------------------------\u001b[0m",
      "\u001b[1;31mNameError\u001b[0m                                 Traceback (most recent call last)",
      "\u001b[1;32mC:\\Users\\SUMAMA~1\\AppData\\Local\\Temp/ipykernel_20732/1456934045.py\u001b[0m in \u001b[0;36m<module>\u001b[1;34m\u001b[0m\n\u001b[1;32m----> 1\u001b[1;33m \u001b[0mput_df\u001b[0m\u001b[1;33m[\u001b[0m\u001b[1;34m'text'\u001b[0m\u001b[1;33m]\u001b[0m \u001b[1;33m=\u001b[0m \u001b[0mput_posts\u001b[0m\u001b[1;33m\u001b[0m\u001b[1;33m\u001b[0m\u001b[0m\n\u001b[0m\u001b[0;32m      2\u001b[0m \u001b[0mput_df\u001b[0m\u001b[1;33m[\u001b[0m\u001b[1;34m'predicted_ie'\u001b[0m\u001b[1;33m]\u001b[0m \u001b[1;33m=\u001b[0m \u001b[0mpredicted_ie\u001b[0m\u001b[1;33m\u001b[0m\u001b[1;33m\u001b[0m\u001b[0m\n\u001b[0;32m      3\u001b[0m \u001b[0mput_df\u001b[0m\u001b[1;33m[\u001b[0m\u001b[1;34m'predicted_ns'\u001b[0m\u001b[1;33m]\u001b[0m \u001b[1;33m=\u001b[0m \u001b[0mpredicted_ns\u001b[0m\u001b[1;33m\u001b[0m\u001b[1;33m\u001b[0m\u001b[0m\n\u001b[0;32m      4\u001b[0m \u001b[0mput_df\u001b[0m\u001b[1;33m[\u001b[0m\u001b[1;34m'predicted_ft'\u001b[0m\u001b[1;33m]\u001b[0m \u001b[1;33m=\u001b[0m \u001b[0mpredicted_ft\u001b[0m\u001b[1;33m\u001b[0m\u001b[1;33m\u001b[0m\u001b[0m\n\u001b[0;32m      5\u001b[0m \u001b[0mput_df\u001b[0m\u001b[1;33m[\u001b[0m\u001b[1;34m'predicted_pj'\u001b[0m\u001b[1;33m]\u001b[0m \u001b[1;33m=\u001b[0m \u001b[0mpredicted_pj\u001b[0m\u001b[1;33m\u001b[0m\u001b[1;33m\u001b[0m\u001b[0m\n",
      "\u001b[1;31mNameError\u001b[0m: name 'put_posts' is not defined"
     ]
    }
   ],
   "source": [
    "put_df['text'] = put_posts\n",
    "put_df['predicted_ie'] = predicted_ie\n",
    "put_df['predicted_ns'] = predicted_ns\n",
    "put_df['predicted_ft'] = predicted_ft\n",
    "put_df['predicted_pj'] = predicted_pj\n",
    "# put_df.drop(['created_at','favorite_count', 'retweet_count'], axis=1, inplace= True)\n",
    "put_df.head(3)"
   ]
  },
  {
   "cell_type": "code",
   "execution_count": null,
   "metadata": {
    "colab": {
     "base_uri": "https://localhost:8080/",
     "height": 1000
    },
    "id": "HhaYSdwPhCvv",
    "outputId": "3bd5a714-45bd-44ab-ba86-89e20234d403"
   },
   "outputs": [],
   "source": [
    "plt.figure(0)\n",
    "put_df.groupby('predicted_ie')['predicted_ie'].count().plot.pie(autopct='%.2f',figsize=(5,5))\n",
    "\n",
    "plt.figure(1)\n",
    "put_df.groupby('predicted_ns')['predicted_ns'].count().plot.pie(autopct='%.2f',figsize=(5,5))\n",
    "\n",
    "plt.figure(2)\n",
    "put_df.groupby('predicted_ft')['predicted_ft'].count().plot.pie(autopct='%.2f',figsize=(5,5))\n",
    "\n",
    "plt.figure(3)\n",
    "put_df.groupby('predicted_pj')['predicted_pj'].count().plot.pie(autopct='%.2f',figsize=(5,5))\n",
    "\n",
    "plt.show() #show all figures"
   ]
  },
  {
   "cell_type": "code",
   "execution_count": null,
   "metadata": {
    "colab": {
     "base_uri": "https://localhost:8080/",
     "height": 393
    },
    "id": "T7ST9IgyhcCn",
    "outputId": "d87f412b-50b8-4771-f501-4f61a1fbf9bf"
   },
   "outputs": [],
   "source": [
    "plt.style.use('ggplot')\n",
    "\n",
    "put_df.groupby(['id', 'predicted_ie'])\\\n",
    "      .predicted_ie.count().unstack().plot.bar(legend=True)\n",
    "\n",
    "plt.show()"
   ]
  },
  {
   "cell_type": "code",
   "execution_count": null,
   "metadata": {
    "colab": {
     "base_uri": "https://localhost:8080/",
     "height": 393
    },
    "id": "D1HdhB4Ahb_L",
    "outputId": "4b637f99-702d-45ce-ee3b-a2857ef1cf30"
   },
   "outputs": [],
   "source": [
    "plt.style.use('ggplot')\n",
    "\n",
    "put_df.groupby(['id', 'predicted_ns'])\\\n",
    "      .predicted_ns.count().unstack().plot.bar(legend=True)\n",
    "\n",
    "plt.show()"
   ]
  },
  {
   "cell_type": "code",
   "execution_count": null,
   "metadata": {
    "colab": {
     "base_uri": "https://localhost:8080/",
     "height": 393
    },
    "id": "Zl9alz7FhxHi",
    "outputId": "1afaf1cf-5032-47c4-f80c-c01676cae8a5"
   },
   "outputs": [],
   "source": [
    "plt.style.use('ggplot')\n",
    "\n",
    "put_df.groupby(['id', 'predicted_ft'])\\\n",
    "      .predicted_ft.count().unstack().plot.bar(legend=True)\n",
    "\n",
    "plt.show()"
   ]
  },
  {
   "cell_type": "code",
   "execution_count": null,
   "metadata": {
    "colab": {
     "base_uri": "https://localhost:8080/",
     "height": 393
    },
    "id": "4HOziZethw9R",
    "outputId": "7d05036f-a9ca-4290-9fe7-431c8cd9f93c"
   },
   "outputs": [],
   "source": [
    "plt.style.use('ggplot')\n",
    "\n",
    "put_df.groupby(['id', 'predicted_pj'])\\\n",
    "      .predicted_pj.count().unstack().plot.bar(legend=True)\n",
    "\n",
    "plt.show()"
   ]
  },
  {
   "cell_type": "markdown",
   "metadata": {
    "id": "_x-fo-sb4fOT"
   },
   "source": [
    "## Prediction for Jeff Bezos"
   ]
  },
  {
   "cell_type": "code",
   "execution_count": null,
   "metadata": {
    "colab": {
     "base_uri": "https://localhost:8080/",
     "height": 206
    },
    "id": "5MCiiRu-4fOU",
    "outputId": "8ddd81aa-4ea2-4b15-eb4b-0a2c233022be"
   },
   "outputs": [],
   "source": [
    "jeff_df = pd.read_csv(\"/content/drive/MyDrive/ai project/JeffBezos_tweets.csv\")\n",
    "jeff_df.head()"
   ]
  },
  {
   "cell_type": "code",
   "execution_count": null,
   "metadata": {
    "id": "KJeYwV024fOV"
   },
   "outputs": [],
   "source": [
    "# jac_df = jacinda_df.rename(columns={'text': 'posts'})\n",
    "jeff_df = jeff_df['text']"
   ]
  },
  {
   "cell_type": "code",
   "execution_count": 23,
   "metadata": {
    "colab": {
     "base_uri": "https://localhost:8080/"
    },
    "id": "78IjbkKc4fOV",
    "outputId": "6183860d-e4c3-4d4c-cd71-09e684e9b77c"
   },
   "outputs": [
    {
     "ename": "NameError",
     "evalue": "name 'jeff_df' is not defined",
     "output_type": "error",
     "traceback": [
      "\u001b[1;31m---------------------------------------------------------------------------\u001b[0m",
      "\u001b[1;31mNameError\u001b[0m                                 Traceback (most recent call last)",
      "\u001b[1;32m<timed exec>\u001b[0m in \u001b[0;36m<module>\u001b[1;34m\u001b[0m\n",
      "\u001b[1;31mNameError\u001b[0m: name 'jeff_df' is not defined"
     ]
    }
   ],
   "source": [
    "%%time\n",
    "jeff_posts = jeff_df\n",
    "jeff_posts = preprocess(jeff_posts)"
   ]
  },
  {
   "cell_type": "code",
   "execution_count": 24,
   "metadata": {
    "id": "JTfdrmhA4fOV"
   },
   "outputs": [
    {
     "ename": "NameError",
     "evalue": "name 'cv' is not defined",
     "output_type": "error",
     "traceback": [
      "\u001b[1;31m---------------------------------------------------------------------------\u001b[0m",
      "\u001b[1;31mNameError\u001b[0m                                 Traceback (most recent call last)",
      "\u001b[1;32mC:\\Users\\SUMAMA~1\\AppData\\Local\\Temp/ipykernel_20732/504262242.py\u001b[0m in \u001b[0;36m<module>\u001b[1;34m\u001b[0m\n\u001b[0;32m      1\u001b[0m \u001b[1;31m# cv = CountVectorizer(analyzer=\"word\", max_features=1500).fit(jac_posts)\u001b[0m\u001b[1;33m\u001b[0m\u001b[1;33m\u001b[0m\u001b[0m\n\u001b[1;32m----> 2\u001b[1;33m \u001b[0mjeff_X\u001b[0m \u001b[1;33m=\u001b[0m \u001b[0mcv\u001b[0m\u001b[1;33m.\u001b[0m\u001b[0mtransform\u001b[0m\u001b[1;33m(\u001b[0m\u001b[0mjeff_posts\u001b[0m\u001b[1;33m)\u001b[0m\u001b[1;33m\u001b[0m\u001b[1;33m\u001b[0m\u001b[0m\n\u001b[0m\u001b[0;32m      3\u001b[0m \u001b[0mjeff_X_tf\u001b[0m\u001b[1;33m=\u001b[0m  \u001b[0mtf\u001b[0m\u001b[1;33m.\u001b[0m\u001b[0mfit_transform\u001b[0m\u001b[1;33m(\u001b[0m\u001b[0mjeff_X\u001b[0m\u001b[1;33m)\u001b[0m\u001b[1;33m.\u001b[0m\u001b[0mtoarray\u001b[0m\u001b[1;33m(\u001b[0m\u001b[1;33m)\u001b[0m\u001b[1;33m\u001b[0m\u001b[1;33m\u001b[0m\u001b[0m\n",
      "\u001b[1;31mNameError\u001b[0m: name 'cv' is not defined"
     ]
    }
   ],
   "source": [
    "# cv = CountVectorizer(analyzer=\"word\", max_features=1500).fit(jac_posts)\n",
    "jeff_X = cv.transform(jeff_posts)\n",
    "jeff_X_tf=  tf.fit_transform(jeff_X).toarray()"
   ]
  },
  {
   "cell_type": "code",
   "execution_count": null,
   "metadata": {
    "colab": {
     "base_uri": "https://localhost:8080/"
    },
    "id": "E0dtG2Sb4fOV",
    "outputId": "935b1cae-7db9-4e40-e421-353fc9e798b1"
   },
   "outputs": [],
   "source": [
    "predicted_ie = ieModel.predict(jeff_X_tf)\n",
    "ieModel.predict(jeff_X_tf)"
   ]
  },
  {
   "cell_type": "code",
   "execution_count": null,
   "metadata": {
    "colab": {
     "base_uri": "https://localhost:8080/"
    },
    "id": "1vX30KSI4fOV",
    "outputId": "6065d5c9-cd41-43c4-a774-db603f98a336"
   },
   "outputs": [],
   "source": [
    "predicted_ns = nsModel.predict(jeff_X_tf)\n",
    "nsModel.predict(jeff_X_tf)"
   ]
  },
  {
   "cell_type": "code",
   "execution_count": null,
   "metadata": {
    "colab": {
     "base_uri": "https://localhost:8080/"
    },
    "id": "OLJgHbls4fOV",
    "outputId": "7bab660d-df44-4f2a-b4de-bc4dc2eeccd4"
   },
   "outputs": [],
   "source": [
    "predicted_ft = ftModel.predict(jeff_X_tf)\n",
    "ftModel.predict(jeff_X_tf)"
   ]
  },
  {
   "cell_type": "code",
   "execution_count": null,
   "metadata": {
    "colab": {
     "base_uri": "https://localhost:8080/"
    },
    "id": "dXfug-yn4fOV",
    "outputId": "f3f9c16c-e015-45a0-b25a-edc4113c9a34"
   },
   "outputs": [],
   "source": [
    "predicted_pj = pjModel.predict(jeff_X_tf)\n",
    "pjModel.predict(jeff_X_tf)"
   ]
  },
  {
   "cell_type": "code",
   "execution_count": null,
   "metadata": {
    "colab": {
     "base_uri": "https://localhost:8080/",
     "height": 144
    },
    "id": "RhZA6A_24fOW",
    "outputId": "4bf48f77-ef98-4158-fb7b-8b6997b8b0e9"
   },
   "outputs": [],
   "source": [
    "jeff_df['text'] = jeff_posts\n",
    "jeff_df['predicted_ie'] = predicted_ie\n",
    "jeff_df['predicted_ns'] = predicted_ns\n",
    "jeff_df['predicted_ft'] = predicted_ft\n",
    "jeff_df['predicted_pj'] = predicted_pj\n",
    "jeff_df.drop(['created_at','favorite_count', 'retweet_count'], axis=1, inplace= True)\n",
    "jeff_df.head(3)"
   ]
  },
  {
   "cell_type": "code",
   "execution_count": null,
   "metadata": {
    "colab": {
     "base_uri": "https://localhost:8080/",
     "height": 1000
    },
    "id": "3O31E8fe4fOW",
    "outputId": "0f55d268-5ed8-4ad6-9c73-1fc99187a359"
   },
   "outputs": [],
   "source": [
    "plt.figure(0)\n",
    "jeff_df.groupby('predicted_ie')['predicted_ie'].count().plot.pie(autopct='%.2f',figsize=(5,5))\n",
    "\n",
    "plt.figure(1)\n",
    "jeff_df.groupby('predicted_ns')['predicted_ns'].count().plot.pie(autopct='%.2f',figsize=(5,5))\n",
    "\n",
    "plt.figure(2)\n",
    "jeff_df.groupby('predicted_ft')['predicted_ft'].count().plot.pie(autopct='%.2f',figsize=(5,5))\n",
    "\n",
    "plt.figure(3)\n",
    "jeff_df.groupby('predicted_pj')['predicted_pj'].count().plot.pie(autopct='%.2f',figsize=(5,5))\n",
    "\n",
    "plt.show() #show all figures"
   ]
  },
  {
   "cell_type": "markdown",
   "metadata": {
    "id": "6j6UBeRDlBhg"
   },
   "source": []
  },
  {
   "cell_type": "code",
   "execution_count": null,
   "metadata": {
    "colab": {
     "base_uri": "https://localhost:8080/",
     "height": 1000
    },
    "id": "J7O7hNQ1oyRx",
    "outputId": "daec8ee3-de14-4c76-e949-6e0cf0301ec2"
   },
   "outputs": [],
   "source": [
    "plt.style.use('ggplot')\n",
    "\n",
    "plt.figure(0)\n",
    "jeff_df.groupby(['id','predicted_ie']).predicted_ie.count().unstack().plot.bar(legend=True)\n",
    "\n",
    "plt.figure(1)\n",
    "jeff_df.groupby(['id','predicted_ns']).predicted_ns.count().unstack().plot.bar(legend=True)\n",
    "\n",
    "plt.figure(2)\n",
    "jeff_df.groupby(['id','predicted_ft']).predicted_ft.count().unstack().plot.bar(legend=True)\n",
    "\n",
    "plt.figure(3)\n",
    "jeff_df.groupby(['id','predicted_pj']).predicted_pj.count().unstack().plot.bar(legend=True)\n",
    "\n",
    "plt.show() #show all figures"
   ]
  },
  {
   "cell_type": "markdown",
   "metadata": {
    "id": "QFC8iv5X4nc3"
   },
   "source": [
    "## Prediction for Lloyd Blankfein"
   ]
  },
  {
   "cell_type": "code",
   "execution_count": null,
   "metadata": {
    "colab": {
     "base_uri": "https://localhost:8080/",
     "height": 206
    },
    "id": "LN_v7MqC4nc3",
    "outputId": "a7fee9d3-c408-4e42-8789-565c514e4a1c"
   },
   "outputs": [],
   "source": [
    "lloyd_df = pd.read_csv(\"/content/drive/MyDrive/ai project/lloydblankfein_tweets.csv\")\n",
    "lloyd_df.head()"
   ]
  },
  {
   "cell_type": "code",
   "execution_count": null,
   "metadata": {
    "colab": {
     "base_uri": "https://localhost:8080/"
    },
    "id": "tZ0Oi0pD4nc4",
    "outputId": "dac7d5ee-f90f-4958-cf04-4a636237814a"
   },
   "outputs": [],
   "source": [
    "%%time\n",
    "lloyd_posts = lloyd_df['text']\n",
    "lloyd_posts = preprocess(lloyd_posts)"
   ]
  },
  {
   "cell_type": "code",
   "execution_count": 25,
   "metadata": {
    "id": "cSn92fJq4nc5"
   },
   "outputs": [
    {
     "ename": "NameError",
     "evalue": "name 'cv' is not defined",
     "output_type": "error",
     "traceback": [
      "\u001b[1;31m---------------------------------------------------------------------------\u001b[0m",
      "\u001b[1;31mNameError\u001b[0m                                 Traceback (most recent call last)",
      "\u001b[1;32mC:\\Users\\SUMAMA~1\\AppData\\Local\\Temp/ipykernel_20732/2998148559.py\u001b[0m in \u001b[0;36m<module>\u001b[1;34m\u001b[0m\n\u001b[0;32m      1\u001b[0m \u001b[1;31m# cv = CountVectorizer(analyzer=\"word\", max_features=1500).fit(jac_posts)\u001b[0m\u001b[1;33m\u001b[0m\u001b[1;33m\u001b[0m\u001b[0m\n\u001b[1;32m----> 2\u001b[1;33m \u001b[0mlloyd_X\u001b[0m \u001b[1;33m=\u001b[0m \u001b[0mcv\u001b[0m\u001b[1;33m.\u001b[0m\u001b[0mtransform\u001b[0m\u001b[1;33m(\u001b[0m\u001b[0mlloyd_posts\u001b[0m\u001b[1;33m)\u001b[0m\u001b[1;33m\u001b[0m\u001b[1;33m\u001b[0m\u001b[0m\n\u001b[0m\u001b[0;32m      3\u001b[0m \u001b[0mlloyd_X_tf\u001b[0m\u001b[1;33m=\u001b[0m  \u001b[0mtf\u001b[0m\u001b[1;33m.\u001b[0m\u001b[0mfit_transform\u001b[0m\u001b[1;33m(\u001b[0m\u001b[0mlloyd_X\u001b[0m\u001b[1;33m)\u001b[0m\u001b[1;33m.\u001b[0m\u001b[0mtoarray\u001b[0m\u001b[1;33m(\u001b[0m\u001b[1;33m)\u001b[0m\u001b[1;33m\u001b[0m\u001b[1;33m\u001b[0m\u001b[0m\n",
      "\u001b[1;31mNameError\u001b[0m: name 'cv' is not defined"
     ]
    }
   ],
   "source": [
    "# cv = CountVectorizer(analyzer=\"word\", max_features=1500).fit(jac_posts)\n",
    "lloyd_X = cv.transform(lloyd_posts)\n",
    "lloyd_X_tf=  tf.fit_transform(lloyd_X).toarray()"
   ]
  },
  {
   "cell_type": "code",
   "execution_count": null,
   "metadata": {
    "colab": {
     "base_uri": "https://localhost:8080/"
    },
    "id": "ptVoAKfU4nc5",
    "outputId": "bfe69c8e-6495-4774-8369-0adfc48a443f"
   },
   "outputs": [],
   "source": [
    "lloyd_df['predicted_ie'] = ieModel.predict(lloyd_X_tf)\n",
    "ieModel.predict(lloyd_X_tf)"
   ]
  },
  {
   "cell_type": "code",
   "execution_count": null,
   "metadata": {
    "colab": {
     "base_uri": "https://localhost:8080/"
    },
    "id": "p7nc7XPK4nc5",
    "outputId": "a16a7659-f7d5-4162-ff55-675356d11f69"
   },
   "outputs": [],
   "source": [
    "lloyd_df['predicted_ns'] = nsModel.predict(lloyd_X_tf)\n",
    "nsModel.predict(lloyd_X_tf)"
   ]
  },
  {
   "cell_type": "code",
   "execution_count": null,
   "metadata": {
    "colab": {
     "base_uri": "https://localhost:8080/"
    },
    "id": "jpVMyEtY4nc5",
    "outputId": "1fe9d58d-783f-432f-fabb-3ba2a98c88bd"
   },
   "outputs": [],
   "source": [
    "lloyd_df['predicted_ft'] = ftModel.predict(lloyd_X_tf)\n",
    "ftModel.predict(lloyd_X_tf)"
   ]
  },
  {
   "cell_type": "code",
   "execution_count": null,
   "metadata": {
    "colab": {
     "base_uri": "https://localhost:8080/"
    },
    "id": "KhP5fX2t4nc5",
    "outputId": "d9a65d20-4f1c-4e0f-fc56-3ac5253adc74"
   },
   "outputs": [],
   "source": [
    "lloyd_df['predicted_pj'] = pjModel.predict(lloyd_X_tf)\n",
    "pjModel.predict(lloyd_X_tf)"
   ]
  },
  {
   "cell_type": "code",
   "execution_count": null,
   "metadata": {
    "colab": {
     "base_uri": "https://localhost:8080/",
     "height": 144
    },
    "id": "Gf-pEuQn4nc5",
    "outputId": "7b960336-c570-4988-be0c-f208bb72cd59"
   },
   "outputs": [],
   "source": [
    "lloyd_df['text'] = lloyd_posts\n",
    "lloyd_df.drop(['created_at','favorite_count', 'retweet_count'], axis=1, inplace= True)\n",
    "lloyd_df.head(3)"
   ]
  },
  {
   "cell_type": "code",
   "execution_count": null,
   "metadata": {
    "colab": {
     "base_uri": "https://localhost:8080/",
     "height": 1000
    },
    "id": "Vpu_Fn5gu7jd",
    "outputId": "31772795-f66d-4791-ba07-622c67438dc7"
   },
   "outputs": [],
   "source": [
    "plt.figure(0)\n",
    "lloyd_df.groupby('predicted_ie')['predicted_ie'].count().plot.pie(autopct='%.2f',figsize=(5,5))\n",
    "\n",
    "plt.figure(1)\n",
    "lloyd_df.groupby('predicted_ns')['predicted_ns'].count().plot.pie(autopct='%.2f',figsize=(5,5))\n",
    "\n",
    "plt.figure(2)\n",
    "lloyd_df.groupby('predicted_ft')['predicted_ft'].count().plot.pie(autopct='%.2f',figsize=(5,5))\n",
    "\n",
    "plt.figure(3)\n",
    "lloyd_df.groupby('predicted_pj')['predicted_pj'].count().plot.pie(autopct='%.2f',figsize=(5,5))\n",
    "\n",
    "plt.show() #show all figures"
   ]
  },
  {
   "cell_type": "code",
   "execution_count": 26,
   "metadata": {
    "colab": {
     "base_uri": "https://localhost:8080/",
     "height": 1000
    },
    "id": "pwnYyBFC4nc6",
    "outputId": "f4085a4c-a204-47ab-e117-8a0d5d3f57fc"
   },
   "outputs": [
    {
     "ename": "NameError",
     "evalue": "name 'plt' is not defined",
     "output_type": "error",
     "traceback": [
      "\u001b[1;31m---------------------------------------------------------------------------\u001b[0m",
      "\u001b[1;31mNameError\u001b[0m                                 Traceback (most recent call last)",
      "\u001b[1;32mC:\\Users\\SUMAMA~1\\AppData\\Local\\Temp/ipykernel_20732/3048546827.py\u001b[0m in \u001b[0;36m<module>\u001b[1;34m\u001b[0m\n\u001b[1;32m----> 1\u001b[1;33m \u001b[0mplt\u001b[0m\u001b[1;33m.\u001b[0m\u001b[0mstyle\u001b[0m\u001b[1;33m.\u001b[0m\u001b[0muse\u001b[0m\u001b[1;33m(\u001b[0m\u001b[1;34m'ggplot'\u001b[0m\u001b[1;33m)\u001b[0m\u001b[1;33m\u001b[0m\u001b[1;33m\u001b[0m\u001b[0m\n\u001b[0m\u001b[0;32m      2\u001b[0m \u001b[1;33m\u001b[0m\u001b[0m\n\u001b[0;32m      3\u001b[0m \u001b[0mplt\u001b[0m\u001b[1;33m.\u001b[0m\u001b[0mfigure\u001b[0m\u001b[1;33m(\u001b[0m\u001b[1;36m0\u001b[0m\u001b[1;33m)\u001b[0m\u001b[1;33m\u001b[0m\u001b[1;33m\u001b[0m\u001b[0m\n\u001b[0;32m      4\u001b[0m \u001b[0mlloyd_df\u001b[0m\u001b[1;33m.\u001b[0m\u001b[0mgroupby\u001b[0m\u001b[1;33m(\u001b[0m\u001b[1;33m[\u001b[0m\u001b[1;34m'id'\u001b[0m\u001b[1;33m,\u001b[0m\u001b[1;34m'predicted_ie'\u001b[0m\u001b[1;33m]\u001b[0m\u001b[1;33m)\u001b[0m\u001b[1;33m.\u001b[0m\u001b[0mpredicted_ie\u001b[0m\u001b[1;33m.\u001b[0m\u001b[0mcount\u001b[0m\u001b[1;33m(\u001b[0m\u001b[1;33m)\u001b[0m\u001b[1;33m.\u001b[0m\u001b[0munstack\u001b[0m\u001b[1;33m(\u001b[0m\u001b[1;33m)\u001b[0m\u001b[1;33m.\u001b[0m\u001b[0mplot\u001b[0m\u001b[1;33m.\u001b[0m\u001b[0mbar\u001b[0m\u001b[1;33m(\u001b[0m\u001b[0mlegend\u001b[0m\u001b[1;33m=\u001b[0m\u001b[1;32mTrue\u001b[0m\u001b[1;33m)\u001b[0m\u001b[1;33m\u001b[0m\u001b[1;33m\u001b[0m\u001b[0m\n\u001b[0;32m      5\u001b[0m \u001b[1;33m\u001b[0m\u001b[0m\n",
      "\u001b[1;31mNameError\u001b[0m: name 'plt' is not defined"
     ]
    }
   ],
   "source": [
    "plt.style.use('ggplot')\n",
    "\n",
    "plt.figure(0)\n",
    "lloyd_df.groupby(['id','predicted_ie']).predicted_ie.count().unstack().plot.bar(legend=True)\n",
    "\n",
    "plt.figure(1)\n",
    "lloyd_df.groupby(['id','predicted_ns']).predicted_ns.count().unstack().plot.bar(legend=True)\n",
    "\n",
    "plt.figure(2)\n",
    "lloyd_df.groupby(['id','predicted_ft']).predicted_ft.count().unstack().plot.bar(legend=True)\n",
    "\n",
    "plt.figure(3)\n",
    "lloyd_df.groupby(['id','predicted_pj']).predicted_pj.count().unstack().plot.bar(legend=True)\n",
    "\n",
    "plt.show() #show all figures"
   ]
  },
  {
   "cell_type": "markdown",
   "metadata": {
    "id": "LC94H9InE472"
   },
   "source": [
    "#**10. Decision Tree**"
   ]
  },
  {
   "cell_type": "code",
   "execution_count": null,
   "metadata": {
    "id": "-jeeNnlmE37W"
   },
   "outputs": [],
   "source": [
    "model_tree=DecisionTreeClassifier(max_depth=14)"
   ]
  },
  {
   "cell_type": "code",
   "execution_count": null,
   "metadata": {
    "id": "bc19XZROFFae"
   },
   "outputs": [],
   "source": [
    "dt =  model_tree.fit(xTrain, nyTrain)\n",
    "ieModel = model_tree.fit(xIETrain, yIETrain)\n",
    "nsModel =  model_tree.fit(xNSTrain, yNSTrain)\n",
    "ftModel =  model_tree.fit(xFTTrain, yFTTrain)\n",
    "pjModel =  model_tree.fit(xPJTrain, yPJTrain)"
   ]
  },
  {
   "cell_type": "code",
   "execution_count": null,
   "metadata": {
    "colab": {
     "base_uri": "https://localhost:8080/"
    },
    "id": "3qlnadvyFFX3",
    "outputId": "de10e859-0e5b-4678-8e93-f18853696bf8"
   },
   "outputs": [],
   "source": [
    "dt.score(xTrain, nyTrain)"
   ]
  },
  {
   "cell_type": "code",
   "execution_count": null,
   "metadata": {
    "colab": {
     "base_uri": "https://localhost:8080/"
    },
    "id": "sXTwmqa1FFVa",
    "outputId": "1ab97a38-e1e7-48d8-ebd5-1e0c11b54b9d"
   },
   "outputs": [],
   "source": [
    "print(dt.score(xTest, nyTest))\n",
    "print(ieModel.score(xIETest, yIETest))\n",
    "print(nsModel.score(xNSTest, yNSTest))\n",
    "print(ftModel.score(xFTTest, yFTTest))\n",
    "print(pjModel.score(xPJTest, yPJTest))"
   ]
  },
  {
   "cell_type": "code",
   "execution_count": null,
   "metadata": {
    "colab": {
     "base_uri": "https://localhost:8080/"
    },
    "id": "6GNPzA_cKIkK",
    "outputId": "cfeb97b6-764f-46e2-e60d-74a0b24a4b88"
   },
   "outputs": [],
   "source": [
    "print('Train Classification Report \\n ',classification_report(nyTrain,dt.predict(xTrain)))"
   ]
  },
  {
   "cell_type": "code",
   "execution_count": 27,
   "metadata": {
    "colab": {
     "base_uri": "https://localhost:8080/"
    },
    "id": "bB4RF0416OKj",
    "outputId": "e23805f7-f8c4-4417-f5c0-398297c9ad6c"
   },
   "outputs": [
    {
     "ename": "NameError",
     "evalue": "name 'cross_val_score' is not defined",
     "output_type": "error",
     "traceback": [
      "\u001b[1;31m---------------------------------------------------------------------------\u001b[0m",
      "\u001b[1;31mNameError\u001b[0m                                 Traceback (most recent call last)",
      "\u001b[1;32mC:\\Users\\SUMAMA~1\\AppData\\Local\\Temp/ipykernel_20732/1828705570.py\u001b[0m in \u001b[0;36m<module>\u001b[1;34m\u001b[0m\n\u001b[0;32m      1\u001b[0m \u001b[0mscores\u001b[0m \u001b[1;33m=\u001b[0m \u001b[1;33m[\u001b[0m\u001b[1;33m]\u001b[0m\u001b[1;33m\u001b[0m\u001b[1;33m\u001b[0m\u001b[0m\n\u001b[0;32m      2\u001b[0m \u001b[1;33m\u001b[0m\u001b[0m\n\u001b[1;32m----> 3\u001b[1;33m \u001b[0mscores\u001b[0m\u001b[1;33m.\u001b[0m\u001b[0mappend\u001b[0m\u001b[1;33m(\u001b[0m\u001b[0mcross_val_score\u001b[0m\u001b[1;33m(\u001b[0m\u001b[0mestimator\u001b[0m\u001b[1;33m=\u001b[0m\u001b[0mdt\u001b[0m\u001b[1;33m,\u001b[0m \u001b[0mcv\u001b[0m\u001b[1;33m=\u001b[0m\u001b[1;36m5\u001b[0m\u001b[1;33m,\u001b[0m \u001b[0mX\u001b[0m\u001b[1;33m=\u001b[0m\u001b[0mxTest\u001b[0m\u001b[1;33m,\u001b[0m \u001b[0my\u001b[0m\u001b[1;33m=\u001b[0m\u001b[0mt_y\u001b[0m\u001b[1;33m,\u001b[0m \u001b[0mscoring\u001b[0m\u001b[1;33m=\u001b[0m\u001b[1;34m'accuracy'\u001b[0m\u001b[1;33m)\u001b[0m\u001b[1;33m)\u001b[0m\u001b[1;33m\u001b[0m\u001b[1;33m\u001b[0m\u001b[0m\n\u001b[0m\u001b[0;32m      4\u001b[0m \u001b[0mscores\u001b[0m\u001b[1;33m.\u001b[0m\u001b[0mappend\u001b[0m\u001b[1;33m(\u001b[0m\u001b[0mcross_val_score\u001b[0m\u001b[1;33m(\u001b[0m\u001b[0mestimator\u001b[0m\u001b[1;33m=\u001b[0m\u001b[0mieModel\u001b[0m\u001b[1;33m,\u001b[0m \u001b[0mcv\u001b[0m\u001b[1;33m=\u001b[0m\u001b[1;36m5\u001b[0m\u001b[1;33m,\u001b[0m \u001b[0mX\u001b[0m\u001b[1;33m=\u001b[0m\u001b[0mxTest\u001b[0m\u001b[1;33m,\u001b[0m \u001b[0my\u001b[0m\u001b[1;33m=\u001b[0m\u001b[0mt_yIE\u001b[0m\u001b[1;33m,\u001b[0m \u001b[0mscoring\u001b[0m\u001b[1;33m=\u001b[0m\u001b[1;34m'accuracy'\u001b[0m\u001b[1;33m)\u001b[0m\u001b[1;33m)\u001b[0m\u001b[1;33m\u001b[0m\u001b[1;33m\u001b[0m\u001b[0m\n\u001b[0;32m      5\u001b[0m \u001b[0mscores\u001b[0m\u001b[1;33m.\u001b[0m\u001b[0mappend\u001b[0m\u001b[1;33m(\u001b[0m\u001b[0mcross_val_score\u001b[0m\u001b[1;33m(\u001b[0m\u001b[0mestimator\u001b[0m\u001b[1;33m=\u001b[0m\u001b[0mnsModel\u001b[0m\u001b[1;33m,\u001b[0m \u001b[0mcv\u001b[0m\u001b[1;33m=\u001b[0m\u001b[1;36m5\u001b[0m\u001b[1;33m,\u001b[0m \u001b[0mX\u001b[0m\u001b[1;33m=\u001b[0m\u001b[0mxTest\u001b[0m\u001b[1;33m,\u001b[0m \u001b[0my\u001b[0m\u001b[1;33m=\u001b[0m\u001b[0mt_yNS\u001b[0m\u001b[1;33m,\u001b[0m \u001b[0mscoring\u001b[0m\u001b[1;33m=\u001b[0m\u001b[1;34m'accuracy'\u001b[0m\u001b[1;33m)\u001b[0m\u001b[1;33m)\u001b[0m\u001b[1;33m\u001b[0m\u001b[1;33m\u001b[0m\u001b[0m\n",
      "\u001b[1;31mNameError\u001b[0m: name 'cross_val_score' is not defined"
     ]
    }
   ],
   "source": [
    "scores = []\n",
    "\n",
    "scores.append(cross_val_score(estimator=dt, cv=5, X=xTest, y=t_y, scoring='accuracy'))\n",
    "scores.append(cross_val_score(estimator=ieModel, cv=5, X=xTest, y=t_yIE, scoring='accuracy'))\n",
    "scores.append(cross_val_score(estimator=nsModel, cv=5, X=xTest, y=t_yNS, scoring='accuracy'))\n",
    "scores.append(cross_val_score(estimator=ftModel, cv=5, X=xTest, y=t_yFT, scoring='accuracy'))\n",
    "scores.append(cross_val_score(estimator=pjModel, cv=5, X=xTest, y=t_yPJ, scoring='accuracy'))\n",
    "\n",
    "#prining mean and standard deviations for each model\n",
    "for score in scores:\n",
    "    print(score.mean())\n",
    "    print(score.std(), end='\\n\\n')"
   ]
  }
 ],
 "metadata": {
  "accelerator": "GPU",
  "colab": {
   "collapsed_sections": [
    "nmZPgHHlnSKl",
    "qy_m0T-Rncs-",
    "1PM1WTh7nSmc",
    "PmZXdFRYEmIt",
    "nN06gP_-WXWM",
    "Eb0vcZw28g22",
    "wR_8GfJ9CHVu",
    "vQSb2R6ztESP",
    "WZxMtKN4tLfx",
    "VRc0SXmPEjDI",
    "s2NTzPRQ9uSt",
    "5jJ_GZnp9Kql",
    "eDfrfUq199V0",
    "1m555OJEEFIC",
    "gs8D-RWBEKi9",
    "LA2D5WzdESmd",
    "LC94H9InE472"
   ],
   "name": "MBTI_Classification_final.ipynb",
   "provenance": []
  },
  "kernelspec": {
   "display_name": "Python 3",
   "language": "python",
   "name": "python3"
  },
  "language_info": {
   "codemirror_mode": {
    "name": "ipython",
    "version": 3
   },
   "file_extension": ".py",
   "mimetype": "text/x-python",
   "name": "python",
   "nbconvert_exporter": "python",
   "pygments_lexer": "ipython3",
   "version": "3.9.7"
  }
 },
 "nbformat": 4,
 "nbformat_minor": 1
}
