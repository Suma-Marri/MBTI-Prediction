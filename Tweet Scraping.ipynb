{
 "cells": [
  {
   "cell_type": "code",
   "execution_count": null,
   "metadata": {
    "colab": {
     "base_uri": "https://localhost:8080/"
    },
    "id": "9vNV1jOrgF45",
    "outputId": "37e4c43f-a1a3-433c-901f-989e95496fbc"
   },
   "outputs": [],
   "source": [
    "pip install tweepy"
   ]
  },
  {
   "cell_type": "code",
   "execution_count": 2,
   "metadata": {
    "colab": {
     "base_uri": "https://localhost:8080/"
    },
    "id": "ROiDkxkLgcPP",
    "outputId": "b489b2cf-53a2-4957-e993-bcce007cef66"
   },
   "outputs": [
    {
     "name": "stdout",
     "output_type": "stream",
     "text": [
      "Collecting config\n",
      "  Downloading config-0.5.1-py2.py3-none-any.whl (20 kB)\n",
      "Installing collected packages: config\n",
      "Successfully installed config-0.5.1\n",
      "Note: you may need to restart the kernel to use updated packages.\n"
     ]
    }
   ],
   "source": [
    "pip install config"
   ]
  },
  {
   "cell_type": "code",
   "execution_count": 3,
   "metadata": {
    "id": "fPWwJM_nlqXa"
   },
   "outputs": [],
   "source": [
    "import pandas as pd\n",
    "import numpy as np"
   ]
  },
  {
   "cell_type": "code",
   "execution_count": 4,
   "metadata": {
    "id": "lly1XQwIgIx-"
   },
   "outputs": [],
   "source": [
    "from tweepy import OAuthHandler\n",
    "from tweepy import API\n",
    "import config\n",
    "import tweepy"
   ]
  },
  {
   "cell_type": "code",
   "execution_count": null,
   "metadata": {},
   "outputs": [],
   "source": [
    "consumer_key = dVyIFteySrPrHo4ktTNHsPuqW\n",
    "consumer_secret = hPI3m5GOUqRMPg5xKbVLuO9PAe5rBDvA7Z9usyRCLWCyBRBwmG"
   ]
  },
  {
   "cell_type": "markdown",
   "metadata": {
    "id": "rI5i_0hYstWX"
   },
   "source": [
    "## For Ursula von der Leyen"
   ]
  },
  {
   "cell_type": "code",
   "execution_count": 5,
   "metadata": {
    "id": "X75pn3qVf8Jz"
   },
   "outputs": [],
   "source": [
    "#Add the user Id you want to get tweets\n",
    "user_id_1=\"vonderleyen\"\n",
    "#Add the number of tweets you want to get\n",
    "number_of_tweets=50"
   ]
  },
  {
   "cell_type": "code",
   "execution_count": 6,
   "metadata": {
    "id": "YH5edR2ZhZ05"
   },
   "outputs": [
    {
     "ename": "NameError",
     "evalue": "name 'consumer_key' is not defined",
     "output_type": "error",
     "traceback": [
      "\u001b[1;31m---------------------------------------------------------------------------\u001b[0m",
      "\u001b[1;31mNameError\u001b[0m                                 Traceback (most recent call last)",
      "\u001b[1;32mC:\\Users\\SUMAMA~1\\AppData\\Local\\Temp/ipykernel_21492/3993150718.py\u001b[0m in \u001b[0;36m<module>\u001b[1;34m\u001b[0m\n\u001b[0;32m      1\u001b[0m \u001b[1;31m# Authorize our Twitter credentials\u001b[0m\u001b[1;33m\u001b[0m\u001b[1;33m\u001b[0m\u001b[0m\n\u001b[1;32m----> 2\u001b[1;33m \u001b[0mauth\u001b[0m \u001b[1;33m=\u001b[0m \u001b[0mtweepy\u001b[0m\u001b[1;33m.\u001b[0m\u001b[0mOAuthHandler\u001b[0m\u001b[1;33m(\u001b[0m\u001b[0mconsumer_key\u001b[0m\u001b[1;33m,\u001b[0m \u001b[0mconsumer_secret\u001b[0m\u001b[1;33m)\u001b[0m\u001b[1;33m\u001b[0m\u001b[1;33m\u001b[0m\u001b[0m\n\u001b[0m\u001b[0;32m      3\u001b[0m \u001b[0mauth\u001b[0m\u001b[1;33m.\u001b[0m\u001b[0mset_access_token\u001b[0m\u001b[1;33m(\u001b[0m\u001b[0maccess_token\u001b[0m\u001b[1;33m,\u001b[0m \u001b[0maccess_token_secret\u001b[0m\u001b[1;33m)\u001b[0m\u001b[1;33m\u001b[0m\u001b[1;33m\u001b[0m\u001b[0m\n\u001b[0;32m      4\u001b[0m \u001b[0mapi\u001b[0m \u001b[1;33m=\u001b[0m \u001b[0mtweepy\u001b[0m\u001b[1;33m.\u001b[0m\u001b[0mAPI\u001b[0m\u001b[1;33m(\u001b[0m\u001b[0mauth\u001b[0m\u001b[1;33m)\u001b[0m\u001b[1;33m\u001b[0m\u001b[1;33m\u001b[0m\u001b[0m\n\u001b[0;32m      5\u001b[0m tweets = api.user_timeline(screen_name=user_id_1, \n",
      "\u001b[1;31mNameError\u001b[0m: name 'consumer_key' is not defined"
     ]
    }
   ],
   "source": [
    "# Authorize our Twitter credentials\n",
    "auth = tweepy.OAuthHandler(consumer_key, consumer_secret)\n",
    "auth.set_access_token(access_token, access_token_secret)\n",
    "api = tweepy.API(auth)\n",
    "tweets = api.user_timeline(screen_name=user_id_1, \n",
    "                           # 200 is the maximum allowed count\n",
    "                           count=50,\n",
    "                           lang = 'en',\n",
    "                           include_rts = False,\n",
    "                           # Necessary to keep full_text \n",
    "                           # otherwise only the first 140 words are extracted\n",
    "                           tweet_mode = 'extended'\n",
    "                           )"
   ]
  },
  {
   "cell_type": "code",
   "execution_count": null,
   "metadata": {
    "colab": {
     "base_uri": "https://localhost:8080/",
     "height": 1000
    },
    "id": "b3OLUKMFmV-u",
    "outputId": "e463236e-96e0-442f-9dd3-38bed0ee1829"
   },
   "outputs": [],
   "source": [
    "#transform the tweepy tweets into a 2D array that will populate the csv\t\n",
    "from pandas import DataFrame\n",
    "outtweets = [[tweet.id_str, \n",
    "              tweet.created_at, \n",
    "              tweet.favorite_count, \n",
    "              tweet.retweet_count, \n",
    "              tweet.full_text.encode(\"utf-8\").decode(\"utf-8\")] \n",
    "             for idx,tweet in enumerate(tweets)]\n",
    "df1 = DataFrame(outtweets,columns=[\"id\",\"created_at\",\"favorite_count\",\"retweet_count\", \"text\"])\n",
    "df1.to_csv('%s_tweets.csv' % user_id_1,index=False)\n",
    "df1"
   ]
  },
  {
   "cell_type": "markdown",
   "metadata": {
    "id": "G9P9XzwyXT1U"
   },
   "source": [
    "## For Nancy Pelosi"
   ]
  },
  {
   "cell_type": "code",
   "execution_count": null,
   "metadata": {
    "id": "M9t2LaI8XP_c"
   },
   "outputs": [],
   "source": [
    "#Add the user Id you want to get tweets\n",
    "user_id_2=\"SpeakerPelosi\"\n",
    "#Add the number of tweets you want to get\n",
    "number_of_tweets=51"
   ]
  },
  {
   "cell_type": "code",
   "execution_count": null,
   "metadata": {
    "id": "PkUD-nv9Xv-c"
   },
   "outputs": [],
   "source": [
    "# Authorize our Twitter credentials\n",
    "auth = tweepy.OAuthHandler(consumer_key, consumer_secret)\n",
    "auth.set_access_token(access_token, access_token_secret)\n",
    "api = tweepy.API(auth)\n",
    "tweets = api.user_timeline(screen_name=user_id_2, \n",
    "                           # 200 is the maximum allowed count\n",
    "                           count=number_of_tweets,\n",
    "                           lang = 'en',\n",
    "                           include_rts = False,\n",
    "                           # Necessary to keep full_text \n",
    "                           # otherwise only the first 140 words are extracted\n",
    "                           tweet_mode = 'extended'\n",
    "                           )"
   ]
  },
  {
   "cell_type": "code",
   "execution_count": null,
   "metadata": {
    "colab": {
     "base_uri": "https://localhost:8080/",
     "height": 1000
    },
    "id": "Ytlc_5jpXv-f",
    "outputId": "fee71e50-8cb4-4d4c-b970-ea52eceda8ac"
   },
   "outputs": [],
   "source": [
    "#transform the tweepy tweets into a 2D array that will populate the csv\t\n",
    "from pandas import DataFrame\n",
    "outtweets = [[tweet.id_str, \n",
    "              tweet.created_at, \n",
    "              tweet.favorite_count, \n",
    "              tweet.retweet_count, \n",
    "              tweet.full_text.encode(\"utf-8\").decode(\"utf-8\")] \n",
    "             for idx,tweet in enumerate(tweets)]\n",
    "df2 = DataFrame(outtweets,columns=[\"id\",\"created_at\",\"favorite_count\",\"retweet_count\", \"text\"])\n",
    "df2.to_csv('%s_tweets.csv' % user_id_2,index=False)\n",
    "df2"
   ]
  },
  {
   "cell_type": "markdown",
   "metadata": {
    "id": "TK-x8CYjYpm9"
   },
   "source": [
    "## For Jacinda Ardern"
   ]
  },
  {
   "cell_type": "code",
   "execution_count": null,
   "metadata": {
    "id": "8LIhoIyHY5np"
   },
   "outputs": [],
   "source": [
    "#Add the user Id you want to get tweets\n",
    "user_id_3=\"jacindaardern\"\n",
    "#Add the number of tweets you want to get\n",
    "number_of_tweets=52"
   ]
  },
  {
   "cell_type": "code",
   "execution_count": null,
   "metadata": {
    "id": "1d9dM4xyY5n6"
   },
   "outputs": [],
   "source": [
    "# Authorize our Twitter credentials\n",
    "auth = tweepy.OAuthHandler(consumer_key, consumer_secret)\n",
    "auth.set_access_token(access_token, access_token_secret)\n",
    "api = tweepy.API(auth)\n",
    "tweets = api.user_timeline(screen_name=user_id_3, \n",
    "                           # 200 is the maximum allowed count\n",
    "                           count=number_of_tweets,\n",
    "                           lang = 'en',\n",
    "                           include_rts = False,\n",
    "                           # Necessary to keep full_text \n",
    "                           # otherwise only the first 140 words are extracted\n",
    "                           tweet_mode = 'extended'\n",
    "                           )"
   ]
  },
  {
   "cell_type": "code",
   "execution_count": null,
   "metadata": {
    "colab": {
     "base_uri": "https://localhost:8080/",
     "height": 1000
    },
    "id": "BK56vxuuY5n7",
    "outputId": "807d41a2-43f9-430a-bec6-1a9467f4364e"
   },
   "outputs": [],
   "source": [
    "#transform the tweepy tweets into a 2D array that will populate the csv\t\n",
    "from pandas import DataFrame\n",
    "outtweets = [[tweet.id_str, \n",
    "              tweet.created_at, \n",
    "              tweet.favorite_count, \n",
    "              tweet.retweet_count, \n",
    "              tweet.full_text.encode(\"utf-8\").decode(\"utf-8\")] \n",
    "             for idx,tweet in enumerate(tweets)]\n",
    "df3 = DataFrame(outtweets,columns=[\"id\",\"created_at\",\"favorite_count\",\"retweet_count\", \"text\"])\n",
    "df3.to_csv('%s_tweets.csv' % user_id_3,index=False)\n",
    "df3"
   ]
  },
  {
   "cell_type": "markdown",
   "metadata": {
    "id": "jrCYU_gxrXRc"
   },
   "source": [
    "## For christine lagarde"
   ]
  },
  {
   "cell_type": "code",
   "execution_count": null,
   "metadata": {
    "id": "ftEoDnHQY6nv"
   },
   "outputs": [],
   "source": [
    "#Add the user Id you want to get tweets\n",
    "user_id_4=\"Lagarde\"\n",
    "#Add the number of tweets you want to get\n",
    "number_of_tweets=69"
   ]
  },
  {
   "cell_type": "code",
   "execution_count": null,
   "metadata": {
    "id": "05ZgC0WZY6nw"
   },
   "outputs": [],
   "source": [
    "# Authorize our Twitter credentials\n",
    "auth = tweepy.OAuthHandler(consumer_key, consumer_secret)\n",
    "auth.set_access_token(access_token, access_token_secret)\n",
    "api = tweepy.API(auth)\n",
    "tweets = api.user_timeline(screen_name=user_id_4, \n",
    "                           # 200 is the maximum allowed count\n",
    "                           count=number_of_tweets,\n",
    "                           lang = 'en',\n",
    "                           include_rts = False,\n",
    "                           # Necessary to keep full_text \n",
    "                           # otherwise only the first 140 words are extracted\n",
    "                           tweet_mode = 'extended'\n",
    "                           )"
   ]
  },
  {
   "cell_type": "code",
   "execution_count": null,
   "metadata": {
    "colab": {
     "base_uri": "https://localhost:8080/",
     "height": 1000
    },
    "id": "LR0QIrpTY6nw",
    "outputId": "8f41f439-d39d-4c10-c6d0-900230c88cb7"
   },
   "outputs": [],
   "source": [
    "#transform the tweepy tweets into a 2D array that will populate the csv\t\n",
    "from pandas import DataFrame\n",
    "outtweets = [[tweet.id_str, \n",
    "              tweet.created_at, \n",
    "              tweet.favorite_count, \n",
    "              tweet.retweet_count, \n",
    "              tweet.full_text.encode(\"utf-8\").decode(\"utf-8\")] \n",
    "             for idx,tweet in enumerate(tweets)]\n",
    "df4 = DataFrame(outtweets,columns=[\"id\",\"created_at\",\"favorite_count\",\"retweet_count\", \"text\"])\n",
    "df4.to_csv('%s_tweets.csv' % user_id_4,index=False)\n",
    "df4"
   ]
  },
  {
   "cell_type": "code",
   "execution_count": null,
   "metadata": {
    "colab": {
     "base_uri": "https://localhost:8080/",
     "height": 206
    },
    "id": "z8TciveWuMt8",
    "outputId": "0cc7db3c-741e-44db-a0ac-ce54f79356d3"
   },
   "outputs": [],
   "source": [
    "# data = np.array([['Jacinda Ardern', text_data1], ['Justin Trudeau', text_data2], ['Theresa May', text_data3], ['Hillary Clinton', text_data4], ['Julia Gillard', text_data5]])\n",
    "# df = pd.DataFrame(data)\n",
    "# df.rename(columns = {0: 'User', 1: 'posts'}, inplace = True)\n",
    "# df"
   ]
  },
  {
   "cell_type": "code",
   "execution_count": null,
   "metadata": {
    "id": "JibjlFgqP07O"
   },
   "outputs": [],
   "source": []
  }
 ],
 "metadata": {
  "colab": {
   "collapsed_sections": [],
   "name": "Copy of Scrape_tweets (1).ipynb",
   "provenance": []
  },
  "kernelspec": {
   "display_name": "Python 3",
   "language": "python",
   "name": "python3"
  },
  "language_info": {
   "codemirror_mode": {
    "name": "ipython",
    "version": 3
   },
   "file_extension": ".py",
   "mimetype": "text/x-python",
   "name": "python",
   "nbconvert_exporter": "python",
   "pygments_lexer": "ipython3",
   "version": "3.9.7"
  }
 },
 "nbformat": 4,
 "nbformat_minor": 1
}
